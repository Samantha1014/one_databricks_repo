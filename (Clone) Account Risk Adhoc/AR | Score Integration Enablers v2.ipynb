{
 "cells": [
  {
   "cell_type": "markdown",
   "metadata": {
    "application/vnd.databricks.v1+cell": {
     "cellMetadata": {
      "byteLimit": 2048000,
      "rowLimit": 10000
     },
     "inputWidgets": {},
     "nuid": "e76cd2f8-ab85-42f0-989c-3886a03601ff",
     "showTitle": false,
     "tableResultSettingsMap": {},
     "title": ""
    }
   },
   "source": [
    "#### s01 set up "
   ]
  },
  {
   "cell_type": "code",
   "execution_count": 0,
   "metadata": {
    "application/vnd.databricks.v1+cell": {
     "cellMetadata": {
      "byteLimit": 2048000,
      "rowLimit": 10000
     },
     "inputWidgets": {},
     "nuid": "0668dfbe-e1c2-4037-8b0b-51c6025d160b",
     "showTitle": false,
     "tableResultSettingsMap": {},
     "title": ""
    }
   },
   "outputs": [],
   "source": [
    "import pyspark \n",
    "import os\n",
    "from pyspark import sql\n",
    "from pyspark.sql import functions as f\n",
    "from pyspark.sql import Window\n",
    "from datetime import datetime, timedelta"
   ]
  },
  {
   "cell_type": "code",
   "execution_count": 0,
   "metadata": {
    "application/vnd.databricks.v1+cell": {
     "cellMetadata": {
      "byteLimit": 2048000,
      "rowLimit": 10000
     },
     "inputWidgets": {},
     "nuid": "e9349eff-cbb5-4100-810b-a946d40a57fc",
     "showTitle": false,
     "tableResultSettingsMap": {},
     "title": ""
    }
   },
   "outputs": [],
   "source": [
    "password = dbutils.secrets.get(scope = \"auea-kv-sbx-dxdtlprdct01\", key = \"sfdbrsdskey\")\n",
    "options = {\n",
    "  \"sfUrl\": \"vodafonenz_prod.australia-east.azure.snowflakecomputing.com\", \n",
    "  \"sfUser\": \"SVC_LAB_DS_DATABRICKS\",\n",
    "  \"pem_private_key\": password.replace('\\\\n', '\\n'),\n",
    "  \"sfDatabase\": \"LAB_ML_STORE\",\n",
    "  \"sfSchema\": \"sandbox\",\n",
    "  \"sfWarehouse\": \"LAB_DS_WH_SCALE\"\n",
    "}"
   ]
  },
  {
   "cell_type": "code",
   "execution_count": 0,
   "metadata": {
    "application/vnd.databricks.v1+cell": {
     "cellMetadata": {
      "byteLimit": 2048000,
      "rowLimit": 10000
     },
     "inputWidgets": {},
     "nuid": "d72a81b6-b966-4b58-b7f2-4c1c4af79f09",
     "showTitle": false,
     "tableResultSettingsMap": {},
     "title": ""
    }
   },
   "outputs": [],
   "source": [
    "df_app = (\n",
    "    spark\n",
    "    .read\n",
    "    .format(\"snowflake\")\n",
    "    .options(**options)\n",
    "    .option(\n",
    "        \"query\"\n",
    "        , \"\"\" \n",
    "     SELECT \n",
    "        DATA_CUSTOMERREF as fs_cust_id\n",
    "        , A.ID\n",
    "        , A.DATA_APPLICATIONTYPE\n",
    "        , A.DATA_PLANTYPE\n",
    "        , case \n",
    "            when try_to_number(a.data_plantype) = 1 then 'Consumer plan only'\n",
    "            when try_to_number(a.data_plantype) = 2 then 'Consumer BB New'\n",
    "            when try_to_number(a.data_plantype) = 3 then 'Existing Plan Only'\n",
    "            when try_to_number(a.data_plantype) = 4 then 'Consumer IFP new'\n",
    "            when try_to_number(a.data_plantype) = 5 then 'Existing BB'\n",
    "            when try_to_number(a.data_plantype) = 6 then 'Existing IFP'\n",
    "            when try_to_number(a.data_plantype) = 7 then 'SME New'\n",
    "            when try_to_number(a.data_plantype) = 8 then 'Enterprise New'\n",
    "            when try_to_number(a.data_plantype) = 9 then 'Business Existing'\n",
    "            else 'Other'\n",
    "        end as plantype_desc\n",
    "        , CONVERT_TIMEZONE('UTC', 'Pacific/Auckland', to_timestamp_ltz(A.DATA_CREATEDAT)) as application_createdat_nzt\n",
    "        , CONVERT_TIMEZONE('UTC', 'Pacific/Auckland', to_timestamp_ltz(A.DATA_UPDATEDAT)) as data_updated_nzt\n",
    "        , DATA_DECISION\n",
    "        , DATA_DECISIONBAND\n",
    "        , DATA_DECISIONDESCRIPTION\n",
    "        FROM PROD_CREDISENSE.RAW.APPLICATION A\n",
    "        WHERE _is_deleted = 0 \n",
    "        AND _is_latest = 1;\n",
    "    \"\"\"\n",
    "    ).load()\n",
    ")"
   ]
  },
  {
   "cell_type": "markdown",
   "metadata": {
    "application/vnd.databricks.v1+cell": {
     "cellMetadata": {
      "byteLimit": 2048000,
      "rowLimit": 10000
     },
     "inputWidgets": {},
     "nuid": "ef14f243-ca12-4ce7-96ca-67e4545dbb06",
     "showTitle": false,
     "tableResultSettingsMap": {},
     "title": ""
    }
   },
   "source": [
    "#### s02 parameters"
   ]
  },
  {
   "cell_type": "code",
   "execution_count": 0,
   "metadata": {
    "application/vnd.databricks.v1+cell": {
     "cellMetadata": {
      "byteLimit": 2048000,
      "rowLimit": 10000
     },
     "inputWidgets": {},
     "nuid": "4a827af8-6214-4fe9-9b4a-c55003ff4077",
     "showTitle": false,
     "tableResultSettingsMap": {},
     "title": ""
    }
   },
   "outputs": [],
   "source": [
    "dir_wo_mvnt  = '/mnt/feature-store-prod-lab/d500_movement/d501_mobile_oa_consumer/mvmt_writeoff'\n",
    "dir_aod_mvnt = '/mnt/ml-lab/dev_users/dev_sc/aod30_mvnt_acct_agg' # monthly level of aod movement \n",
    "dir_wo_score = '/mnt/ml-store-prod-lab/classification/d400_model_score/mobile_oa_consumer_srvc_writeoff_pred365d/model_version=version_1'\n",
    "dir_fea_unitbase = '/mnt/feature-store-prod-lab/d400_feature/d401_mobile_oa_consumer/fea_unit_base'\n"
   ]
  },
  {
   "cell_type": "markdown",
   "metadata": {
    "application/vnd.databricks.v1+cell": {
     "cellMetadata": {
      "byteLimit": 2048000,
      "rowLimit": 10000
     },
     "inputWidgets": {},
     "nuid": "db16781a-5002-4cb9-aa3c-c2124d05865e",
     "showTitle": false,
     "tableResultSettingsMap": {},
     "title": ""
    }
   },
   "source": [
    "#### s03 load data"
   ]
  },
  {
   "cell_type": "code",
   "execution_count": 0,
   "metadata": {
    "application/vnd.databricks.v1+cell": {
     "cellMetadata": {
      "byteLimit": 2048000,
      "rowLimit": 10000
     },
     "inputWidgets": {},
     "nuid": "8a56e172-87b0-4d8f-ad31-ee48414c10a9",
     "showTitle": false,
     "tableResultSettingsMap": {},
     "title": ""
    }
   },
   "outputs": [],
   "source": [
    "df_wo_mvnt = spark.read.format('delta').load(dir_wo_mvnt)\n",
    "df_aod_mvnt = spark.read.format('delta').load(dir_aod_mvnt)\n",
    "df_wo_score = spark.read.format('delta').load(dir_wo_score)\n",
    "df_fea_unitbase = spark.read.format('delta').load(dir_fea_unitbase)"
   ]
  },
  {
   "cell_type": "code",
   "execution_count": 0,
   "metadata": {
    "application/vnd.databricks.v1+cell": {
     "cellMetadata": {
      "byteLimit": 2048000,
      "rowLimit": 10000
     },
     "inputWidgets": {},
     "nuid": "76a5ee1d-4b55-497e-8a92-50cc69050d80",
     "showTitle": false,
     "tableResultSettingsMap": {},
     "title": ""
    }
   },
   "outputs": [],
   "source": [
    "df_wo_mvnt_stag = (\n",
    "       df_wo_mvnt\n",
    "       # .filter(f.col('reporting_cycle_type') == 'rolling cycle')\n",
    "       .select('fs_acct_id', 'fs_cust_id', 'movement_date', 'writeoff_amt', 'movement_type' )\n",
    "       .distinct()\n",
    "        )"
   ]
  },
  {
   "cell_type": "code",
   "execution_count": 0,
   "metadata": {
    "application/vnd.databricks.v1+cell": {
     "cellMetadata": {
      "byteLimit": 2048000,
      "rowLimit": 10000
     },
     "inputWidgets": {},
     "nuid": "7d1fb631-becb-4c41-a01f-df2a2efad1fe",
     "showTitle": false,
     "tableResultSettingsMap": {},
     "title": ""
    }
   },
   "outputs": [],
   "source": [
    "df_aod_mvnt_stag = (\n",
    "       df_aod_mvnt\n",
    "       .select('fs_acct_id', 'fs_cust_id', 'movement_date', 'movement_type')\n",
    "       .distinct()\n",
    ")"
   ]
  },
  {
   "cell_type": "code",
   "execution_count": 0,
   "metadata": {
    "application/vnd.databricks.v1+cell": {
     "cellMetadata": {
      "byteLimit": 2048000,
      "rowLimit": 10000
     },
     "inputWidgets": {},
     "nuid": "77987035-ae0f-4431-8b59-d98b44d45c6a",
     "showTitle": false,
     "tableResultSettingsMap": {},
     "title": ""
    }
   },
   "outputs": [],
   "source": [
    "df_app_agg = (\n",
    "        df_app\n",
    "        .withColumn('decision_created_month', f.date_format('application_createdat_nzt', 'yyyyMM'))\n",
    "        .withColumn('rnk', f.row_number().over(Window.partitionBy('fs_cust_id').orderBy(f.desc('application_createdat_nzt'))))\n",
    "        .filter(f.col('rnk') ==1)\n",
    "        # .groupBy('decision_created_month')\n",
    "        # .agg(  f.countDistinct('fs_cust_id')    \n",
    "        #       , f.count('*') \n",
    "        #     )\n",
    ")"
   ]
  },
  {
   "cell_type": "code",
   "execution_count": 0,
   "metadata": {
    "application/vnd.databricks.v1+cell": {
     "cellMetadata": {
      "byteLimit": 2048000,
      "rowLimit": 10000
     },
     "inputWidgets": {},
     "nuid": "cbbf2047-7ac3-445d-b504-4451a9aed06b",
     "showTitle": false,
     "tableResultSettingsMap": {},
     "title": ""
    }
   },
   "outputs": [],
   "source": [
    "display(\n",
    "  df_app_agg\n",
    "  .agg(f.min('application_createdat_nzt')\n",
    "       , f.max('application_createdat_nzt')\n",
    "       )\n",
    ")"
   ]
  },
  {
   "cell_type": "code",
   "execution_count": 0,
   "metadata": {
    "application/vnd.databricks.v1+cell": {
     "cellMetadata": {
      "byteLimit": 2048000,
      "rowLimit": 10000
     },
     "inputWidgets": {},
     "nuid": "296b45a7-71dc-4e8c-b215-995e34303ac9",
     "showTitle": false,
     "tableResultSettingsMap": {},
     "title": ""
    }
   },
   "outputs": [],
   "source": [
    "display(\n",
    "    df_app_agg\n",
    "    .filter(f.col('PLANTYPE_DESC').isin('Existing IFP'))\n",
    "    .groupBy('PLANTYPE_DESC', 'DATA_DECISIONDESCRIPTION')\n",
    "    .agg(f.countDistinct('fs_cust_id'))\n",
    ")"
   ]
  },
  {
   "cell_type": "code",
   "execution_count": 0,
   "metadata": {
    "application/vnd.databricks.v1+cell": {
     "cellMetadata": {
      "byteLimit": 2048000,
      "rowLimit": 10000
     },
     "inputWidgets": {},
     "nuid": "bd2865db-2624-4af6-9497-e7454b942277",
     "showTitle": false,
     "tableResultSettingsMap": {},
     "title": ""
    }
   },
   "outputs": [],
   "source": [
    "display(\n",
    "    df_app\n",
    "    .filter(f.col('DATA_DECISIONDESCRIPTION') == 'Approved')\n",
    "    .filter(f.col('PLANTYPE_DESC') =='Existing IFP' )\n",
    ")"
   ]
  },
  {
   "cell_type": "code",
   "execution_count": 0,
   "metadata": {
    "application/vnd.databricks.v1+cell": {
     "cellMetadata": {},
     "inputWidgets": {},
     "nuid": "08c62861-9478-455d-98a8-1df728aefe75",
     "showTitle": false,
     "tableResultSettingsMap": {},
     "title": ""
    }
   },
   "outputs": [],
   "source": []
  }
 ],
 "metadata": {
  "application/vnd.databricks.v1+notebook": {
   "computePreferences": null,
   "dashboards": [],
   "environmentMetadata": {
    "base_environment": "",
    "environment_version": "2"
   },
   "inputWidgetPreferences": null,
   "language": "python",
   "notebookMetadata": {
    "pythonIndentUnit": 4
   },
   "notebookName": "AR | Score Integration Enablers v2",
   "widgets": {}
  },
  "language_info": {
   "name": "python"
  }
 },
 "nbformat": 4,
 "nbformat_minor": 0
}
