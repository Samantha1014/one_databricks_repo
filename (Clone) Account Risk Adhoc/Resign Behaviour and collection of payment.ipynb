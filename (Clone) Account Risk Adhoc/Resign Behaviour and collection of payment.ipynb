{
 "cells": [
  {
   "cell_type": "markdown",
   "metadata": {
    "application/vnd.databricks.v1+cell": {
     "cellMetadata": {
      "byteLimit": 2048000,
      "rowLimit": 10000
     },
     "inputWidgets": {},
     "nuid": "d8e9b0c9-7457-4187-bbbf-f941275392a3",
     "showTitle": false,
     "tableResultSettingsMap": {},
     "title": ""
    }
   },
   "source": [
    "## s000 environment setup"
   ]
  },
  {
   "cell_type": "markdown",
   "metadata": {
    "application/vnd.databricks.v1+cell": {
     "cellMetadata": {
      "byteLimit": 2048000,
      "rowLimit": 10000
     },
     "inputWidgets": {},
     "nuid": "9e94dee8-70a0-45a3-a926-d86db397083a",
     "showTitle": false,
     "tableResultSettingsMap": {},
     "title": ""
    }
   },
   "source": [
    "### s001 libraries"
   ]
  },
  {
   "cell_type": "code",
   "execution_count": 0,
   "metadata": {
    "application/vnd.databricks.v1+cell": {
     "cellMetadata": {
      "byteLimit": 2048000,
      "rowLimit": 10000
     },
     "inputWidgets": {},
     "nuid": "092ce1da-ed1e-4fa2-8f03-f1aebf6320ec",
     "showTitle": true,
     "tableResultSettingsMap": {},
     "title": "library"
    }
   },
   "outputs": [],
   "source": [
    "import pyspark\n",
    "import os\n",
    "from pyspark import sql \n",
    "from pyspark.sql import Window\n",
    "from pyspark.sql import functions as f\n",
    "\n",
    "# ------------- Use snowflake utility\n",
    "sfUtils = sc._jvm.net.snowflake.spark.snowflake.Utils"
   ]
  },
  {
   "cell_type": "code",
   "execution_count": 0,
   "metadata": {
    "application/vnd.databricks.v1+cell": {
     "cellMetadata": {
      "byteLimit": 2048000,
      "rowLimit": 10000
     },
     "inputWidgets": {},
     "nuid": "e6a8e90b-fbb6-488d-8984-f0fb18fd5a5e",
     "showTitle": true,
     "tableResultSettingsMap": {},
     "title": "connector"
    }
   },
   "outputs": [],
   "source": [
    "# ------------ login to snowflake\n",
    "password = dbutils.secrets.get(scope = \"auea-kv-sbx-dxdtlprdct01\", key = \"sfdbrsdskey\")\n",
    "\n",
    "options = {\n",
    "  \"sfUrl\": \"vodafonenz_prod.australia-east.azure.snowflakecomputing.com/\", \n",
    "  \"sfUser\": \"SVC_LAB_DS_DATABRICKS\",\n",
    "  \"pem_private_key\": password.replace('\\\\n', '\\n'),\n",
    "  \"sfDatabase\": \"LAB_ML_STORE\",\n",
    "  \"sfSchema\": \"RAW\",\n",
    "  \"sfWarehouse\": \"LAB_DS_WH_SCALE\"\n",
    "}"
   ]
  },
  {
   "cell_type": "code",
   "execution_count": 0,
   "metadata": {
    "application/vnd.databricks.v1+cell": {
     "cellMetadata": {
      "byteLimit": 2048000,
      "rowLimit": 10000
     },
     "inputWidgets": {},
     "nuid": "cdebfce9-dfd8-4ba5-b4e4-e045108860f5",
     "showTitle": true,
     "tableResultSettingsMap": {},
     "title": "load age debt history"
    }
   },
   "outputs": [],
   "source": [
    "df_aod_hist = (\n",
    "    spark\n",
    "    .read\n",
    "    .format(\"snowflake\")\n",
    "    .options(**options)\n",
    "    .option(\n",
    "        \"query\"\n",
    "        , \"select * from LAB_ML_STORE.SANDBOX.SC_ADHOC_AOD_HIST_12M\"\n",
    "    )\n",
    "    .load()\n",
    ")"
   ]
  },
  {
   "cell_type": "code",
   "execution_count": 0,
   "metadata": {
    "application/vnd.databricks.v1+cell": {
     "cellMetadata": {
      "byteLimit": 2048000,
      "rowLimit": 10000
     },
     "inputWidgets": {},
     "nuid": "50c76899-069c-4dab-976e-76613893b935",
     "showTitle": false,
     "tableResultSettingsMap": {},
     "title": ""
    }
   },
   "outputs": [],
   "source": [
    "df_prm_ifp_bill = spark.read.format('delta').load('/mnt/feature-store-prod-lab/d300_primary/d301_mobile_oa_consumer/prm_ifp_main_on_bill')\n",
    "df_prm_ifp_srvc = spark.read.format('delta').load('dbfs:/mnt/feature-store-prod-lab/d300_primary/d301_mobile_oa_consumer/prm_ifp_main_on_service')\n",
    "\n",
    "df_wo_mvnt = spark.read.format('delta').load('/mnt/feature-store-prod-lab/d500_movement/d501_mobile_oa_consumer/mvmt_writeoff')"
   ]
  },
  {
   "cell_type": "code",
   "execution_count": 0,
   "metadata": {
    "application/vnd.databricks.v1+cell": {
     "cellMetadata": {
      "byteLimit": 2048000,
      "rowLimit": 10000
     },
     "inputWidgets": {},
     "nuid": "b8da7708-e3b4-43d0-bfbe-3df32329d60c",
     "showTitle": false,
     "tableResultSettingsMap": {},
     "title": ""
    }
   },
   "outputs": [],
   "source": [
    "display(df_prm_ifp_bill.limit(10))"
   ]
  },
  {
   "cell_type": "code",
   "execution_count": 0,
   "metadata": {
    "application/vnd.databricks.v1+cell": {
     "cellMetadata": {
      "byteLimit": 2048000,
      "rowLimit": 10000
     },
     "inputWidgets": {},
     "nuid": "d2dcf110-a148-46ae-8937-887b1efdfde9",
     "showTitle": false,
     "tableResultSettingsMap": {},
     "title": ""
    }
   },
   "outputs": [],
   "source": [
    "display(df_prm_ifp_srvc.limit(10))"
   ]
  },
  {
   "cell_type": "code",
   "execution_count": 0,
   "metadata": {
    "application/vnd.databricks.v1+cell": {
     "cellMetadata": {
      "byteLimit": 2048000,
      "rowLimit": 10000
     },
     "inputWidgets": {},
     "nuid": "a261e2f1-b59f-49b2-97f3-53b703013dbc",
     "showTitle": false,
     "tableResultSettingsMap": {},
     "title": ""
    }
   },
   "outputs": [],
   "source": [
    "df_ifp_bill = (\n",
    "    df_prm_ifp_bill\n",
    "    .filter(f.col('ifp_type') == 'device')\n",
    "    .filter(f.col('ifp_term_start_date').isNotNull())\n",
    "    .select('fs_cust_id', 'fs_acct_id', 'fs_ifp_id', 'ifp_term_start_date', 'ifp_term_end_date', 'ifp_sales_channel', 'ifp_sales_channel_branch', 'ifp_sales_channel_group')\n",
    "    .distinct()\n",
    ")"
   ]
  },
  {
   "cell_type": "code",
   "execution_count": 0,
   "metadata": {
    "application/vnd.databricks.v1+cell": {
     "cellMetadata": {
      "byteLimit": 2048000,
      "rowLimit": 10000
     },
     "inputWidgets": {},
     "nuid": "4a5b0b04-376f-4c31-a904-42f102ba7731",
     "showTitle": false,
     "tableResultSettingsMap": {},
     "title": ""
    }
   },
   "outputs": [],
   "source": [
    "df_ifp_srvc=(\n",
    "    df_prm_ifp_srvc\n",
    "    .filter(f.col('ifp_type') == 'device')\n",
    "    .filter(f.col('ifp_term_start_date').isNotNull())\n",
    "    .select('fs_cust_id', 'fs_acct_id', 'fs_ifp_id', 'ifp_term_start_date', 'ifp_term_end_date', 'ifp_sales_channel', 'ifp_sales_channel_branch', 'ifp_sales_channel_group')\n",
    "    .distinct()\n",
    ")"
   ]
  },
  {
   "cell_type": "code",
   "execution_count": 0,
   "metadata": {
    "application/vnd.databricks.v1+cell": {
     "cellMetadata": {
      "byteLimit": 2048000,
      "rowLimit": 10000
     },
     "inputWidgets": {},
     "nuid": "df4f3ab7-d0f1-4f5b-b5d4-6f1e51f4c8ec",
     "showTitle": false,
     "tableResultSettingsMap": {},
     "title": ""
    }
   },
   "outputs": [],
   "source": [
    "df=(\n",
    "    df_ifp_bill\n",
    "    .union(df_ifp_srvc)\n",
    ")"
   ]
  },
  {
   "cell_type": "code",
   "execution_count": 0,
   "metadata": {
    "application/vnd.databricks.v1+cell": {
     "cellMetadata": {
      "byteLimit": 2048000,
      "rowLimit": 10000
     },
     "inputWidgets": {},
     "nuid": "dd18b522-75fa-43d4-9ad8-b7a26c3836d8",
     "showTitle": false,
     "tableResultSettingsMap": {},
     "title": ""
    }
   },
   "outputs": [],
   "source": [
    "window_spec = Window.partitionBy(\"fs_cust_id\").orderBy(\"ifp_term_start_date\")\n",
    "\n",
    "df_with_sequence = df.withColumn(\"ifp_sequence\", f.row_number().over(window_spec))\n",
    "\n",
    "# Add previous IFP end date for each customer's IFP\n",
    "df_with_prev = (\n",
    "    df_with_sequence\n",
    "    .withColumn(\n",
    "    \"prev_ifp_end_date\", \n",
    "    f.lag(\"ifp_term_end_date\", 1).over(Window.partitionBy(\"fs_cust_id\").orderBy(\"ifp_term_start_date\"))\n",
    "    )\n",
    "    .withColumn(\n",
    "    \"prev_ifp_start_date\", \n",
    "    f.lag(\"ifp_term_start_date\", 1).over(Window.partitionBy(\"fs_cust_id\").orderBy(\"ifp_term_start_date\"))\n",
    "    )\n",
    ")"
   ]
  },
  {
   "cell_type": "code",
   "execution_count": 0,
   "metadata": {
    "application/vnd.databricks.v1+cell": {
     "cellMetadata": {
      "byteLimit": 2048000,
      "rowLimit": 10000
     },
     "inputWidgets": {},
     "nuid": "3e1b9c53-c760-44ec-9c49-12fa08a3236a",
     "showTitle": true,
     "tableResultSettingsMap": {},
     "title": "identify roll up"
    }
   },
   "outputs": [],
   "source": [
    "df_with_rollup = (\n",
    "    df_with_prev\n",
    "    .withColumn(\n",
    "    \"is_rollup\" \n",
    "    , f.when(\n",
    "        (f.col(\"prev_ifp_end_date\").isNotNull()) & \n",
    "        (f.col(\"ifp_term_start_date\") < f.col(\"prev_ifp_end_date\"))\n",
    "        , True\n",
    "    ).otherwise(False)\n",
    ")\n",
    ")"
   ]
  },
  {
   "cell_type": "code",
   "execution_count": 0,
   "metadata": {
    "application/vnd.databricks.v1+cell": {
     "cellMetadata": {
      "byteLimit": 2048000,
      "rowLimit": 10000
     },
     "inputWidgets": {},
     "nuid": "b036fc8b-39f5-4a79-bde7-5d9aea2503f1",
     "showTitle": false,
     "tableResultSettingsMap": {},
     "title": ""
    }
   },
   "outputs": [],
   "source": [
    "display(\n",
    "    df_with_rollup\n",
    "    .select('ifp_sales_channel_branch', 'ifp_sales_channel_group','ifp_sales_channel')\n",
    "    .distinct()    \n",
    ")"
   ]
  },
  {
   "cell_type": "code",
   "execution_count": 0,
   "metadata": {
    "application/vnd.databricks.v1+cell": {
     "cellMetadata": {
      "byteLimit": 2048000,
      "rowLimit": 10000
     },
     "inputWidgets": {},
     "nuid": "e8af3a6c-118a-464f-9dcd-f9ebc2a5b465",
     "showTitle": false,
     "tableResultSettingsMap": {},
     "title": ""
    }
   },
   "outputs": [],
   "source": [
    "display(df_aod_hist.limit(10))\n",
    "\n",
    "df_aod_latest = (\n",
    "    df_aod_hist\n",
    "    .filter(f.col('snapshot_month') == '2025-03-31')\n",
    ")\n",
    "\n",
    "# aod latest \n",
    "display(\n",
    "    df_aod_latest\n",
    "    .limit(10)\n",
    ")"
   ]
  },
  {
   "cell_type": "code",
   "execution_count": 0,
   "metadata": {
    "application/vnd.databricks.v1+cell": {
     "cellMetadata": {
      "byteLimit": 2048000,
      "rowLimit": 10000
     },
     "inputWidgets": {},
     "nuid": "3a563a21-8398-42e4-9300-0d9ed337cf5b",
     "showTitle": false,
     "tableResultSettingsMap": {},
     "title": ""
    }
   },
   "outputs": [],
   "source": [
    "display(\n",
    "    df_with_rollup\n",
    "    .withColumn('ifp_start_month_end', f.last_day('ifp_term_start_date'))\n",
    "    .filter(f.col('ifp_start_month_end') <'2024-12-31')\n",
    "    .agg(\n",
    "        f.count('*')\n",
    "        , f.countDistinct('fs_ifp_id')\n",
    "        , f.countDistinct('fs_cust_id')\n",
    "    )\n",
    ")"
   ]
  },
  {
   "cell_type": "code",
   "execution_count": 0,
   "metadata": {
    "application/vnd.databricks.v1+cell": {
     "cellMetadata": {
      "byteLimit": 2048000,
      "rowLimit": 10000
     },
     "inputWidgets": {},
     "nuid": "736bc564-fd39-4232-a648-7713791278fa",
     "showTitle": false,
     "tableResultSettingsMap": {},
     "title": ""
    }
   },
   "outputs": [],
   "source": [
    "display(\n",
    "    df_with_rollup\n",
    "    .withColumn('ifp_start_month_end', f.last_day('ifp_term_start_date'))\n",
    "    .filter(f.col('ifp_start_month_end')>='2024-12-31')\n",
    "    .join(df_aod_hist, f.col('account_no') == f.col('fs_acct_id'), 'left')\n",
    "    .limit(10)\n",
    "    #.filter(f.col('PAYMENT_STAUS') ==5)\n",
    ")"
   ]
  },
  {
   "cell_type": "code",
   "execution_count": 0,
   "metadata": {
    "application/vnd.databricks.v1+cell": {
     "cellMetadata": {
      "byteLimit": 2048000,
      "rowLimit": 10000
     },
     "inputWidgets": {},
     "nuid": "1cc41292-0468-4f60-98b7-cb37b8ddd277",
     "showTitle": true,
     "tableResultSettingsMap": {},
     "title": "from 2024 dec onwards"
    }
   },
   "outputs": [],
   "source": [
    "#df_aod_hist\n",
    "\n",
    "display(\n",
    "    df_with_rollup\n",
    "    .withColumn('ifp_start_month_end', f.last_day('ifp_term_start_date'))\n",
    "    .withColumn('three_months_after_start', f.last_day(f.add_months('ifp_start_month_end', 3)))\n",
    "    .filter(f.col('ifp_start_month_end')>='2024-01-01')\n",
    "    .filter(f.col('three_months_after_start') <= '2025-03-31')\n",
    "    .join(df_aod_hist\n",
    "          ,  (f.col('account_no') == f.col('fs_acct_id')) & \n",
    "             (f.col('three_months_after_start') == f.col('SNAPSHOT_MONTH'))\n",
    "          , 'left')\n",
    "    .groupBy('PAYMENT_STAUS', 'ifp_start_month_end', 'SNAPSHOT_MONTH',  'is_rollup', 'ifp_sales_channel')\n",
    "    .agg(\n",
    "        f.countDistinct('fs_ifp_id')\n",
    "        , f.countDistinct('fs_cust_id')\n",
    "    )\n",
    ")\n",
    "\n",
    "\n"
   ]
  },
  {
   "cell_type": "code",
   "execution_count": 0,
   "metadata": {
    "application/vnd.databricks.v1+cell": {
     "cellMetadata": {
      "byteLimit": 2048000,
      "rowLimit": 10000
     },
     "inputWidgets": {},
     "nuid": "eb2df119-5983-4911-90c6-c64f1482b5f9",
     "showTitle": false,
     "tableResultSettingsMap": {},
     "title": ""
    }
   },
   "outputs": [],
   "source": [
    "df_wo_base = (\n",
    "    df_wo_mvnt\n",
    "    .select('fs_cust_id', 'fs_acct_id', 'movement_date', 'movement_type', 'writeoff_item_no')\n",
    "    .distinct()\n",
    ")"
   ]
  },
  {
   "cell_type": "code",
   "execution_count": 0,
   "metadata": {
    "application/vnd.databricks.v1+cell": {
     "cellMetadata": {
      "byteLimit": 2048000,
      "rowLimit": 10000
     },
     "inputWidgets": {},
     "nuid": "14efdd5d-145d-471d-a536-4214397c900c",
     "showTitle": true,
     "tableResultSettingsMap": {},
     "title": "before nov 2024"
    }
   },
   "outputs": [],
   "source": [
    "#df_wo_hist\n",
    "\n",
    "display(\n",
    "    df_with_rollup\n",
    "    .withColumn('ifp_start_month_end', f.last_day('ifp_term_start_date'))\n",
    "    .filter(f.col('ifp_start_month_end') < '2024-12-31')\n",
    "    .filter(f.col('ifp_start_month_end') >= '2024-01-01')\n",
    "    .join(df_wo_base, ['fs_acct_id', 'fs_cust_id'], 'left')\n",
    "    .withColumn(\n",
    "        'valid_writeoff_4m' \n",
    "        , f.when(\n",
    "            (f.col('movement_type') == 'writeoff') & \n",
    "            (f.col('movement_date').isNotNull()) & \n",
    "            (f.col('movement_date') > f.col('ifp_term_start_date')) &\n",
    "            (f.col('movement_date') <= f.last_day(f.add_months(f.col('ifp_term_start_date'), 4)))\n",
    "            , 1\n",
    "        ).otherwise(0)\n",
    "    )\n",
    "    .groupBy('ifp_start_month_end', 'ifp_sales_channel', 'is_rollup') \n",
    "    .agg(\n",
    "        # Count total IFPs\n",
    "        f.count('fs_ifp_id').alias('total_ifps'),\n",
    "        f.count('fs_cust_id').alias('total_customer'),\n",
    "        # Count IFPs with valid write-offs\n",
    "        f.sum('valid_writeoff_4m').alias('writeoff_count')\n",
    "    )\n",
    ")\n"
   ]
  }
 ],
 "metadata": {
  "application/vnd.databricks.v1+notebook": {
   "computePreferences": null,
   "dashboards": [],
   "environmentMetadata": {
    "base_environment": "",
    "environment_version": "2"
   },
   "inputWidgetPreferences": null,
   "language": "python",
   "notebookMetadata": {
    "pythonIndentUnit": 4
   },
   "notebookName": "Resign Behaviour and collection of payment",
   "widgets": {}
  },
  "language_info": {
   "name": "python"
  }
 },
 "nbformat": 4,
 "nbformat_minor": 0
}
