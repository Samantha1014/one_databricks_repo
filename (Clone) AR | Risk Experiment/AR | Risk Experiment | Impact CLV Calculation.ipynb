{
 "cells": [
  {
   "cell_type": "markdown",
   "metadata": {
    "application/vnd.databricks.v1+cell": {
     "cellMetadata": {},
     "inputWidgets": {},
     "nuid": "da9a3957-fa56-4ed7-a0a6-4ace088b9b84",
     "showTitle": false,
     "tableResultSettingsMap": {},
     "title": ""
    }
   },
   "source": [
    "### s01 set up "
   ]
  },
  {
   "cell_type": "code",
   "execution_count": 0,
   "metadata": {
    "application/vnd.databricks.v1+cell": {
     "cellMetadata": {
      "byteLimit": 2048000,
      "rowLimit": 10000
     },
     "inputWidgets": {},
     "nuid": "d3607b17-5103-4002-9b0f-36cced073c0d",
     "showTitle": false,
     "tableResultSettingsMap": {},
     "title": ""
    }
   },
   "outputs": [],
   "source": [
    "import pyspark \n",
    "import os\n",
    "from pyspark import sql\n",
    "from pyspark.sql import functions as f\n",
    "from pyspark.sql import Window"
   ]
  },
  {
   "cell_type": "code",
   "execution_count": 0,
   "metadata": {
    "application/vnd.databricks.v1+cell": {
     "cellMetadata": {
      "byteLimit": 2048000,
      "rowLimit": 10000
     },
     "inputWidgets": {},
     "nuid": "c4d642d7-4d12-4aae-abdd-6dd16bf788d0",
     "showTitle": false,
     "tableResultSettingsMap": {},
     "title": ""
    }
   },
   "outputs": [],
   "source": [
    "# ------------ login to snowflake\n",
    "password = dbutils.secrets.get(scope = \"auea-kv-sbx-dxdtlprdct01\", key = \"sfdbrsdskey\")\n",
    "\n",
    "options = {\n",
    "  \"sfUrl\": \"vodafonenz_prod.australia-east.azure.snowflakecomputing.com/\", \n",
    "  \"sfUser\": \"SVC_LAB_DS_DATABRICKS\",\n",
    "  \"pem_private_key\": password.replace('\\\\n', '\\n'),\n",
    "  \"sfDatabase\": \"PROD_ACCOUNT_RISK\",\n",
    "  \"sfSchema\": \"SERVING\",\n",
    "  \"sfWarehouse\": \"PROD_ACCOUNT_RISK_WH\"\n",
    "}\n"
   ]
  },
  {
   "cell_type": "markdown",
   "metadata": {
    "application/vnd.databricks.v1+cell": {
     "cellMetadata": {},
     "inputWidgets": {},
     "nuid": "713f4445-56cc-4f0d-b297-1c7ccc9f9ad1",
     "showTitle": false,
     "tableResultSettingsMap": {},
     "title": ""
    }
   },
   "source": [
    "### s02 directory "
   ]
  },
  {
   "cell_type": "code",
   "execution_count": 0,
   "metadata": {
    "application/vnd.databricks.v1+cell": {
     "cellMetadata": {
      "byteLimit": 2048000,
      "rowLimit": 10000
     },
     "inputWidgets": {},
     "nuid": "3369bcc0-c7d6-4f24-8833-9cc31ad6b0cb",
     "showTitle": false,
     "tableResultSettingsMap": {},
     "title": ""
    }
   },
   "outputs": [],
   "source": [
    "dir_audience_conrtol_01 = '/mnt/ml-lab/dev_users/dev_sc/audience_list/sms_audience_control_20241114'\n",
    "dir_audience_conrtol_02 = '/mnt/ml-lab/dev_users/dev_sc/audience_list/sms_audience_control_20241128'\n",
    "dir_audience_conrtol_03 = '/mnt/ml-lab/dev_users/dev_sc/audience_list/sms_audience_control_20241205'\n",
    "\n",
    "dir_audience_treatment_01 = '/mnt/ml-lab/dev_users/dev_sc/audience_list/sms_audience_treatment_20241114'\n",
    "dir_audience_treatment_02 = '/mnt/ml-lab/dev_users/dev_sc/audience_list/sms_audience_treatment_20241128'\n",
    "dir_audience_treatment_03 = '/mnt/ml-lab/dev_users/dev_sc/audience_list/sms_audience_treatment_20241205'\n",
    "\n",
    "dir_campaign_base_01 = 'dbfs:/mnt/ml-lab/dev_users/dev_sc/audience_list/sms_campaign_base_20241114'\n",
    "dir_campaign_base_02 = 'dbfs:/mnt/ml-lab/dev_users/dev_sc/audience_list/sms_campaign_base_20241128'\n",
    "dir_campaign_base_03 = 'dbfs:/mnt/ml-lab/dev_users/dev_sc/audience_list/sms_campaign_base_20241205'\n",
    "\n",
    "dir_payment_01 = '/mnt/ml-lab/dev_users/dev_sc/audience_list/sms_audience_payment_20241121'\n",
    "dir_payment_02 = '/mnt/ml-lab/dev_users/dev_sc/audience_list/sms_audience_payment_20241128'\n",
    "dir_payment_03 = '/mnt/ml-lab/dev_users/dev_sc/audience_list/sms_audience_payment_20241205'\n",
    "\n",
    "dir_g2 = 'dbfs:/FileStore/mnt/ml-lab/dev_users/dev_sc/bill_reminder_sent_g2_241203.csv'\n",
    "dir_g3= 'dbfs:/FileStore/mnt/ml-lab/dev_users/dev_sc/bill_reminder_sent_g3_241209.csv'"
   ]
  },
  {
   "cell_type": "markdown",
   "metadata": {
    "application/vnd.databricks.v1+cell": {
     "cellMetadata": {},
     "inputWidgets": {},
     "nuid": "0f2c8879-3470-49d1-bf66-97cfa4862f97",
     "showTitle": false,
     "tableResultSettingsMap": {},
     "title": ""
    }
   },
   "source": [
    "#### s03 laod data"
   ]
  },
  {
   "cell_type": "code",
   "execution_count": 0,
   "metadata": {
    "application/vnd.databricks.v1+cell": {
     "cellMetadata": {
      "byteLimit": 2048000,
      "rowLimit": 10000
     },
     "inputWidgets": {},
     "nuid": "2fd40ffa-a597-4647-ad1b-ebcf9f79fc0d",
     "showTitle": true,
     "tableResultSettingsMap": {},
     "title": "load data"
    }
   },
   "outputs": [],
   "source": [
    "df_treatment_01 = spark.read.format('delta').load(dir_audience_treatment_01)\n",
    "df_treatment_02 = spark.read.format('delta').load(dir_audience_treatment_02)\n",
    "df_treatment_03 = spark.read.format('delta').load(dir_audience_treatment_03)\n",
    "\n",
    "df_campaign_base_01 = spark.read.format('delta').load(dir_campaign_base_01)\n",
    "df_campaign_base_02 = spark.read.format('delta').load(dir_campaign_base_02)\n",
    "df_campaign_base_03 = spark.read.format('delta').load(dir_campaign_base_03)\n",
    "\n",
    "df_payment_01 = spark.read.format('delta').load(dir_payment_01)\n",
    "df_payment_02 = spark.read.format('delta').load(dir_payment_02)\n",
    "df_payment_03 = spark.read.format('delta').load(dir_payment_03)\n",
    "\n",
    "df_g2_sent = spark.read.format('csv').option('header', 'true').load(dir_g2)\n",
    "df_g3_sent = spark.read.format('csv').option('header', 'true').load(dir_g3)"
   ]
  },
  {
   "cell_type": "code",
   "execution_count": 0,
   "metadata": {
    "application/vnd.databricks.v1+cell": {
     "cellMetadata": {
      "byteLimit": 2048000,
      "rowLimit": 10000
     },
     "inputWidgets": {},
     "nuid": "a63c29a9-b9be-4e5c-a356-25dd56f4abb3",
     "showTitle": false,
     "tableResultSettingsMap": {},
     "title": ""
    }
   },
   "outputs": [],
   "source": [
    "display(df_treatment_01.count())\n",
    "\n",
    "display(df_treatment_02.count())\n",
    "\n",
    "display(df_treatment_03.count())"
   ]
  },
  {
   "cell_type": "code",
   "execution_count": 0,
   "metadata": {
    "application/vnd.databricks.v1+cell": {
     "cellMetadata": {
      "byteLimit": 2048000,
      "rowLimit": 10000
     },
     "inputWidgets": {},
     "nuid": "bb59c63c-07ea-4030-9829-496537d9d460",
     "showTitle": false,
     "tableResultSettingsMap": {},
     "title": ""
    }
   },
   "outputs": [],
   "source": [
    "display(df_payment_01.limit(10))"
   ]
  },
  {
   "cell_type": "code",
   "execution_count": 0,
   "metadata": {
    "application/vnd.databricks.v1+cell": {
     "cellMetadata": {
      "byteLimit": 2048000,
      "rowLimit": 10000
     },
     "inputWidgets": {},
     "nuid": "5c135588-a90d-416a-8b7e-0979fabfc35d",
     "showTitle": false,
     "tableResultSettingsMap": {},
     "title": ""
    }
   },
   "outputs": [],
   "source": [
    "display(df_g3_sent.limit(10))"
   ]
  },
  {
   "cell_type": "code",
   "execution_count": 0,
   "metadata": {
    "application/vnd.databricks.v1+cell": {
     "cellMetadata": {
      "byteLimit": 2048000,
      "rowLimit": 10000
     },
     "inputWidgets": {},
     "nuid": "41d19842-a6ca-455a-8861-f8523db49c75",
     "showTitle": false,
     "tableResultSettingsMap": {
      "0": {
       "dataGridStateBlob": null,
       "filterBlob": "{\"filterGroups\":[],\"syncTimestamp\":1740195477002}",
       "queryPlanFiltersBlob": null,
       "tableResultIndex": 0
      }
     },
     "title": ""
    }
   },
   "outputs": [],
   "source": [
    "display(\n",
    "    df_campaign_base_03\n",
    "    .join(df_treatment_03, on=['fs_acct_id', 'fs_srvc_id', 'L2_combine'], how='inner')\n",
    "    .join(\n",
    "        df_g3_sent\n",
    "        ,  (f.col('fs_cust_id') == f.col('contact_key'))& \n",
    "            (f.col('fs_srvc_id') == f.col('service_id')) \n",
    "        , 'inner'\n",
    "    )\n",
    "    .join(df_payment_03, on=['fs_acct_id', 'fs_srvc_id'], how='inner')\n",
    "    #.groupBy('L2_combine')\n",
    "    #.agg(f.countDistinct('fs_acct_id'))\n",
    "    #.join(df_payment_02, on=['fs_acct_id', 'fs_srvc_id', 'L2_combine'], how='inner')\n",
    ")"
   ]
  },
  {
   "cell_type": "code",
   "execution_count": 0,
   "metadata": {
    "application/vnd.databricks.v1+cell": {
     "cellMetadata": {
      "byteLimit": 2048000,
      "rowLimit": 10000
     },
     "inputWidgets": {},
     "nuid": "236db608-893c-4f3f-b10d-fb087b6631a9",
     "showTitle": false,
     "tableResultSettingsMap": {},
     "title": ""
    }
   },
   "outputs": [],
   "source": [
    "display(\n",
    "    df_campaign_base_02\n",
    "    .join(df_treatment_02, on=['fs_acct_id', 'fs_srvc_id', 'L2_combine'], how='inner')\n",
    "    .join(\n",
    "        df_g2_sent\n",
    "        ,  (f.col('fs_cust_id') == f.col('contact_key'))& \n",
    "            (f.col('fs_srvc_id') == f.col('service_id')) \n",
    "        , 'inner'\n",
    "    )\n",
    "    .join(df_payment_02, on=['fs_acct_id', 'fs_srvc_id'], how='inner')\n",
    "    #.groupBy('L2_combine')\n",
    "    #.agg(f.countDistinct('fs_acct_id'))\n",
    "    #.join(df_payment_02, on=['fs_acct_id', 'fs_srvc_id', 'L2_combine'], how='inner')\n",
    ")"
   ]
  }
 ],
 "metadata": {
  "application/vnd.databricks.v1+notebook": {
   "computePreferences": null,
   "dashboards": [],
   "environmentMetadata": {
    "base_environment": "",
    "environment_version": "2"
   },
   "inputWidgetPreferences": null,
   "language": "python",
   "notebookMetadata": {
    "pythonIndentUnit": 4
   },
   "notebookName": "AR | Risk Experiment | Impact CLV Calculation",
   "widgets": {}
  },
  "language_info": {
   "name": "python"
  }
 },
 "nbformat": 4,
 "nbformat_minor": 0
}
