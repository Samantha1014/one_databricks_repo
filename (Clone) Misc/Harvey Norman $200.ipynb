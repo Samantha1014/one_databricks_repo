{
 "cells": [
  {
   "cell_type": "code",
   "execution_count": 0,
   "metadata": {
    "application/vnd.databricks.v1+cell": {
     "cellMetadata": {
      "byteLimit": 2048000,
      "rowLimit": 10000
     },
     "inputWidgets": {},
     "nuid": "00d40448-82de-404f-b1bf-cc366ecd4e8d",
     "showTitle": false,
     "tableResultSettingsMap": {},
     "title": ""
    }
   },
   "outputs": [],
   "source": [
    "import os\n",
    "import pyspark\n",
    "from pyspark import sql\n",
    "from pyspark.sql import functions as f\n",
    "from pyspark.sql import Window"
   ]
  },
  {
   "cell_type": "code",
   "execution_count": 0,
   "metadata": {
    "application/vnd.databricks.v1+cell": {
     "cellMetadata": {
      "byteLimit": 2048000,
      "rowLimit": 10000
     },
     "inputWidgets": {},
     "nuid": "aad6b320-fce6-4842-bb3f-b012bb4ae572",
     "showTitle": false,
     "tableResultSettingsMap": {},
     "title": ""
    }
   },
   "outputs": [],
   "source": [
    "dir_edw_data_parent = \"/mnt/prod_edw/raw/cdc\"\n",
    "dir_brm_data_parent = \"/mnt/prod_brm/raw/cdc\"\n",
    "dir_fs_data_parent = \"/mnt/feature-store-prod-lab/d400_feature/d401_mobile_oa_consumer\"\n",
    "dir_fs_data_stg = \"/mnt/feature-store-prod-lab/d200_staging/d299_src\"\n",
    "dir_fs_data_prm = '/mnt/feature-store-prod-lab/d300_primary/d301_mobile_oa_consumer/'\n",
    "dir_global_meta = '/mnt/feature-store-dev/dev_users/dev_sc/d000_meta/d001_global_cycle_calendar'\n"
   ]
  },
  {
   "cell_type": "code",
   "execution_count": 0,
   "metadata": {
    "application/vnd.databricks.v1+cell": {
     "cellMetadata": {
      "byteLimit": 2048000,
      "rowLimit": 10000
     },
     "inputWidgets": {},
     "nuid": "a564cc1f-52a1-4f43-bea0-605c5399e133",
     "showTitle": false,
     "tableResultSettingsMap": {},
     "title": ""
    }
   },
   "outputs": [],
   "source": [
    "df_raw_plan = spark.read.format('delta').load('/mnt/feature-store-prod-lab/d100_raw/d102_dwh_edw/raw_edw_product_rateplan/reporting_cycle_type=rolling cycle')\n",
    "\n",
    "df_int_srvc = spark.read.format('delta').load('/mnt/feature-store-prod-lab/d200_intermediate/d201_mobile_oa_consumer/int_edw_service/reporting_cycle_type=rolling cycle')\n",
    "\n",
    "# from feature store int layer \n",
    "df_int_ssc_srvc= spark.read.format('delta').load('/mnt/feature-store-prod-lab/d200_intermediate/d201_mobile_oa_consumer/int_ssc_service/')\n",
    "df_int_ssc_billing = spark.read.format('delta').load('/mnt/feature-store-prod-lab/d200_intermediate/d201_mobile_oa_consumer/int_ssc_billing_account')\n",
    "df_int_ssc_customer = spark.read.format('delta').load('/mnt/feature-store-prod-lab/d200_intermediate/d201_mobile_oa_consumer/int_ssc_customer')\n",
    "\n",
    "df_int_d_billing_acct = spark.read.format('delta').load('/mnt/feature-store-prod-lab/d200_intermediate/d299_shared/int_d_billing_account')\n",
    "df_int_d_service = spark.read.format('delta').load('/mnt/feature-store-prod-lab/d200_intermediate/d299_shared/int_d_service')\n",
    "\n",
    "df_int_conn_deact = spark.read.format('delta').load('/mnt/feature-store-prod-lab/d200_intermediate/d299_shared/int_conn_deactivation_hist_mobile_oa')"
   ]
  },
  {
   "cell_type": "code",
   "execution_count": 0,
   "metadata": {
    "application/vnd.databricks.v1+cell": {
     "cellMetadata": {
      "byteLimit": 2048000,
      "rowLimit": 10000
     },
     "inputWidgets": {},
     "nuid": "a5d01bf0-5a7c-443d-b8c1-2a59c5b1fe4f",
     "showTitle": false,
     "tableResultSettingsMap": {},
     "title": ""
    }
   },
   "outputs": [],
   "source": [
    "display(\n",
    "    df_int_conn_deact\n",
    "    .filter(f.col('service_id') == '642102836626' )  \n",
    ")"
   ]
  },
  {
   "cell_type": "code",
   "execution_count": 0,
   "metadata": {
    "application/vnd.databricks.v1+cell": {
     "cellMetadata": {
      "byteLimit": 2048000,
      "rowLimit": 10000
     },
     "inputWidgets": {},
     "nuid": "22ee2fac-2bf2-439e-a82d-1d7cc7cba132",
     "showTitle": false,
     "tableResultSettingsMap": {},
     "title": ""
    }
   },
   "outputs": [],
   "source": [
    "display(df_int_d_service.limit(10))"
   ]
  },
  {
   "cell_type": "code",
   "execution_count": 0,
   "metadata": {
    "application/vnd.databricks.v1+cell": {
     "cellMetadata": {
      "byteLimit": 2048000,
      "rowLimit": 10000
     },
     "inputWidgets": {},
     "nuid": "76bb6a2b-dbd0-4179-8909-f719bb6a348b",
     "showTitle": false,
     "tableResultSettingsMap": {},
     "title": ""
    }
   },
   "outputs": [],
   "source": [
    "display(\n",
    "    df_int_d_service\n",
    "    .filter(f.col('fs_srvc_id') == '642102836626')\n",
    "    .filter(f.col('billing_acct_src_id') == '1-WYX9CWX')\n",
    ")"
   ]
  },
  {
   "cell_type": "code",
   "execution_count": 0,
   "metadata": {
    "application/vnd.databricks.v1+cell": {
     "cellMetadata": {
      "byteLimit": 2048000,
      "rowLimit": 10000
     },
     "inputWidgets": {},
     "nuid": "64566d3e-fbec-401a-95dd-71a5beb55d08",
     "showTitle": false,
     "tableResultSettingsMap": {},
     "title": ""
    }
   },
   "outputs": [],
   "source": [
    "display(\n",
    "    df_int_d_service\n",
    "    .groupBy('srvc_type', 'srvc_status')\n",
    "    .agg(f.count('*'))\n",
    ")"
   ]
  },
  {
   "cell_type": "code",
   "execution_count": 0,
   "metadata": {
    "application/vnd.databricks.v1+cell": {
     "cellMetadata": {
      "byteLimit": 2048000,
      "rowLimit": 10000
     },
     "inputWidgets": {},
     "nuid": "ec8c74ed-3874-4599-bfca-8f84dccda3ae",
     "showTitle": false,
     "tableResultSettingsMap": {},
     "title": ""
    }
   },
   "outputs": [],
   "source": [
    "display(\n",
    "    df_int_ssc_srvc\n",
    "    .filter(f.col('fs_srvc_id') == '642102836626')\n",
    "    .filter(f.col('billing_acct_src_id') == '1-WYX9CWX')\n",
    ") # scc does not include deactivation date "
   ]
  },
  {
   "cell_type": "code",
   "execution_count": 0,
   "metadata": {
    "application/vnd.databricks.v1+cell": {
     "cellMetadata": {
      "byteLimit": 2048000,
      "rowLimit": 10000
     },
     "inputWidgets": {},
     "nuid": "196ebfcd-6123-45f7-b1d9-ce380be485a7",
     "showTitle": false,
     "tableResultSettingsMap": {},
     "title": ""
    }
   },
   "outputs": [],
   "source": [
    "display(\n",
    "    df_int_ssc_billing\n",
    "    .filter(\n",
    "        f.col('billing_acct_num') == '473488431'\n",
    "    )\n",
    ")"
   ]
  },
  {
   "cell_type": "code",
   "execution_count": 0,
   "metadata": {
    "application/vnd.databricks.v1+cell": {
     "cellMetadata": {
      "byteLimit": 2048000,
      "rowLimit": 10000
     },
     "inputWidgets": {},
     "nuid": "87d42ebc-f4d7-4569-893f-88de2df26b81",
     "showTitle": false,
     "tableResultSettingsMap": {},
     "title": ""
    }
   },
   "outputs": [],
   "source": [
    "display(\n",
    "    df_int_ssc_srvc\n",
    "    .filter(f.col('srvc_id') == '642102836626')\n",
    ")\n",
    "\n",
    "# 1-WYX9CWX"
   ]
  },
  {
   "cell_type": "code",
   "execution_count": 0,
   "metadata": {
    "application/vnd.databricks.v1+cell": {
     "cellMetadata": {
      "byteLimit": 2048000,
      "rowLimit": 10000
     },
     "inputWidgets": {},
     "nuid": "c6ac8ae9-0faa-4a43-b8b7-a986271e3dce",
     "showTitle": false,
     "tableResultSettingsMap": {},
     "title": ""
    }
   },
   "outputs": [],
   "source": [
    "df_base_srvc_acct = (\n",
    "        df_int_ssc_srvc\n",
    "        .select(\"fs_acct_src_id\")\n",
    "        .distinct()\n",
    ")"
   ]
  },
  {
   "cell_type": "code",
   "execution_count": 0,
   "metadata": {
    "application/vnd.databricks.v1+cell": {
     "cellMetadata": {
      "byteLimit": 2048000,
      "rowLimit": 10000
     },
     "inputWidgets": {},
     "nuid": "9cb82dee-8b35-4c54-ba91-71c4b5d4d39b",
     "showTitle": false,
     "tableResultSettingsMap": {},
     "title": ""
    }
   },
   "outputs": [],
   "source": [
    "display(\n",
    "    df_int_d_billing_acct\n",
    "    .filter(f.col('billing_acct_num') == '473488431')   \n",
    ")\n",
    "# 1-WYX9CWX"
   ]
  },
  {
   "cell_type": "code",
   "execution_count": 0,
   "metadata": {
    "application/vnd.databricks.v1+cell": {
     "cellMetadata": {},
     "inputWidgets": {},
     "nuid": "fcc8ce23-f58d-416c-944b-4071d9e884f9",
     "showTitle": false,
     "tableResultSettingsMap": {},
     "title": ""
    }
   },
   "outputs": [],
   "source": [
    " df_int_ssc_acct_curr_00 = (\n",
    "                df_int_acct\n",
    "                .filter(f.lower(f.col(\"billing_acct_status_desc\")).isin(ls_param_acct_status))\n",
    "                .filter(f.col(\"num_of_active_srvc_cnt\") > 0)\n",
    "                .filter(f.col(\"record_start_dttm\") <= vt_param_ssc_end_date)\n",
    "                # .filter(f.col(\"billing_acct_open_date\") <= vt_param_ssc_end_date)\n",
    "                .filter(f.col(\"record_end_dttm\") >= vt_param_ssc_start_date)\n",
    "                .withColumn(\"reporting_date\", f.lit(vt_param_ssc_reporting_date))\n",
    "                .withColumn(\"reporting_cycle_type\", f.lit(vt_param_ssc_reporting_cycle_type))\n",
    "                .withColumn(\"cycle_day_of_month_num\", f.dayofmonth(f.col(\"reporting_date\")))\n",
    "                .withColumn(\n",
    "                    \"bill_month_shift_index\"\n",
    "                    , f.when(\n",
    "                        f.col(\"cycle_day_of_month_num\") <= f.col(\"bill_day_of_month_num\")\n",
    "                        , f.lit(-2)\n",
    "                    ).otherwise(f.lit(-1))\n",
    "                )\n",
    "                .withColumn(\n",
    "                    \"bill_start_date\"\n",
    "                    , f.concat_ws(\n",
    "                            \"-\"\n",
    "                            , f.year(f.lit(vt_param_ssc_end_date))\n",
    "                            , f.month(f.lit(vt_param_ssc_end_date))\n",
    "                            , f.col(\"bill_day_of_month_num\")\n",
    "                    ).cast(\"date\")\n",
    "                )\n",
    "            )\n",
    "\n",
    "            df_int_ssc_acct_curr_01 = (\n",
    "                df_int_ssc_acct_curr_00\n",
    "                .filter(f.col(\"bill_month_shift_index\") == -1)\n",
    "                .withColumn(\"bill_start_date\", f.add_months(f.col(\"bill_start_date\"), -1))\n",
    "            )\n",
    "\n",
    "            df_int_ssc_acct_curr_02 = (\n",
    "                df_int_ssc_acct_curr_00\n",
    "                .filter(f.col(\"bill_month_shift_index\") == -2)\n",
    "                .withColumn(\"bill_start_date\", f.add_months(f.col(\"bill_start_date\"), -2))\n",
    "            )\n",
    "\n",
    "            df_output_curr = (\n",
    "                df_int_ssc_acct_curr_01\n",
    "                .union(df_int_ssc_acct_curr_02)\n",
    "                .withColumn(\"bill_end_date\", f.date_add(f.add_months(f.col(\"bill_start_date\"), 1), -1))\n",
    "                .withColumn(\"cal_start_date\", f.lit(vt_param_ssc_start_date))\n",
    "                .withColumn(\"cal_end_date\", f.lit(vt_param_ssc_end_date))\n",
    "                .withColumn(\n",
    "                    \"index\"\n",
    "                    , f.row_number().over(\n",
    "                        Window\n",
    "                        .partitionBy(\"fs_acct_src_id\", \"fs_cust_id\", \"reporting_date\")\n",
    "                        .orderBy(f.desc(\"record_end_dttm\"), f.desc(\"record_start_dttm\"))\n",
    "                    )\n",
    "                )\n",
    "                .filter(f.col(\"index\") == 1)\n",
    "                .drop(\"index\", \"cycle_day_of_month_num\", \"bill_month_shift_index\")\n",
    "                # narrow down to Mobile OA consumer\n",
    "                .join(df_base_srvc_acct, ['fs_acct_src_id'], \"inner\")\n",
    "                .withColumn(\"data_update_date\", f.current_date())\n",
    "                .withColumn(\"data_update_dttm\", f.current_timestamp())\n",
    "            )"
   ]
  },
  {
   "cell_type": "code",
   "execution_count": 0,
   "metadata": {
    "application/vnd.databricks.v1+cell": {
     "cellMetadata": {
      "byteLimit": 2048000,
      "rowLimit": 10000
     },
     "inputWidgets": {},
     "nuid": "bb30b5bb-3e2f-401d-a032-078ab248be35",
     "showTitle": false,
     "tableResultSettingsMap": {},
     "title": ""
    }
   },
   "outputs": [],
   "source": [
    "display(\n",
    "    df_int_ssc_billing\n",
    "    .filter(\n",
    "        f.col('billing_acct_num') =='473488431'\n",
    "    )\n",
    ")"
   ]
  },
  {
   "cell_type": "code",
   "execution_count": 0,
   "metadata": {
    "application/vnd.databricks.v1+cell": {
     "cellMetadata": {
      "byteLimit": 2048000,
      "rowLimit": 10000
     },
     "inputWidgets": {},
     "nuid": "dc65f0ca-5ad4-4364-a6b4-1a8dbd420ac3",
     "showTitle": false,
     "tableResultSettingsMap": {},
     "title": ""
    }
   },
   "outputs": [],
   "source": [
    "display(\n",
    "    df_int_ssc_service\n",
    "    .filter(f.col('srvc_id') == '642102836626')    \n",
    "    .filter(f.col(''))\n",
    ")"
   ]
  }
 ],
 "metadata": {
  "application/vnd.databricks.v1+notebook": {
   "computePreferences": null,
   "dashboards": [],
   "environmentMetadata": {
    "base_environment": "",
    "environment_version": "2"
   },
   "inputWidgetPreferences": null,
   "language": "python",
   "notebookMetadata": {
    "pythonIndentUnit": 4
   },
   "notebookName": "Harvey Norman $200",
   "widgets": {}
  },
  "language_info": {
   "name": "python"
  }
 },
 "nbformat": 4,
 "nbformat_minor": 0
}
