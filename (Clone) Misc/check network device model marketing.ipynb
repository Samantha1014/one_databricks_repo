{
 "cells": [
  {
   "cell_type": "code",
   "execution_count": 0,
   "metadata": {
    "application/vnd.databricks.v1+cell": {
     "cellMetadata": {
      "byteLimit": 2048000,
      "rowLimit": 10000
     },
     "inputWidgets": {},
     "nuid": "2be91079-d62b-44bb-a903-95f316e673c4",
     "showTitle": false,
     "tableResultSettingsMap": {},
     "title": ""
    }
   },
   "outputs": [],
   "source": [
    "import pyspark\n",
    "import os\n",
    "from pyspark import sql \n",
    "from pyspark.sql import Window\n",
    "from pyspark.sql import functions as f\n"
   ]
  },
  {
   "cell_type": "code",
   "execution_count": 0,
   "metadata": {
    "application/vnd.databricks.v1+cell": {
     "cellMetadata": {
      "byteLimit": 2048000,
      "rowLimit": 10000
     },
     "inputWidgets": {},
     "nuid": "b7c297ff-1c0f-472a-bd23-e317db5b6f25",
     "showTitle": false,
     "tableResultSettingsMap": {},
     "title": ""
    }
   },
   "outputs": [],
   "source": [
    "dir_data_sfmc = \"/mnt/prod_sfmc/landing/imports/ml_store/misc/spacex_device_compliance_comm/\""
   ]
  },
  {
   "cell_type": "code",
   "execution_count": 0,
   "metadata": {
    "application/vnd.databricks.v1+cell": {
     "cellMetadata": {
      "byteLimit": 2048000,
      "rowLimit": 10000
     },
     "collapsed": true,
     "inputWidgets": {},
     "nuid": "6972dc6f-63ee-4298-9384-6c1bac2c046e",
     "showTitle": false,
     "tableResultSettingsMap": {},
     "title": ""
    }
   },
   "outputs": [],
   "source": [
    "dbutils.fs.ls('/mnt/prod_sfmc/imports/ml_store/misc/spacex_device_compliance_comm/')"
   ]
  },
  {
   "cell_type": "code",
   "execution_count": 0,
   "metadata": {
    "application/vnd.databricks.v1+cell": {
     "cellMetadata": {
      "byteLimit": 2048000,
      "rowLimit": 10000
     },
     "inputWidgets": {},
     "nuid": "c880b61a-593f-488f-8c86-9b49aa9991e8",
     "showTitle": false,
     "tableResultSettingsMap": {},
     "title": ""
    }
   },
   "outputs": [],
   "source": [
    "dir_gsma = 'dbfs:/mnt/ml-lab/dev_shared/tactical_solutions/spacex_device_comm/raw_gsma/'\n",
    "dir_martech = 'dbfs:/mnt/ml-lab/dev_shared/tactical_solutions/spacex_device_comm/raw_martech_srvc/'\n",
    "dir_raw_spacex_comm_srvc = 'dbfs:/mnt/ml-lab/dev_shared/tactical_solutions/spacex_device_comm/raw_martech_srvc/'"
   ]
  },
  {
   "cell_type": "code",
   "execution_count": 0,
   "metadata": {
    "application/vnd.databricks.v1+cell": {
     "cellMetadata": {
      "byteLimit": 2048000,
      "rowLimit": 10000
     },
     "inputWidgets": {},
     "nuid": "6978ae90-3de9-49cc-9661-07f3f84b5c5c",
     "showTitle": false,
     "tableResultSettingsMap": {},
     "title": ""
    }
   },
   "outputs": [],
   "source": [
    "df_gsma = spark.read.format('delta').load(dir_gsma)\n",
    "df_martech = spark.read.format('delta').load(dir_martech)\n",
    "df_raw_spacex_comm_srvc = spark.read.format('delta').load(dir_raw_spacex_comm_srvc)"
   ]
  },
  {
   "cell_type": "code",
   "execution_count": 0,
   "metadata": {
    "application/vnd.databricks.v1+cell": {
     "cellMetadata": {
      "byteLimit": 2048000,
      "rowLimit": 10000
     },
     "inputWidgets": {},
     "nuid": "a9b16f2c-b4e9-4c89-ac76-c037bfc6c23d",
     "showTitle": false,
     "tableResultSettingsMap": {},
     "title": ""
    }
   },
   "outputs": [],
   "source": [
    "dir_data_sfmc ='/mnt/prod_sfmc/imports/ml_store/misc/spacex_device_compliance_comm/'"
   ]
  },
  {
   "cell_type": "code",
   "execution_count": 0,
   "metadata": {
    "application/vnd.databricks.v1+cell": {
     "cellMetadata": {
      "byteLimit": 2048000,
      "rowLimit": 10000
     },
     "inputWidgets": {},
     "nuid": "d9703a61-d6ca-41f8-a358-3b7f75979a81",
     "showTitle": false,
     "tableResultSettingsMap": {},
     "title": ""
    }
   },
   "outputs": [],
   "source": [
    "df_check_20250321 = spark.read.options(header=True).csv(f\"{dir_data_sfmc}/network_dvc_20250321.csv\")\n",
    "df_check_20250322 = spark.read.options(header=True).csv(f\"{dir_data_sfmc}/network_dvc_20250322.csv\")\n",
    "df_check_20250323 = spark.read.options(header=True).csv(f\"{dir_data_sfmc}/network_dvc_20250323.csv\")\n",
    "df_check_20250324 = spark.read.options(header=True).csv(f\"{dir_data_sfmc}/network_dvc_20250324.csv\")\n",
    "df_check_20250325 = spark.read.options(header=True).csv(f\"{dir_data_sfmc}/network_dvc_20250325.csv\")"
   ]
  },
  {
   "cell_type": "code",
   "execution_count": 0,
   "metadata": {
    "application/vnd.databricks.v1+cell": {
     "cellMetadata": {
      "byteLimit": 2048000,
      "rowLimit": 10000
     },
     "inputWidgets": {},
     "nuid": "77433c29-b74f-414e-9199-760364863710",
     "showTitle": false,
     "tableResultSettingsMap": {},
     "title": ""
    }
   },
   "outputs": [],
   "source": [
    "display(df_check_20250321.count())\n",
    "display(df_check_20250322.count())\n",
    "display(df_check_20250323.count())\n",
    "display(df_check_20250324.count())\n",
    "display(df_check_20250325.count())"
   ]
  },
  {
   "cell_type": "code",
   "execution_count": 0,
   "metadata": {
    "application/vnd.databricks.v1+cell": {
     "cellMetadata": {
      "byteLimit": 2048000,
      "rowLimit": 10000
     },
     "inputWidgets": {},
     "nuid": "deb4f42b-9973-4901-beb7-6e5c92b69673",
     "showTitle": false,
     "tableResultSettingsMap": {},
     "title": ""
    }
   },
   "outputs": [],
   "source": [
    "display(\n",
    "    df_check_20250325\n",
    "    #.filter(f.col('contact_id') == '1-7LQA-3332')\n",
    "    .filter(\n",
    "        f.col('service_id').isin(\n",
    "           '6421900886',\n",
    "            '642102753294',\n",
    "            '642109098099',\n",
    "            '642102362868',\n",
    "            '6421376828',\n",
    "            '642102812632',\n",
    "            '64212045741',\n",
    "            '64212492175',\n",
    "            '64210472405',\n",
    "            '64275177722',\n",
    "\n",
    "        )\n",
    "    )\n",
    ")\n",
    "\n",
    "\n",
    "display(\n",
    "    df_raw_spacex_comm_srvc\n",
    "    .filter(\n",
    "         f.col('service_id').isin(\n",
    "          '6421900886',\n",
    "'642102753294',\n",
    "'642109098099',\n",
    "'642102362868',\n",
    "'6421376828',\n",
    "'642102812632',\n",
    "'64212045741',\n",
    "'64212492175',\n",
    "'64210472405',\n",
    "'64275177722',\n",
    "\n",
    "        )\n",
    "    )\n",
    ")\n",
    "\n",
    "display(\n",
    "    df_martech\n",
    "    .filter(\n",
    "         f.col('service_id').isin(\n",
    "           '6421900886',\n",
    "'642102753294',\n",
    "'642109098099',\n",
    "'642102362868',\n",
    "'6421376828',\n",
    "'642102812632',\n",
    "'64212045741',\n",
    "'64212492175',\n",
    "'64210472405',\n",
    "'64275177722',\n",
    "\n",
    "        )\n",
    "    )\n",
    ")\n",
    "\n",
    "\n"
   ]
  },
  {
   "cell_type": "code",
   "execution_count": 0,
   "metadata": {
    "application/vnd.databricks.v1+cell": {
     "cellMetadata": {
      "byteLimit": 2048000,
      "rowLimit": 10000
     },
     "inputWidgets": {},
     "nuid": "bd45d9ff-dbd0-456e-abd9-da3a4be37a06",
     "showTitle": false,
     "tableResultSettingsMap": {},
     "title": ""
    }
   },
   "outputs": [],
   "source": [
    "df_master = spark.read.format('delta').load('/mnt/feature-store-prod-lab/d600_serving/serv_mobile_oa_consumer/reporting_cycle_type=rolling cycle')"
   ]
  },
  {
   "cell_type": "code",
   "execution_count": 0,
   "metadata": {
    "application/vnd.databricks.v1+cell": {
     "cellMetadata": {
      "byteLimit": 2048000,
      "rowLimit": 10000
     },
     "inputWidgets": {},
     "nuid": "a780cd70-cee6-4f06-8c00-6c586109e7f7",
     "showTitle": false,
     "tableResultSettingsMap": {},
     "title": ""
    }
   },
   "outputs": [],
   "source": [
    "display(\n",
    "    df_master\n",
    "    .select('fs_acct_id', 'fs_cust_id', 'fs_srvc_id', 'network_dvc_model_marketing','network_dvc_brand', 'network_dvc_model_version', 'network_dvc_type'  )\n",
    "    .filter(f.col('reporting_date') == '2025-03-23')\n",
    "    .filter(f.col('fs_acct_id')\n",
    "            .isin('6421900886',\n",
    "                  '642102753294',\n",
    "                  '642109098099',\n",
    "                  '642102362868',\n",
    "                  '6421376828',\n",
    "                  '642102812632',\n",
    "                  '64212045741',\n",
    "                  '64212492175',\n",
    "                  '64210472405',\n",
    "                  '64275177722'\n",
    "\n",
    "    )\n",
    "    )\n",
    ")"
   ]
  }
 ],
 "metadata": {
  "application/vnd.databricks.v1+notebook": {
   "computePreferences": null,
   "dashboards": [],
   "environmentMetadata": {
    "base_environment": "",
    "environment_version": "2"
   },
   "inputWidgetPreferences": null,
   "language": "python",
   "notebookMetadata": {
    "pythonIndentUnit": 4
   },
   "notebookName": "check network device model marketing",
   "widgets": {}
  },
  "language_info": {
   "name": "python"
  }
 },
 "nbformat": 4,
 "nbformat_minor": 0
}
