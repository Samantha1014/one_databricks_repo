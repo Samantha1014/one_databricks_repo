{
 "cells": [
  {
   "cell_type": "markdown",
   "metadata": {
    "application/vnd.databricks.v1+cell": {
     "cellMetadata": {},
     "inputWidgets": {},
     "nuid": "914d95ff-a8ca-46d1-bca2-ec609790d96f",
     "showTitle": false,
     "tableResultSettingsMap": {},
     "title": ""
    }
   },
   "source": [
    "### envirment set up"
   ]
  },
  {
   "cell_type": "code",
   "execution_count": 0,
   "metadata": {
    "application/vnd.databricks.v1+cell": {
     "cellMetadata": {
      "byteLimit": 2048000,
      "rowLimit": 10000
     },
     "inputWidgets": {},
     "nuid": "bbeff1a2-dd4f-49bc-b8e8-e672fa3ca563",
     "showTitle": false,
     "tableResultSettingsMap": {},
     "title": ""
    }
   },
   "outputs": [],
   "source": [
    "import pyspark.sql.functions as f \n",
    "import pyspark\n",
    "import os"
   ]
  },
  {
   "cell_type": "markdown",
   "metadata": {
    "application/vnd.databricks.v1+cell": {
     "cellMetadata": {},
     "inputWidgets": {},
     "nuid": "8aafac46-757d-463b-9e2d-5e9982efb161",
     "showTitle": false,
     "tableResultSettingsMap": {},
     "title": ""
    }
   },
   "source": [
    "### utility functions"
   ]
  },
  {
   "cell_type": "code",
   "execution_count": 0,
   "metadata": {
    "application/vnd.databricks.v1+cell": {
     "cellMetadata": {
      "byteLimit": 2048000,
      "rowLimit": 10000
     },
     "inputWidgets": {},
     "nuid": "06725395-94a3-4ca7-9d98-477b38d9f500",
     "showTitle": false,
     "tableResultSettingsMap": {},
     "title": ""
    }
   },
   "outputs": [],
   "source": [
    "%run \"../../utility_functions/misc\""
   ]
  },
  {
   "cell_type": "code",
   "execution_count": 0,
   "metadata": {
    "application/vnd.databricks.v1+cell": {
     "cellMetadata": {
      "byteLimit": 2048000,
      "rowLimit": 10000
     },
     "inputWidgets": {},
     "nuid": "45cecac9-037c-4789-97cc-7387ec64d037",
     "showTitle": false,
     "tableResultSettingsMap": {},
     "title": ""
    }
   },
   "outputs": [],
   "source": [
    "%run \"../../utility_functions/qa_utils\""
   ]
  },
  {
   "cell_type": "code",
   "execution_count": 0,
   "metadata": {
    "application/vnd.databricks.v1+cell": {
     "cellMetadata": {
      "byteLimit": 2048000,
      "rowLimit": 10000
     },
     "inputWidgets": {},
     "nuid": "2d84405e-2336-4453-929c-5ae1f3604046",
     "showTitle": false,
     "tableResultSettingsMap": {},
     "title": ""
    }
   },
   "outputs": [],
   "source": [
    "%run \"../../utility_functions/spkdf_utils\""
   ]
  },
  {
   "cell_type": "markdown",
   "metadata": {
    "application/vnd.databricks.v1+cell": {
     "cellMetadata": {},
     "inputWidgets": {},
     "nuid": "0d75db59-daa0-45a6-9193-14b9cd0069d3",
     "showTitle": false,
     "tableResultSettingsMap": {},
     "title": ""
    }
   },
   "source": [
    "### directories"
   ]
  },
  {
   "cell_type": "code",
   "execution_count": 0,
   "metadata": {
    "application/vnd.databricks.v1+cell": {
     "cellMetadata": {
      "byteLimit": 2048000,
      "rowLimit": 10000
     },
     "inputWidgets": {},
     "nuid": "baa1138e-dabe-4ad7-ba79-da155162e181",
     "showTitle": true,
     "tableResultSettingsMap": {},
     "title": "parent directory"
    }
   },
   "outputs": [],
   "source": [
    "dir_danny_path = \"dbfs:/mnt/feature-store-dev/dev_users/dev_dw/24q4_fs_fundation/\"\n",
    "dir_data_parent_shared = os.path.join(dir_danny_path, \"d400_feature/d401_mobile_oa_consumer\")\n",
    "dir_data_parent_mvmt = os.path.join(dir_danny_path, \"d500_movement/d501_mobile_oa_consumer\")\n",
    "dir_data_parent_stag = os.path.join(dir_danny_path, \"d200_staging/d299_src\")"
   ]
  },
  {
   "cell_type": "code",
   "execution_count": 0,
   "metadata": {
    "application/vnd.databricks.v1+cell": {
     "cellMetadata": {
      "byteLimit": 2048000,
      "rowLimit": 10000
     },
     "inputWidgets": {},
     "nuid": "0995bb15-369f-4bd5-8437-58704030688e",
     "showTitle": true,
     "tableResultSettingsMap": {},
     "title": "dev directiry"
    }
   },
   "outputs": [],
   "source": [
    "df_fea_coll_action = spark.read.format('delta').load(os.path.join(dir_data_parent_shared ,'fea_coll_action_cycle_12mnth'))\n",
    "df_fea_product_acq = spark.read.format('delta').load(os.path.join(dir_data_parent_shared, 'fea_product_acquisition_cycle_billing_12'))\n",
    "df_fea_late_pay = spark.read.format('delta').load(os.path.join(dir_data_parent_shared,\"fea_late_pay_cycle_billing_6\"))\n",
    "df_mvmt_aod = spark.read.format('delta').load(os.path.join(dir_data_parent_mvmt, 'mvmt_aod30d'))\n",
    "\n",
    "# stage table \n",
    "\n",
    "df_stg_coll_action = spark.read.format('delta').load(os.path.join(dir_data_parent_stag, \"stg_brm_coll_action_hist\"))"
   ]
  },
  {
   "cell_type": "code",
   "execution_count": 0,
   "metadata": {
    "application/vnd.databricks.v1+cell": {
     "cellMetadata": {
      "byteLimit": 2048000,
      "rowLimit": 10000
     },
     "inputWidgets": {},
     "nuid": "937ec6aa-b93a-49a5-b2bb-c2c1981f17c0",
     "showTitle": true,
     "tableResultSettingsMap": {},
     "title": "QA directory"
    }
   },
   "outputs": [],
   "source": [
    "df_qa_consec_late = spark.read.format('delta').load('/mnt/ml-lab/dev_users/dev_sc/99_misc/cohort_seg/fea_payment_behavior_v2')\n",
    "df_qa_late_pay_6mp = spark.read.format('delta').load('/mnt/ml-lab/dev_users/dev_sc/99_misc/cohort_seg/fea_late_pay_6mp')\n"
   ]
  },
  {
   "cell_type": "markdown",
   "metadata": {
    "application/vnd.databricks.v1+cell": {
     "cellMetadata": {},
     "inputWidgets": {},
     "nuid": "9c257253-227c-4d1e-b4ed-fed68a19b896",
     "showTitle": false,
     "tableResultSettingsMap": {},
     "title": ""
    }
   },
   "source": [
    "### QA"
   ]
  },
  {
   "cell_type": "markdown",
   "metadata": {
    "application/vnd.databricks.v1+cell": {
     "cellMetadata": {},
     "inputWidgets": {},
     "nuid": "aa2266ec-463b-47da-87d1-a966974cda57",
     "showTitle": false,
     "tableResultSettingsMap": {},
     "title": ""
    }
   },
   "source": [
    "#### late pay"
   ]
  },
  {
   "cell_type": "code",
   "execution_count": 0,
   "metadata": {
    "application/vnd.databricks.v1+cell": {
     "cellMetadata": {
      "byteLimit": 2048000,
      "rowLimit": 10000
     },
     "inputWidgets": {},
     "nuid": "4fdf25d7-9505-4142-a10e-0eaf13fc8fb2",
     "showTitle": false,
     "tableResultSettingsMap": {},
     "title": ""
    }
   },
   "outputs": [],
   "source": [
    "display(df_fea_late_pay.limit(10))"
   ]
  },
  {
   "cell_type": "code",
   "execution_count": 0,
   "metadata": {
    "application/vnd.databricks.v1+cell": {
     "cellMetadata": {
      "byteLimit": 2048000,
      "rowLimit": 10000
     },
     "inputWidgets": {},
     "nuid": "b5f88d55-c630-4612-ad17-98746ee54d49",
     "showTitle": true,
     "tableResultSettingsMap": {},
     "title": "check cnt"
    }
   },
   "outputs": [],
   "source": [
    "display(\n",
    "    df_fea_late_pay\n",
    "    .groupBy('reporting_date')\n",
    "    .agg(f.countDistinct('fs_srvc_id')\n",
    "         , f.count('*')\n",
    "        # , f.count('action_name')\n",
    "    )\n",
    ")"
   ]
  },
  {
   "cell_type": "code",
   "execution_count": 0,
   "metadata": {
    "application/vnd.databricks.v1+cell": {
     "cellMetadata": {
      "byteLimit": 2048000,
      "rowLimit": 10000
     },
     "inputWidgets": {},
     "nuid": "ca2003b6-42e1-4e12-b7e3-09adb050ff8b",
     "showTitle": true,
     "tableResultSettingsMap": {},
     "title": "test fields"
    }
   },
   "outputs": [],
   "source": [
    "ls_test_field_numeric = ['late_group_cnt_tot_6bmnth_p1', 'consecutive_late_pay_cnt_tot_6bmnth_p1', 'late_pay_cnt_tot_6bmnth_p1'\n",
    "                         , 'overdue_days_avg_6bmnth_p1', 'late_group_cnt_tot_6bmnth', 'consecutive_late_pay_cnt_tot_6bmnth'\n",
    "                         , 'late_pay_cnt_tot_6bmnth', 'overdue_days_avg_6bmnth'\n",
    "]\n",
    "\n",
    "ls_qa_feild_numric = ['cnt_late_pay_6bcycle_6mp', 'avg_overdue_days_6bcycle_6mp'\n",
    "] "
   ]
  },
  {
   "cell_type": "code",
   "execution_count": 0,
   "metadata": {
    "application/vnd.databricks.v1+cell": {
     "cellMetadata": {
      "byteLimit": 2048000,
      "rowLimit": 10000
     },
     "inputWidgets": {},
     "nuid": "0616ac20-8a4b-4539-b5c5-f950eb8bd9ee",
     "showTitle": false,
     "tableResultSettingsMap": {},
     "title": ""
    }
   },
   "outputs": [],
   "source": [
    "display(df_qa_late_pay_6mp.limit(10))\n"
   ]
  },
  {
   "cell_type": "code",
   "execution_count": 0,
   "metadata": {
    "application/vnd.databricks.v1+cell": {
     "cellMetadata": {
      "byteLimit": 2048000,
      "rowLimit": 10000
     },
     "collapsed": true,
     "inputWidgets": {},
     "nuid": "47e8ab2f-a649-490d-8128-ba67104d1708",
     "showTitle": false,
     "tableResultSettingsMap": {},
     "title": ""
    }
   },
   "outputs": [],
   "source": [
    "for i in ls_test_field_numeric:     \n",
    "    df_result = (\n",
    "        df_fea_late_pay\n",
    "        .groupBy('reporting_date')\n",
    "        .agg(\n",
    "            f.sum(i).alias('sum'),\n",
    "            f.mean(i).alias('mean'),\n",
    "            f.percentile_approx(i, 0.25,100).alias('25pct'),\n",
    "            f.percentile_approx(i, 0.79,100).alias('75pct'),\n",
    "            f.percentile_approx(i, 0.95,100).alias('95pct'),\n",
    "            f.percentile_approx(i, 0.99,100).alias('99pct'),\n",
    "            f.median(i).alias('median'),\n",
    "            f.stddev(i).alias('stddev'),\n",
    "            f.min(i).alias('min'),\n",
    "            f.max(i).alias('max'), \n",
    "            f.countDistinct('fs_srvc_id'), \n",
    "            f.count('*') \n",
    "            #f.countDistinct('bill_no')\n",
    "            )\n",
    "    )\n",
    "    print(i)\n",
    "    display(df_result)"
   ]
  },
  {
   "cell_type": "code",
   "execution_count": 0,
   "metadata": {
    "application/vnd.databricks.v1+cell": {
     "cellMetadata": {
      "byteLimit": 2048000,
      "rowLimit": 10000
     },
     "inputWidgets": {},
     "nuid": "14826c37-fe19-4845-abff-f92bd0eaea85",
     "showTitle": false,
     "tableResultSettingsMap": {},
     "title": ""
    }
   },
   "outputs": [],
   "source": [
    "def create_bucket_analysis(df, field, num_buckets=10):\n",
    "    # Calculate min and max for the field to create range buckets\n",
    "    min_max = df.agg(f.min(field).alias('min'), f.max(field).alias('max')).collect()[0]\n",
    "    min_val, max_val = min_max['min'], min_max['max']\n",
    "    \n",
    "    # Create window spec to calculate bucket ranges\n",
    "    bucket_ranges = []\n",
    "    for i in range(num_buckets + 1):\n",
    "        bucket_val = min_val + (max_val - min_val) * (i / num_buckets)\n",
    "        bucket_ranges.append(bucket_val)\n",
    "    \n",
    "    # Create buckets column\n",
    "    bucket_expr = f.expr(f\"\"\"\n",
    "        CASE \n",
    "        {' '.join([f\"WHEN {field} >= {bucket_ranges[i]} AND {field} < {bucket_ranges[i+1]} THEN '{i*10}%-{(i+1)*10}%'\" for i in range(num_buckets)])}\n",
    "        ELSE '{num_buckets*10}%+'\n",
    "        END\n",
    "    \"\"\")\n",
    "    \n",
    "    # Perform analysis for each bucket\n",
    "    df_result = (\n",
    "        df\n",
    "        .withColumn('bucket', bucket_expr)\n",
    "        .groupBy('reporting_date', 'bucket')\n",
    "        .agg(\n",
    "            f.sum(field).alias('sum'),\n",
    "            f.mean(field).alias('mean'),\n",
    "            f.count('*').alias('total_count'),\n",
    "            f.countDistinct('fs_srvc_id').alias('distinct_fs_srvc_id')\n",
    "        )\n",
    "    )\n",
    "    \n",
    "    return df_result"
   ]
  },
  {
   "cell_type": "code",
   "execution_count": 0,
   "metadata": {
    "application/vnd.databricks.v1+cell": {
     "cellMetadata": {
      "byteLimit": 2048000,
      "rowLimit": 10000
     },
     "inputWidgets": {},
     "nuid": "19e10ac4-c413-48ba-a4d6-4ddeddfe3ab2",
     "showTitle": true,
     "tableResultSettingsMap": {
      "0": {
       "dataGridStateBlob": null,
       "filterBlob": "{\"filterGroups\":[],\"syncTimestamp\":1737600845448}",
       "queryPlanFiltersBlob": null,
       "tableResultIndex": 0
      }
     },
     "title": "test dev data"
    }
   },
   "outputs": [],
   "source": [
    "# Process each field for test data \n",
    "for field in ls_test_field_numeric:\n",
    "    print(f\"Analysis for field: {field}\")\n",
    "    df_result = create_bucket_analysis(df_fea_late_pay, field)\n",
    "    display(df_result)"
   ]
  },
  {
   "cell_type": "code",
   "execution_count": 0,
   "metadata": {
    "application/vnd.databricks.v1+cell": {
     "cellMetadata": {
      "byteLimit": 2048000,
      "rowLimit": 10000
     },
     "inputWidgets": {},
     "nuid": "980871b5-2bf6-431c-aefc-d9116d778c66",
     "showTitle": true,
     "tableResultSettingsMap": {},
     "title": "qa data part1"
    }
   },
   "outputs": [],
   "source": [
    "# Process each field in QA data \n",
    "for field in ls_qa_feild_numric:\n",
    "    print(f\"Analysis for field: {field}\")\n",
    "    df_result = create_bucket_analysis(df_qa_late_pay_6mp, field)\n",
    "    display(df_result)"
   ]
  },
  {
   "cell_type": "code",
   "execution_count": 0,
   "metadata": {
    "application/vnd.databricks.v1+cell": {
     "cellMetadata": {
      "byteLimit": 2048000,
      "rowLimit": 10000
     },
     "collapsed": true,
     "inputWidgets": {},
     "nuid": "dcbe0d17-eff4-4a5d-8063-b45a5e692ff2",
     "showTitle": true,
     "tableResultSettingsMap": {},
     "title": "qa data part2 view"
    }
   },
   "outputs": [],
   "source": [
    "display(df_qa_consec_late.limit(10))"
   ]
  },
  {
   "cell_type": "code",
   "execution_count": 0,
   "metadata": {
    "application/vnd.databricks.v1+cell": {
     "cellMetadata": {
      "byteLimit": 2048000,
      "rowLimit": 10000
     },
     "inputWidgets": {},
     "nuid": "379391ad-90c4-4af6-bd53-67c637620ccd",
     "showTitle": true,
     "tableResultSettingsMap": {},
     "title": "qa data part2 test field"
    }
   },
   "outputs": [],
   "source": [
    "ls_qa_feild_numric = [ 'late_group_cnt', 'num_consecutive_late_pay', 'cnt_late_pay_6bcycle', 'avg_overdue_days_6bcycle']"
   ]
  },
  {
   "cell_type": "code",
   "execution_count": 0,
   "metadata": {
    "application/vnd.databricks.v1+cell": {
     "cellMetadata": {
      "byteLimit": 2048000,
      "rowLimit": 10000
     },
     "inputWidgets": {},
     "nuid": "f1b12943-410e-44a8-aa69-2ebeea39ecf1",
     "showTitle": false,
     "tableResultSettingsMap": {},
     "title": ""
    }
   },
   "outputs": [],
   "source": [
    "# Process each field in QA data \n",
    "for field in ls_qa_feild_numric:\n",
    "    print(f\"Analysis for field: {field}\")\n",
    "    df_result = create_bucket_analysis(df_qa_consec_late, field)\n",
    "    display(df_result)"
   ]
  }
 ],
 "metadata": {
  "application/vnd.databricks.v1+notebook": {
   "computePreferences": null,
   "dashboards": [],
   "environmentMetadata": {
    "base_environment": "",
    "environment_version": "1"
   },
   "inputWidgetPreferences": null,
   "language": "python",
   "notebookMetadata": {
    "pythonIndentUnit": 4
   },
   "notebookName": "QA_fea_late_pay",
   "widgets": {}
  },
  "language_info": {
   "name": "python"
  }
 },
 "nbformat": 4,
 "nbformat_minor": 0
}
