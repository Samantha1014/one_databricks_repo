{
 "cells": [
  {
   "cell_type": "markdown",
   "metadata": {
    "application/vnd.databricks.v1+cell": {
     "cellMetadata": {},
     "inputWidgets": {},
     "nuid": "e28cdc11-270b-4a54-835a-26afbf4dcb82",
     "showTitle": false,
     "tableResultSettingsMap": {},
     "title": ""
    }
   },
   "source": [
    "### environment set up "
   ]
  },
  {
   "cell_type": "code",
   "execution_count": 0,
   "metadata": {
    "application/vnd.databricks.v1+cell": {
     "cellMetadata": {
      "byteLimit": 2048000,
      "rowLimit": 10000
     },
     "inputWidgets": {},
     "nuid": "de5d93b9-8262-4dc5-84b4-21ec41c19e41",
     "showTitle": false,
     "tableResultSettingsMap": {},
     "title": ""
    }
   },
   "outputs": [],
   "source": [
    "import pyspark.sql.functions as f \n",
    "import pyspark\n",
    "import os"
   ]
  },
  {
   "cell_type": "code",
   "execution_count": 0,
   "metadata": {
    "application/vnd.databricks.v1+cell": {
     "cellMetadata": {
      "byteLimit": 2048000,
      "rowLimit": 10000
     },
     "inputWidgets": {},
     "nuid": "46448983-0f47-46ec-bb82-c99ee2a1665f",
     "showTitle": false,
     "tableResultSettingsMap": {},
     "title": ""
    }
   },
   "outputs": [],
   "source": [
    "dbutils.fs.ls('/mnt/feature-store-dev/dev_shared/')"
   ]
  },
  {
   "cell_type": "markdown",
   "metadata": {
    "application/vnd.databricks.v1+cell": {
     "cellMetadata": {},
     "inputWidgets": {},
     "nuid": "f506976a-d5d8-4249-afba-1c71afad53af",
     "showTitle": false,
     "tableResultSettingsMap": {},
     "title": ""
    }
   },
   "source": [
    "### utility functions\n"
   ]
  },
  {
   "cell_type": "code",
   "execution_count": 0,
   "metadata": {
    "application/vnd.databricks.v1+cell": {
     "cellMetadata": {
      "byteLimit": 2048000,
      "rowLimit": 10000
     },
     "inputWidgets": {},
     "nuid": "28fb4bf0-76c2-4201-9702-7ac723e01aca",
     "showTitle": false,
     "tableResultSettingsMap": {},
     "title": ""
    }
   },
   "outputs": [],
   "source": [
    "%run \"../../utility_functions/misc\""
   ]
  },
  {
   "cell_type": "code",
   "execution_count": 0,
   "metadata": {
    "application/vnd.databricks.v1+cell": {
     "cellMetadata": {
      "byteLimit": 2048000,
      "rowLimit": 10000
     },
     "inputWidgets": {},
     "nuid": "fd0005da-c007-49f1-beaa-44b328d88c42",
     "showTitle": false,
     "tableResultSettingsMap": {},
     "title": ""
    }
   },
   "outputs": [],
   "source": [
    "%run \"../../utility_functions/qa_utils\""
   ]
  },
  {
   "cell_type": "code",
   "execution_count": 0,
   "metadata": {
    "application/vnd.databricks.v1+cell": {
     "cellMetadata": {
      "byteLimit": 2048000,
      "rowLimit": 10000
     },
     "inputWidgets": {},
     "nuid": "64a3d358-3edc-483c-921c-de6bcf153666",
     "showTitle": false,
     "tableResultSettingsMap": {},
     "title": ""
    }
   },
   "outputs": [],
   "source": [
    "%run \"../../utility_functions/spkdf_utils\""
   ]
  },
  {
   "cell_type": "code",
   "execution_count": 0,
   "metadata": {
    "application/vnd.databricks.v1+cell": {
     "cellMetadata": {
      "byteLimit": 2048000,
      "rowLimit": 10000
     },
     "collapsed": true,
     "inputWidgets": {},
     "nuid": "79d7875f-2038-4578-b7a9-f8b9dad68fcf",
     "showTitle": true,
     "tableResultSettingsMap": {},
     "title": "check columns functions"
    }
   },
   "outputs": [],
   "source": [
    "def create_bucket_analysis(df, field, num_buckets=10):\n",
    "    # Calculate min and max for the field to create range buckets\n",
    "    min_max = df.agg(f.min(field).alias('min'), f.max(field).alias('max')).collect()[0]\n",
    "    min_val, max_val = min_max['min'], min_max['max']\n",
    "    \n",
    "    # Create window spec to calculate bucket ranges\n",
    "    bucket_ranges = []\n",
    "    for i in range(num_buckets + 1):\n",
    "        bucket_val = min_val + (max_val - min_val) * (i / num_buckets)\n",
    "        bucket_ranges.append(bucket_val)\n",
    "    \n",
    "    # Create buckets column\n",
    "    bucket_expr = f.expr(f\"\"\"\n",
    "        CASE \n",
    "        {' '.join([f\"WHEN {field} >= {bucket_ranges[i]} AND {field} < {bucket_ranges[i+1]} THEN '{i*10}%-{(i+1)*10}%'\" for i in range(num_buckets)])}\n",
    "        ELSE '{num_buckets*10}%+'\n",
    "        END\n",
    "    \"\"\")\n",
    "    \n",
    "    # Perform analysis for each bucket\n",
    "    df_result = (\n",
    "        df\n",
    "        .withColumn('bucket', bucket_expr)\n",
    "        .groupBy('reporting_date', 'bucket')\n",
    "        .agg(\n",
    "            f.sum(field).alias('sum'),\n",
    "            f.mean(field).alias('mean'),\n",
    "            f.count('*').alias('total_count'),\n",
    "            f.countDistinct('fs_srvc_id').alias('distinct_fs_srvc_id')\n",
    "        )\n",
    "    )\n",
    "    \n",
    "    return df_result"
   ]
  },
  {
   "cell_type": "markdown",
   "metadata": {
    "application/vnd.databricks.v1+cell": {
     "cellMetadata": {},
     "inputWidgets": {},
     "nuid": "7474606a-8ba2-44c8-a278-8606db8ff070",
     "showTitle": false,
     "tableResultSettingsMap": {},
     "title": ""
    }
   },
   "source": [
    "### directories"
   ]
  },
  {
   "cell_type": "code",
   "execution_count": 0,
   "metadata": {
    "application/vnd.databricks.v1+cell": {
     "cellMetadata": {
      "byteLimit": 2048000,
      "rowLimit": 10000
     },
     "inputWidgets": {},
     "nuid": "3309451a-2200-4d85-b49d-96f5a6b222c9",
     "showTitle": false,
     "tableResultSettingsMap": {},
     "title": ""
    }
   },
   "outputs": [],
   "source": [
    "dir_danny_path = \"dbfs:/mnt/feature-store-dev/dev_users/dev_dw/24q4_fs_fundation/\"\n",
    "dir_data_parent_shared = os.path.join(dir_danny_path, \"d400_feature/d401_mobile_oa_consumer\")\n",
    "dir_data_parent_mvmt = os.path.join(dir_danny_path, \"d500_movement/d501_mobile_oa_consumer\")\n",
    "dir_data_parent_stag = os.path.join(dir_danny_path, \"d200_staging/d299_src\")"
   ]
  },
  {
   "cell_type": "code",
   "execution_count": 0,
   "metadata": {
    "application/vnd.databricks.v1+cell": {
     "cellMetadata": {
      "byteLimit": 2048000,
      "rowLimit": 10000
     },
     "inputWidgets": {},
     "nuid": "f51187e9-edb5-4f0a-aeff-8cea5a26dc67",
     "showTitle": false,
     "tableResultSettingsMap": {},
     "title": ""
    }
   },
   "outputs": [],
   "source": [
    "df_fea_coll_action = spark.read.format('delta').load(os.path.join(dir_data_parent_shared ,'fea_coll_action_cycle_12mnth'))\n",
    "df_fea_product_acq = spark.read.format('delta').load(os.path.join(dir_data_parent_shared, 'fea_product_acquisition_cycle_billing_12'))\n",
    "df_fea_late_pay = spark.read.format('delta').load(os.path.join(dir_data_parent_shared,\"fea_late_pay_cycle_billing_6\"))\n",
    "df_mvmt_aod = spark.read.format('delta').load(os.path.join(dir_data_parent_mvmt, 'mvmt_aod30d'))\n"
   ]
  },
  {
   "cell_type": "code",
   "execution_count": 0,
   "metadata": {
    "application/vnd.databricks.v1+cell": {
     "cellMetadata": {
      "byteLimit": 2048000,
      "rowLimit": 10000
     },
     "inputWidgets": {},
     "nuid": "137291a2-c4fd-4bb9-ac23-2a36817c1e3c",
     "showTitle": false,
     "tableResultSettingsMap": {},
     "title": ""
    }
   },
   "outputs": [],
   "source": [
    "df_qa_prod_acq = spark.read.format('delta').load('/mnt/ml-lab/dev_users/dev_sc/99_misc/cohort_seg/fea_product_acq_hist')"
   ]
  },
  {
   "cell_type": "code",
   "execution_count": 0,
   "metadata": {
    "application/vnd.databricks.v1+cell": {
     "cellMetadata": {
      "byteLimit": 2048000,
      "rowLimit": 10000
     },
     "inputWidgets": {},
     "nuid": "db5e3c0f-5eeb-48bf-89df-810443f6c0cf",
     "showTitle": true,
     "tableResultSettingsMap": {},
     "title": "check view"
    }
   },
   "outputs": [],
   "source": [
    "display(df_fea_product_acq.limit(100))\n"
   ]
  },
  {
   "cell_type": "markdown",
   "metadata": {
    "application/vnd.databricks.v1+cell": {
     "cellMetadata": {},
     "inputWidgets": {},
     "nuid": "cf03d513-7de6-41d8-84c8-ff5e03727f2c",
     "showTitle": false,
     "tableResultSettingsMap": {},
     "title": ""
    }
   },
   "source": [
    "#### converged flag"
   ]
  },
  {
   "cell_type": "code",
   "execution_count": 0,
   "metadata": {
    "application/vnd.databricks.v1+cell": {
     "cellMetadata": {
      "byteLimit": 2048000,
      "rowLimit": 10000
     },
     "inputWidgets": {},
     "nuid": "1b9fcb79-3a4b-4afc-9faa-bdab122adc47",
     "showTitle": false,
     "tableResultSettingsMap": {},
     "title": ""
    }
   },
   "outputs": [
    {
     "output_type": "display_data",
     "data": {
      "text/plain": [
       "Databricks visualization. Run in Databricks to view."
      ]
     },
     "metadata": {
      "application/vnd.databricks.v1.subcommand+json": {
       "baseErrorDetails": null,
       "bindings": {},
       "collapsed": false,
       "command": "%python\n__backend_agg_display_orig = display\n__backend_agg_dfs = []\ndef __backend_agg_display_new(df):\n    __backend_agg_df_modules = [\"pandas.core.frame\", \"databricks.koalas.frame\", \"pyspark.sql.dataframe\", \"pyspark.pandas.frame\", \"pyspark.sql.connect.dataframe\"]\n    if (type(df).__module__ in __backend_agg_df_modules and type(df).__name__ == 'DataFrame') or isinstance(df, list):\n        __backend_agg_dfs.append(df)\n\ndisplay = __backend_agg_display_new\n\ndef __backend_agg_user_code_fn():\n    import base64\n    exec(base64.standard_b64decode(\"ZGlzcGxheSgKICAgICAgICBkZl9mZWFfcHJvZHVjdF9hY3EKICAgICAgICAuZ3JvdXBCeSgncmVwb3J0aW5nX2RhdGUnLCdjb252ZXJnZWRfZmxhZycpCiAgICAgICAgLmFnZygKICAgICAgICAgICAgZi5jb3VudERpc3RpbmN0KCdmc19zcnZjX2lkJykKICAgICAgICAgICAgICwgZi5jb3VudCgnKicpCiAgICAgICAgKQop\").decode())\n\ntry:\n    # run user code\n    __backend_agg_user_code_fn()\n\n    #reset display function\n    display = __backend_agg_display_orig\n\n    if len(__backend_agg_dfs) > 0:\n        # create a temp view\n        if type(__backend_agg_dfs[0]).__module__ == \"databricks.koalas.frame\":\n            # koalas dataframe\n            __backend_agg_dfs[0].to_spark().createOrReplaceTempView(\"DatabricksView6342180\")\n        elif type(__backend_agg_dfs[0]).__module__ == \"pandas.core.frame\" or isinstance(__backend_agg_dfs[0], list):\n            # pandas dataframe\n            spark.createDataFrame(__backend_agg_dfs[0]).createOrReplaceTempView(\"DatabricksView6342180\")\n        else:\n            __backend_agg_dfs[0].createOrReplaceTempView(\"DatabricksView6342180\")\n        #run backend agg\n        display(spark.sql(\"\"\"WITH q AS (select * from DatabricksView6342180) SELECT `reporting_date`,`converged_flag`,SUM(`count(1)`) `count(1)_alias` FROM q GROUP BY `converged_flag`,`reporting_date` ORDER BY `reporting_date` ASC,`converged_flag` ASC\"\"\"))\n    else:\n        displayHTML(\"dataframe no longer exists. If you're using dataframe.display(), use display(dataframe) instead.\")\n\n\nfinally:\n    spark.sql(\"drop view if exists DatabricksView6342180\")\n    display = __backend_agg_display_orig\n    del __backend_agg_display_new\n    del __backend_agg_display_orig\n    del __backend_agg_dfs\n    del __backend_agg_user_code_fn\n\n",
       "commandTitle": "Visualization 1",
       "commandType": "auto",
       "commandVersion": 0,
       "commentThread": [],
       "commentsVisible": false,
       "contentSha256Hex": null,
       "customPlotOptions": {
        "redashChart": [
         {
          "key": "type",
          "value": "PIVOT_TABLE"
         },
         {
          "key": "options",
          "value": {
           "cell": {
            "field": "count(1)",
            "transform": {
             "fn": "sum"
            }
           },
           "columns": [
            {
             "field": "converged_flag",
             "sort": "ascending"
            }
           ],
           "rows": [
            {
             "field": "reporting_date",
             "sort": "ascending"
            }
           ]
          }
         }
        ]
       },
       "datasetPreviewNameToCmdIdMap": {},
       "diffDeletes": [],
       "diffInserts": [],
       "displayType": "redashChart",
       "error": null,
       "errorDetails": null,
       "errorSummary": null,
       "errorTraceType": null,
       "finishTime": 0,
       "globalVars": {},
       "guid": "",
       "height": "auto",
       "hideCommandCode": false,
       "hideCommandResult": false,
       "iPythonMetadata": null,
       "inputWidgets": {},
       "isLockedInExamMode": false,
       "latestUser": "a user",
       "latestUserId": null,
       "listResultMetadata": null,
       "metadata": {},
       "nuid": "425b3625-5f9c-4b03-af25-f25b1c73c553",
       "origId": 0,
       "parentHierarchy": [],
       "pivotAggregation": null,
       "pivotColumns": null,
       "position": 12.0,
       "resultDbfsErrorMessage": null,
       "resultDbfsStatus": "INLINED_IN_TREE",
       "results": null,
       "showCommandTitle": false,
       "startTime": 0,
       "state": "input",
       "streamStates": {},
       "subcommandOptions": {
        "queryPlan": {
         "groups": [
          {
           "column": "reporting_date",
           "type": "column"
          },
          {
           "column": "converged_flag",
           "type": "column"
          }
         ],
         "order_by": [
          {
           "direction": "asc",
           "expression": {
            "identifier": "reporting_date",
            "kind": "identifier"
           }
          },
          {
           "direction": "asc",
           "expression": {
            "identifier": "converged_flag",
            "kind": "identifier"
           }
          }
         ],
         "selects": [
          {
           "column": "reporting_date",
           "type": "column"
          },
          {
           "column": "converged_flag",
           "type": "column"
          },
          {
           "alias": "count(1)_alias",
           "args": [
            {
             "column": "count(1)",
             "type": "column"
            }
           ],
           "function": "SUM",
           "type": "function"
          }
         ]
        }
       },
       "submitTime": 0,
       "subtype": "tableResultSubCmd.visualization",
       "tableResultIndex": 0,
       "tableResultSettingsMap": {},
       "useConsistentColors": false,
       "version": "CommandV1",
       "width": "auto",
       "workflows": null,
       "xColumns": null,
       "yColumns": null
      }
     },
     "output_type": "display_data"
    }
   ],
   "source": [
    "display(\n",
    "        df_fea_product_acq\n",
    "        .groupBy('reporting_date','converged_flag')\n",
    "        .agg(\n",
    "            f.countDistinct('fs_srvc_id')\n",
    "             , f.count('*')\n",
    "        )\n",
    ")"
   ]
  },
  {
   "cell_type": "code",
   "execution_count": 0,
   "metadata": {
    "application/vnd.databricks.v1+cell": {
     "cellMetadata": {
      "byteLimit": 2048000,
      "rowLimit": 10000
     },
     "inputWidgets": {},
     "nuid": "643bfb0b-69af-4d59-b3b7-df53e75b6f70",
     "showTitle": false,
     "tableResultSettingsMap": {},
     "title": ""
    }
   },
   "outputs": [
    {
     "output_type": "display_data",
     "data": {
      "text/plain": [
       "Databricks visualization. Run in Databricks to view."
      ]
     },
     "metadata": {
      "application/vnd.databricks.v1.subcommand+json": {
       "baseErrorDetails": null,
       "bindings": {},
       "collapsed": false,
       "command": "%python\n__backend_agg_display_orig = display\n__backend_agg_dfs = []\ndef __backend_agg_display_new(df):\n    __backend_agg_df_modules = [\"pandas.core.frame\", \"databricks.koalas.frame\", \"pyspark.sql.dataframe\", \"pyspark.pandas.frame\", \"pyspark.sql.connect.dataframe\"]\n    if (type(df).__module__ in __backend_agg_df_modules and type(df).__name__ == 'DataFrame') or isinstance(df, list):\n        __backend_agg_dfs.append(df)\n\ndisplay = __backend_agg_display_new\n\ndef __backend_agg_user_code_fn():\n    import base64\n    exec(base64.standard_b64decode(\"ZGlzcGxheSgKICAgIGRmX3FhX3Byb2RfYWNxCiAgICAuZ3JvdXBCeSgncmVwb3J0aW5nX2RhdGUnLCdwcm9kdWN0X2hvbGRpbmcnKQogICAgLmFnZygKICAgICAgICAgICAgZi5jb3VudERpc3RpbmN0KCdmc19zcnZjX2lkJykKICAgICAgICAgICAgICwgZi5jb3VudCgnKicpCiAgICAgICAgKSAgICAKKQ==\").decode())\n\ntry:\n    # run user code\n    __backend_agg_user_code_fn()\n\n    #reset display function\n    display = __backend_agg_display_orig\n\n    if len(__backend_agg_dfs) > 0:\n        # create a temp view\n        if type(__backend_agg_dfs[0]).__module__ == \"databricks.koalas.frame\":\n            # koalas dataframe\n            __backend_agg_dfs[0].to_spark().createOrReplaceTempView(\"DatabricksViewd740e9a\")\n        elif type(__backend_agg_dfs[0]).__module__ == \"pandas.core.frame\" or isinstance(__backend_agg_dfs[0], list):\n            # pandas dataframe\n            spark.createDataFrame(__backend_agg_dfs[0]).createOrReplaceTempView(\"DatabricksViewd740e9a\")\n        else:\n            __backend_agg_dfs[0].createOrReplaceTempView(\"DatabricksViewd740e9a\")\n        #run backend agg\n        display(spark.sql(\"\"\"WITH q AS (select * from DatabricksViewd740e9a) SELECT `reporting_date`,`product_holding`,SUM(`count(1)`) `count(1)_alias` FROM q GROUP BY `product_holding`,`reporting_date` ORDER BY `reporting_date` ASC,`product_holding` ASC\"\"\"))\n    else:\n        displayHTML(\"dataframe no longer exists. If you're using dataframe.display(), use display(dataframe) instead.\")\n\n\nfinally:\n    spark.sql(\"drop view if exists DatabricksViewd740e9a\")\n    display = __backend_agg_display_orig\n    del __backend_agg_display_new\n    del __backend_agg_display_orig\n    del __backend_agg_dfs\n    del __backend_agg_user_code_fn\n\n",
       "commandTitle": "Visualization 1",
       "commandType": "auto",
       "commandVersion": 0,
       "commentThread": [],
       "commentsVisible": false,
       "contentSha256Hex": null,
       "customPlotOptions": {
        "redashChart": [
         {
          "key": "type",
          "value": "PIVOT_TABLE"
         },
         {
          "key": "options",
          "value": {
           "cell": {
            "field": "count(1)",
            "transform": {
             "fn": "sum"
            }
           },
           "columns": [
            {
             "field": "product_holding",
             "sort": "ascending"
            }
           ],
           "rows": [
            {
             "field": "reporting_date",
             "sort": "ascending"
            }
           ]
          }
         }
        ]
       },
       "datasetPreviewNameToCmdIdMap": {},
       "diffDeletes": [],
       "diffInserts": [],
       "displayType": "redashChart",
       "error": null,
       "errorDetails": null,
       "errorSummary": null,
       "errorTraceType": null,
       "finishTime": 0,
       "globalVars": {},
       "guid": "",
       "height": "auto",
       "hideCommandCode": false,
       "hideCommandResult": false,
       "iPythonMetadata": null,
       "inputWidgets": {},
       "isLockedInExamMode": false,
       "latestUser": "a user",
       "latestUserId": null,
       "listResultMetadata": null,
       "metadata": {},
       "nuid": "ef620d14-105e-41b4-8e01-115930a51f66",
       "origId": 0,
       "parentHierarchy": [],
       "pivotAggregation": null,
       "pivotColumns": null,
       "position": 12.25,
       "resultDbfsErrorMessage": null,
       "resultDbfsStatus": "INLINED_IN_TREE",
       "results": null,
       "showCommandTitle": false,
       "startTime": 0,
       "state": "input",
       "streamStates": {},
       "subcommandOptions": {
        "queryPlan": {
         "groups": [
          {
           "column": "reporting_date",
           "type": "column"
          },
          {
           "column": "product_holding",
           "type": "column"
          }
         ],
         "order_by": [
          {
           "direction": "asc",
           "expression": {
            "identifier": "reporting_date",
            "kind": "identifier"
           }
          },
          {
           "direction": "asc",
           "expression": {
            "identifier": "product_holding",
            "kind": "identifier"
           }
          }
         ],
         "selects": [
          {
           "column": "reporting_date",
           "type": "column"
          },
          {
           "column": "product_holding",
           "type": "column"
          },
          {
           "alias": "count(1)_alias",
           "args": [
            {
             "column": "count(1)",
             "type": "column"
            }
           ],
           "function": "SUM",
           "type": "function"
          }
         ]
        }
       },
       "submitTime": 0,
       "subtype": "tableResultSubCmd.visualization",
       "tableResultIndex": 0,
       "tableResultSettingsMap": {},
       "useConsistentColors": false,
       "version": "CommandV1",
       "width": "auto",
       "workflows": null,
       "xColumns": null,
       "yColumns": null
      }
     },
     "output_type": "display_data"
    }
   ],
   "source": [
    "display(\n",
    "    df_qa_prod_acq\n",
    "    .groupBy('reporting_date','product_holding')\n",
    "    .agg(\n",
    "            f.countDistinct('fs_srvc_id')\n",
    "             , f.count('*')\n",
    "        )    \n",
    ")"
   ]
  },
  {
   "cell_type": "code",
   "execution_count": 0,
   "metadata": {
    "application/vnd.databricks.v1+cell": {
     "cellMetadata": {
      "byteLimit": 2048000,
      "rowLimit": 10000
     },
     "inputWidgets": {},
     "nuid": "46b1fc08-75da-4967-89bb-b66349620817",
     "showTitle": false,
     "tableResultSettingsMap": {},
     "title": ""
    }
   },
   "outputs": [],
   "source": [
    "display(df_qa_prod_acq\n",
    "        .filter(f.col('reporting_date') == '2025-01-12')\n",
    "        .filter(f.col('product_holding') == 'OA+BB')\n",
    "        .join(\n",
    "          df_fea_product_acq\n",
    "          .filter(f.col('reporting_date') == '2025-01-12')\n",
    "          .filter(f.col('converged_flag') == 'Y')  \n",
    "          , ['fs_cust_id', 'fs_srvc_id', 'fs_acct_id', 'reporting_date']\n",
    "          , 'anti'\n",
    "        )\n",
    ")"
   ]
  },
  {
   "cell_type": "code",
   "execution_count": 0,
   "metadata": {
    "application/vnd.databricks.v1+cell": {
     "cellMetadata": {
      "byteLimit": 2048000,
      "rowLimit": 10000
     },
     "inputWidgets": {},
     "nuid": "c6a219b9-524a-4f1c-a09f-ba97228a9a9e",
     "showTitle": false,
     "tableResultSettingsMap": {},
     "title": ""
    }
   },
   "outputs": [],
   "source": [
    "display(\n",
    "    df_qa_prod_acq\n",
    "    .filter(f.col('fs_acct_id') == '425310233')\n",
    ")"
   ]
  },
  {
   "cell_type": "code",
   "execution_count": 0,
   "metadata": {
    "application/vnd.databricks.v1+cell": {
     "cellMetadata": {
      "byteLimit": 2048000,
      "rowLimit": 10000
     },
     "inputWidgets": {},
     "nuid": "1f84c719-9a71-483d-80d6-61331e7e0d38",
     "showTitle": false,
     "tableResultSettingsMap": {},
     "title": ""
    }
   },
   "outputs": [],
   "source": [
    "display(\n",
    "        df_fea_product_acq\n",
    "        .filter(f.col('fs_acct_id') == '424364543')\n",
    ")"
   ]
  },
  {
   "cell_type": "code",
   "execution_count": 0,
   "metadata": {
    "application/vnd.databricks.v1+cell": {
     "cellMetadata": {},
     "inputWidgets": {},
     "nuid": "2ac5c597-9584-4a57-8007-9776626fa586",
     "showTitle": false,
     "tableResultSettingsMap": {},
     "title": ""
    }
   },
   "outputs": [],
   "source": [
    "display(df_fea_product_acq\n",
    "        .filter(f.col('fs_acct_id') == '426483655')\n",
    "        )"
   ]
  },
  {
   "cell_type": "code",
   "execution_count": 0,
   "metadata": {
    "application/vnd.databricks.v1+cell": {
     "cellMetadata": {
      "byteLimit": 2048000,
      "rowLimit": 10000
     },
     "inputWidgets": {},
     "nuid": "dbcea3b9-c76b-4f2d-a8b0-0f4f48240855",
     "showTitle": false,
     "tableResultSettingsMap": {},
     "title": ""
    }
   },
   "outputs": [],
   "source": [
    "display(\n",
    "    df_qa_prod_acq\n",
    "    .filter(f.col('fs_acct_id') == '424364543')\n",
    ")"
   ]
  },
  {
   "cell_type": "markdown",
   "metadata": {
    "application/vnd.databricks.v1+cell": {
     "cellMetadata": {},
     "inputWidgets": {},
     "nuid": "e437dbd0-03c3-48ae-8c7c-ed79a34649da",
     "showTitle": false,
     "tableResultSettingsMap": {},
     "title": ""
    }
   },
   "source": [
    "#### bb_add_in_12mp"
   ]
  },
  {
   "cell_type": "code",
   "execution_count": 0,
   "metadata": {
    "application/vnd.databricks.v1+cell": {
     "cellMetadata": {
      "byteLimit": 2048000,
      "rowLimit": 10000
     },
     "inputWidgets": {},
     "nuid": "86ea382b-643b-49ff-aa0f-314955142a90",
     "showTitle": false,
     "tableResultSettingsMap": {},
     "title": ""
    }
   },
   "outputs": [],
   "source": [
    "display(df_qa_prod_acq\n",
    "        .groupBy('reporting_date','bb_add_in_12mp')\n",
    "        .agg(\n",
    "            f.countDistinct('fs_srvc_id')\n",
    "             , f.count('*')\n",
    "        )\n",
    ")\n",
    "\n",
    "\n",
    "print('dev ')\n",
    "display(\n",
    "    df_fea_product_acq\n",
    "        .groupBy('reporting_date','bb_add_in_cnt_52week')\n",
    "        .agg(\n",
    "            f.countDistinct('fs_srvc_id')\n",
    "             , f.count('*')\n",
    "        )\n",
    ")"
   ]
  },
  {
   "cell_type": "code",
   "execution_count": 0,
   "metadata": {
    "application/vnd.databricks.v1+cell": {
     "cellMetadata": {
      "byteLimit": 2048000,
      "rowLimit": 10000
     },
     "inputWidgets": {},
     "nuid": "2e3e88a1-02da-461c-a0f3-8941b92ef8f4",
     "showTitle": false,
     "tableResultSettingsMap": {},
     "title": ""
    }
   },
   "outputs": [],
   "source": [
    "display(\n",
    "    df_qa_prod_acq\n",
    "    .groupBy(f.date_format('bb_SERVICE_START_DATE_TIME', 'yyyyMM'))\n",
    "    .agg(f.countDistinct('fs_srvc_id'))       \n",
    ")\n",
    "\n",
    "\n",
    "display(\n",
    "    df_fea_product_acq\n",
    "    .groupBy(f.date_format('bb_service_start_dttm', 'yyyyMM'))\n",
    "    .agg(f.countDistinct('fs_srvc_id'))       \n",
    ")\n",
    "\n"
   ]
  },
  {
   "cell_type": "code",
   "execution_count": 0,
   "metadata": {
    "application/vnd.databricks.v1+cell": {
     "cellMetadata": {
      "byteLimit": 2048000,
      "rowLimit": 10000
     },
     "inputWidgets": {},
     "nuid": "57c3c718-539a-4498-a9c4-b412f29f7781",
     "showTitle": false,
     "tableResultSettingsMap": {},
     "title": ""
    }
   },
   "outputs": [],
   "source": [
    "display(\n",
    "    df_qa_prod_acq\n",
    "    .withColumn(\n",
    "        'service_start_month'\n",
    "        , f.date_format('bb_SERVICE_START_DATE_TIME', 'yyyyMM')\n",
    "    )\n",
    "    .filter(f.col('service_start_month') == '202410')\n",
    "    .join(\n",
    "        df_fea_product_acq\n",
    "        .withColumn('service_start_month', f.date_format('bb_service_start_dttm', 'yyyyMM'))\n",
    "        # .filter(f.col('bb_service_start_dttm'))\n",
    "        , ['fs_acct_id', 'fs_cust_id', 'fs_srvc_id', 'service_start_month'], 'anti'\n",
    "    )\n",
    ")"
   ]
  },
  {
   "cell_type": "code",
   "execution_count": 0,
   "metadata": {
    "application/vnd.databricks.v1+cell": {
     "cellMetadata": {
      "byteLimit": 2048000,
      "rowLimit": 10000
     },
     "inputWidgets": {},
     "nuid": "f7ff4f80-2cdc-4a93-888d-7a989bc177d5",
     "showTitle": false,
     "tableResultSettingsMap": {},
     "title": ""
    }
   },
   "outputs": [],
   "source": [
    "display(df_fea_product_acq\n",
    "        .filter(f.col('fs_acct_id') == '393115964')\n",
    ")"
   ]
  },
  {
   "cell_type": "code",
   "execution_count": 0,
   "metadata": {
    "application/vnd.databricks.v1+cell": {
     "cellMetadata": {
      "byteLimit": 2048000,
      "rowLimit": 10000
     },
     "inputWidgets": {},
     "nuid": "26db1eb2-5f98-435b-ad3e-3b96cf98c576",
     "showTitle": false,
     "tableResultSettingsMap": {},
     "title": ""
    }
   },
   "outputs": [],
   "source": [
    "display(\n",
    "    df_qa_prod_acq\n",
    "    .filter(f.col('fs_acct_id') == '486275396')\n",
    "    .select('reporting_date', 'reporting_cycle_type', 'fs_cust_id', 'fs_srvc_id', 'fs_acct_id'\n",
    "            , 'bb_SERVICE_START_DATE_TIME'\n",
    "            )\n",
    "    .orderBy(f.desc('reporting_date'))\n",
    "    #.filter(f.col('fs_cust_id') == '1-XSZ3HQJ')\n",
    ")"
   ]
  },
  {
   "cell_type": "code",
   "execution_count": 0,
   "metadata": {
    "application/vnd.databricks.v1+cell": {
     "cellMetadata": {
      "byteLimit": 2048000,
      "rowLimit": 10000
     },
     "inputWidgets": {},
     "nuid": "dcfedc75-1096-41e3-8664-3bbccaf0c694",
     "showTitle": false,
     "tableResultSettingsMap": {},
     "title": ""
    }
   },
   "outputs": [],
   "source": [
    "display(\n",
    "    df_fea_product_acq\n",
    "    .filter(f.col('fs_acct_id') == '486275396')\n",
    "    .select('reporting_date', 'reporting_cycle_type', 'fs_cust_id', 'fs_srvc_id', 'fs_acct_id'\n",
    "            , 'bb_service_start_dttm'\n",
    "            )\n",
    "    .orderBy(f.desc('reporting_date'))\n",
    "    #.filter(f.col('fs_cust_id') == '1-XSZ3HQJ')\n",
    ")"
   ]
  },
  {
   "cell_type": "markdown",
   "metadata": {
    "application/vnd.databricks.v1+cell": {
     "cellMetadata": {},
     "inputWidgets": {},
     "nuid": "3d893553-eb2f-41b4-a4f3-2567ad27ce2b",
     "showTitle": false,
     "tableResultSettingsMap": {},
     "title": ""
    }
   },
   "source": [
    "#### cnt_product_add_in_12mp"
   ]
  },
  {
   "cell_type": "code",
   "execution_count": 0,
   "metadata": {
    "application/vnd.databricks.v1+cell": {
     "cellMetadata": {
      "byteLimit": 2048000,
      "rowLimit": 10000
     },
     "inputWidgets": {},
     "nuid": "86422faa-0daf-4329-8d93-9a0262c43427",
     "showTitle": false,
     "tableResultSettingsMap": {
      "0": {
       "dataGridStateBlob": null,
       "filterBlob": "{\"filterGroups\":[],\"syncTimestamp\":1738555284400}",
       "queryPlanFiltersBlob": null,
       "tableResultIndex": 0
      }
     },
     "title": ""
    }
   },
   "outputs": [
    {
     "output_type": "display_data",
     "data": {
      "text/plain": [
       "Databricks visualization. Run in Databricks to view."
      ]
     },
     "metadata": {
      "application/vnd.databricks.v1.subcommand+json": {
       "baseErrorDetails": null,
       "bindings": {},
       "collapsed": false,
       "command": "%python\n__backend_agg_display_orig = display\n__backend_agg_dfs = []\ndef __backend_agg_display_new(df):\n    __backend_agg_df_modules = [\"pandas.core.frame\", \"databricks.koalas.frame\", \"pyspark.sql.dataframe\", \"pyspark.pandas.frame\", \"pyspark.sql.connect.dataframe\"]\n    if (type(df).__module__ in __backend_agg_df_modules and type(df).__name__ == 'DataFrame') or isinstance(df, list):\n        __backend_agg_dfs.append(df)\n\ndisplay = __backend_agg_display_new\n\ndef __backend_agg_user_code_fn():\n    import base64\n    exec(base64.standard_b64decode(\"ZGlzcGxheShkZl9xYV9wcm9kX2FjcQogICAgICAgIC5ncm91cEJ5KCdyZXBvcnRpbmdfZGF0ZScsJ2NudF9wcm9kdWN0X2FkZF9pbl8xMm1wJykKICAgICAgICAuYWdnKAogICAgICAgICAgICBmLmNvdW50RGlzdGluY3QoJ2ZzX3NydmNfaWQnKQogICAgICAgICAgICAgLCBmLmNvdW50KCcqJykKICAgICAgICApCikKCnByaW50KCdkZXYnKQpkaXNwbGF5KAogICAgZGZfZmVhX3Byb2R1Y3RfYWNxCiAgICAgICAgLmdyb3VwQnkoJ3JlcG9ydGluZ19kYXRlJywncHJvZHVjdF9hZGRfaW5fY250XzUyd2VlaycpCiAgICAgICAgLmFnZygKICAgICAgICAgICAgZi5jb3VudERpc3RpbmN0KCdmc19zcnZjX2lkJykKICAgICAgICAgICAgICwgZi5jb3VudCgnKicpCiAgICAgICAgKQop\").decode())\n\ntry:\n    # run user code\n    __backend_agg_user_code_fn()\n\n    #reset display function\n    display = __backend_agg_display_orig\n\n    if len(__backend_agg_dfs) > 1:\n        # create a temp view\n        if type(__backend_agg_dfs[1]).__module__ == \"databricks.koalas.frame\":\n            # koalas dataframe\n            __backend_agg_dfs[1].to_spark().createOrReplaceTempView(\"DatabricksViewacd648e\")\n        elif type(__backend_agg_dfs[1]).__module__ == \"pandas.core.frame\" or isinstance(__backend_agg_dfs[1], list):\n            # pandas dataframe\n            spark.createDataFrame(__backend_agg_dfs[1]).createOrReplaceTempView(\"DatabricksViewacd648e\")\n        else:\n            __backend_agg_dfs[1].createOrReplaceTempView(\"DatabricksViewacd648e\")\n        #run backend agg\n        display(spark.sql(\"\"\"WITH q AS (select * from DatabricksViewacd648e) SELECT `reporting_date`,`product_add_in_cnt_52week`,SUM(`count(DISTINCT fs_srvc_id)`) `count(DISTINCT fs_srvc_id)_alias` FROM q GROUP BY `product_add_in_cnt_52week`,`reporting_date` ORDER BY `reporting_date` ASC,`product_add_in_cnt_52week` ASC\"\"\"))\n    else:\n        displayHTML(\"dataframe no longer exists. If you're using dataframe.display(), use display(dataframe) instead.\")\n\n\nfinally:\n    spark.sql(\"drop view if exists DatabricksViewacd648e\")\n    display = __backend_agg_display_orig\n    del __backend_agg_display_new\n    del __backend_agg_display_orig\n    del __backend_agg_dfs\n    del __backend_agg_user_code_fn\n\n",
       "commandTitle": "Visualization 1",
       "commandType": "auto",
       "commandVersion": 0,
       "commentThread": [],
       "commentsVisible": false,
       "contentSha256Hex": null,
       "customPlotOptions": {
        "redashChart": [
         {
          "key": "type",
          "value": "PIVOT_TABLE"
         },
         {
          "key": "options",
          "value": {
           "cell": {
            "field": "count(DISTINCT fs_srvc_id)",
            "transform": {
             "fn": "sum"
            }
           },
           "columns": [
            {
             "field": "product_add_in_cnt_52week",
             "sort": "ascending"
            }
           ],
           "rows": [
            {
             "field": "reporting_date",
             "sort": "ascending"
            }
           ]
          }
         }
        ]
       },
       "datasetPreviewNameToCmdIdMap": {},
       "diffDeletes": [],
       "diffInserts": [],
       "displayType": "redashChart",
       "error": null,
       "errorDetails": null,
       "errorSummary": null,
       "errorTraceType": null,
       "finishTime": 0,
       "globalVars": {},
       "guid": "",
       "height": "auto",
       "hideCommandCode": false,
       "hideCommandResult": false,
       "iPythonMetadata": null,
       "inputWidgets": {},
       "isLockedInExamMode": false,
       "latestUser": "a user",
       "latestUserId": null,
       "listResultMetadata": null,
       "metadata": {},
       "nuid": "518c7213-fedd-4880-949a-ebbfdac07726",
       "origId": 0,
       "parentHierarchy": [],
       "pivotAggregation": null,
       "pivotColumns": null,
       "position": 14.0,
       "resultDbfsErrorMessage": null,
       "resultDbfsStatus": "INLINED_IN_TREE",
       "results": null,
       "showCommandTitle": false,
       "startTime": 0,
       "state": "input",
       "streamStates": {},
       "subcommandOptions": {
        "queryPlan": {
         "groups": [
          {
           "column": "reporting_date",
           "type": "column"
          },
          {
           "column": "product_add_in_cnt_52week",
           "type": "column"
          }
         ],
         "order_by": [
          {
           "direction": "asc",
           "expression": {
            "identifier": "reporting_date",
            "kind": "identifier"
           }
          },
          {
           "direction": "asc",
           "expression": {
            "identifier": "product_add_in_cnt_52week",
            "kind": "identifier"
           }
          }
         ],
         "selects": [
          {
           "column": "reporting_date",
           "type": "column"
          },
          {
           "column": "product_add_in_cnt_52week",
           "type": "column"
          },
          {
           "alias": "count(DISTINCT fs_srvc_id)_alias",
           "args": [
            {
             "column": "count(DISTINCT fs_srvc_id)",
             "type": "column"
            }
           ],
           "function": "SUM",
           "type": "function"
          }
         ]
        }
       },
       "submitTime": 0,
       "subtype": "tableResultSubCmd.visualization",
       "tableResultIndex": 1,
       "tableResultSettingsMap": {},
       "useConsistentColors": false,
       "version": "CommandV1",
       "width": "auto",
       "workflows": null,
       "xColumns": null,
       "yColumns": null
      }
     },
     "output_type": "display_data"
    },
    {
     "output_type": "display_data",
     "data": {
      "text/plain": [
       "Databricks visualization. Run in Databricks to view."
      ]
     },
     "metadata": {
      "application/vnd.databricks.v1.subcommand+json": {
       "baseErrorDetails": null,
       "bindings": {},
       "collapsed": false,
       "command": "%python\n__backend_agg_display_orig = display\n__backend_agg_dfs = []\ndef __backend_agg_display_new(df):\n    __backend_agg_df_modules = [\"pandas.core.frame\", \"databricks.koalas.frame\", \"pyspark.sql.dataframe\", \"pyspark.pandas.frame\", \"pyspark.sql.connect.dataframe\"]\n    if (type(df).__module__ in __backend_agg_df_modules and type(df).__name__ == 'DataFrame') or isinstance(df, list):\n        __backend_agg_dfs.append(df)\n\ndisplay = __backend_agg_display_new\n\ndef __backend_agg_user_code_fn():\n    import base64\n    exec(base64.standard_b64decode(\"ZGlzcGxheShkZl9xYV9wcm9kX2FjcQogICAgICAgIC5ncm91cEJ5KCdyZXBvcnRpbmdfZGF0ZScsJ2NudF9wcm9kdWN0X2FkZF9pbl8xMm1wJykKICAgICAgICAuYWdnKAogICAgICAgICAgICBmLmNvdW50RGlzdGluY3QoJ2ZzX3NydmNfaWQnKQogICAgICAgICAgICAgLCBmLmNvdW50KCcqJykKICAgICAgICApCikKCnByaW50KCdkZXYgJykKZGlzcGxheSgKICAgIGRmX2ZlYV9wcm9kdWN0X2FjcQogICAgICAgIC5ncm91cEJ5KCdyZXBvcnRpbmdfZGF0ZScsJ3Byb2R1Y3RfYWRkX2luX2NudF8xMmJtbnRoJykKICAgICAgICAuYWdnKAogICAgICAgICAgICBmLmNvdW50RGlzdGluY3QoJ2ZzX3NydmNfaWQnKQogICAgICAgICAgICAgLCBmLmNvdW50KCcqJykKICAgICAgICApCik=\").decode())\n\ntry:\n    # run user code\n    __backend_agg_user_code_fn()\n\n    #reset display function\n    display = __backend_agg_display_orig\n\n    if len(__backend_agg_dfs) > 0:\n        # create a temp view\n        if type(__backend_agg_dfs[0]).__module__ == \"databricks.koalas.frame\":\n            # koalas dataframe\n            __backend_agg_dfs[0].to_spark().createOrReplaceTempView(\"DatabricksViewe6cff6b\")\n        elif type(__backend_agg_dfs[0]).__module__ == \"pandas.core.frame\" or isinstance(__backend_agg_dfs[0], list):\n            # pandas dataframe\n            spark.createDataFrame(__backend_agg_dfs[0]).createOrReplaceTempView(\"DatabricksViewe6cff6b\")\n        else:\n            __backend_agg_dfs[0].createOrReplaceTempView(\"DatabricksViewe6cff6b\")\n        #run backend agg\n        display(spark.sql(\"\"\"WITH q AS (select * from DatabricksViewe6cff6b) SELECT `reporting_date`,`cnt_product_add_in_12mp`,SUM(`count(1)`) `count(1)_alias` FROM q GROUP BY `cnt_product_add_in_12mp`,`reporting_date` ORDER BY `reporting_date` ASC,`cnt_product_add_in_12mp` ASC\"\"\"))\n    else:\n        displayHTML(\"dataframe no longer exists. If you're using dataframe.display(), use display(dataframe) instead.\")\n\n\nfinally:\n    spark.sql(\"drop view if exists DatabricksViewe6cff6b\")\n    display = __backend_agg_display_orig\n    del __backend_agg_display_new\n    del __backend_agg_display_orig\n    del __backend_agg_dfs\n    del __backend_agg_user_code_fn\n\n",
       "commandTitle": "Visualization 1",
       "commandType": "auto",
       "commandVersion": 0,
       "commentThread": [],
       "commentsVisible": false,
       "contentSha256Hex": null,
       "customPlotOptions": {
        "redashChart": [
         {
          "key": "type",
          "value": "PIVOT_TABLE"
         },
         {
          "key": "options",
          "value": {
           "cell": {
            "field": "count(1)",
            "transform": {
             "fn": "sum"
            }
           },
           "columns": [
            {
             "field": "cnt_product_add_in_12mp",
             "sort": "ascending"
            }
           ],
           "rows": [
            {
             "field": "reporting_date",
             "sort": "ascending"
            }
           ]
          }
         }
        ]
       },
       "datasetPreviewNameToCmdIdMap": {},
       "diffDeletes": [],
       "diffInserts": [],
       "displayType": "redashChart",
       "error": null,
       "errorDetails": null,
       "errorSummary": null,
       "errorTraceType": null,
       "finishTime": 0,
       "globalVars": {},
       "guid": "",
       "height": "auto",
       "hideCommandCode": false,
       "hideCommandResult": false,
       "iPythonMetadata": null,
       "inputWidgets": {},
       "isLockedInExamMode": false,
       "latestUser": "a user",
       "latestUserId": null,
       "listResultMetadata": null,
       "metadata": {},
       "nuid": "a1f92c18-ef6a-4155-a0ff-bf268e8f0e70",
       "origId": 0,
       "parentHierarchy": [],
       "pivotAggregation": null,
       "pivotColumns": null,
       "position": 14.0,
       "resultDbfsErrorMessage": null,
       "resultDbfsStatus": "INLINED_IN_TREE",
       "results": null,
       "showCommandTitle": false,
       "startTime": 0,
       "state": "input",
       "streamStates": {},
       "subcommandOptions": {
        "queryPlan": {
         "groups": [
          {
           "column": "reporting_date",
           "type": "column"
          },
          {
           "column": "cnt_product_add_in_12mp",
           "type": "column"
          }
         ],
         "order_by": [
          {
           "direction": "asc",
           "expression": {
            "identifier": "reporting_date",
            "kind": "identifier"
           }
          },
          {
           "direction": "asc",
           "expression": {
            "identifier": "cnt_product_add_in_12mp",
            "kind": "identifier"
           }
          }
         ],
         "selects": [
          {
           "column": "reporting_date",
           "type": "column"
          },
          {
           "column": "cnt_product_add_in_12mp",
           "type": "column"
          },
          {
           "alias": "count(1)_alias",
           "args": [
            {
             "column": "count(1)",
             "type": "column"
            }
           ],
           "function": "SUM",
           "type": "function"
          }
         ]
        }
       },
       "submitTime": 0,
       "subtype": "tableResultSubCmd.visualization",
       "tableResultIndex": 0,
       "tableResultSettingsMap": {},
       "useConsistentColors": false,
       "version": "CommandV1",
       "width": "auto",
       "workflows": null,
       "xColumns": null,
       "yColumns": null
      }
     },
     "output_type": "display_data"
    }
   ],
   "source": [
    "display(df_qa_prod_acq\n",
    "        .groupBy('reporting_date','cnt_product_add_in_12mp')\n",
    "        .agg(\n",
    "            f.countDistinct('fs_srvc_id')\n",
    "             , f.count('*')\n",
    "        )\n",
    ")\n",
    "\n",
    "print('dev')\n",
    "display(\n",
    "    df_fea_product_acq\n",
    "        .groupBy('reporting_date','product_add_in_cnt_52week')\n",
    "        .agg(\n",
    "            f.countDistinct('fs_srvc_id')\n",
    "             , f.count('*')\n",
    "        )\n",
    ")"
   ]
  },
  {
   "cell_type": "code",
   "execution_count": 0,
   "metadata": {
    "application/vnd.databricks.v1+cell": {
     "cellMetadata": {
      "byteLimit": 2048000,
      "rowLimit": 10000
     },
     "inputWidgets": {},
     "nuid": "2ce8a29a-2fc8-485d-88f2-0a13d0ed42bc",
     "showTitle": false,
     "tableResultSettingsMap": {},
     "title": ""
    }
   },
   "outputs": [],
   "source": [
    "display(\n",
    "    df_qa_prod_acq\n",
    "    .filter(f.col('reporting_date') =='2025-01-12')\n",
    "    .filter(f.col('cnt_product_add_in_12mp') == 2)\n",
    "    .join(\n",
    "        df_fea_product_acq\n",
    "        .filter(f.col('reporting_date') == '2025-01-12')\n",
    "        .filter(f.col('product_add_in_cnt_52week') ==2)\n",
    "        #.withColumn('service_start_month', f.date_format('bb_service_start_dttm', 'yyyyMM'))\n",
    "        # .filter(f.col('bb_service_start_dttm'))\n",
    "        , ['fs_acct_id', 'fs_cust_id', 'fs_srvc_id'], 'anti'\n",
    "    )\n",
    ")"
   ]
  },
  {
   "cell_type": "code",
   "execution_count": 0,
   "metadata": {
    "application/vnd.databricks.v1+cell": {
     "cellMetadata": {
      "byteLimit": 2048000,
      "rowLimit": 10000
     },
     "inputWidgets": {},
     "nuid": "44d93ac5-5b37-4fda-a3fa-30717bc6f4f7",
     "showTitle": false,
     "tableResultSettingsMap": {},
     "title": ""
    }
   },
   "outputs": [],
   "source": [
    "display(\n",
    "    df_fea_product_acq\n",
    "    .filter(f.col('reporting_date') =='2025-01-12')\n",
    "    .filter(f.col('product_add_in_cnt_52week') == 2)\n",
    "    .join(\n",
    "        df_qa_prod_acq\n",
    "        .filter(f.col('reporting_date') == '2025-01-12')\n",
    "        .filter(f.col('cnt_product_add_in_12mp') ==2)\n",
    "        #.withColumn('service_start_month', f.date_format('bb_service_start_dttm', 'yyyyMM'))\n",
    "        # .filter(f.col('bb_service_start_dttm'))\n",
    "        , ['fs_acct_id', 'fs_cust_id', 'fs_srvc_id'], 'anti'\n",
    "    )\n",
    ")"
   ]
  },
  {
   "cell_type": "code",
   "execution_count": 0,
   "metadata": {
    "application/vnd.databricks.v1+cell": {
     "cellMetadata": {
      "byteLimit": 2048000,
      "rowLimit": 10000
     },
     "inputWidgets": {},
     "nuid": "038cd9e9-c7fa-4bf3-9b0c-3bf61763238e",
     "showTitle": false,
     "tableResultSettingsMap": {},
     "title": ""
    }
   },
   "outputs": [],
   "source": [
    "display(\n",
    "    df_fea_product_acq\n",
    "    .filter(f.col('fs_acct_id') == '505563593')\n",
    "    .select('reporting_date', 'fs_cust_id', 'fs_acct_id', 'fs_srvc_id', 'converged_flag')\n",
    "    .orderBy(f.desc('reporting_date'))\n",
    ")"
   ]
  },
  {
   "cell_type": "code",
   "execution_count": 0,
   "metadata": {
    "application/vnd.databricks.v1+cell": {
     "cellMetadata": {
      "byteLimit": 2048000,
      "rowLimit": 10000
     },
     "inputWidgets": {},
     "nuid": "34b2c37d-08aa-4edc-8458-751e8399e2d3",
     "showTitle": false,
     "tableResultSettingsMap": {},
     "title": ""
    }
   },
   "outputs": [],
   "source": [
    "display(\n",
    "    df_qa_prod_acq\n",
    "    .filter(f.col('fs_acct_id') == '505563593')  \n",
    "    .orderBy(f.desc('reporting_date'))  \n",
    ")"
   ]
  },
  {
   "cell_type": "code",
   "execution_count": 0,
   "metadata": {
    "application/vnd.databricks.v1+cell": {
     "cellMetadata": {
      "byteLimit": 2048000,
      "rowLimit": 10000
     },
     "inputWidgets": {},
     "nuid": "ae6cdb5f-be92-496c-83e3-1ede1d73f7ca",
     "showTitle": false,
     "tableResultSettingsMap": {},
     "title": ""
    }
   },
   "outputs": [],
   "source": [
    "display(\n",
    "    df_fea_product_acq\n",
    "    .select('converged_flag', 'reporting_date', 'fs_acct_id', 'fs_cust_id', 'fs_srvc_id')\n",
    "    .filter(f.col('fs_acct_id') == '453357237')\n",
    ")"
   ]
  },
  {
   "cell_type": "code",
   "execution_count": 0,
   "metadata": {
    "application/vnd.databricks.v1+cell": {
     "cellMetadata": {
      "byteLimit": 2048000,
      "rowLimit": 10000
     },
     "inputWidgets": {},
     "nuid": "4d513372-1c30-41c0-a8fe-3159a15b998d",
     "showTitle": false,
     "tableResultSettingsMap": {},
     "title": ""
    }
   },
   "outputs": [],
   "source": [
    "ls_test_fields_qa = ['cnt_product_add_in_12mp', 'ifp_add_in_12mp']\n",
    "\n",
    "ls_test_fields_dev = ['product_add_in_cnt_12bmnth', 'ifp_add_in_cnt_12bmnth']"
   ]
  },
  {
   "cell_type": "code",
   "execution_count": 0,
   "metadata": {
    "application/vnd.databricks.v1+cell": {
     "cellMetadata": {
      "byteLimit": 2048000,
      "rowLimit": 10000
     },
     "inputWidgets": {},
     "nuid": "51686a74-2aab-480f-970d-b21eb8c82f8c",
     "showTitle": false,
     "tableResultSettingsMap": {},
     "title": ""
    }
   },
   "outputs": [],
   "source": [
    "for field in ls_test_fields_dev:\n",
    "    print(f\"Analysis for field: {field}\")\n",
    "    df_result = create_bucket_analysis(df_fea_product_acq, field)\n",
    "    display(df_result)"
   ]
  },
  {
   "cell_type": "code",
   "execution_count": 0,
   "metadata": {
    "application/vnd.databricks.v1+cell": {
     "cellMetadata": {
      "byteLimit": 2048000,
      "rowLimit": 10000
     },
     "inputWidgets": {},
     "nuid": "6b6e1669-2ca4-4e0f-aff2-e512d1e127e1",
     "showTitle": false,
     "tableResultSettingsMap": {},
     "title": ""
    }
   },
   "outputs": [],
   "source": [
    "for field in ls_test_fields_qa:\n",
    "    print(f\"Analysis for field: {field}\")\n",
    "    df_result = create_bucket_analysis(df_qa_prod_acq, field)\n",
    "    display(df_result)"
   ]
  },
  {
   "cell_type": "code",
   "execution_count": 0,
   "metadata": {
    "application/vnd.databricks.v1+cell": {
     "cellMetadata": {},
     "inputWidgets": {},
     "nuid": "ba2963e3-48d5-4d8d-8db7-623fac235918",
     "showTitle": false,
     "tableResultSettingsMap": {},
     "title": ""
    }
   },
   "outputs": [],
   "source": []
  }
 ],
 "metadata": {
  "application/vnd.databricks.v1+notebook": {
   "computePreferences": null,
   "dashboards": [],
   "environmentMetadata": {
    "base_environment": "",
    "environment_version": "1"
   },
   "inputWidgetPreferences": null,
   "language": "python",
   "notebookMetadata": {
    "pythonIndentUnit": 4
   },
   "notebookName": "QA_fea_product_acq",
   "widgets": {}
  },
  "language_info": {
   "name": "python"
  }
 },
 "nbformat": 4,
 "nbformat_minor": 0
}
