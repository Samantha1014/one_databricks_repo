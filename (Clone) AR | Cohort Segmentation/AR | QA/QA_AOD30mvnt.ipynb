{
 "cells": [
  {
   "cell_type": "code",
   "execution_count": 0,
   "metadata": {
    "application/vnd.databricks.v1+cell": {
     "cellMetadata": {
      "byteLimit": 2048000,
      "rowLimit": 10000
     },
     "inputWidgets": {},
     "nuid": "3a16d0bb-3583-4bbb-9c3c-0209eeca0865",
     "showTitle": false,
     "tableResultSettingsMap": {},
     "title": ""
    }
   },
   "outputs": [],
   "source": [
    "import pyspark.sql.functions as f \n",
    "import pyspark\n",
    "import os"
   ]
  },
  {
   "cell_type": "code",
   "execution_count": 0,
   "metadata": {
    "application/vnd.databricks.v1+cell": {
     "cellMetadata": {
      "byteLimit": 2048000,
      "rowLimit": 10000
     },
     "inputWidgets": {},
     "nuid": "17482c2b-a69d-4923-b2cf-045608356e49",
     "showTitle": false,
     "tableResultSettingsMap": {},
     "title": ""
    }
   },
   "outputs": [],
   "source": [
    "%run \"../../utility_functions/misc\""
   ]
  },
  {
   "cell_type": "code",
   "execution_count": 0,
   "metadata": {
    "application/vnd.databricks.v1+cell": {
     "cellMetadata": {
      "byteLimit": 2048000,
      "rowLimit": 10000
     },
     "inputWidgets": {},
     "nuid": "b6bc3279-918a-4a0a-a045-f309da2edf1e",
     "showTitle": false,
     "tableResultSettingsMap": {},
     "title": ""
    }
   },
   "outputs": [],
   "source": [
    "%run \"../../utility_functions/qa_utils\""
   ]
  },
  {
   "cell_type": "code",
   "execution_count": 0,
   "metadata": {
    "application/vnd.databricks.v1+cell": {
     "cellMetadata": {
      "byteLimit": 2048000,
      "rowLimit": 10000
     },
     "inputWidgets": {},
     "nuid": "923f21c7-5d77-4b46-b3dc-cf9dfdbce657",
     "showTitle": false,
     "tableResultSettingsMap": {},
     "title": ""
    }
   },
   "outputs": [],
   "source": [
    "%run \"../../utility_functions/spkdf_utils\""
   ]
  },
  {
   "cell_type": "code",
   "execution_count": 0,
   "metadata": {
    "application/vnd.databricks.v1+cell": {
     "cellMetadata": {
      "byteLimit": 2048000,
      "rowLimit": 10000
     },
     "inputWidgets": {},
     "nuid": "ce59a3ee-8772-4d29-b869-9a1c1e606971",
     "showTitle": false,
     "tableResultSettingsMap": {},
     "title": ""
    }
   },
   "outputs": [],
   "source": [
    "dir_danny_path = \"dbfs:/mnt/feature-store-dev/dev_users/dev_dw/24q4_fs_fundation/\"\n",
    "dir_data_parent_shared = os.path.join(dir_danny_path, \"d400_feature/d401_mobile_oa_consumer\")\n",
    "dir_data_parent_mvmt = os.path.join(dir_danny_path, \"d500_movement/d501_mobile_oa_consumer\")\n",
    "dir_data_parent_stag = os.path.join(dir_danny_path, \"d200_staging/d299_src\")"
   ]
  },
  {
   "cell_type": "code",
   "execution_count": 0,
   "metadata": {
    "application/vnd.databricks.v1+cell": {
     "cellMetadata": {
      "byteLimit": 2048000,
      "rowLimit": 10000
     },
     "inputWidgets": {},
     "nuid": "e6328411-e43d-4e8a-8417-0c298c29dbd4",
     "showTitle": false,
     "tableResultSettingsMap": {},
     "title": ""
    }
   },
   "outputs": [],
   "source": [
    "df_fea_coll_action = spark.read.format('delta').load(os.path.join(dir_data_parent_shared ,'fea_coll_action_cycle_12mnth'))\n",
    "df_fea_product_acq = spark.read.format('delta').load(os.path.join(dir_data_parent_shared, 'fea_product_acquisition_cycle_billing_12'))\n",
    "df_fea_late_pay = spark.read.format('delta').load(os.path.join(dir_data_parent_shared,\"fea_late_pay_cycle_billing_6\"))\n",
    "df_mvmt_aod = spark.read.format('delta').load(os.path.join(dir_data_parent_mvmt, 'mvmt_aod30d'))\n"
   ]
  },
  {
   "cell_type": "code",
   "execution_count": 0,
   "metadata": {
    "application/vnd.databricks.v1+cell": {
     "cellMetadata": {
      "byteLimit": 2048000,
      "rowLimit": 10000
     },
     "inputWidgets": {},
     "nuid": "bd090816-fe0b-420e-8abb-64eee789f090",
     "showTitle": false,
     "tableResultSettingsMap": {},
     "title": ""
    }
   },
   "outputs": [],
   "source": [
    "#df_qa_aod30 = spark.read.format('delta').load('/mnt/ml-lab/dev_users/dev_sc/aod30_mvnt_acct_agg_weekly')\n",
    "\n",
    "#df_qa_aod30 = spark.read.format('delta').load('/mnt/ml-lab/dev_users/dev_sc/aod30_mvnt_acct_agg_curr')\n",
    "df_qa_aod30 = spark.read.format('delta').load('/mnt/ml-lab/dev_users/dev_sc/aod30_mvnt_acct_agg_weekly')\n"
   ]
  },
  {
   "cell_type": "code",
   "execution_count": 0,
   "metadata": {
    "application/vnd.databricks.v1+cell": {
     "cellMetadata": {
      "byteLimit": 2048000,
      "rowLimit": 10000
     },
     "inputWidgets": {},
     "nuid": "bb85aaad-fcad-4c0e-baf9-3475673dc2b3",
     "showTitle": false,
     "tableResultSettingsMap": {},
     "title": ""
    }
   },
   "outputs": [],
   "source": [
    "display(\n",
    "    df_mvmt_aod\n",
    "    .groupBy('movement_date')\n",
    "    .agg(f.count('*')\n",
    "         , f.countDistinct('fs_acct_id')\n",
    "         )\n",
    "    #.orderBy('reporting_date')\n",
    ")"
   ]
  },
  {
   "cell_type": "code",
   "execution_count": 0,
   "metadata": {
    "application/vnd.databricks.v1+cell": {
     "cellMetadata": {
      "byteLimit": 2048000,
      "rowLimit": 10000
     },
     "inputWidgets": {},
     "nuid": "c2adcacb-3280-41a8-bd95-9c9de426016b",
     "showTitle": false,
     "tableResultSettingsMap": {},
     "title": ""
    }
   },
   "outputs": [],
   "source": [
    "display(\n",
    "    df_qa_aod30\n",
    "    .groupBy('movement_date')\n",
    "    .agg(f.countDistinct('fs_acct_id'))\n",
    "        \n",
    ")"
   ]
  },
  {
   "cell_type": "code",
   "execution_count": 0,
   "metadata": {
    "application/vnd.databricks.v1+cell": {
     "cellMetadata": {
      "byteLimit": 2048000,
      "rowLimit": 10000
     },
     "inputWidgets": {},
     "nuid": "0fd2a53b-3d8b-40f8-95d8-b69d38841935",
     "showTitle": false,
     "tableResultSettingsMap": {},
     "title": ""
    }
   },
   "outputs": [],
   "source": [
    "display(df_mvmt_aod\n",
    "        .filter(f.col('movement_date') == '2024-10-31')\n",
    "        .join(df_qa_aod30\n",
    "              .filter(f.col('movement_date') == '2024-10-31')\n",
    "              , ['fs_cust_id', 'fs_acct_id'], 'anti')\n",
    "        )"
   ]
  },
  {
   "cell_type": "code",
   "execution_count": 0,
   "metadata": {
    "application/vnd.databricks.v1+cell": {
     "cellMetadata": {
      "byteLimit": 2048000,
      "rowLimit": 10000
     },
     "inputWidgets": {},
     "nuid": "29835622-82dc-436a-9622-e4cc89d855ca",
     "showTitle": false,
     "tableResultSettingsMap": {},
     "title": ""
    }
   },
   "outputs": [],
   "source": [
    "display(\n",
    "    df_qa_aod30\n",
    "        .filter(f.col('fs_acct_id') == '464705106')\n",
    ")"
   ]
  },
  {
   "cell_type": "code",
   "execution_count": 0,
   "metadata": {
    "application/vnd.databricks.v1+cell": {
     "cellMetadata": {
      "byteLimit": 2048000,
      "rowLimit": 10000
     },
     "inputWidgets": {},
     "nuid": "f3fdd129-957f-414b-af4a-887aedb14bc2",
     "showTitle": false,
     "tableResultSettingsMap": {},
     "title": ""
    }
   },
   "outputs": [],
   "source": [
    "display(df_qa_aod30\n",
    "        .filter(f.col('fs_acct_id') == '506489195')\n",
    "        )"
   ]
  },
  {
   "cell_type": "code",
   "execution_count": 0,
   "metadata": {
    "application/vnd.databricks.v1+cell": {
     "cellMetadata": {
      "byteLimit": 2048000,
      "rowLimit": 10000
     },
     "inputWidgets": {},
     "nuid": "667864f6-ce26-4643-8819-c07f755cd60a",
     "showTitle": false,
     "tableResultSettingsMap": {},
     "title": ""
    }
   },
   "outputs": [],
   "source": [
    "display(df_qa_aod30\n",
    "        .filter(f.col('reporting_date') == '2024-12-01')\n",
    "        .filter(f.col('fs_acct_id') == '506489195')\n",
    "        )"
   ]
  },
  {
   "cell_type": "code",
   "execution_count": 0,
   "metadata": {
    "application/vnd.databricks.v1+cell": {
     "cellMetadata": {
      "byteLimit": 2048000,
      "rowLimit": 10000
     },
     "inputWidgets": {},
     "nuid": "d371d84f-93bb-40f6-af81-97052eacadc3",
     "showTitle": false,
     "tableResultSettingsMap": {},
     "title": ""
    }
   },
   "outputs": [],
   "source": [
    "display(df_qa_aod30\n",
    "        .filter(f.col('reporting_date') == '2024-11-03')\n",
    "        .join(df_mvmt_aod\n",
    "              .filter(f.col('reporting_date') == '2024-11-03')\n",
    "              , ['fs_cust_id', 'fs_acct_id'], 'anti')\n",
    "        )"
   ]
  },
  {
   "cell_type": "code",
   "execution_count": 0,
   "metadata": {
    "application/vnd.databricks.v1+cell": {
     "cellMetadata": {
      "byteLimit": 2048000,
      "rowLimit": 10000
     },
     "inputWidgets": {},
     "nuid": "667f3013-20bf-44aa-b5da-55d1c752c161",
     "showTitle": false,
     "tableResultSettingsMap": {},
     "title": ""
    }
   },
   "outputs": [],
   "source": [
    "display(\n",
    "    df_qa_aod30\n",
    "    .filter(f.col('fs_acct_id') == '505164932')    \n",
    ")"
   ]
  },
  {
   "cell_type": "code",
   "execution_count": 0,
   "metadata": {
    "application/vnd.databricks.v1+cell": {
     "cellMetadata": {
      "byteLimit": 2048000,
      "rowLimit": 10000
     },
     "inputWidgets": {},
     "nuid": "261ac366-946e-4b79-a4b1-47a7465b804b",
     "showTitle": false,
     "tableResultSettingsMap": {},
     "title": ""
    }
   },
   "outputs": [],
   "source": [
    "display(\n",
    "    df_qa_aod30\n",
    "    .groupBy('reporting_date')\n",
    "    .agg(\n",
    "        f.countDistinct('fs_acct_id').alias('distinct_acct_cnt')\n",
    "        #, f.min('min_movement_date').alias('min_movement_date ') \n",
    "        #, f.max('min_movement_date')\n",
    "    )         \n",
    "        \n",
    ")"
   ]
  }
 ],
 "metadata": {
  "application/vnd.databricks.v1+notebook": {
   "computePreferences": null,
   "dashboards": [],
   "environmentMetadata": {
    "base_environment": "",
    "environment_version": "1"
   },
   "inputWidgetPreferences": null,
   "language": "python",
   "notebookMetadata": {
    "pythonIndentUnit": 4
   },
   "notebookName": "QA_AOD30mvnt",
   "widgets": {}
  },
  "language_info": {
   "name": "python"
  }
 },
 "nbformat": 4,
 "nbformat_minor": 0
}
