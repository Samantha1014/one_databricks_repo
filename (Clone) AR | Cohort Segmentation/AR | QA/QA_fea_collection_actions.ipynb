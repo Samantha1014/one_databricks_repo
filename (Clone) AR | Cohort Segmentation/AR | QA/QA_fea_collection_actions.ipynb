{
 "cells": [
  {
   "cell_type": "markdown",
   "metadata": {
    "application/vnd.databricks.v1+cell": {
     "cellMetadata": {
      "byteLimit": 2048000,
      "rowLimit": 10000
     },
     "inputWidgets": {},
     "nuid": "9e714945-4f40-4311-89fb-200f562099b5",
     "showTitle": false,
     "tableResultSettingsMap": {},
     "title": ""
    }
   },
   "source": [
    "### environment set up "
   ]
  },
  {
   "cell_type": "code",
   "execution_count": 0,
   "metadata": {
    "application/vnd.databricks.v1+cell": {
     "cellMetadata": {
      "byteLimit": 2048000,
      "rowLimit": 10000
     },
     "inputWidgets": {},
     "nuid": "a0927bc6-fa29-4702-a776-8a1f6bba2413",
     "showTitle": false,
     "tableResultSettingsMap": {},
     "title": ""
    }
   },
   "outputs": [],
   "source": [
    "import pyspark.sql.functions as f \n",
    "import pyspark\n",
    "import os"
   ]
  },
  {
   "cell_type": "markdown",
   "metadata": {
    "application/vnd.databricks.v1+cell": {
     "cellMetadata": {
      "byteLimit": 2048000,
      "rowLimit": 10000
     },
     "inputWidgets": {},
     "nuid": "bee53fca-5fef-4f09-8909-73836602f8c3",
     "showTitle": false,
     "tableResultSettingsMap": {},
     "title": ""
    }
   },
   "source": [
    "### utility functions"
   ]
  },
  {
   "cell_type": "code",
   "execution_count": 0,
   "metadata": {
    "application/vnd.databricks.v1+cell": {
     "cellMetadata": {
      "byteLimit": 2048000,
      "rowLimit": 10000
     },
     "inputWidgets": {},
     "nuid": "553c90d3-6870-49c4-ab9d-02f8c5447a29",
     "showTitle": false,
     "tableResultSettingsMap": {},
     "title": ""
    }
   },
   "outputs": [],
   "source": [
    "%run \"../../utility_functions/misc\""
   ]
  },
  {
   "cell_type": "code",
   "execution_count": 0,
   "metadata": {
    "application/vnd.databricks.v1+cell": {
     "cellMetadata": {
      "byteLimit": 2048000,
      "rowLimit": 10000
     },
     "inputWidgets": {},
     "nuid": "5f15ffaf-148b-4593-82d1-f4407637815e",
     "showTitle": false,
     "tableResultSettingsMap": {},
     "title": ""
    }
   },
   "outputs": [],
   "source": [
    "%run \"../../utility_functions/qa_utils\""
   ]
  },
  {
   "cell_type": "code",
   "execution_count": 0,
   "metadata": {
    "application/vnd.databricks.v1+cell": {
     "cellMetadata": {
      "byteLimit": 2048000,
      "rowLimit": 10000
     },
     "inputWidgets": {},
     "nuid": "5bf81319-ae5f-4ad6-afb9-5e92d848d2a5",
     "showTitle": false,
     "tableResultSettingsMap": {},
     "title": ""
    }
   },
   "outputs": [],
   "source": [
    "%run \"../../utility_functions/spkdf_utils\""
   ]
  },
  {
   "cell_type": "markdown",
   "metadata": {
    "application/vnd.databricks.v1+cell": {
     "cellMetadata": {
      "byteLimit": 2048000,
      "rowLimit": 10000
     },
     "inputWidgets": {},
     "nuid": "698f906d-ca4f-45b8-8a51-ec36a791f5d0",
     "showTitle": false,
     "tableResultSettingsMap": {},
     "title": ""
    }
   },
   "source": [
    "### directories"
   ]
  },
  {
   "cell_type": "code",
   "execution_count": 0,
   "metadata": {
    "application/vnd.databricks.v1+cell": {
     "cellMetadata": {
      "byteLimit": 2048000,
      "rowLimit": 10000
     },
     "inputWidgets": {},
     "nuid": "b160aa34-1899-4f82-9dda-9574096c02dc",
     "showTitle": true,
     "tableResultSettingsMap": {},
     "title": "danny dev"
    }
   },
   "outputs": [],
   "source": [
    "dir_danny_path = \"dbfs:/mnt/feature-store-dev/dev_users/dev_dw/24q4_fs_fundation/\"\n",
    "dir_data_parent_shared = os.path.join(dir_danny_path, \"d400_feature/d401_mobile_oa_consumer\")\n",
    "dir_data_parent_mvmt = os.path.join(dir_danny_path, \"d500_movement/d501_mobile_oa_consumer\")\n",
    "dir_data_parent_stag = os.path.join(dir_danny_path, \"d200_staging/d299_src\")"
   ]
  },
  {
   "cell_type": "code",
   "execution_count": 0,
   "metadata": {
    "application/vnd.databricks.v1+cell": {
     "cellMetadata": {
      "byteLimit": 2048000,
      "rowLimit": 10000
     },
     "inputWidgets": {},
     "nuid": "44b48481-b864-4e8a-98d1-358be8a55824",
     "showTitle": true,
     "tableResultSettingsMap": {},
     "title": "dev directory"
    }
   },
   "outputs": [],
   "source": [
    "df_fea_coll_action = spark.read.format('delta').load(os.path.join(dir_data_parent_shared ,'fea_coll_action_cycle_12mnth'))\n",
    "df_fea_product_acq = spark.read.format('delta').load(os.path.join(dir_data_parent_shared, 'fea_product_acquisition_cycle_billing_12'))\n",
    "df_fea_late_pay = spark.read.format('delta').load(os.path.join(dir_data_parent_shared,\"fea_late_pay_cycle_billing_6\"))\n",
    "df_mvmt_aod = spark.read.format('delta').load(os.path.join(dir_data_parent_mvmt, 'mvmt_aod30d'))\n",
    "\n",
    "# stage table \n",
    "\n",
    "df_stg_coll_action = spark.read.format('delta').load(os.path.join(dir_data_parent_stag, \"stg_brm_coll_action_hist\"))"
   ]
  },
  {
   "cell_type": "code",
   "execution_count": 0,
   "metadata": {
    "application/vnd.databricks.v1+cell": {
     "cellMetadata": {
      "byteLimit": 2048000,
      "rowLimit": 10000
     },
     "inputWidgets": {},
     "nuid": "72142ced-7671-45d8-8da6-dc43f63d7766",
     "showTitle": true,
     "tableResultSettingsMap": {},
     "title": "previous development"
    }
   },
   "outputs": [],
   "source": [
    "df_qa_coll_action = spark.read.format('delta').load( '/mnt/ml-lab/dev_users/dev_sc/99_misc/cohort_seg/fea_coll_action')"
   ]
  },
  {
   "cell_type": "code",
   "execution_count": 0,
   "metadata": {
    "application/vnd.databricks.v1+cell": {
     "cellMetadata": {
      "byteLimit": 2048000,
      "rowLimit": 10000
     },
     "inputWidgets": {},
     "nuid": "10040951-baed-4164-9aaa-3f2c213aeea1",
     "showTitle": true,
     "tableResultSettingsMap": {},
     "title": "check count"
    }
   },
   "outputs": [],
   "source": [
    "display(\n",
    "    df_qa_coll_action\n",
    "    .groupBy('reporting_date', 'reporting_cycle_type')\n",
    "    .agg(f.countDistinct('fs_srvc_id')\n",
    "         , f.countDistinct('poid_id0')\n",
    "         )\n",
    ")"
   ]
  },
  {
   "cell_type": "markdown",
   "metadata": {
    "application/vnd.databricks.v1+cell": {
     "cellMetadata": {
      "byteLimit": 2048000,
      "rowLimit": 10000
     },
     "inputWidgets": {},
     "nuid": "7b607a88-06e3-4e9c-8760-3f396c43a9e4",
     "showTitle": false,
     "tableResultSettingsMap": {},
     "title": ""
    }
   },
   "source": [
    "### QA"
   ]
  },
  {
   "cell_type": "code",
   "execution_count": 0,
   "metadata": {
    "application/vnd.databricks.v1+cell": {
     "cellMetadata": {
      "byteLimit": 2048000,
      "rowLimit": 10000
     },
     "collapsed": true,
     "inputWidgets": {},
     "nuid": "a2732624-add1-49cd-a9e3-953ac7fd5845",
     "showTitle": true,
     "tableResultSettingsMap": {},
     "title": "check table views"
    }
   },
   "outputs": [],
   "source": [
    "# print('late_pay')\n",
    "# display(df_fea_late_pay.limit(100))\n",
    "\n",
    "print('coll_action')\n",
    "display(df_fea_coll_action.limit(100))\n",
    "\n",
    "# print('product_acq')\n",
    "# display(df_fea_product_acq.limit(100))\n",
    "\n",
    "# print('aod movement')\n",
    "# display(df_mvmt_aod.limit(100))"
   ]
  },
  {
   "cell_type": "markdown",
   "metadata": {
    "application/vnd.databricks.v1+cell": {
     "cellMetadata": {
      "byteLimit": 2048000,
      "rowLimit": 10000
     },
     "inputWidgets": {},
     "nuid": "ee9ba90f-2b3a-4377-903a-d37cbb087f08",
     "showTitle": false,
     "tableResultSettingsMap": {},
     "title": ""
    }
   },
   "source": [
    "#### s01 collection actions "
   ]
  },
  {
   "cell_type": "code",
   "execution_count": 0,
   "metadata": {
    "application/vnd.databricks.v1+cell": {
     "cellMetadata": {
      "byteLimit": 2048000,
      "rowLimit": 10000
     },
     "inputWidgets": {},
     "nuid": "b0846926-0193-4d98-85d8-af057a5ca654",
     "showTitle": false,
     "tableResultSettingsMap": {},
     "title": ""
    }
   },
   "outputs": [],
   "source": [
    "display(\n",
    "    df_fea_coll_action\n",
    "    .groupBy('reporting_date')\n",
    "    .agg(f.countDistinct('fs_srvc_id')\n",
    "         , f.count('*')\n",
    "         , f.count('action_name')\n",
    "    )\n",
    ")"
   ]
  },
  {
   "cell_type": "code",
   "execution_count": 0,
   "metadata": {
    "application/vnd.databricks.v1+cell": {
     "cellMetadata": {
      "byteLimit": 2048000,
      "rowLimit": 10000
     },
     "inputWidgets": {},
     "nuid": "9e9c8215-76c9-405e-8154-3adb880f3fa3",
     "showTitle": false,
     "tableResultSettingsMap": {},
     "title": ""
    }
   },
   "outputs": [],
   "source": [
    "ls_test_coll_field_numeric = ['coll_action_category_num', 'total_payment_amt', 'payment_cnt'\n",
    "                              , 'to_payment_days_avg', 'coll_action_cnt_12mnth', 'pay_after_coll_cnt_12mnth'\n",
    "                              , 'to_payment_days_avg_12mnth'\n",
    "                               ]"
   ]
  },
  {
   "cell_type": "code",
   "execution_count": 0,
   "metadata": {
    "application/vnd.databricks.v1+cell": {
     "cellMetadata": {
      "byteLimit": 2048000,
      "rowLimit": 10000
     },
     "inputWidgets": {},
     "nuid": "9b75cbf2-ae21-4268-952f-59dd93285ff0",
     "showTitle": false,
     "tableResultSettingsMap": {},
     "title": ""
    }
   },
   "outputs": [],
   "source": [
    "for i in ls_test_coll_field_numeric:     \n",
    "    df_result = (\n",
    "        df_fea_coll_action\n",
    "        .groupBy('reporting_date')\n",
    "        .agg(\n",
    "            f.sum(i).alias('sum'),\n",
    "            f.mean(i).alias('mean'),\n",
    "            f.percentile_approx(i, 0.25,100).alias('25pct'),\n",
    "            f.percentile_approx(i, 0.79,100).alias('75pct'),\n",
    "            f.percentile_approx(i, 0.95,100).alias('95pct'),\n",
    "            f.percentile_approx(i, 0.99,100).alias('99pct'),\n",
    "            f.median(i).alias('median'),\n",
    "            f.stddev(i).alias('stddev'),\n",
    "            f.min(i).alias('min'),\n",
    "            f.max(i).alias('max'), \n",
    "            f.countDistinct('fs_srvc_id'), \n",
    "            f.count('*') \n",
    "            #f.countDistinct('bill_no')\n",
    "            )\n",
    "    )\n",
    "    print(i)\n",
    "    display(df_result)"
   ]
  },
  {
   "cell_type": "code",
   "execution_count": 0,
   "metadata": {
    "application/vnd.databricks.v1+cell": {
     "cellMetadata": {
      "byteLimit": 2048000,
      "rowLimit": 10000
     },
     "inputWidgets": {},
     "nuid": "2917610a-6d07-423b-93d8-f39eb092dd94",
     "showTitle": true,
     "tableResultSettingsMap": {},
     "title": "check history development vs. dev"
    }
   },
   "outputs": [],
   "source": [
    "display(\n",
    "    df_fea_coll_action\n",
    "    .filter(f.col('reporting_date') == '2024-10-31')\n",
    "    .filter(f.col('action_name').isNotNull())\n",
    "    .join(\n",
    "        df_qa_coll_action\n",
    "        .filter(f.col('reporting_date') == '2024-10-31')\n",
    "        .filter(f.col('latest_coll_action_name').isNotNull())\n",
    "        , ['fs_cust_id', 'fs_srvc_id', 'fs_acct_id']\n",
    "        , 'anti' \n",
    "    )\n",
    ")"
   ]
  },
  {
   "cell_type": "code",
   "execution_count": 0,
   "metadata": {
    "application/vnd.databricks.v1+cell": {
     "cellMetadata": {
      "byteLimit": 2048000,
      "rowLimit": 10000
     },
     "inputWidgets": {},
     "nuid": "99bd3221-e680-49f9-8833-6380c282b80c",
     "showTitle": false,
     "tableResultSettingsMap": {},
     "title": ""
    }
   },
   "outputs": [],
   "source": [
    "display(\n",
    "    df_qa_coll_action\n",
    "    .filter(f.col('fs_acct_id') == '416688902')\n",
    ")  \n"
   ]
  },
  {
   "cell_type": "code",
   "execution_count": 0,
   "metadata": {
    "application/vnd.databricks.v1+cell": {
     "cellMetadata": {
      "byteLimit": 2048000,
      "rowLimit": 10000
     },
     "inputWidgets": {},
     "nuid": "81b764b1-3759-4b7c-82e6-76e5b43f9852",
     "showTitle": false,
     "tableResultSettingsMap": {},
     "title": ""
    }
   },
   "outputs": [],
   "source": [
    "display(\n",
    "    df_qa_coll_action\n",
    "    .groupBy('reporting_date')\n",
    "    .agg( f.percentile_approx('cnt_in_coll_action_12m', 0.99,100).alias('99pct'))\n",
    ")\n",
    "\n",
    "\n",
    "display(\n",
    "    df_fea_coll_action\n",
    "    .groupBy('reporting_date')\n",
    "    .agg(f.percentile_approx('coll_action_cnt_12mnth', 0.99, 100))\n",
    ")"
   ]
  },
  {
   "cell_type": "code",
   "execution_count": 0,
   "metadata": {
    "application/vnd.databricks.v1+cell": {
     "cellMetadata": {
      "byteLimit": 2048000,
      "rowLimit": 10000
     },
     "inputWidgets": {},
     "nuid": "7da7cc8d-aa1f-4cd9-bc6e-414d0f3f64ba",
     "showTitle": false,
     "tableResultSettingsMap": {},
     "title": ""
    }
   },
   "outputs": [],
   "source": [
    "display(\n",
    "    df_fea_coll_action\n",
    "    .filter(f.col('reporting_date') == '2024-10-31')\n",
    "    .filter(f.col('coll_action_cnt_12mnth') == 92)    \n",
    ")"
   ]
  },
  {
   "cell_type": "code",
   "execution_count": 0,
   "metadata": {
    "application/vnd.databricks.v1+cell": {
     "cellMetadata": {
      "byteLimit": 2048000,
      "rowLimit": 10000
     },
     "inputWidgets": {},
     "nuid": "cfb1b932-6071-4a5d-b5c7-68c8a3d279d4",
     "showTitle": false,
     "tableResultSettingsMap": {},
     "title": ""
    }
   },
   "outputs": [],
   "source": [
    "display(df_fea_coll_action\n",
    "        .filter(f.col('fs_acct_id') == '495989274')\n",
    "        .filter(f.col('reporting_date') == '2024-10-31')\n",
    "        )"
   ]
  },
  {
   "cell_type": "code",
   "execution_count": 0,
   "metadata": {
    "application/vnd.databricks.v1+cell": {
     "cellMetadata": {
      "byteLimit": 2048000,
      "rowLimit": 10000
     },
     "inputWidgets": {},
     "nuid": "cd29768b-5113-49f3-a926-a5b6be45ed10",
     "showTitle": false,
     "tableResultSettingsMap": {},
     "title": ""
    }
   },
   "outputs": [],
   "source": [
    "display(\n",
    "    df_qa_coll_action\n",
    "    .filter(f.col('reporting_date') == '2024-10-31')\n",
    "    # .filter(f.col('coll_action_cnt_12mnth') == 777)  \n",
    "    .filter(f.col('cnt_in_coll_action_12m') ==136  )  \n",
    "   # .filter(f.col('fs_acct_id') == '490717639')\n",
    "    # .select('fs_acct_id', 'fs_srvc_id', 'fs_cust_id', 'reporting_date', 'reporting_cycle_type'\n",
    "    #         , 'coll_action_cnt_12mnth', 'complete_date', 'pay_after_coll_cnt_12mnth', 'coll_action_category'\n",
    "    #         )\n",
    ")"
   ]
  },
  {
   "cell_type": "code",
   "execution_count": 0,
   "metadata": {
    "application/vnd.databricks.v1+cell": {
     "cellMetadata": {
      "byteLimit": 2048000,
      "rowLimit": 10000
     },
     "inputWidgets": {},
     "nuid": "923ec68c-594f-4165-8c89-bba209d8384a",
     "showTitle": false,
     "tableResultSettingsMap": {},
     "title": ""
    }
   },
   "outputs": [],
   "source": [
    "display(\n",
    "    df_stg_coll_action\n",
    "    .filter(f.col('fs_acct_id') == '490717639')\n",
    "   # .filter(f.col())\n",
    ")"
   ]
  },
  {
   "cell_type": "code",
   "execution_count": 0,
   "metadata": {
    "application/vnd.databricks.v1+cell": {
     "cellMetadata": {
      "byteLimit": 2048000,
      "rowLimit": 10000
     },
     "inputWidgets": {},
     "nuid": "47563ad0-90d1-4793-b88f-38deb674e722",
     "showTitle": false,
     "tableResultSettingsMap": {},
     "title": ""
    }
   },
   "outputs": [],
   "source": [
    "display(df_qa_coll_action\n",
    "        .filter(f.col('reporting_date') == '2024-10-31')\n",
    "        .filter(f.col('') == '490717639')\n",
    "        )"
   ]
  },
  {
   "cell_type": "code",
   "execution_count": 0,
   "metadata": {
    "application/vnd.databricks.v1+cell": {
     "cellMetadata": {
      "byteLimit": 2048000,
      "rowLimit": 10000
     },
     "inputWidgets": {},
     "nuid": "45aedb58-92a1-46a8-a6c9-fdf2543a858a",
     "showTitle": false,
     "tableResultSettingsMap": {},
     "title": ""
    }
   },
   "outputs": [],
   "source": [
    "display(\n",
    "    df_fea_coll_action\n",
    "    .filter(f.col('reporting_date') == '2024-10-31')\n",
    "    .filter(f.col('coll_action_cnt_12mnth') == '92')\n",
    "    #.filter(f.col('fs_acct_id') == '490717639')\n",
    ")"
   ]
  },
  {
   "cell_type": "code",
   "execution_count": 0,
   "metadata": {
    "application/vnd.databricks.v1+cell": {
     "cellMetadata": {
      "byteLimit": 2048000,
      "rowLimit": 10000
     },
     "inputWidgets": {},
     "nuid": "f529cf63-528c-48f4-909f-f47306666e1e",
     "showTitle": false,
     "tableResultSettingsMap": {},
     "title": ""
    }
   },
   "outputs": [],
   "source": [
    "df_result = (\n",
    "        df_qa_coll_action\n",
    "        .groupBy('reporting_date')\n",
    "        .agg(\n",
    "            f.sum('cnt_pay_after_coll_12m').alias('sum'),\n",
    "            f.mean('cnt_pay_after_coll_12m').alias('mean'),\n",
    "            f.percentile_approx('cnt_pay_after_coll_12m', 0.25,100).alias('25pct'),\n",
    "            f.percentile_approx('cnt_pay_after_coll_12m', 0.79,100).alias('75pct'),\n",
    "            f.percentile_approx('cnt_pay_after_coll_12m', 0.95,100).alias('95pct'),\n",
    "            f.percentile_approx('cnt_pay_after_coll_12m', 0.99,100).alias('99pct'),\n",
    "            f.median('cnt_pay_after_coll_12m').alias('median'),\n",
    "            f.stddev('cnt_pay_after_coll_12m').alias('stddev'),\n",
    "            f.min('cnt_pay_after_coll_12m').alias('min'),\n",
    "            f.max('cnt_pay_after_coll_12m').alias('max'), \n",
    "            f.countDistinct('fs_srvc_id'), \n",
    "            f.count('*') \n",
    "            #f.countDistinct('bill_no')\n",
    "            )\n",
    "    )\n",
    "    \n",
    "display(df_result)"
   ]
  }
 ],
 "metadata": {
  "application/vnd.databricks.v1+notebook": {
   "computePreferences": null,
   "dashboards": [],
   "environmentMetadata": {
    "base_environment": "",
    "environment_version": "1"
   },
   "inputWidgetPreferences": null,
   "language": "python",
   "notebookMetadata": {
    "pythonIndentUnit": 4
   },
   "notebookName": "QA_fea_collection_actions",
   "widgets": {}
  },
  "language_info": {
   "name": "python"
  }
 },
 "nbformat": 4,
 "nbformat_minor": 0
}
