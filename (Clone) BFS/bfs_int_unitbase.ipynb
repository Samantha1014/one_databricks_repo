{
 "cells": [
  {
   "cell_type": "markdown",
   "metadata": {
    "application/vnd.databricks.v1+cell": {
     "cellMetadata": {
      "byteLimit": 2048000,
      "rowLimit": 10000
     },
     "inputWidgets": {},
     "nuid": "01d3d925-77e3-4a37-b34c-608f886cce92",
     "showTitle": false,
     "tableResultSettingsMap": {},
     "title": ""
    }
   },
   "source": [
    "## s1 environment setup"
   ]
  },
  {
   "cell_type": "code",
   "execution_count": 0,
   "metadata": {
    "application/vnd.databricks.v1+cell": {
     "cellMetadata": {
      "byteLimit": 2048000,
      "rowLimit": 10000
     },
     "inputWidgets": {},
     "nuid": "4485d8f9-071c-4903-896d-5b7c7730d5cb",
     "showTitle": false,
     "tableResultSettingsMap": {},
     "title": ""
    }
   },
   "outputs": [],
   "source": [
    "### libraries\n",
    "import pyspark\n",
    "import os\n",
    "\n",
    "import re\n",
    "import numpy as np\n",
    "\n",
    "from pyspark import sql \n",
    "from pyspark.sql import Window\n",
    "from pyspark.sql import functions as f"
   ]
  },
  {
   "cell_type": "markdown",
   "metadata": {
    "application/vnd.databricks.v1+cell": {
     "cellMetadata": {
      "byteLimit": 2048000,
      "rowLimit": 10000
     },
     "inputWidgets": {},
     "nuid": "f1049344-b495-4279-b4d9-928ffe8e3ce6",
     "showTitle": false,
     "tableResultSettingsMap": {},
     "title": ""
    }
   },
   "source": [
    "### utility functions"
   ]
  },
  {
   "cell_type": "code",
   "execution_count": 0,
   "metadata": {
    "application/vnd.databricks.v1+cell": {
     "cellMetadata": {
      "byteLimit": 2048000,
      "rowLimit": 10000
     },
     "inputWidgets": {},
     "nuid": "772e26b4-c8fb-493c-8d7a-16d192890881",
     "showTitle": false,
     "tableResultSettingsMap": {},
     "title": ""
    }
   },
   "outputs": [],
   "source": [
    "%run \"../utility_functions/spkdf_utils\""
   ]
  },
  {
   "cell_type": "code",
   "execution_count": 0,
   "metadata": {
    "application/vnd.databricks.v1+cell": {
     "cellMetadata": {
      "byteLimit": 2048000,
      "rowLimit": 10000
     },
     "inputWidgets": {},
     "nuid": "c6b16927-9d01-41c3-825b-94969e4c13c6",
     "showTitle": false,
     "tableResultSettingsMap": {},
     "title": ""
    }
   },
   "outputs": [],
   "source": [
    "%run \"../utility_functions/utility_functions\""
   ]
  },
  {
   "cell_type": "code",
   "execution_count": 0,
   "metadata": {
    "application/vnd.databricks.v1+cell": {
     "cellMetadata": {
      "byteLimit": 2048000,
      "rowLimit": 10000
     },
     "inputWidgets": {},
     "nuid": "45313a8c-1d61-4190-9d38-37462f7dd934",
     "showTitle": false,
     "tableResultSettingsMap": {},
     "title": ""
    }
   },
   "outputs": [],
   "source": [
    "%run \"../utility_functions/misc\""
   ]
  },
  {
   "cell_type": "markdown",
   "metadata": {
    "application/vnd.databricks.v1+cell": {
     "cellMetadata": {
      "byteLimit": 2048000,
      "rowLimit": 10000
     },
     "inputWidgets": {},
     "nuid": "810280b8-cb0d-419e-84ae-2cb42c8d3038",
     "showTitle": false,
     "tableResultSettingsMap": {},
     "title": ""
    }
   },
   "source": [
    "### directories"
   ]
  },
  {
   "cell_type": "code",
   "execution_count": 0,
   "metadata": {
    "application/vnd.databricks.v1+cell": {
     "cellMetadata": {
      "byteLimit": 2048000,
      "rowLimit": 10000
     },
     "inputWidgets": {},
     "nuid": "d53b5eca-4357-4c17-9b54-b9a75c2180ad",
     "showTitle": false,
     "tableResultSettingsMap": {},
     "title": ""
    }
   },
   "outputs": [],
   "source": [
    "dir_data_parent = \"/mnt/feature-store-dev/feature-store-business\"\n",
    "dir_data_parent_shared = os.path.join(dir_data_parent, \"dev_shared\")\n",
    "dir_data_parent_users = os.path.join(dir_data_parent, \"dev_users/dev_sc/2025q1_bfs\")"
   ]
  },
  {
   "cell_type": "code",
   "execution_count": 0,
   "metadata": {
    "application/vnd.databricks.v1+cell": {
     "cellMetadata": {
      "byteLimit": 2048000,
      "rowLimit": 10000
     },
     "inputWidgets": {},
     "nuid": "f2787479-7dfc-441f-99c3-7a9fb53ce03e",
     "showTitle": false,
     "tableResultSettingsMap": {},
     "title": ""
    }
   },
   "outputs": [],
   "source": [
    "dir_data_raw =  os.path.join(dir_data_parent_shared, 'd100_raw')\n",
    "dir_data_meta = os.path.join(dir_data_parent_users, 'd000_meta')\n",
    "dir_data_stg = os.path.join(dir_data_parent_users, \"d200_staging\")\n",
    "dir_data_int =  os.path.join(dir_data_parent_users, \"d200_intermediate\")\n",
    "dir_data_prm =  os.path.join(dir_data_parent_users, \"d300_primary\")\n",
    "dir_data_fea =  os.path.join(dir_data_parent_users, \"d400_feature\")\n",
    "dir_data_mvmt = os.path.join(dir_data_parent_users, \"d500_movement\")\n",
    "dir_data_serv = os.path.join(dir_data_parent_users, \"d600_serving\")\n",
    "dir_data_tmp =  os.path.join(dir_data_parent_users, \"d999_tmp\")"
   ]
  },
  {
   "cell_type": "markdown",
   "metadata": {
    "application/vnd.databricks.v1+cell": {
     "cellMetadata": {
      "byteLimit": 2048000,
      "rowLimit": 10000
     },
     "inputWidgets": {},
     "nuid": "0cba2703-b3c1-4ecb-aa87-58169082c432",
     "showTitle": false,
     "tableResultSettingsMap": {},
     "title": ""
    }
   },
   "source": [
    "## s2 data import"
   ]
  },
  {
   "cell_type": "code",
   "execution_count": 0,
   "metadata": {
    "application/vnd.databricks.v1+cell": {
     "cellMetadata": {
      "byteLimit": 2048000,
      "rowLimit": 10000
     },
     "inputWidgets": {},
     "nuid": "2045d9fe-2402-4c27-819e-4d77d8fac4a7",
     "showTitle": false,
     "tableResultSettingsMap": {},
     "title": ""
    }
   },
   "outputs": [],
   "source": [
    "df_global_calendar_meta = spark.read.format('delta').load(os.path.join(dir_data_meta, \"d001_global_cycle_calendar\"))\n",
    "df_fsr_field_meta = spark.read.format(\"delta\").load(os.path.join(dir_data_meta, \"d004_fsr_meta/fsr_field_meta\"))\n",
    "\n",
    "df_stg_cust = spark.read.format(\"delta\").load(os.path.join(dir_data_stg, \"staging_customer\"))\n",
    "df_stg_srvc = spark.read.format(\"delta\").load(os.path.join(dir_data_stg, \"staging_service\"))"
   ]
  },
  {
   "cell_type": "code",
   "execution_count": 0,
   "metadata": {
    "application/vnd.databricks.v1+cell": {
     "cellMetadata": {
      "byteLimit": 2048000,
      "rowLimit": 10000
     },
     "inputWidgets": {},
     "nuid": "9d6a79d3-abeb-4a41-a4f9-18a77da5655a",
     "showTitle": true,
     "tableResultSettingsMap": {
      "0": {
       "dataGridStateBlob": null,
       "filterBlob": "{\"filterGroups\":[],\"syncTimestamp\":1744777777929}",
       "queryPlanFiltersBlob": null,
       "tableResultIndex": 0
      }
     },
     "title": "check data"
    }
   },
   "outputs": [],
   "source": [
    "display(df_stg_cust.limit(10))\n",
    "display(df_stg_srvc.limit(10))\n",
    "display(df_global_calendar_meta.limit(10))"
   ]
  },
  {
   "cell_type": "markdown",
   "metadata": {
    "application/vnd.databricks.v1+cell": {
     "cellMetadata": {
      "byteLimit": 2048000,
      "rowLimit": 10000
     },
     "inputWidgets": {},
     "nuid": "f742c460-d35d-4af3-a728-5247d7c6a71a",
     "showTitle": false,
     "tableResultSettingsMap": {},
     "title": ""
    }
   },
   "source": [
    "## s3 data processing"
   ]
  },
  {
   "cell_type": "code",
   "execution_count": 0,
   "metadata": {
    "application/vnd.databricks.v1+cell": {
     "cellMetadata": {
      "byteLimit": 2048000,
      "rowLimit": 10000
     },
     "inputWidgets": {},
     "nuid": "017f927f-30a8-45a6-92a4-92710bee2331",
     "showTitle": true,
     "tableResultSettingsMap": {},
     "title": "parameters"
    }
   },
   "outputs": [],
   "source": [
    "vt_param_ssc_start_date = '2025-03-24'\n",
    "vt_param_ssc_end_date = '2025-04-06'\n",
    "vt_param_ssc_reporting_date = '2025-04-06'\n",
    "vt_param_ssc_reporting_cycle_type = 'rolling cycle'"
   ]
  },
  {
   "cell_type": "code",
   "execution_count": 0,
   "metadata": {
    "application/vnd.databricks.v1+cell": {
     "cellMetadata": {
      "byteLimit": 2048000,
      "rowLimit": 10000
     },
     "inputWidgets": {},
     "nuid": "9376bd3d-676c-4c97-82d3-cfa6630de54e",
     "showTitle": false,
     "tableResultSettingsMap": {},
     "title": ""
    }
   },
   "outputs": [],
   "source": [
    "df_base_stag_cust_curr = (\n",
    "    df_stg_cust\n",
    "    # identify the active customer base within the required period\n",
    "    .filter(\n",
    "        (f.col(\"record_start_date_time\") <= vt_param_ssc_end_date)\n",
    "        & (f.col(\"record_end_date_time\") >= vt_param_ssc_start_date)\n",
    "        & (f.col('converged_status')!= 'Services Inactive')\n",
    "    )\n",
    "    # pick the latest record within required period per customer_id \n",
    "    .withColumn(\n",
    "        'row_index'\n",
    "        , f.row_number().over(\n",
    "            Window\n",
    "            .partitionBy('customer_id')\n",
    "            .orderBy(\n",
    "                f.desc('record_start_date_time')\n",
    "                , f.desc('record_end_date_time')\n",
    "                , f.desc('record_update_date_time')\n",
    "            )\n",
    "        )\n",
    "    )\n",
    "    .withColumn(\n",
    "        'cust_status_change_cnt'\n",
    "        , f.count('*').over(\n",
    "                        Window\n",
    "                        .partitionBy(\"customer_id\")\n",
    "        )\n",
    "    )\n",
    "    .withColumn(\n",
    "        'cust_status_change_cnt'\n",
    "        , f.col(\"cust_status_change_cnt\") - 1\n",
    "    )\n",
    "   .filter(f.col('row_index') == 1)\n",
    "   .drop('row_index')\n",
    "   .drop('customer_status_name')\n",
    "   .withColumnRenamed('customer_id', 'fs_cust_id')\n",
    "   .withColumnRenamed('account_source_id', 'sf_id')\n",
    "   .withColumnRenamed('record_start_date_time', 'cust_status_start_date_time')\n",
    "   .withColumnRenamed('record_end_date_time', 'cust_status_end_date_time')\n",
    "   .withColumnRenamed('record_update_date_time', 'cust_status_update_date_time')\n",
    ")"
   ]
  },
  {
   "cell_type": "code",
   "execution_count": 0,
   "metadata": {
    "application/vnd.databricks.v1+cell": {
     "cellMetadata": {
      "byteLimit": 2048000,
      "rowLimit": 10000
     },
     "inputWidgets": {},
     "nuid": "a2d1d16f-ef13-4bb9-a371-942e2b89f570",
     "showTitle": false,
     "tableResultSettingsMap": {},
     "title": ""
    }
   },
   "outputs": [],
   "source": [
    "df_base_stag_srvc_curr = (\n",
    "    df_stg_srvc\n",
    "    # identify the unit base within the required period\n",
    "    .filter(\n",
    "        (f.col(\"record_start_date_time\") <= vt_param_ssc_end_date)\n",
    "        & (f.col(\"record_end_date_time\") >= vt_param_ssc_start_date)\n",
    "        & (f.col(\"plan_status\") != 'Inactive')\n",
    "        & (f.col(\"plan_status\") != 'Deleted')\n",
    "    )\n",
    "    # pick the latest record within required period per customer_id \n",
    "    .withColumn(\n",
    "        'row_index'\n",
    "        , f.row_number().over(\n",
    "            Window\n",
    "            .partitionBy('service_id')\n",
    "            .orderBy(\n",
    "                f.desc('record_start_date_time')\n",
    "                , f.desc('record_end_date_time')\n",
    "                , f.desc('record_update_date_time')\n",
    "            )\n",
    "        )\n",
    "    )\n",
    "    .withColumn(\n",
    "        'srvc_status_change_cnt'\n",
    "        , f.count('*').over(\n",
    "                        Window\n",
    "                        .partitionBy(\"customer_id\")\n",
    "        )\n",
    "    )\n",
    "    .withColumn(\n",
    "        'srvc_status_change_cnt'\n",
    "        , f.col(\"srvc_status_change_cnt\") - 1\n",
    "    )\n",
    "   .filter(f.col('row_index') == 1)\n",
    "   .drop('row_index')\n",
    "   .withColumnRenamed('service_id', 'fs_srvc_id')\n",
    "   .withColumnRenamed('customer_id', 'fs_cust_id')\n",
    "   .withColumnRenamed('billing_account_number', 'fs_acct_id')\n",
    "   .withColumnRenamed('record_start_date_time', 'srvc_status_start_date_time')\n",
    "   .withColumnRenamed('record_end_date_time', 'srvc_status_end_date_time')\n",
    "   .withColumnRenamed('record_update_date_time', 'srvc_status_update_date_time')\n",
    ")"
   ]
  },
  {
   "cell_type": "code",
   "execution_count": 0,
   "metadata": {
    "application/vnd.databricks.v1+cell": {
     "cellMetadata": {
      "byteLimit": 2048000,
      "rowLimit": 10000
     },
     "inputWidgets": {},
     "nuid": "f93ec935-d0e2-4dc8-bf04-ccd6a51b2554",
     "showTitle": true,
     "tableResultSettingsMap": {},
     "title": "check cnt"
    }
   },
   "outputs": [],
   "source": [
    "display(\n",
    "    df_base_stag_srvc_curr\n",
    "    .agg(\n",
    "        f.count('*')\n",
    "        , f.countDistinct('fs_srvc_id')\n",
    "        #, f.countDistinct('account_source_id')\n",
    "    ) \n",
    ")\n",
    "\n",
    "\n",
    "display(\n",
    "    df_base_stag_cust_curr\n",
    "    .agg(\n",
    "        f.count('*')\n",
    "        , f.countDistinct('fs_cust_id')\n",
    "        , f.countDistinct('sf_id')\n",
    "    )    \n",
    ")"
   ]
  },
  {
   "cell_type": "code",
   "execution_count": 0,
   "metadata": {
    "application/vnd.databricks.v1+cell": {
     "cellMetadata": {
      "byteLimit": 2048000,
      "rowLimit": 10000
     },
     "inputWidgets": {},
     "nuid": "914d0cf1-110f-4393-938a-f68637131b92",
     "showTitle": true,
     "tableResultSettingsMap": {},
     "title": "combine output"
    }
   },
   "outputs": [],
   "source": [
    "df_output_curr = (\n",
    "    df_base_stag_cust_curr\n",
    "    .join(df_base_stag_srvc_curr, ['fs_cust_id'], 'inner')\n",
    "    .withColumn('reporting_date', f.lit(vt_param_ssc_reporting_date))\n",
    "    .withColumn('reporting_cycle_type', f.lit(vt_param_ssc_reporting_cycle_type))\n",
    "    .withColumn('data_update_date', f.current_date())\n",
    "    .withColumn('data_udpate_dttm', f.current_timestamp())\n",
    ")"
   ]
  },
  {
   "cell_type": "code",
   "execution_count": 0,
   "metadata": {
    "application/vnd.databricks.v1+cell": {
     "cellMetadata": {
      "byteLimit": 2048000,
      "rowLimit": 10000
     },
     "inputWidgets": {},
     "nuid": "23099c79-1a9a-46b5-a886-089bb27a3e37",
     "showTitle": false,
     "tableResultSettingsMap": {},
     "title": ""
    }
   },
   "outputs": [],
   "source": [
    "display(df_output_curr.limit(10))"
   ]
  },
  {
   "cell_type": "code",
   "execution_count": 0,
   "metadata": {
    "application/vnd.databricks.v1+cell": {
     "cellMetadata": {
      "byteLimit": 2048000,
      "rowLimit": 10000
     },
     "inputWidgets": {},
     "nuid": "3c543860-0632-468d-85d3-c6995af5cb45",
     "showTitle": false,
     "tableResultSettingsMap": {},
     "title": ""
    }
   },
   "outputs": [],
   "source": [
    "display(\n",
    "    df_output_curr\n",
    "    .agg(\n",
    "        f.count('*')\n",
    "        , f.countDistinct('sf_id')\n",
    "        , f.countDistinct('fs_cust_id')\n",
    "        , f.countDistinct('fs_acct_id')\n",
    "        , f.countDistinct('fs_srvc_id')\n",
    "    )     \n",
    ")"
   ]
  },
  {
   "cell_type": "code",
   "execution_count": 0,
   "metadata": {
    "application/vnd.databricks.v1+cell": {
     "cellMetadata": {
      "byteLimit": 2048000,
      "rowLimit": 10000
     },
     "inputWidgets": {},
     "nuid": "e9d1ace4-8a36-4f47-89f0-1ed0643bc4a8",
     "showTitle": false,
     "tableResultSettingsMap": {},
     "title": ""
    }
   },
   "outputs": [],
   "source": [
    "(\n",
    "    df_output_curr\n",
    "    .write \n",
    "    .format(\"delta\") \n",
    "    .mode(\"overwrite\") \n",
    "    .partitionBy(\"reporting_date\") \n",
    "    .save(os.path.join(dir_data_int,'int_scc_service'))\n",
    ")"
   ]
  },
  {
   "cell_type": "code",
   "execution_count": 0,
   "metadata": {
    "application/vnd.databricks.v1+cell": {
     "cellMetadata": {
      "byteLimit": 2048000,
      "rowLimit": 10000
     },
     "inputWidgets": {},
     "nuid": "b5744e01-0473-4e0e-aefc-3881095f1f17",
     "showTitle": true,
     "tableResultSettingsMap": {},
     "title": "check record"
    }
   },
   "outputs": [],
   "source": [
    "df_test = spark.read.format('delta').load('/mnt/feature-store-dev/feature-store-business/dev_users/dev_sc/2025q1_bfs/d200_intermediate/int_scc_service')"
   ]
  },
  {
   "cell_type": "code",
   "execution_count": 0,
   "metadata": {
    "application/vnd.databricks.v1+cell": {
     "cellMetadata": {
      "byteLimit": 2048000,
      "rowLimit": 10000
     },
     "inputWidgets": {},
     "nuid": "5b59a7df-e31b-42c1-b455-ad28ca191425",
     "showTitle": false,
     "tableResultSettingsMap": {},
     "title": ""
    }
   },
   "outputs": [],
   "source": [
    "display(\n",
    "    df_test\n",
    "    .agg(\n",
    "        f.count('*')\n",
    "        , f.countDistinct('sf_id')\n",
    "        , f.countDistinct('fs_cust_id')\n",
    "        , f.countDistinct('fs_acct_id')\n",
    "        , f.countDistinct('fs_srvc_id')\n",
    "    )     \n",
    ")\n",
    "\n",
    "display(df_test.limit(10))"
   ]
  },
  {
   "cell_type": "code",
   "execution_count": 0,
   "metadata": {
    "application/vnd.databricks.v1+cell": {
     "cellMetadata": {
      "byteLimit": 2048000,
      "rowLimit": 10000
     },
     "inputWidgets": {},
     "nuid": "c8ff9fcb-e03e-4fe2-a86a-c54fd59988cb",
     "showTitle": false,
     "tableResultSettingsMap": {},
     "title": ""
    }
   },
   "outputs": [],
   "source": [
    "def show_group_counts(df, group_cols, id_cols):\n",
    "    \"\"\"\n",
    "    For each column in group_cols, groups df by that column and shows:\n",
    "     - total row count\n",
    "     - distinct counts of each col in id_cols\n",
    "    \"\"\"\n",
    "    # pre-build the aggregate expressions once\n",
    "    agg_exprs = [f.count(\"*\").alias(\"total_count\")] + [\n",
    "        f.countDistinct(c).alias(f\"distinct_{c}\") for c in id_cols\n",
    "    ]\n",
    "\n",
    "    for col in group_cols:\n",
    "        print(f\"▶︎ grouping by: {col}\")\n",
    "        display(\n",
    "            df\n",
    "            #.filter(f.col('sf_id')!= '001w0000014sdZsAAI')\n",
    "            .groupBy(col)\n",
    "            .agg(*agg_exprs)\n",
    "            .withColumn(\"pct\", f.col(\"total_count\") / f.sum(\"total_count\").over(Window.partitionBy()))\n",
    "            .withColumn('pct%', f.col(\"pct\")*100)\n",
    "            #.drop(\"pct\")\n",
    "            .orderBy(f.desc(\"total_count\"))\n",
    "        )\n",
    "\n",
    "# then just call it with your lists:\n",
    "group_columns = [\n",
    "    \"customer_type\",\n",
    "    \"customer_mkt_segment\",\n",
    "    \"sales_segment_new\",\n",
    "    \"service_segment\",\n",
    "    \"source_system_code\",\n",
    "    \"service_type_name\",\n",
    "    \"sf_ent_account_status_name\", \n",
    "    \"converged_status\", \n",
    "    \"paymt_meth_cd\", \n",
    "    \"proposition_name\", \n",
    "    \"plan_status\", \n",
    "    \"contract_term\", \n",
    "    \"number_of_employees\",\n",
    "    \"owner_email\", \n",
    "    \"plan_name\"\n",
    "]\n",
    "\n",
    "id_columns = [\n",
    "    \"sf_id\",\n",
    "    \"fs_cust_id\",\n",
    "    \"fs_acct_id\",\n",
    "    \"fs_srvc_id\",\n",
    "]\n",
    "\n",
    "show_group_counts(df_test, group_columns, id_columns)\n"
   ]
  },
  {
   "cell_type": "code",
   "execution_count": 0,
   "metadata": {
    "application/vnd.databricks.v1+cell": {
     "cellMetadata": {
      "byteLimit": 2048000,
      "rowLimit": 10000
     },
     "inputWidgets": {},
     "nuid": "921fcc8b-7d60-4d91-96d0-40c21e17fae0",
     "showTitle": false,
     "tableResultSettingsMap": {},
     "title": ""
    }
   },
   "outputs": [],
   "source": [
    "def show_group_counts(df, group_cols, id_cols):\n",
    "    \"\"\"\n",
    "    For each column in group_cols, groups df by that column and shows:\n",
    "     - total row count\n",
    "     - distinct counts of each col in id_cols\n",
    "    \"\"\"\n",
    "    # pre-build the aggregate expressions once\n",
    "    agg_exprs = [f.count(\"*\").alias(\"total_count\")] + [\n",
    "        f.countDistinct(c).alias(f\"distinct_{c}\") for c in id_cols\n",
    "    ]\n",
    "\n",
    "    for col in group_cols:\n",
    "        print(f\"▶︎ grouping by: {col}\")\n",
    "        display(\n",
    "            df\n",
    "            .filter(f.col('sf_id')!= '001w0000014sdZsAAI')\n",
    "            .groupBy(col)\n",
    "            .agg(*agg_exprs)\n",
    "            .withColumn(\"pct\", f.col(\"total_count\") / f.sum(\"total_count\").over(Window.partitionBy()))\n",
    "            .withColumn('pct%', f.col(\"pct\")*100)\n",
    "            #.drop(\"pct\")\n",
    "            .orderBy(f.desc(\"total_count\"))\n",
    "        )\n",
    "\n",
    "# then just call it with your lists:\n",
    "group_columns = [\n",
    "    \"customer_type\",\n",
    "    \"customer_mkt_segment\",\n",
    "    \"sales_segment_new\",\n",
    "    \"service_segment\",\n",
    "    \"source_system_code\",\n",
    "    \"service_type_name\",\n",
    "    \"sf_ent_account_status_name\", \n",
    "    \"converged_status\", \n",
    "    \"paymt_meth_cd\", \n",
    "    \"proposition_name\", \n",
    "    \"plan_status\", \n",
    "    \"contract_term\", \n",
    "    \"number_of_employees\",\n",
    "    \"owner_email\", \n",
    "    \"plan_name\"\n",
    "]\n",
    "\n",
    "id_columns = [\n",
    "    \"sf_id\",\n",
    "    \"fs_cust_id\",\n",
    "    \"fs_acct_id\",\n",
    "    \"fs_srvc_id\",\n",
    "]\n",
    "\n",
    "show_group_counts(df_test, group_columns, id_columns)\n"
   ]
  },
  {
   "cell_type": "code",
   "execution_count": 0,
   "metadata": {
    "application/vnd.databricks.v1+cell": {
     "cellMetadata": {
      "byteLimit": 2048000,
      "rowLimit": 10000
     },
     "inputWidgets": {},
     "nuid": "279ed1a0-ac96-41dd-a967-5f2a401e0446",
     "showTitle": false,
     "tableResultSettingsMap": {},
     "title": ""
    }
   },
   "outputs": [],
   "source": [
    "display(\n",
    "    df_test\n",
    "    .filter(f.col('plan_status') =='Unknown')\n",
    "    .groupBy(\n",
    "        f.col('proposition_name')\n",
    "        , f.col('plan_name')\n",
    "    )\n",
    "    .agg(f.count('*'))\n",
    ")\n",
    "\n",
    "display(\n",
    "    df_test\n",
    "    .filter(f.col('number_of_employees') == '7882817')\n",
    "    .limit(10)\n",
    ")"
   ]
  },
  {
   "cell_type": "code",
   "execution_count": 0,
   "metadata": {
    "application/vnd.databricks.v1+cell": {
     "cellMetadata": {
      "byteLimit": 2048000,
      "rowLimit": 10000
     },
     "inputWidgets": {},
     "nuid": "6e958d0c-c0f1-45a5-b79b-5fafad618e0c",
     "showTitle": false,
     "tableResultSettingsMap": {},
     "title": ""
    }
   },
   "outputs": [],
   "source": [
    "display(\n",
    "    df_test\n",
    "    .filter(f.col('source_system_code')!= 'SBL')\n",
    "    #.filter(f.col('converged_status') == 'Unknown')\n",
    "    .groupBy('converged_status','source_system_code')\n",
    "    .agg(f.count('*'))\n",
    "    .limit(100)\n",
    ")"
   ]
  }
 ],
 "metadata": {
  "application/vnd.databricks.v1+notebook": {
   "computePreferences": null,
   "dashboards": [],
   "environmentMetadata": {
    "base_environment": "",
    "environment_version": "2"
   },
   "inputWidgetPreferences": null,
   "language": "python",
   "notebookMetadata": {
    "pythonIndentUnit": 4
   },
   "notebookName": "bfs_int_unitbase",
   "widgets": {}
  },
  "language_info": {
   "name": "python"
  }
 },
 "nbformat": 4,
 "nbformat_minor": 0
}
