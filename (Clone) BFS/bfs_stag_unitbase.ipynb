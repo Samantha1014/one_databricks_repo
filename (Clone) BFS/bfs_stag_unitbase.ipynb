{
 "cells": [
  {
   "cell_type": "markdown",
   "metadata": {
    "application/vnd.databricks.v1+cell": {
     "cellMetadata": {},
     "inputWidgets": {},
     "nuid": "2cab117f-0e01-4b49-bdc3-40b30be5a06a",
     "showTitle": false,
     "tableResultSettingsMap": {},
     "title": ""
    }
   },
   "source": [
    "## s1 environment setup"
   ]
  },
  {
   "cell_type": "code",
   "execution_count": 0,
   "metadata": {
    "application/vnd.databricks.v1+cell": {
     "cellMetadata": {
      "byteLimit": 2048000,
      "rowLimit": 10000
     },
     "inputWidgets": {},
     "nuid": "55cb3f88-5a74-4ecb-a706-ea10f9f90f0f",
     "showTitle": true,
     "tableResultSettingsMap": {},
     "title": "libraries"
    }
   },
   "outputs": [],
   "source": [
    "### libraries\n",
    "import pyspark\n",
    "import os\n",
    "\n",
    "import re\n",
    "import numpy as np\n",
    "\n",
    "from pyspark import sql \n",
    "from pyspark.sql import Window\n",
    "from pyspark.sql import functions as f"
   ]
  },
  {
   "cell_type": "code",
   "execution_count": 0,
   "metadata": {
    "application/vnd.databricks.v1+cell": {
     "cellMetadata": {
      "byteLimit": 2048000,
      "rowLimit": 10000
     },
     "inputWidgets": {},
     "nuid": "17a126d3-517c-4b67-ac59-60fe4407b885",
     "showTitle": true,
     "tableResultSettingsMap": {},
     "title": "sf connector"
    }
   },
   "outputs": [],
   "source": [
    "# ------------- Use snowflake utility\n",
    "sfUtils = sc._jvm.net.snowflake.spark.snowflake.Utils\n",
    "\n",
    "# ------------ login to snowflake\n",
    "password = dbutils.secrets.get(scope = \"auea-kv-sbx-dxdtlprdct01\", key = \"sfdbrsdskey\")\n",
    "\n",
    "options = {\n",
    "  \"sfUrl\": \"vodafonenz_prod.australia-east.azure.snowflakecomputing.com/\", \n",
    "  \"sfUser\": \"SVC_LAB_DS_DATABRICKS\",\n",
    "  \"pem_private_key\": password.replace('\\\\n', '\\n'),\n",
    "  \"sfDatabase\": \"LAB_ML_STORE\",\n",
    "  \"sfSchema\": \"SANDBOX\",\n",
    "  \"sfWarehouse\": \"LAB_DS_WH\"\n",
    "}"
   ]
  },
  {
   "cell_type": "markdown",
   "metadata": {
    "application/vnd.databricks.v1+cell": {
     "cellMetadata": {},
     "inputWidgets": {},
     "nuid": "ec211f5a-fef7-4853-b3c5-ada77c10ba21",
     "showTitle": false,
     "tableResultSettingsMap": {},
     "title": ""
    }
   },
   "source": [
    "### utility functions"
   ]
  },
  {
   "cell_type": "code",
   "execution_count": 0,
   "metadata": {
    "application/vnd.databricks.v1+cell": {
     "cellMetadata": {
      "byteLimit": 2048000,
      "rowLimit": 10000
     },
     "inputWidgets": {},
     "nuid": "1390d012-59f2-473d-b058-51edffa08acf",
     "showTitle": false,
     "tableResultSettingsMap": {},
     "title": ""
    }
   },
   "outputs": [],
   "source": [
    "%run \"../utility_functions/spkdf_utils\""
   ]
  },
  {
   "cell_type": "code",
   "execution_count": 0,
   "metadata": {
    "application/vnd.databricks.v1+cell": {
     "cellMetadata": {
      "byteLimit": 2048000,
      "rowLimit": 10000
     },
     "inputWidgets": {},
     "nuid": "83e81eec-1f95-4cad-8ac1-3c88ac329c7b",
     "showTitle": false,
     "tableResultSettingsMap": {},
     "title": ""
    }
   },
   "outputs": [],
   "source": [
    "%run \"../utility_functions/utility_functions\""
   ]
  },
  {
   "cell_type": "code",
   "execution_count": 0,
   "metadata": {
    "application/vnd.databricks.v1+cell": {
     "cellMetadata": {
      "byteLimit": 2048000,
      "rowLimit": 10000
     },
     "inputWidgets": {},
     "nuid": "8924aaf8-5a51-4d53-9e4d-3b7d1436b362",
     "showTitle": false,
     "tableResultSettingsMap": {},
     "title": ""
    }
   },
   "outputs": [],
   "source": [
    "%run \"../utility_functions/misc\""
   ]
  },
  {
   "cell_type": "markdown",
   "metadata": {
    "application/vnd.databricks.v1+cell": {
     "cellMetadata": {},
     "inputWidgets": {},
     "nuid": "2b596475-a0a1-4d9b-b288-1223bcd73d60",
     "showTitle": false,
     "tableResultSettingsMap": {},
     "title": ""
    }
   },
   "source": [
    "### directories"
   ]
  },
  {
   "cell_type": "code",
   "execution_count": 0,
   "metadata": {
    "application/vnd.databricks.v1+cell": {
     "cellMetadata": {
      "byteLimit": 2048000,
      "rowLimit": 10000
     },
     "inputWidgets": {},
     "nuid": "89dfa658-487c-4602-8ee7-d79e8fb74494",
     "showTitle": true,
     "tableResultSettingsMap": {},
     "title": "directories 01"
    }
   },
   "outputs": [],
   "source": [
    "dir_data_parent = \"/mnt/feature-store-dev/feature-store-business\"\n",
    "dir_data_parent_shared = os.path.join(dir_data_parent, \"dev_shared\")\n",
    "dir_data_parent_users = os.path.join(dir_data_parent, \"dev_users/dev_sc/2025q1_bfs\")"
   ]
  },
  {
   "cell_type": "code",
   "execution_count": 0,
   "metadata": {
    "application/vnd.databricks.v1+cell": {
     "cellMetadata": {
      "byteLimit": 2048000,
      "rowLimit": 10000
     },
     "inputWidgets": {},
     "nuid": "0b3fa652-1cc4-4fb9-a3b4-54d3667ecf34",
     "showTitle": true,
     "tableResultSettingsMap": {},
     "title": "directories 02"
    }
   },
   "outputs": [],
   "source": [
    "dir_data_raw =  os.path.join(dir_data_parent_shared, 'd100_raw')\n",
    "dir_data_meta = os.path.join(dir_data_parent_users, 'd000_meta')\n",
    "dir_data_stg = os.path.join(dir_data_parent_users, \"d200_staging\")\n",
    "dir_data_int =  os.path.join(dir_data_parent_users, \"d200_intermediate\")\n",
    "dir_data_prm =  os.path.join(dir_data_parent_users, \"d300_primary\")\n",
    "dir_data_fea =  os.path.join(dir_data_parent_users, \"d400_feature\")\n",
    "dir_data_mvmt = os.path.join(dir_data_parent_users, \"d500_movement\")\n",
    "dir_data_serv = os.path.join(dir_data_parent_users, \"d600_serving\")\n",
    "dir_data_tmp =  os.path.join(dir_data_parent_users, \"d999_tmp\")"
   ]
  },
  {
   "cell_type": "markdown",
   "metadata": {
    "application/vnd.databricks.v1+cell": {
     "cellMetadata": {},
     "inputWidgets": {},
     "nuid": "e61e911a-5592-4e74-b40a-7b6f772fd360",
     "showTitle": false,
     "tableResultSettingsMap": {},
     "title": ""
    }
   },
   "source": [
    "## s2 data import"
   ]
  },
  {
   "cell_type": "code",
   "execution_count": 0,
   "metadata": {
    "application/vnd.databricks.v1+cell": {
     "cellMetadata": {
      "byteLimit": 2048000,
      "rowLimit": 10000
     },
     "inputWidgets": {},
     "nuid": "a9c5b09f-e51a-4823-99af-75ea42cadf4f",
     "showTitle": false,
     "tableResultSettingsMap": {},
     "title": ""
    }
   },
   "outputs": [],
   "source": [
    "df_global_calendar_meta = spark.read.format('delta').load('dbfs:/mnt/feature-store-prod-lab/d000_meta/d001_global_cycle_calendar')\n",
    "df_fsr_field_meta = spark.read.format(\"delta\").load(os.path.join(dir_data_meta, \"d004_fsr_meta/fsr_field_meta\"))"
   ]
  },
  {
   "cell_type": "code",
   "execution_count": 0,
   "metadata": {
    "application/vnd.databricks.v1+cell": {
     "cellMetadata": {
      "byteLimit": 2048000,
      "rowLimit": 10000
     },
     "inputWidgets": {},
     "nuid": "e654acfd-b47b-48e5-a24d-d7943f80498c",
     "showTitle": true,
     "tableResultSettingsMap": {},
     "title": "raw table 01"
    }
   },
   "outputs": [],
   "source": [
    "# # d_customer \n",
    "# df_raw_d_cust = spark.read.format('delta').load(os.path.join(dir_data_raw, 'd105_dp_martech/raw_martech_d_customer'))\n",
    "# # d_service \n",
    "# df_raw_d_srvc = spark.read.format('delta').load(os.path.join(dir_data_raw, 'd105_dp_martech/raw_martech_d_service'))\n",
    "# # d_sf_ent_contact \n",
    "# df_raw_d_sf_ent_contact = spark.read.format('delta').load(os.path.join(dir_data_raw, 'd105_dp_martech/raw_martech_d_ent_contact'))\n",
    "# # d_sf_ent_account \n",
    "# df_raw_d_sf_ent_account = spark.read.format('delta').load(os.path.join(dir_data_raw, 'd105_dp_martech/raw_martech_d_ent_account'))\n",
    "# # d_sf_ent_customer_datasource \n",
    "# df_raw_d_sf_ent_cust_ds = spark.read.format('delta').load(os.path.join(dir_data_raw, 'd105_dp_martech/raw_martech_d_ent_customer_datasource'))\n",
    "# # f_sf_ent_customer_relationship \n",
    "# df_raw_f_cust = spark.read.format('delta').load(os.path.join(dir_data_raw, 'd105_dp_martech/raw_martech_f_ent_customer_relationship'))\n",
    "# # f_sf_ent_customer_contact_relationship \n",
    "# df_raw_f_cust_contact = spark.read.format('delta').load(os.path.join(dir_data_raw, 'd105_dp_martech/raw_martech_f_ent_customer_contact_relationship'))"
   ]
  },
  {
   "cell_type": "markdown",
   "metadata": {
    "application/vnd.databricks.v1+cell": {
     "cellMetadata": {},
     "inputWidgets": {},
     "nuid": "9ba3149c-d4aa-40cb-a78e-561f2975143c",
     "showTitle": false,
     "tableResultSettingsMap": {},
     "title": ""
    }
   },
   "source": [
    "## s03 stage layer 01"
   ]
  },
  {
   "cell_type": "code",
   "execution_count": 0,
   "metadata": {
    "application/vnd.databricks.v1+cell": {
     "cellMetadata": {
      "byteLimit": 2048000,
      "rowLimit": 10000
     },
     "inputWidgets": {},
     "nuid": "2af64344-9a76-4200-ab9e-42b7204c1d9d",
     "showTitle": true,
     "tableResultSettingsMap": {},
     "title": "customber"
    }
   },
   "outputs": [],
   "source": [
    "df_stag_cust_01 = spark.sql(\n",
    "    f\"\"\"\n",
    "        select \n",
    "            f_cust.account_source_id\n",
    "            , f_cust.customer_id \n",
    "            , f_cust.record_start_date_time\n",
    "            , f_cust.record_end_date_time\n",
    "            , f_cust.record_update_date_time\n",
    "            --, f_cust.current_record_flag\n",
    "            , customer_type\n",
    "            , customer_mkt_segment \n",
    "            , customer_status_name\n",
    "            , d_account.customer_name\n",
    "            , customer_first_name\n",
    "            , customer_middle_name\n",
    "            , customer_last_name \n",
    "            , trading_as_name\n",
    "            , company_registration_number \n",
    "            , NZBN\n",
    "            , number_of_employees\n",
    "            , owner_email\n",
    "            , owner_first_name\n",
    "            , owner_last_name\n",
    "            , revenue_last_month_amount \n",
    "            , total_monthly_revenue\n",
    "            , total_revenue_last_12_mths\n",
    "            , account_landscaping_completeness\n",
    "            , landscaped_status_desc\n",
    "            , sales_segment\n",
    "            , service_segment\n",
    "            , sales_segment_new\n",
    "            , sb_unmanaged_flag\n",
    "            , sf_ent_account_status_name\n",
    "            , sbl_consumer_send_promotes_email_flag\n",
    "            , sbl_consumer_send_promotes_outbound_call_flag\n",
    "            , sbl_consumer_send_promotes_txt_flag\n",
    "            , business_customer_send_promotes_flag\n",
    "            , customer_email\n",
    "            , converged_status\n",
    "            , customer_primary_contact_id\n",
    "            , customer_primary_contact_email\n",
    "            , customer_birth_date\n",
    "            , customer_activation_date\n",
    "            , customer_default_bill_cycle_id\n",
    "            , source_system_code\n",
    "        from delta.`{dir_data_raw}/d105_dp_martech/raw_martech_f_ent_customer_relationship` f_cust\n",
    "        left join delta.`{dir_data_raw}/d105_dp_martech/raw_martech_d_customer` d_cust\n",
    "            on f_cust.d_customer_key = d_cust.d_customer_key\n",
    "        left join delta.`{dir_data_raw}/d105_dp_martech/raw_martech_d_ent_account` d_account\n",
    "            on f_cust.d_sf_ent_account_key = d_account.d_sf_ent_account_key \n",
    "        -- left join delta.`{dir_data_raw}/d105_dp_martech/raw_martech_d_ent_customer_datasource` d_sf_cust_ds\n",
    "        --      on f_cust.d_sf_ent_customer_datasource_key = d_sf_cust_ds.d_sf_ent_customer_datasource_key \n",
    "        --      and d_sf_cust_ds.customer_active_flag = 'Y'\n",
    "        where d_cust.customer_status_name = 'Active'\n",
    "            and f_cust.customer_id != 'Unknown'  \n",
    "\n",
    "    \"\"\"\n",
    ")"
   ]
  },
  {
   "cell_type": "code",
   "execution_count": 0,
   "metadata": {
    "application/vnd.databricks.v1+cell": {
     "cellMetadata": {
      "byteLimit": 2048000,
      "rowLimit": 10000
     },
     "inputWidgets": {},
     "nuid": "ae24ece5-71bc-4ff3-9e60-c0588080f36b",
     "showTitle": true,
     "tableResultSettingsMap": {},
     "title": "service"
    }
   },
   "outputs": [],
   "source": [
    "df_stag_srvc_01 = spark.sql(\n",
    "    f\"\"\"\n",
    "        select \n",
    "           service_id\n",
    "           , customer_id\n",
    "           , billing_account_number\n",
    "           , service_type_name\n",
    "           , paymt_meth_cd\n",
    "           , mobile_number\n",
    "           , plan_name\n",
    "           , connection_activation_date\n",
    "           , plan_start_date\n",
    "           , product_subscription_date\n",
    "           , proposition_installed_date_time\n",
    "           , proposition_name\n",
    "           , plan_status\n",
    "           , contract_start_date\n",
    "           , contract_end_date\n",
    "           , contract_term\n",
    "           , record_start_date_time\n",
    "           , record_end_date_time\n",
    "           , record_update_date_time\n",
    "           --, current_record_flag\n",
    "        from delta.`{dir_data_raw}/d105_dp_martech/raw_martech_d_service` d_srvc\n",
    "        where d_srvc.service_status_name = 'Active'\n",
    "    \"\"\"\n",
    ")"
   ]
  },
  {
   "cell_type": "code",
   "execution_count": 0,
   "metadata": {
    "application/vnd.databricks.v1+cell": {
     "cellMetadata": {
      "byteLimit": 2048000,
      "rowLimit": 10000
     },
     "inputWidgets": {},
     "nuid": "5c014623-f296-4968-ab5f-1ba8b2e40ce5",
     "showTitle": true,
     "tableResultSettingsMap": {},
     "title": "check record"
    }
   },
   "outputs": [],
   "source": [
    "display(df_stag_cust_01.limit(10))\n",
    "display(df_stag_srvc_01.limit(10))"
   ]
  },
  {
   "cell_type": "code",
   "execution_count": 0,
   "metadata": {
    "application/vnd.databricks.v1+cell": {
     "cellMetadata": {
      "byteLimit": 2048000,
      "rowLimit": 10000
     },
     "inputWidgets": {},
     "nuid": "a9ed9de8-0c8a-47f1-8363-0968eb09f934",
     "showTitle": false,
     "tableResultSettingsMap": {},
     "title": ""
    }
   },
   "outputs": [],
   "source": [
    "(\n",
    "    df_stag_cust_01\n",
    "    .write \n",
    "    .format(\"delta\") \n",
    "    .mode(\"overwrite\") \n",
    "    .partitionBy(\"record_update_date_time\") \n",
    "    .save(\"/mnt/feature-store-dev/feature-store-business/dev_users/dev_sc/2025q1_bfs/d200_staging/staging_customer\")\n",
    ")"
   ]
  },
  {
   "cell_type": "code",
   "execution_count": 0,
   "metadata": {
    "application/vnd.databricks.v1+cell": {
     "cellMetadata": {
      "byteLimit": 2048000,
      "rowLimit": 10000
     },
     "inputWidgets": {},
     "nuid": "8084be68-283e-4f27-9c01-aff9e2a44a7f",
     "showTitle": false,
     "tableResultSettingsMap": {},
     "title": ""
    }
   },
   "outputs": [],
   "source": [
    "(\n",
    "    df_stag_srvc_01\n",
    "    .write \n",
    "    .format(\"delta\") \n",
    "    .mode(\"overwrite\") \n",
    "    .partitionBy(\"record_update_date_time\") \n",
    "    .save(\"/mnt/feature-store-dev/feature-store-business/dev_users/dev_sc/2025q1_bfs/d200_staging/staging_service\")\n",
    ")"
   ]
  },
  {
   "cell_type": "markdown",
   "metadata": {
    "application/vnd.databricks.v1+cell": {
     "cellMetadata": {},
     "inputWidgets": {},
     "nuid": "bc56777a-a2ea-4724-a24e-092660d092c8",
     "showTitle": false,
     "tableResultSettingsMap": {},
     "title": ""
    }
   },
   "source": [
    "### "
   ]
  }
 ],
 "metadata": {
  "application/vnd.databricks.v1+notebook": {
   "computePreferences": null,
   "dashboards": [],
   "environmentMetadata": {
    "base_environment": "",
    "environment_version": "2"
   },
   "inputWidgetPreferences": null,
   "language": "python",
   "notebookMetadata": {
    "mostRecentlyExecutedCommandWithImplicitDF": {
     "commandId": 7904652382199099,
     "dataframes": [
      "_sqldf"
     ]
    },
    "pythonIndentUnit": 4
   },
   "notebookName": "bfs_stag_unitbase",
   "widgets": {}
  },
  "language_info": {
   "name": "python"
  }
 },
 "nbformat": 4,
 "nbformat_minor": 0
}
