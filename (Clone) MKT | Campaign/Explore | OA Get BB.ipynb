{
 "cells": [
  {
   "cell_type": "code",
   "execution_count": 0,
   "metadata": {
    "application/vnd.databricks.v1+cell": {
     "cellMetadata": {
      "byteLimit": 2048000,
      "rowLimit": 10000
     },
     "inputWidgets": {},
     "nuid": "b4cddaa6-1ab6-4251-8b0a-c1267631e563",
     "showTitle": false,
     "tableResultSettingsMap": {},
     "title": ""
    }
   },
   "outputs": [],
   "source": [
    "from pyspark.sql import functions as f"
   ]
  },
  {
   "cell_type": "code",
   "execution_count": 0,
   "metadata": {
    "application/vnd.databricks.v1+cell": {
     "cellMetadata": {
      "byteLimit": 2048000,
      "rowLimit": 10000
     },
     "inputWidgets": {},
     "nuid": "c04d22dc-51c6-4b32-b8a4-316934b443c8",
     "showTitle": false,
     "tableResultSettingsMap": {},
     "title": ""
    }
   },
   "outputs": [],
   "source": [
    "password = dbutils.secrets.get(scope = \"auea-kv-sbx-dxdtlprdct01\", key = \"sfdbrsdskey\")\n",
    "options = {\n",
    "  \"sfUrl\": \"vodafonenz_prod.australia-east.azure.snowflakecomputing.com\", \n",
    "  \"sfUser\": \"SVC_LAB_DS_DATABRICKS\",\n",
    "  \"pem_private_key\": password.replace('\\\\n', '\\n'),\n",
    "  \"sfDatabase\": \"prod_pdb_masked\",\n",
    "  \"sfSchema\": \"modelled\",\n",
    "  \"sfWarehouse\": \"LAB_DS_WH\"\n",
    "}"
   ]
  },
  {
   "cell_type": "code",
   "execution_count": 0,
   "metadata": {
    "application/vnd.databricks.v1+cell": {
     "cellMetadata": {
      "byteLimit": 2048000,
      "rowLimit": 10000
     },
     "inputWidgets": {},
     "nuid": "3314bb5f-6220-4246-9145-6fe578cff15f",
     "showTitle": false,
     "tableResultSettingsMap": {},
     "title": ""
    }
   },
   "outputs": [],
   "source": [
    "df_fea_unit_base = spark.read.format('delta').load('/mnt/feature-store-prod-lab/d400_feature/d401_mobile_oa_consumer/fea_unit_base/reporting_cycle_type=rolling cycle')"
   ]
  },
  {
   "cell_type": "code",
   "execution_count": 0,
   "metadata": {
    "application/vnd.databricks.v1+cell": {
     "cellMetadata": {
      "byteLimit": 2048000,
      "rowLimit": 10000
     },
     "inputWidgets": {},
     "nuid": "ffb7eee3-4c76-4104-bb22-f7940ec800d4",
     "showTitle": false,
     "tableResultSettingsMap": {},
     "title": ""
    }
   },
   "outputs": [],
   "source": [
    "df_bb_base = (\n",
    "    spark\n",
    "    .read\n",
    "    .format(\"snowflake\")\n",
    "    .options(**options)\n",
    "    .option(\n",
    "        \"query\"\n",
    "        , \"\"\"\n",
    "        select * from lab_ml_store.sandbox.sc_consumer_bb_martech_base\n",
    "        \"\"\"\n",
    "    )\n",
    "    .load()\n",
    ")"
   ]
  },
  {
   "cell_type": "code",
   "execution_count": 0,
   "metadata": {
    "application/vnd.databricks.v1+cell": {
     "cellMetadata": {
      "byteLimit": 2048000,
      "rowLimit": 10000
     },
     "inputWidgets": {},
     "nuid": "ccb2f679-1125-4a07-b99e-9222f0d3535f",
     "showTitle": false,
     "tableResultSettingsMap": {},
     "title": ""
    }
   },
   "outputs": [],
   "source": [
    "df_bb_order_activation = (\n",
    "    spark\n",
    "    .read\n",
    "    .format(\"snowflake\")\n",
    "    .options(**options)\n",
    "    .option(\n",
    "        \"query\"\n",
    "        , \"\"\"\n",
    "        select * from LAB_ML_STORE.SANDBOX.SC_CONSUMER_BB_MARTECH_ALL_CONNECTIONS_ORDERS\n",
    "        \"\"\"\n",
    "    )\n",
    "    .load()\n",
    ")"
   ]
  },
  {
   "cell_type": "code",
   "execution_count": 0,
   "metadata": {
    "application/vnd.databricks.v1+cell": {
     "cellMetadata": {
      "byteLimit": 2048000,
      "rowLimit": 10000
     },
     "inputWidgets": {},
     "nuid": "2e08c386-5d53-4ab6-9127-f31821de970d",
     "showTitle": false,
     "tableResultSettingsMap": {},
     "title": ""
    }
   },
   "outputs": [],
   "source": [
    "display(\n",
    "    df_bb_base\n",
    "    .groupBy('cal_date')\n",
    "    .agg(f.count('*')\n",
    "         , f.countDistinct('service_id')\n",
    "         , f.countDistinct('customer_id')\n",
    "         , f.countDistinct('billing_account_number')\n",
    "         ) \n",
    ")"
   ]
  },
  {
   "cell_type": "code",
   "execution_count": 0,
   "metadata": {
    "application/vnd.databricks.v1+cell": {
     "cellMetadata": {
      "byteLimit": 2048000,
      "rowLimit": 10000
     },
     "inputWidgets": {},
     "nuid": "e237ba41-5036-4eb9-98a3-08c4fa06002b",
     "showTitle": true,
     "tableResultSettingsMap": {},
     "title": "customer level non converged"
    }
   },
   "outputs": [],
   "source": [
    "display(\n",
    "    df_fea_unit_base\n",
    "    .filter(f.col('reporting_date') >= '2024-05-01')\n",
    "    .join(\n",
    "        df_bb_base\n",
    "        .withColumn('bb_reporting_date', f.date_add(f.col('cal_date'), 1))\n",
    "        .filter(f.col('bb_reporting_date') >= '2024-05-01')\n",
    "        , (f.col('fs_cust_id') == f.col('customer_id') )\n",
    "           & (f.col('reporting_date') == f.col('bb_reporting_date'))\n",
    "        , 'anti')\n",
    "    .groupBy('reporting_date')\n",
    "    .agg(\n",
    "        f.count('*')\n",
    "        , f.countDistinct('fs_srvc_id')\n",
    "        , f.countDistinct('fs_cust_id')\n",
    "        , f.countDistinct('fs_acct_id')\n",
    "    )\n",
    ")\n"
   ]
  },
  {
   "cell_type": "code",
   "execution_count": 0,
   "metadata": {
    "application/vnd.databricks.v1+cell": {
     "cellMetadata": {
      "byteLimit": 2048000,
      "rowLimit": 10000
     },
     "inputWidgets": {},
     "nuid": "aa8611a2-5e34-44da-b628-22391964133d",
     "showTitle": false,
     "tableResultSettingsMap": {},
     "title": ""
    }
   },
   "outputs": [],
   "source": [
    "display(\n",
    "    df_fea_unit_base\n",
    "    .filter(f.col('reporting_date') >= '2024-05-01')\n",
    "    .groupBy('reporting_date')\n",
    "    .agg(\n",
    "        f.count('*')\n",
    "        , f.countDistinct('fs_srvc_id')\n",
    "        , f.countDistinct('fs_cust_id')\n",
    "        , f.countDistinct('fs_acct_id')\n",
    "    )\n",
    ")"
   ]
  },
  {
   "cell_type": "code",
   "execution_count": 0,
   "metadata": {
    "application/vnd.databricks.v1+cell": {
     "cellMetadata": {
      "byteLimit": 2048000,
      "rowLimit": 10000
     },
     "inputWidgets": {},
     "nuid": "72abe317-81bb-4eac-a016-0a63083aeaf8",
     "showTitle": false,
     "tableResultSettingsMap": {},
     "title": ""
    }
   },
   "outputs": [],
   "source": [
    "df_non_converged_cust = (\n",
    "    df_fea_unit_base\n",
    "    .filter(f.col('reporting_date') >= '2024-05-01')\n",
    "    .join(\n",
    "        df_bb_base\n",
    "        .withColumn('bb_reporting_date', f.date_add(f.col('cal_date'), 1))\n",
    "        .filter(f.col('bb_reporting_date') >= '2024-05-01')\n",
    "        , (f.col('fs_cust_id') == f.col('customer_id') )\n",
    "           & (f.col('reporting_date') == f.col('bb_reporting_date'))\n",
    "        , 'anti')\n",
    ")"
   ]
  },
  {
   "cell_type": "code",
   "execution_count": 0,
   "metadata": {
    "application/vnd.databricks.v1+cell": {
     "cellMetadata": {},
     "inputWidgets": {},
     "nuid": "18babba2-227a-4892-a825-fe0a70287446",
     "showTitle": false,
     "tableResultSettingsMap": {},
     "title": ""
    }
   },
   "outputs": [],
   "source": [
    "(\n",
    "    df_non_converged_cust\n",
    "    .write\n",
    "    .format(\"delta\")\n",
    "    # .partitionBy('reporting_date')\n",
    "    .mode(\"overwrite\")\n",
    "    .option(\"overwriteSchema\", \"True\")\n",
    "    .save('/mnt/feature-store-dev/dev_users/dev_dw/d999_tmp/xsell_bb_base')\n",
    ")"
   ]
  },
  {
   "cell_type": "code",
   "execution_count": 0,
   "metadata": {
    "application/vnd.databricks.v1+cell": {
     "cellMetadata": {
      "byteLimit": 2048000,
      "rowLimit": 10000
     },
     "inputWidgets": {},
     "nuid": "55f432d3-e630-4c1b-8abe-d439e6bbf19e",
     "showTitle": false,
     "tableResultSettingsMap": {},
     "title": ""
    }
   },
   "outputs": [],
   "source": [
    "display(\n",
    "    df_bb_order_activation\n",
    "    .filter(f.col('connect_order_date') >= '2024-05-01')\n",
    "    .groupBy('connect_order_date')\n",
    "    .agg(\n",
    "        f.countDistinct('service_id')\n",
    "        , f.count('*')\n",
    "        , f.countDistinct('customer_id')\n",
    "    )   \n",
    ")"
   ]
  },
  {
   "cell_type": "code",
   "execution_count": 0,
   "metadata": {
    "application/vnd.databricks.v1+cell": {
     "cellMetadata": {
      "byteLimit": 2048000,
      "rowLimit": 10000
     },
     "inputWidgets": {},
     "nuid": "4060617e-c233-444d-a0c6-b7f00b6b3140",
     "showTitle": false,
     "tableResultSettingsMap": {},
     "title": ""
    }
   },
   "outputs": [],
   "source": [
    "df_activation_agg = (\n",
    "    df_bb_order_activation\n",
    "    .groupBy('customer_id')\n",
    "    .agg(f.min('connect_order_date').alias('earliest_activation_date'))\n",
    ")\n",
    "\n",
    "\n",
    "df_non_converged_activation = (\n",
    "    df_non_converged_cust\n",
    "    .select(\n",
    "        f.col('fs_cust_id').alias('customer_id')\n",
    "        , 'reporting_date'\n",
    "    )\n",
    "    .distinct().alias('cust')\n",
    "    .join(\n",
    "        df_activation_agg.alias('act'),\n",
    "        on='customer_id',\n",
    "        how='inner'\n",
    "    )\n",
    "    .filter(f.col('act.earliest_activation_date') > f.col('cust.reporting_date'))\n",
    "    .select(\n",
    "        'customer_id',\n",
    "        'reporting_date',\n",
    "        'earliest_activation_date'\n",
    "    )\n",
    "    .orderBy('reporting_date', 'customer_id')\n",
    ")\n",
    "\n",
    "\n",
    "display(df_non_converged_activation)"
   ]
  },
  {
   "cell_type": "code",
   "execution_count": 0,
   "metadata": {
    "application/vnd.databricks.v1+cell": {
     "cellMetadata": {
      "byteLimit": 2048000,
      "rowLimit": 10000
     },
     "inputWidgets": {},
     "nuid": "e2989df7-ee25-45d4-8875-064a67b895dd",
     "showTitle": false,
     "tableResultSettingsMap": {},
     "title": ""
    }
   },
   "outputs": [],
   "source": [
    "df_activation_summary = (\n",
    "    df_non_converged_activation\n",
    "    .withColumn(\n",
    "        'days_to_activation', \n",
    "        f.datediff(f.col('earliest_activation_date'), f.col('reporting_date'))\n",
    "    )\n",
    "    .withColumn(\n",
    "        'activated_within_1_month', \n",
    "        f.when(f.col('days_to_activation') <= 30, 1).otherwise(0)\n",
    "    )\n",
    "    .groupBy('reporting_date')\n",
    "    .agg(\n",
    "        f.countDistinct('customer_id').alias('total_customers'),\n",
    "        f.sum(\n",
    "            f.col('activated_within_1_month').cast('integer')\n",
    "        ).alias('activated_within_1_month')\n",
    "    )\n",
    ")"
   ]
  },
  {
   "cell_type": "code",
   "execution_count": 0,
   "metadata": {
    "application/vnd.databricks.v1+cell": {
     "cellMetadata": {
      "byteLimit": 2048000,
      "rowLimit": 10000
     },
     "inputWidgets": {},
     "nuid": "c608b94c-22b1-4b85-a4d1-2ee5fe0f2134",
     "showTitle": false,
     "tableResultSettingsMap": {},
     "title": ""
    }
   },
   "outputs": [],
   "source": [
    "display(df_activation_summary)\n",
    "\n",
    "# 1.5k/ 423K = 0.35%  organic rate per months? "
   ]
  },
  {
   "cell_type": "code",
   "execution_count": 0,
   "metadata": {
    "application/vnd.databricks.v1+cell": {
     "cellMetadata": {
      "byteLimit": 2048000,
      "rowLimit": 10000
     },
     "inputWidgets": {},
     "nuid": "d90eb48b-4022-4119-a440-98ef87da5cc4",
     "showTitle": false,
     "tableResultSettingsMap": {},
     "title": ""
    }
   },
   "outputs": [],
   "source": [
    "from pyspark.sql import functions as f\n",
    "\n",
    "# Step 1: Define weekly window start and end dates in df_non_converged_cust\n",
    "df_non_converged_cust_week = (\n",
    "    df_non_converged_cust\n",
    "    .withColumn(\"week_end\", f.col(\"reporting_date\"))\n",
    "    .withColumn(\"week_start\", f.date_add(f.col(\"reporting_date\"), -6))\n",
    "    .select(\"week_start\", \"week_end\", f.col(\"fs_cust_id\").alias('customer_id'))\n",
    "    .distinct()\n",
    ")\n",
    "\n",
    "# Step 2: Join activations to weekly windows\n",
    "df_weekly_activations = (\n",
    "    df_bb_order_activation\n",
    "    .groupBy('customer_id')\n",
    "    .agg(f.min('connect_order_date').alias('earliest_activation_date'))\n",
    "    .alias('act')\n",
    "    .join(\n",
    "        df_non_converged_cust_week.alias('cust_week'),\n",
    "        (f.col('act.earliest_activation_date') >= f.col('cust_week.week_start')) &\n",
    "        (f.col('act.earliest_activation_date') <= f.col('cust_week.week_end')) & \n",
    "        (f.col('act.customer_id') == f.col('cust_week.customer_id'))\n",
    "        ,\n",
    "        how='inner'\n",
    "    )\n",
    "    .groupBy('cust_week.week_start', 'cust_week.week_end')\n",
    "    .agg(f.count('*').alias('activation_count'))\n",
    "    .orderBy('cust_week.week_end')\n",
    ")\n",
    "\n",
    "# Display results\n",
    "display(df_weekly_activations)\n"
   ]
  }
 ],
 "metadata": {
  "application/vnd.databricks.v1+notebook": {
   "computePreferences": null,
   "dashboards": [],
   "environmentMetadata": {
    "base_environment": "",
    "environment_version": "2"
   },
   "inputWidgetPreferences": null,
   "language": "python",
   "notebookMetadata": {
    "pythonIndentUnit": 4
   },
   "notebookName": "Explore | OA Get BB",
   "widgets": {}
  },
  "language_info": {
   "name": "python"
  }
 },
 "nbformat": 4,
 "nbformat_minor": 0
}
