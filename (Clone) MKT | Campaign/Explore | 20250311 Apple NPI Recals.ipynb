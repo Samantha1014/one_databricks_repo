{
 "cells": [
  {
   "cell_type": "markdown",
   "metadata": {
    "application/vnd.databricks.v1+cell": {
     "cellMetadata": {},
     "inputWidgets": {},
     "nuid": "81aca013-5127-44de-b6c8-89ca6504bd45",
     "showTitle": false,
     "tableResultSettingsMap": {},
     "title": ""
    }
   },
   "source": [
    "### s000 environment setup"
   ]
  },
  {
   "cell_type": "code",
   "execution_count": 0,
   "metadata": {
    "application/vnd.databricks.v1+cell": {
     "cellMetadata": {
      "byteLimit": 2048000,
      "rowLimit": 10000
     },
     "inputWidgets": {},
     "nuid": "cc7eb1c7-d595-41e2-bb61-989e762a057c",
     "showTitle": true,
     "tableResultSettingsMap": {},
     "title": "libraries"
    }
   },
   "outputs": [],
   "source": [
    "# libraries\n",
    "import os\n",
    "\n",
    "import pyspark\n",
    "from pyspark import sql\n",
    "from pyspark.sql import functions as f\n",
    "from pyspark.sql import Window"
   ]
  },
  {
   "cell_type": "code",
   "execution_count": 0,
   "metadata": {
    "application/vnd.databricks.v1+cell": {
     "cellMetadata": {
      "byteLimit": 2048000,
      "rowLimit": 10000
     },
     "inputWidgets": {},
     "nuid": "5a478576-a5ba-43d4-8b4f-4bbda1031dc4",
     "showTitle": true,
     "tableResultSettingsMap": {},
     "title": "utility functions 01"
    }
   },
   "outputs": [],
   "source": [
    "%run \"./utils_spark_df\""
   ]
  },
  {
   "cell_type": "code",
   "execution_count": 0,
   "metadata": {
    "application/vnd.databricks.v1+cell": {
     "cellMetadata": {
      "byteLimit": 2048000,
      "rowLimit": 10000
     },
     "inputWidgets": {},
     "nuid": "4a5953f1-3267-4e35-8bf5-027857b3c7e3",
     "showTitle": true,
     "tableResultSettingsMap": {},
     "title": "utility functions 02"
    }
   },
   "outputs": [],
   "source": [
    "%run \"./utils_stratified_sampling\""
   ]
  },
  {
   "cell_type": "code",
   "execution_count": 0,
   "metadata": {
    "application/vnd.databricks.v1+cell": {
     "cellMetadata": {
      "byteLimit": 2048000,
      "rowLimit": 10000
     },
     "inputWidgets": {},
     "nuid": "6ece27ec-ee20-46e6-b6f5-ca960c649811",
     "showTitle": false,
     "tableResultSettingsMap": {},
     "title": ""
    }
   },
   "outputs": [],
   "source": [
    "%run \"./sc_utils_stratified_sampling\""
   ]
  },
  {
   "cell_type": "code",
   "execution_count": 0,
   "metadata": {
    "application/vnd.databricks.v1+cell": {
     "cellMetadata": {
      "byteLimit": 2048000,
      "rowLimit": 10000
     },
     "inputWidgets": {},
     "nuid": "f25e4986-1d1c-402f-8515-9cf259e772df",
     "showTitle": true,
     "tableResultSettingsMap": {},
     "title": "sf connection"
    }
   },
   "outputs": [],
   "source": [
    "# ------------- Use snowflake utility\n",
    "sfUtils = sc._jvm.net.snowflake.spark.snowflake.Utils\n",
    "\n",
    "# ------------ login to snowflake\n",
    "password = dbutils.secrets.get(scope = \"auea-kv-sbx-dxdtlprdct01\", key = \"sfdbrsdskey\")\n",
    "\n",
    "options = {\n",
    "  \"sfUrl\": \"vodafonenz_prod.australia-east.azure.snowflakecomputing.com/\", \n",
    "  \"sfUser\": \"SVC_LAB_DS_DATABRICKS\",\n",
    "  \"pem_private_key\": password.replace('\\\\n', '\\n'),\n",
    "  \"sfDatabase\": \"LAB_ML_STORE\",\n",
    "  \"sfSchema\": \"SANDBOX\",\n",
    "  \"sfWarehouse\": \"LAB_DS_WH\"\n",
    "}"
   ]
  },
  {
   "cell_type": "code",
   "execution_count": 0,
   "metadata": {
    "application/vnd.databricks.v1+cell": {
     "cellMetadata": {
      "byteLimit": 2048000,
      "rowLimit": 10000
     },
     "inputWidgets": {},
     "nuid": "932aa17f-2a07-427e-9c1d-671971bddabd",
     "showTitle": true,
     "tableResultSettingsMap": {},
     "title": "directories 01"
    }
   },
   "outputs": [],
   "source": [
    "dir_fs_data_parent = \"/mnt/feature-store-prod-lab\"\n",
    "dir_mls_data_parent = \"/mnt/ml-store-prod-lab/classification\""
   ]
  },
  {
   "cell_type": "code",
   "execution_count": 0,
   "metadata": {
    "application/vnd.databricks.v1+cell": {
     "cellMetadata": {
      "byteLimit": 2048000,
      "rowLimit": 10000
     },
     "inputWidgets": {},
     "nuid": "2d41adfc-6c51-4592-ae3b-66d7be2855a3",
     "showTitle": true,
     "tableResultSettingsMap": {},
     "title": "directories 02"
    }
   },
   "outputs": [],
   "source": [
    "dir_mls_data_score = os.path.join(dir_mls_data_parent, \"d400_model_score\")"
   ]
  },
  {
   "cell_type": "code",
   "execution_count": 0,
   "metadata": {
    "application/vnd.databricks.v1+cell": {
     "cellMetadata": {
      "byteLimit": 2048000,
      "rowLimit": 10000
     },
     "inputWidgets": {},
     "nuid": "18e4607a-5e27-43c1-a5fc-3c96839f857f",
     "showTitle": true,
     "tableResultSettingsMap": {},
     "title": "directories 03"
    }
   },
   "outputs": [],
   "source": [
    "dir_fs_data_meta = os.path.join(dir_fs_data_parent, 'd000_meta')\n",
    "dir_fs_data_raw =  os.path.join(dir_fs_data_parent, 'd100_raw')\n",
    "dir_fs_data_int =  os.path.join(dir_fs_data_parent, \"d200_intermediate\")\n",
    "dir_fs_data_prm =  os.path.join(dir_fs_data_parent, \"d300_primary\")\n",
    "dir_fs_data_fea =  os.path.join(dir_fs_data_parent, \"d400_feature\")\n",
    "dir_fs_data_target = os.path.join(dir_fs_data_parent, \"d500_movement\")\n",
    "dir_fs_data_serv = os.path.join(dir_fs_data_parent, \"d600_serving\")"
   ]
  },
  {
   "cell_type": "markdown",
   "metadata": {
    "application/vnd.databricks.v1+cell": {
     "cellMetadata": {},
     "inputWidgets": {},
     "nuid": "8572d68d-9780-43fa-8150-df43e11d8281",
     "showTitle": false,
     "tableResultSettingsMap": {},
     "title": ""
    }
   },
   "source": [
    "### s100 data import"
   ]
  },
  {
   "cell_type": "code",
   "execution_count": 0,
   "metadata": {
    "application/vnd.databricks.v1+cell": {
     "cellMetadata": {
      "byteLimit": 2048000,
      "rowLimit": 10000
     },
     "inputWidgets": {},
     "nuid": "405c7369-e8b1-4750-a852-c8622e34bc3f",
     "showTitle": false,
     "tableResultSettingsMap": {},
     "title": ""
    }
   },
   "outputs": [],
   "source": [
    "vt_param_reporting_date = \"2025-02-23\"\n",
    "vt_param_reporting_cycle_type = \"rolling cycle\""
   ]
  },
  {
   "cell_type": "code",
   "execution_count": 0,
   "metadata": {
    "application/vnd.databricks.v1+cell": {
     "cellMetadata": {
      "byteLimit": 2048000,
      "rowLimit": 10000
     },
     "inputWidgets": {},
     "nuid": "b038b5ec-31f9-4f7d-9f8c-2c66b4d8bb6e",
     "showTitle": true,
     "tableResultSettingsMap": {},
     "title": "feature store 01"
    }
   },
   "outputs": [],
   "source": [
    "df_fs_master = spark.read.format(\"delta\").load(os.path.join(dir_fs_data_serv, \"serv_mobile_oa_consumer\"))\n",
    "df_fs_ifp_srvc = spark.read.format(\"delta\").load(os.path.join(dir_fs_data_fea, \"d401_mobile_oa_consumer/fea_ifp_device_on_service\"))\n",
    "df_fs_ifp_bill = spark.read.format(\"delta\").load(os.path.join(dir_fs_data_fea, \"d401_mobile_oa_consumer/fea_ifp_device_on_bill\"))\n",
    "df_mvnt_ifp_srvc = spark.read.format('delta').load(os.path.join(dir_fs_data_target, \"d501_mobile_oa_consumer/mvmt_ifp_upsell_on_service\"))\n",
    "df_mvnt_ifp_bill = spark.read.format('delta').load(os.path.join(dir_fs_data_target, \"d501_mobile_oa_consumer/mvmt_ifp_upsell_on_bill\"))"
   ]
  },
  {
   "cell_type": "code",
   "execution_count": 0,
   "metadata": {
    "application/vnd.databricks.v1+cell": {
     "cellMetadata": {
      "byteLimit": 2048000,
      "rowLimit": 10000
     },
     "inputWidgets": {},
     "nuid": "b2dfb429-bab0-41f4-8886-ee80d1738f79",
     "showTitle": true,
     "tableResultSettingsMap": {},
     "title": "ml store"
    }
   },
   "outputs": [],
   "source": [
    "#df_mls_score_dr_apple = spark.read.format(\"delta\").load(os.path.join(dir_mls_data_score, \"mobile_oa_consumer_srvc_device_replacement_apple_pred30d\"))\n",
    "#df_mls_score_dr_apple = spark.read.format(\"delta\").load(os.path.join(dir_mls_data_score, \"mobile_oa_consumer_srvc_device_replacement_apple_pred30d\"))\n",
    "df_mls_score_dr = spark.read.format(\"delta\").load(os.path.join(dir_mls_data_score, \"mobile_oa_consumer_srvc_device_replacement_pred30d\"))\n",
    "df_mls_score_ifp = spark.read.format(\"delta\").load(os.path.join(dir_mls_data_score, \"mobile_oa_consumer_srvc_upsell_ifp_pred30d\"))\n",
    "df_mls_score_churn = spark.read.format(\"delta\").load(os.path.join(dir_mls_data_score, \"mobile_oa_consumer_srvc_churn_pred30d\"))\n",
    "df_mls_score_ar = spark.read.format(\"delta\").load(os.path.join(dir_mls_data_score, \"mobile_oa_consumer_srvc_writeoff_pred120d\"))"
   ]
  },
  {
   "cell_type": "code",
   "execution_count": 0,
   "metadata": {
    "application/vnd.databricks.v1+cell": {
     "cellMetadata": {
      "byteLimit": 2048000,
      "rowLimit": 10000
     },
     "inputWidgets": {},
     "nuid": "c46e83bf-17b7-4af2-a5f5-7fac730fbe73",
     "showTitle": true,
     "tableResultSettingsMap": {},
     "title": "last output"
    }
   },
   "outputs": [],
   "source": [
    "df_output_campaign = spark.read.format(\"delta\").load('/mnt/ml-lab/dev_users/sc/ml_campaigns/wallet/250228-JS-MOBPM-iPhone-SE-Launch')"
   ]
  },
  {
   "cell_type": "code",
   "execution_count": 0,
   "metadata": {
    "application/vnd.databricks.v1+cell": {
     "cellMetadata": {
      "byteLimit": 2048000,
      "rowLimit": 10000
     },
     "inputWidgets": {},
     "nuid": "b1749a86-06da-4019-a055-da75ec9dd6cf",
     "showTitle": true,
     "tableResultSettingsMap": {},
     "title": "sfmc output"
    }
   },
   "outputs": [],
   "source": [
    "query_sfmc = \"\"\" \n",
    "select  * from PROD_MAR_TECH.SERVING.SFMC_EMAIL_PERFORMANCE\n",
    "where campaignname in ('250228-JS-MOBPM-iPhone-SE-Launch_part2', '250228-JS-MOBPM-iPhone-SE-Launch')\n",
    "\"\"\"\n",
    "\n",
    "\n",
    "df_sfmc_email= (\n",
    "    spark.read\n",
    "    .format(\"snowflake\")\n",
    "    .options(**options)\n",
    "    .option(\n",
    "        \"query\"\n",
    "        , query_sfmc\n",
    "    )\n",
    "    .load()\n",
    ")\n"
   ]
  },
  {
   "cell_type": "code",
   "execution_count": 0,
   "metadata": {
    "application/vnd.databricks.v1+cell": {
     "cellMetadata": {
      "byteLimit": 2048000,
      "rowLimit": 10000
     },
     "inputWidgets": {},
     "nuid": "8969aca7-09bf-4240-a0c4-f87ef2659aa4",
     "showTitle": true,
     "tableResultSettingsMap": {},
     "title": "check duplicate"
    }
   },
   "outputs": [],
   "source": [
    "display(\n",
    "    df_sfmc_email\n",
    "    .agg(\n",
    "        f.count('*')\n",
    "        , f.countDistinct('customer_id')\n",
    "    )\n",
    ")\n",
    "\n",
    "display(df_sfmc_email\n",
    "        .join(df_output_campaign, f.col('customer_id') == f.col('fs_cust_id'), 'anti')\n",
    "        )"
   ]
  },
  {
   "cell_type": "code",
   "execution_count": 0,
   "metadata": {
    "application/vnd.databricks.v1+cell": {
     "cellMetadata": {
      "byteLimit": 2048000,
      "rowLimit": 10000
     },
     "inputWidgets": {},
     "nuid": "047a7fb2-3400-4d38-81d6-06601a119765",
     "showTitle": true,
     "tableResultSettingsMap": {},
     "title": "ml score in customer level"
    }
   },
   "outputs": [],
   "source": [
    "df_base_score_ifp = (\n",
    "    df_mls_score_ifp\n",
    "    .filter(f.col(\"reporting_date\") == vt_param_reporting_date)\n",
    "    .filter(f.col(\"reporting_cycle_type\") == vt_param_reporting_cycle_type)\n",
    "    .withColumn(\n",
    "        'rank_acct'\n",
    "        , f.row_number().over(\n",
    "            Window\n",
    "            .partitionBy('fs_cust_id', 'fs_acct_id')\n",
    "            .orderBy(f.desc('propensity_top_ntile'))\n",
    "        )\n",
    "    )\n",
    "    .filter(f.col('rank_acct')==1)\n",
    "    .withColumn(\n",
    "        'rank_cust'\n",
    "        , f.row_number().over(\n",
    "            Window\n",
    "            .partitionBy('fs_cust_id')\n",
    "            .orderBy(f.desc('propensity_top_ntile'))\n",
    "        )\n",
    "    )\n",
    "    .filter(f.col('rank_cust')==1)\n",
    "    .select(\n",
    "        \"fs_cust_id\"\n",
    "        # , \"fs_acct_id\"\n",
    "        # , \"fs_srvc_id\"\n",
    "        , f.col(\"propensity_score\").alias(\"ifp_score\")\n",
    "        , f.col(\"propensity_segment_qt\").alias(\"ifp_segment\")\n",
    "        , f.col(\"propensity_top_ntile\").alias(\"ifp_top_ntile\")\n",
    "    )\n",
    "   \n",
    ")\n",
    "\n",
    "df_base_score_dr = (\n",
    "    df_mls_score_dr\n",
    "    .filter(f.col(\"reporting_date\") == vt_param_reporting_date)\n",
    "    .filter(f.col(\"reporting_cycle_type\") == vt_param_reporting_cycle_type)\n",
    "    .withColumn(\n",
    "        'rank_acct'\n",
    "        , f.row_number().over(\n",
    "            Window\n",
    "            .partitionBy('fs_cust_id','fs_acct_id')\n",
    "            .orderBy(f.desc('propensity_top_ntile'))\n",
    "        )\n",
    "    )\n",
    "    .filter(f.col('rank_acct')==1)\n",
    "    .withColumn(\n",
    "        'rank_cust'\n",
    "        , f.row_number().over(\n",
    "            Window\n",
    "            .partitionBy('fs_cust_id')\n",
    "            .orderBy(f.desc('propensity_top_ntile'))\n",
    "        )\n",
    "    )\n",
    "    .filter(f.col('rank_cust')==1)\n",
    "    .select(\n",
    "        \"fs_cust_id\"\n",
    "        # , \"fs_acct_id\"\n",
    "        # , \"fs_srvc_id\"\n",
    "        , f.col(\"propensity_score\").alias(\"dr_score\")\n",
    "        , f.col(\"propensity_segment_qt\").alias(\"dr_segment\")\n",
    "        , f.col(\"propensity_top_ntile\").alias(\"dr_top_ntile\")\n",
    "    )   \n",
    ")\n",
    "\n",
    "df_base_score_churn = (\n",
    "    df_mls_score_churn\n",
    "    .filter(f.col(\"reporting_date\") == vt_param_reporting_date)\n",
    "    .filter(f.col(\"reporting_cycle_type\") == vt_param_reporting_cycle_type)\n",
    "    .withColumn(\n",
    "        'rank_acct'\n",
    "        , f.row_number().over(\n",
    "            Window\n",
    "            .partitionBy('fs_cust_id','fs_acct_id')\n",
    "            .orderBy(f.desc('propensity_top_ntile'))\n",
    "        )\n",
    "    )\n",
    "    .filter(f.col('rank_acct')==1)\n",
    "    .withColumn(\n",
    "        'rank_cust'\n",
    "        , f.row_number().over(\n",
    "            Window\n",
    "            .partitionBy('fs_cust_id')\n",
    "            .orderBy(f.desc('propensity_top_ntile'))\n",
    "        )\n",
    "    )\n",
    "    .filter(f.col('rank_cust')==1)\n",
    "    .select(\n",
    "        \"fs_cust_id\"\n",
    "        # , \"fs_acct_id\"\n",
    "        # , \"fs_srvc_id\"\n",
    "        , f.col(\"propensity_score\").alias(\"churn_score\")\n",
    "        , f.col(\"propensity_segment_qt\").alias(\"churn_segment\")\n",
    "        , f.col(\"propensity_top_ntile\").alias(\"churn_top_ntile\")\n",
    "    )\n",
    ")\n",
    "\n",
    "df_base_score_ar = (\n",
    "    df_mls_score_ar\n",
    "    .filter(f.col(\"reporting_date\") == vt_param_reporting_date)\n",
    "    .filter(f.col(\"reporting_cycle_type\") == vt_param_reporting_cycle_type)\n",
    "    .withColumn(\n",
    "        'rank_acct'\n",
    "        , f.row_number().over(\n",
    "            Window\n",
    "            .partitionBy('fs_cust_id','fs_acct_id')\n",
    "            .orderBy(f.desc('propensity_top_ntile'))\n",
    "        )\n",
    "    )\n",
    "    .filter(f.col('rank_acct')==1)\n",
    "    .withColumn(\n",
    "        'rank_cust'\n",
    "        , f.row_number().over(\n",
    "            Window\n",
    "            .partitionBy('fs_cust_id')\n",
    "            .orderBy(f.desc('propensity_top_ntile'))\n",
    "        )\n",
    "    )\n",
    "    .filter(f.col('rank_cust')==1)\n",
    "    .select(\n",
    "        \"fs_cust_id\"\n",
    "        # , \"fs_acct_id\"\n",
    "        # , \"fs_srvc_id\"\n",
    "        , f.col(\"propensity_score\").alias(\"risk_score\")\n",
    "        , f.col(\"propensity_segment_qt\").alias(\"risk_segment\")\n",
    "        , f.col(\"propensity_top_ntile\").alias(\"risk_top_ntile\")\n",
    "    )\n",
    ")"
   ]
  },
  {
   "cell_type": "code",
   "execution_count": 0,
   "metadata": {
    "application/vnd.databricks.v1+cell": {
     "cellMetadata": {
      "byteLimit": 2048000,
      "rowLimit": 10000
     },
     "inputWidgets": {},
     "nuid": "5167ef2d-e473-4a6c-99bb-10193804ccf9",
     "showTitle": true,
     "tableResultSettingsMap": {},
     "title": "email target"
    }
   },
   "outputs": [],
   "source": [
    "df_email_output=(\n",
    "    df_sfmc_email.alias('a')\n",
    "    .join(df_base_score_ifp.alias('c'), f.col('a.CUSTOMER_ID') == f.col('c.fs_cust_id'), 'inner')\n",
    "    .join(df_base_score_dr.alias('d'), f.col('a.CUSTOMER_ID') == f.col('d.fs_cust_id'), 'inner')\n",
    "    .join(df_base_score_churn.alias('e'), f.col('a.CUSTOMER_ID') == f.col('e.fs_cust_id'), 'inner')\n",
    "    #.withColumn('index', f.count('*').over(Window.partitionBy('a.CUSTOMER_ID')))\n",
    "    #.filter(f.col('index') >2)\n",
    "    .select(\n",
    "        'CUSTOMER_ID'\n",
    "        , 'c.fs_cust_id'\n",
    "        , 'ifp_score'\n",
    "        , 'ifp_segment'\n",
    "        , 'ifp_top_ntile'\n",
    "        , 'dr_score'\n",
    "        , 'dr_segment'\n",
    "        , 'dr_top_ntile'\n",
    "        , 'churn_score'\n",
    "        , 'churn_segment'\n",
    "        , 'churn_top_ntile'\n",
    "    )\n",
    " )\n",
    "\n"
   ]
  },
  {
   "cell_type": "code",
   "execution_count": 0,
   "metadata": {
    "application/vnd.databricks.v1+cell": {
     "cellMetadata": {
      "byteLimit": 2048000,
      "rowLimit": 10000
     },
     "inputWidgets": {},
     "nuid": "d88e2564-5118-4064-88d3-c7fc1b27eeb2",
     "showTitle": true,
     "tableResultSettingsMap": {},
     "title": "check propensity"
    }
   },
   "outputs": [],
   "source": [
    "display(\n",
    "    df_email_output\n",
    "    #.filter(f.col(\"target_segment\") == 'a.target')\n",
    "    .groupBy(\"ifp_segment\")\n",
    "    .agg(f.countDistinct(\"fs_cust_id\").alias(\"acct\"))\n",
    "    .withColumn(\n",
    "        \"acct_tot\"\n",
    "        , f.sum(\"acct\").over(Window.partitionBy(f.lit(1)))\n",
    "    )\n",
    "    .withColumn(\n",
    "        \"pct\"\n",
    "        , f.col(\"acct\") / f.col(\"acct_tot\")\n",
    "    )\n",
    ")\n",
    "\n",
    "display(\n",
    "    df_email_output\n",
    "    #.filter(f.col(\"target_segment\") == 'a.target')\n",
    "    .groupBy(\"dr_segment\")\n",
    "    .agg(f.countDistinct(\"fs_cust_id\").alias(\"acct\"))\n",
    "    .withColumn(\n",
    "        \"acct_tot\"\n",
    "        , f.sum(\"acct\").over(Window.partitionBy(f.lit(1)))\n",
    "    )\n",
    "    .withColumn(\n",
    "        \"pct\"\n",
    "        , f.col(\"acct\") / f.col(\"acct_tot\")\n",
    "    )\n",
    ")\n",
    "\n",
    "\n",
    "display(\n",
    "    df_email_output\n",
    "    #.filter(f.col(\"target_segment\") == 'a.target')\n",
    "    .groupBy(\"churn_segment\")\n",
    "    .agg(f.countDistinct(\"fs_cust_id\").alias(\"acct\"))\n",
    "    .withColumn(\n",
    "        \"acct_tot\"\n",
    "        , f.sum(\"acct\").over(Window.partitionBy(f.lit(1)))\n",
    "    )\n",
    "    .withColumn(\n",
    "        \"pct\"\n",
    "        , f.col(\"acct\") / f.col(\"acct_tot\")\n",
    "    )\n",
    ")\n",
    "\n",
    "\n",
    "\n",
    "display(\n",
    "    df_email_output\n",
    "    .agg(\n",
    "        f.countDistinct(\"fs_cust_id\")\n",
    "        , f.median(\"churn_score\")\n",
    "        , f.avg(\"churn_score\")\n",
    "        , f.median(\"dr_score\")\n",
    "        , f.avg(\"dr_score\")\n",
    "        , f.median(\"ifp_score\")\n",
    "        , f.avg(\"ifp_score\")\n",
    "    )\n",
    ")"
   ]
  },
  {
   "cell_type": "markdown",
   "metadata": {
    "application/vnd.databricks.v1+cell": {
     "cellMetadata": {},
     "inputWidgets": {},
     "nuid": "36d4eee0-b72b-42a4-92f4-7d3d8a7c49c5",
     "showTitle": false,
     "tableResultSettingsMap": {},
     "title": ""
    }
   },
   "source": [
    "### s102 global control"
   ]
  },
  {
   "cell_type": "code",
   "execution_count": 0,
   "metadata": {
    "application/vnd.databricks.v1+cell": {
     "cellMetadata": {
      "byteLimit": 2048000,
      "rowLimit": 10000
     },
     "inputWidgets": {},
     "nuid": "e5befd14-99c6-4e95-8530-143a71c8e90f",
     "showTitle": false,
     "tableResultSettingsMap": {},
     "title": ""
    }
   },
   "outputs": [],
   "source": [
    "df_gc_curr = spark.read.format(\"delta\").load(\"/mnt/ml-store-dev/dev_users/dev_el/marketing_programs/global_control/mobile_oa_consumer\")\n",
    "\n",
    "df_gc_curr = (\n",
    "    df_gc_curr\n",
    "    .select(\"fs_cust_id\")\n",
    "    .distinct()\n",
    ")\n",
    "\n",
    "print(df_gc_curr.count())\n",
    "\n",
    "display(\n",
    "    df_gc_curr\n",
    "    .limit(10)\n",
    ")"
   ]
  },
  {
   "cell_type": "markdown",
   "metadata": {
    "application/vnd.databricks.v1+cell": {
     "cellMetadata": {},
     "inputWidgets": {},
     "nuid": "793fae10-c6a3-48d9-8243-2ce216128bf7",
     "showTitle": false,
     "tableResultSettingsMap": {},
     "title": ""
    }
   },
   "source": [
    "## s200 Data processing"
   ]
  },
  {
   "cell_type": "markdown",
   "metadata": {
    "application/vnd.databricks.v1+cell": {
     "cellMetadata": {},
     "inputWidgets": {},
     "nuid": "4a5c3f3c-11ea-434d-a661-ed208e01d16c",
     "showTitle": false,
     "tableResultSettingsMap": {},
     "title": ""
    }
   },
   "source": [
    "### s200 base candidate"
   ]
  },
  {
   "cell_type": "code",
   "execution_count": 0,
   "metadata": {
    "application/vnd.databricks.v1+cell": {
     "cellMetadata": {
      "byteLimit": 2048000,
      "rowLimit": 10000
     },
     "inputWidgets": {},
     "nuid": "9fe8850c-6d11-4c4b-b95c-8c2f2ba75e76",
     "showTitle": false,
     "tableResultSettingsMap": {},
     "title": ""
    }
   },
   "outputs": [],
   "source": [
    "df_base_full = (\n",
    "    df_fs_master\n",
    "    .filter(f.col(\"reporting_date\") == vt_param_reporting_date)\n",
    "    .filter(f.col(\"reporting_cycle_type\") == vt_param_reporting_cycle_type)\n",
    ")\n",
    "\n",
    "display(\n",
    "    df_base_full\n",
    "    .limit(100)\n",
    ")\n",
    "\n",
    "display(\n",
    "    df_base_full\n",
    "    .count()\n",
    ") "
   ]
  },
  {
   "cell_type": "markdown",
   "metadata": {
    "application/vnd.databricks.v1+cell": {
     "cellMetadata": {},
     "inputWidgets": {},
     "nuid": "c6e54bfb-c619-45fe-9ebb-99dfc27c3519",
     "showTitle": false,
     "tableResultSettingsMap": {},
     "title": ""
    }
   },
   "source": [
    "### s202 exclusion flag"
   ]
  },
  {
   "cell_type": "code",
   "execution_count": 0,
   "metadata": {
    "application/vnd.databricks.v1+cell": {
     "cellMetadata": {
      "byteLimit": 2048000,
      "rowLimit": 10000
     },
     "inputWidgets": {},
     "nuid": "de6804fa-b735-472d-aeb7-e2b6ac667c36",
     "showTitle": false,
     "tableResultSettingsMap": {},
     "title": ""
    }
   },
   "outputs": [],
   "source": [
    "# current global control\n",
    "df_tmp_excl_01 = (\n",
    "    df_gc_curr\n",
    "    .select(\"fs_cust_id\")\n",
    "    .distinct()\n",
    "    .withColumn(\n",
    "        \"gc_curr_flag\"\n",
    "        , f.lit('Y')\n",
    "    )\n",
    ")\n"
   ]
  },
  {
   "cell_type": "code",
   "execution_count": 0,
   "metadata": {
    "application/vnd.databricks.v1+cell": {
     "cellMetadata": {
      "byteLimit": 2048000,
      "rowLimit": 10000
     },
     "inputWidgets": {},
     "nuid": "55fa17c7-7a3b-4c1c-962c-98b84f9fb781",
     "showTitle": true,
     "tableResultSettingsMap": {},
     "title": "apple cust"
    }
   },
   "outputs": [],
   "source": [
    "df_apple_cust = (\n",
    "    df_base_full\n",
    "    .withColumn(\n",
    "        \"network_dvc_brand_std\"\n",
    "        , f.when(\n",
    "            f.lower(f.col(\"network_dvc_brand\")).isin([\"apple\"])\n",
    "            , f.lower(f.col(\"network_dvc_brand\"))\n",
    "        ).otherwise(\n",
    "            f.lit(\"others\")\n",
    "        )\n",
    "    )\n",
    "    .groupBy('fs_cust_id')\n",
    "    .agg(\n",
    "        f.countDistinct('fs_srvc_id').alias('distinct_services'),\n",
    "        f.max(f.when(f.col('network_dvc_brand_std') == 'apple', 1).otherwise(0)).alias('has_apple')\n",
    "    )\n",
    ")\n"
   ]
  },
  {
   "cell_type": "code",
   "execution_count": 0,
   "metadata": {
    "application/vnd.databricks.v1+cell": {
     "cellMetadata": {
      "byteLimit": 2048000,
      "rowLimit": 10000
     },
     "inputWidgets": {},
     "nuid": "be582a48-c54d-415b-ac69-d96cdd554063",
     "showTitle": false,
     "tableResultSettingsMap": {},
     "title": ""
    }
   },
   "outputs": [],
   "source": [
    "df_proc_full = (\n",
    "    df_base_full\n",
    "    .select(\n",
    "        \"reporting_date\"\n",
    "        , \"reporting_cycle_type\"\n",
    "        , \"fs_cust_id\"\n",
    "    )\n",
    "    .distinct()\n",
    "    .join(\n",
    "        df_base_score_ifp\n",
    "        , [\"fs_cust_id\"]\n",
    "        , \"left\"\n",
    "    )\n",
    "    .join(\n",
    "        df_base_score_dr\n",
    "        , [\"fs_cust_id\"]\n",
    "        , \"left\"\n",
    "    )\n",
    "    .join(\n",
    "        df_base_score_churn\n",
    "        , [\"fs_cust_id\"]\n",
    "        , \"left\"\n",
    "    )\n",
    "    .join(\n",
    "        df_base_score_ar\n",
    "        , [\"fs_cust_id\"]\n",
    "        , \"left\"\n",
    "    )\n",
    "    .join(\n",
    "        df_tmp_excl_01\n",
    "        , [\"fs_cust_id\"]\n",
    "        , \"left\"\n",
    "    )\n",
    "    # .join(\n",
    "    #     df_tmp_excl_04\n",
    "    #     , [\"fs_cust_id\"]\n",
    "    #     , \"left\"\n",
    "    # )\n",
    "    .join(\n",
    "        df_apple_cust\n",
    "        , ['fs_cust_id']\n",
    "        , 'left'\n",
    "    )\n",
    "    .join(df_email_output.alias('a')\n",
    "          .select('fs_cust_id')\n",
    "          .distinct()\n",
    "          , ['fs_cust_id']\n",
    "          , 'left'\n",
    "          )\n",
    "    .fillna(\n",
    "        value='N'\n",
    "        , subset=['gc_curr_flag']\n",
    "    )\n",
    "    .withColumn(\n",
    "        \"target_segment\"\n",
    "        , f.when(\n",
    "            f.col('a.fs_cust_id').isNotNull()\n",
    "           , 'a.target'\n",
    "        )\n",
    "        .when(\n",
    "            (\n",
    "                (f.col(\"gc_curr_flag\") == 'Y')\n",
    "            )\n",
    "            , f.lit(\"z2.global control - curr\")\n",
    "        )\n",
    "        .when(\n",
    "           (\n",
    "               f.col('has_apple') == 0\n",
    "           )\n",
    "           , f.lit('z7.Android Device')\n",
    "        )\n",
    "        .when(\n",
    "            (\n",
    "                f.col(\"risk_top_ntile\") >= 98\n",
    "            )\n",
    "            , f.lit(\"z6.High Bad Debt Risk\")\n",
    "        )\n",
    "        .otherwise(f.lit(\"a.misc\"))\n",
    "    )\n",
    "    .withColumn(\"churn_top_ntile\", f.ntile(20).over(Window.orderBy(f.desc(\"churn_score\"))))\n",
    "    .withColumn(\"dr_top_ntile\", f.ntile(20).over(Window.orderBy(f.desc(\"dr_score\"))))\n",
    "    .withColumn(\"ifp_top_ntile\", f.ntile(20).over(Window.orderBy(f.desc(\"ifp_score\"))))\n",
    ")"
   ]
  },
  {
   "cell_type": "code",
   "execution_count": 0,
   "metadata": {
    "application/vnd.databricks.v1+cell": {
     "cellMetadata": {
      "byteLimit": 2048000,
      "rowLimit": 10000
     },
     "inputWidgets": {},
     "nuid": "5c85f179-b170-40bc-923f-97f7031e996d",
     "showTitle": false,
     "tableResultSettingsMap": {},
     "title": ""
    }
   },
   "outputs": [],
   "source": [
    "display(\n",
    "    df_proc_full\n",
    "    .groupBy(\"target_segment\")\n",
    "    .agg(\n",
    "        f.count(\"*\")\n",
    "        , f.countDistinct(\"fs_cust_id\")\n",
    "    )\n",
    "    .orderBy(\"target_segment\")\n",
    ")\n",
    "\n",
    "display(df_proc_full.limit(100))\n",
    "display(df_proc_full.count())"
   ]
  },
  {
   "cell_type": "code",
   "execution_count": 0,
   "metadata": {
    "application/vnd.databricks.v1+cell": {
     "cellMetadata": {
      "byteLimit": 2048000,
      "rowLimit": 10000
     },
     "inputWidgets": {},
     "nuid": "9240382c-bf78-4a8e-ac0a-911973641732",
     "showTitle": false,
     "tableResultSettingsMap": {},
     "title": ""
    }
   },
   "outputs": [],
   "source": [
    "df_campaign_full = (\n",
    "    df_proc_full\n",
    "    .withColumn(\n",
    "        \"ifp_rank\"\n",
    "        , f.row_number().over(\n",
    "            Window\n",
    "            .partitionBy(f.lit(1))\n",
    "            .orderBy(f.desc(\"ifp_score\"))\n",
    "        )\n",
    "    )\n",
    "    .withColumn(\n",
    "        \"dr_rank\"\n",
    "        , f.row_number().over(\n",
    "            Window\n",
    "            .partitionBy(f.lit(1))\n",
    "            .orderBy(f.desc(\"dr_score\"))\n",
    "        )\n",
    "    )\n",
    "    .withColumn(\n",
    "        \"churn_rank\"\n",
    "        , f.row_number().over(\n",
    "            Window\n",
    "            .partitionBy(f.lit(1))\n",
    "            .orderBy(f.desc(\"churn_score\"))\n",
    "        )\n",
    "    )\n",
    ")\n"
   ]
  },
  {
   "cell_type": "code",
   "execution_count": 0,
   "metadata": {
    "application/vnd.databricks.v1+cell": {
     "cellMetadata": {
      "byteLimit": 2048000,
      "rowLimit": 10000
     },
     "inputWidgets": {},
     "nuid": "2801efa7-e1d8-4bc7-a91a-59d23f2f90dd",
     "showTitle": true,
     "tableResultSettingsMap": {},
     "title": "interim export"
    }
   },
   "outputs": [],
   "source": [
    "(\n",
    "    df_campaign_full\n",
    "    .write\n",
    "    .format(\"delta\")\n",
    "    .mode(\"overwrite\")\n",
    "    .option(\"overwriteSchema\", \"true\")\n",
    "    #.option(\"partitionOverwriteMode\", \"dynamic\")\n",
    "    .save('/mnt/ml-lab/dev_users/dev_sc/ml_campaigns/regen_control/250228-JS-MOBPM-iPhone-SE-Launch') \n",
    ")"
   ]
  },
  {
   "cell_type": "code",
   "execution_count": 0,
   "metadata": {
    "application/vnd.databricks.v1+cell": {
     "cellMetadata": {
      "byteLimit": 2048000,
      "rowLimit": 10000
     },
     "inputWidgets": {},
     "nuid": "ccbdcd29-df32-43f5-9e81-f8ad52f8b11d",
     "showTitle": false,
     "tableResultSettingsMap": {},
     "title": ""
    }
   },
   "outputs": [],
   "source": [
    "df_campaign_full = spark.read.format('delta').load('/mnt/ml-lab/dev_users/dev_sc/ml_campaigns/regen_control/250228-JS-MOBPM-iPhone-SE-Launch')"
   ]
  },
  {
   "cell_type": "markdown",
   "metadata": {
    "application/vnd.databricks.v1+cell": {
     "cellMetadata": {},
     "inputWidgets": {},
     "nuid": "98524f91-2665-4232-8ae8-257f5a43bac3",
     "showTitle": false,
     "tableResultSettingsMap": {},
     "title": ""
    }
   },
   "source": [
    "### s206 local control - H"
   ]
  },
  {
   "cell_type": "code",
   "execution_count": 0,
   "metadata": {
    "application/vnd.databricks.v1+cell": {
     "cellMetadata": {
      "byteLimit": 2048000,
      "rowLimit": 10000
     },
     "inputWidgets": {},
     "nuid": "019cd466-8aa9-4e9b-9808-3a56109d6d94",
     "showTitle": false,
     "tableResultSettingsMap": {},
     "title": ""
    }
   },
   "outputs": [],
   "source": [
    "vt_param_control_size = 25000\n",
    "ls_param_strata = [ \"ifp_top_ntile\", \"churn_top_ntile\", 'dr_top_ntile']\n",
    "\n",
    "df_sample_target = create_sample_target(\n",
    "     df_campaign_full\n",
    "    .filter(f.col(\"target_segment\") == 'a.target')\n",
    "    #.filter(f.col(\"wallet_eligibility_flag\") == 'Y')\n",
    "    , ls_param_strata\n",
    ")\n",
    "\n",
    "df_campaign_cand_control = find_similar_sample(\n",
    "    df_campaign_full\n",
    "    .filter(f.col(\"target_segment\") != 'a.target')\n",
    "    .filter(f.col(\"target_segment\") != 'z7.Android Device')\n",
    "    # .filter(f.col(\"ch01_flag\") != 'Y')\n",
    "    # .filter(f.col(\"ch02_flag\") != 'Y')\n",
    "    # .filter(f.col(\"ch03_flag\") != 'Y')\n",
    "    , size = vt_param_control_size\n",
    "    , strata = ls_param_strata\n",
    "    , df_target = df_sample_target\n",
    ")\n",
    "\n",
    "\n",
    "print(\"control\")\n",
    "display(\n",
    "    df_campaign_cand_control\n",
    "    .agg(\n",
    "        f.countDistinct(\"fs_cust_id\")\n",
    "        , f.median(\"churn_score\")\n",
    "        , f.avg(\"churn_score\")\n",
    "        , f.median(\"dr_score\")\n",
    "        , f.avg(\"dr_score\")\n",
    "        , f.median(\"ifp_score\")\n",
    "        , f.avg(\"ifp_score\")\n",
    "    )\n",
    ")\n",
    "\n",
    "\n",
    "print(\"target\")\n",
    "display(\n",
    "    df_campaign_full\n",
    "    .filter(f.col('target_segment') == 'a.target')\n",
    "    .agg(\n",
    "        f.countDistinct(\"fs_cust_id\")\n",
    "        , f.median(\"churn_score\")\n",
    "        , f.avg(\"churn_score\")\n",
    "        , f.median(\"dr_score\")\n",
    "        , f.avg(\"dr_score\")\n",
    "        , f.median(\"ifp_score\")\n",
    "        , f.avg(\"ifp_score\")\n",
    "    )\n",
    ")\n",
    "\n",
    "df_campaign_cand_target = (\n",
    "    df_campaign_full\n",
    "    .filter(f.col('target_segment') == 'a.target')\n",
    ")"
   ]
  },
  {
   "cell_type": "code",
   "execution_count": 0,
   "metadata": {
    "application/vnd.databricks.v1+cell": {
     "cellMetadata": {
      "byteLimit": 2048000,
      "rowLimit": 10000
     },
     "inputWidgets": {},
     "nuid": "a38d3ba1-6eaa-4b05-9574-82014baafcff",
     "showTitle": false,
     "tableResultSettingsMap": {},
     "title": ""
    }
   },
   "outputs": [],
   "source": [
    "(\n",
    "    df_campaign_cand_control\n",
    "    .write\n",
    "    .format(\"delta\")\n",
    "    .mode(\"overwrite\")\n",
    "    .option(\"overwriteSchema\", \"true\")\n",
    "    #.option(\"partitionOverwriteMode\", \"dynamic\")\n",
    "    .save('/mnt/ml-lab/dev_users/dev_sc/ml_campaigns/regen_control/250228-JS-MOBPM-iPhone-SE-Launch_control') \n",
    ")"
   ]
  },
  {
   "cell_type": "code",
   "execution_count": 0,
   "metadata": {
    "application/vnd.databricks.v1+cell": {
     "cellMetadata": {
      "byteLimit": 2048000,
      "rowLimit": 10000
     },
     "inputWidgets": {},
     "nuid": "298c7be1-e489-47a4-acbf-b4d4988f87c2",
     "showTitle": false,
     "tableResultSettingsMap": {},
     "title": ""
    }
   },
   "outputs": [],
   "source": [
    "(\n",
    "    df_campaign_cand_target\n",
    "    .write\n",
    "    .format(\"delta\")\n",
    "    .mode(\"overwrite\")\n",
    "    .option(\"overwriteSchema\", \"true\")\n",
    "    #.option(\"partitionOverwriteMode\", \"dynamic\")\n",
    "    .save('/mnt/ml-lab/dev_users/dev_sc/ml_campaigns/regen_control/250228-JS-MOBPM-iPhone-SE-Launch_target') \n",
    ")"
   ]
  }
 ],
 "metadata": {
  "application/vnd.databricks.v1+notebook": {
   "computePreferences": null,
   "dashboards": [],
   "environmentMetadata": {
    "base_environment": "",
    "environment_version": "2"
   },
   "inputWidgetPreferences": null,
   "language": "python",
   "notebookMetadata": {
    "pythonIndentUnit": 4
   },
   "notebookName": "Explore | 20250311 Apple NPI Recals",
   "widgets": {}
  },
  "language_info": {
   "name": "python"
  }
 },
 "nbformat": 4,
 "nbformat_minor": 0
}
