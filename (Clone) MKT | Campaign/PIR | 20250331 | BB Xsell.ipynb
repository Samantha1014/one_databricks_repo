{
 "cells": [
  {
   "cell_type": "markdown",
   "metadata": {
    "application/vnd.databricks.v1+cell": {
     "cellMetadata": {},
     "inputWidgets": {},
     "nuid": "29d64060-383a-42de-a33b-820976a9a405",
     "showTitle": false,
     "tableResultSettingsMap": {},
     "title": ""
    }
   },
   "source": [
    "###s000 environment setup"
   ]
  },
  {
   "cell_type": "markdown",
   "metadata": {
    "application/vnd.databricks.v1+cell": {
     "cellMetadata": {},
     "inputWidgets": {},
     "nuid": "7153992c-f007-42cd-a0f1-7fbabe929b3f",
     "showTitle": false,
     "tableResultSettingsMap": {},
     "title": ""
    }
   },
   "source": [
    "### s001 libraries"
   ]
  },
  {
   "cell_type": "code",
   "execution_count": 0,
   "metadata": {
    "application/vnd.databricks.v1+cell": {
     "cellMetadata": {
      "byteLimit": 2048000,
      "rowLimit": 10000
     },
     "inputWidgets": {},
     "nuid": "496a1bda-e5de-4c33-bcfb-876d81d125f2",
     "showTitle": false,
     "tableResultSettingsMap": {},
     "title": ""
    }
   },
   "outputs": [],
   "source": [
    "# libraries\n",
    "import os\n",
    "import pyspark\n",
    "from pyspark import sql\n",
    "from pyspark.sql import functions as f\n",
    "from pyspark.sql import Window"
   ]
  },
  {
   "cell_type": "markdown",
   "metadata": {
    "application/vnd.databricks.v1+cell": {
     "cellMetadata": {},
     "inputWidgets": {},
     "nuid": "4be9111c-d5c6-4026-ba33-e1066e4f89f8",
     "showTitle": false,
     "tableResultSettingsMap": {},
     "title": ""
    }
   },
   "source": [
    "### s002 sf connectivity"
   ]
  },
  {
   "cell_type": "code",
   "execution_count": 0,
   "metadata": {
    "application/vnd.databricks.v1+cell": {
     "cellMetadata": {
      "byteLimit": 2048000,
      "rowLimit": 10000
     },
     "inputWidgets": {},
     "nuid": "bff76563-0b76-41a7-a424-66eab5ac5e0c",
     "showTitle": false,
     "tableResultSettingsMap": {},
     "title": ""
    }
   },
   "outputs": [],
   "source": [
    "%run \"./utils_spark_df\""
   ]
  },
  {
   "cell_type": "code",
   "execution_count": 0,
   "metadata": {
    "application/vnd.databricks.v1+cell": {
     "cellMetadata": {
      "byteLimit": 2048000,
      "rowLimit": 10000
     },
     "inputWidgets": {},
     "nuid": "8ce3db88-78f0-4012-982e-6a56e9a37d0e",
     "showTitle": false,
     "tableResultSettingsMap": {},
     "title": ""
    }
   },
   "outputs": [],
   "source": [
    "%run \"./utils_stratified_sampling\""
   ]
  },
  {
   "cell_type": "code",
   "execution_count": 0,
   "metadata": {
    "application/vnd.databricks.v1+cell": {
     "cellMetadata": {
      "byteLimit": 2048000,
      "rowLimit": 10000
     },
     "inputWidgets": {},
     "nuid": "86abf0f3-5de5-4335-904f-17453519e70e",
     "showTitle": false,
     "tableResultSettingsMap": {},
     "title": ""
    }
   },
   "outputs": [],
   "source": [
    "# ------------- Use snowflake utility\n",
    "sfUtils = sc._jvm.net.snowflake.spark.snowflake.Utils\n",
    "\n",
    "# ------------ login to snowflake\n",
    "password = dbutils.secrets.get(scope = \"auea-kv-sbx-dxdtlprdct01\", key = \"sfdbrsdskey\")\n",
    "\n",
    "options = {\n",
    "  \"sfUrl\": \"vodafonenz_prod.australia-east.azure.snowflakecomputing.com/\", \n",
    "  \"sfUser\": \"SVC_LAB_DS_DATABRICKS\",\n",
    "  \"pem_private_key\": password.replace('\\\\n', '\\n'),\n",
    "  \"sfDatabase\": \"LAB_ML_STORE\",\n",
    "  \"sfSchema\": \"SANDBOX\",\n",
    "  \"sfWarehouse\": \"LAB_DS_WH\"\n",
    "}"
   ]
  },
  {
   "cell_type": "code",
   "execution_count": 0,
   "metadata": {
    "application/vnd.databricks.v1+cell": {
     "cellMetadata": {
      "byteLimit": 2048000,
      "rowLimit": 10000
     },
     "inputWidgets": {},
     "nuid": "edc05c2c-5cf0-46e2-9b73-13d375e9b85d",
     "showTitle": true,
     "tableResultSettingsMap": {},
     "title": "sfmc query"
    }
   },
   "outputs": [],
   "source": [
    "query_sfmc_send = \"\"\"\n",
    "select * from PROD_MAR_TECH.SERVING.SFMC_EMAIL_PERFORMANCE\n",
    "WHERE EMAILNAME IN ('250313-SH-FIX-EML-M-CRS-P4-Broadband-Join-Credit') \n",
    "AND CUSTOMER_ID NOT ILIKE 'TEST%';\n",
    "\"\"\""
   ]
  },
  {
   "cell_type": "code",
   "execution_count": 0,
   "metadata": {
    "application/vnd.databricks.v1+cell": {
     "cellMetadata": {
      "byteLimit": 2048000,
      "rowLimit": 10000
     },
     "inputWidgets": {},
     "nuid": "5eccf010-3acd-4262-808d-d7abb772cca6",
     "showTitle": true,
     "tableResultSettingsMap": {},
     "title": "sfmc send"
    }
   },
   "outputs": [],
   "source": [
    "df_sfmc_base = (\n",
    "    spark\n",
    "    .read\n",
    "    .format(\"snowflake\")\n",
    "    .options(**options)\n",
    "    .option(\n",
    "        \"query\"\n",
    "        , query_sfmc_send\n",
    "    )\n",
    "    .load()\n",
    ")"
   ]
  },
  {
   "cell_type": "code",
   "execution_count": 0,
   "metadata": {
    "application/vnd.databricks.v1+cell": {
     "cellMetadata": {
      "byteLimit": 2048000,
      "rowLimit": 10000
     },
     "inputWidgets": {},
     "nuid": "d9091833-c882-40bb-83c2-0d75dcab5c5b",
     "showTitle": true,
     "tableResultSettingsMap": {},
     "title": "bb orders query"
    }
   },
   "outputs": [],
   "source": [
    "query_bb_order = \"\"\"\n",
    "select * from LAB_ML_STORE.SANDBOX.SC_CONSUMER_BB_MARTECH_ALL_CONNECTIONS_ORDERS;\n",
    "\"\"\""
   ]
  },
  {
   "cell_type": "code",
   "execution_count": 0,
   "metadata": {
    "application/vnd.databricks.v1+cell": {
     "cellMetadata": {
      "byteLimit": 2048000,
      "rowLimit": 10000
     },
     "inputWidgets": {},
     "nuid": "782093a5-2f65-48f5-95d3-705fa988ca7f",
     "showTitle": false,
     "tableResultSettingsMap": {},
     "title": ""
    }
   },
   "outputs": [],
   "source": [
    "df_bb_order = (\n",
    "    spark\n",
    "    .read\n",
    "    .format(\"snowflake\")\n",
    "    .options(**options)\n",
    "    .option(\n",
    "        \"query\"\n",
    "        , query_bb_order\n",
    "    )\n",
    "    .load()\n",
    ")"
   ]
  },
  {
   "cell_type": "code",
   "execution_count": 0,
   "metadata": {
    "application/vnd.databricks.v1+cell": {
     "cellMetadata": {
      "byteLimit": 2048000,
      "rowLimit": 10000
     },
     "inputWidgets": {},
     "nuid": "e3af8bb5-d976-4d3b-9429-edf0025981eb",
     "showTitle": true,
     "tableResultSettingsMap": {},
     "title": "load last campaign base"
    }
   },
   "outputs": [],
   "source": [
    "df_campaign_full = spark.read.format(\"delta\").load('/mnt/ml-lab/dev_users/dev_sc/ml_campaigns/bbxsell/20250311_bbxsell')"
   ]
  },
  {
   "cell_type": "code",
   "execution_count": 0,
   "metadata": {
    "application/vnd.databricks.v1+cell": {
     "cellMetadata": {
      "byteLimit": 2048000,
      "rowLimit": 10000
     },
     "inputWidgets": {},
     "nuid": "4521feb7-bb16-4407-97d4-31e126346900",
     "showTitle": false,
     "tableResultSettingsMap": {},
     "title": ""
    }
   },
   "outputs": [],
   "source": [
    "display(\n",
    "    df_sfmc_base\n",
    "    .select(\n",
    "        f.col('customer_id').alias('fs_cust_id')\n",
    "    )\n",
    "    .distinct()\n",
    "    .join(df_campaign_full, ['fs_cust_id'], 'inner')\n",
    "    .agg(\n",
    "        f.countDistinct('fs_cust_id')\n",
    "        , f.countDistinct('fs_acct_id')\n",
    "        , f.count('*')\n",
    "    )\n",
    ")\n",
    "\n",
    "df_sfmc_send =   (\n",
    "    df_sfmc_base\n",
    "    .select(\n",
    "        f.col('customer_id').alias('fs_cust_id')\n",
    "    )\n",
    "    .distinct()\n",
    "    .join(df_campaign_full, ['fs_cust_id'], 'inner')\n",
    ")"
   ]
  },
  {
   "cell_type": "markdown",
   "metadata": {
    "application/vnd.databricks.v1+cell": {
     "cellMetadata": {},
     "inputWidgets": {},
     "nuid": "9c413f28-53d2-4113-8b98-f9a125151209",
     "showTitle": false,
     "tableResultSettingsMap": {},
     "title": ""
    }
   },
   "source": [
    "### s003 regen control"
   ]
  },
  {
   "cell_type": "code",
   "execution_count": 0,
   "metadata": {
    "application/vnd.databricks.v1+cell": {
     "cellMetadata": {
      "byteLimit": 2048000,
      "rowLimit": 10000
     },
     "inputWidgets": {},
     "nuid": "cd5fc0c6-ea13-4817-9baf-0290bc7ca7cb",
     "showTitle": false,
     "tableResultSettingsMap": {},
     "title": ""
    }
   },
   "outputs": [],
   "source": [
    "vt_param_control_size = 30000\n",
    "ls_param_strata = [ 'churn_top_ntile', 'xsell_top_ntile']\n",
    "\n",
    "df_sfmc_send =   (\n",
    "    df_sfmc_base\n",
    "    .select(\n",
    "        f.col('customer_id').alias('fs_cust_id')\n",
    "    )\n",
    "    .distinct()\n",
    "    .join(df_campaign_full, ['fs_cust_id'], 'inner')\n",
    ")\n",
    "\n",
    "df_sample_target = create_sample_target(\n",
    "     df_sfmc_send\n",
    "    .filter(f.col(\"target_segment\") == 'a.target')\n",
    "    .filter(f.col(\"xsell_segment\").isin([\"H\", \"M\"]))\n",
    "   # .filter(f.col('churn_segment') != \"H\")\n",
    "    , ls_param_strata\n",
    "    )\n",
    "\n",
    "\n",
    "\n",
    "df_campaign_cand_control = find_similar_sample(\n",
    "    df_campaign_full\n",
    "    .join(df_sfmc_send, ['fs_cust_id'], 'anti')\n",
    "    #.filter(f.col(\"xsell_segment\").isin([\"H\", \"M\"]))\n",
    "    #.filter(f.col(\"ch02_flag\") != 'Y')\n",
    "    #.filter(f.col(\"ch01_flag\") != 'Y')\n",
    "   #.filter(f.col('churn_segment') != \"H\")\n",
    "    , size = vt_param_control_size\n",
    "    , strata = ls_param_strata\n",
    "    , df_target = df_sample_target\n",
    ")\n",
    "\n",
    "\n",
    "print(\"control\")\n",
    "display(\n",
    "    df_campaign_cand_control\n",
    "    .agg(\n",
    "        f.countDistinct(\"fs_acct_id\")\n",
    "        , f.count('*')\n",
    "        , f.median(\"churn_score\")\n",
    "        , f.avg(\"churn_score\")\n",
    "        , f.median(\"xsell_score\")\n",
    "        , f.avg(\"xsell_score\")\n",
    "    )\n",
    ")\n",
    "\n",
    "\n",
    "print(\"target\")\n",
    "display(\n",
    "    df_sfmc_send\n",
    "    .agg(\n",
    "        f.countDistinct(\"fs_acct_id\")\n",
    "        , f.count('*')\n",
    "        , f.median(\"churn_score\")\n",
    "        , f.avg(\"churn_score\")\n",
    "        , f.median(\"xsell_score\")\n",
    "        , f.avg(\"xsell_score\")\n",
    "    )\n",
    ")\n",
    "\n",
    "evaluate_sample(df_campaign_cand_control, df_sfmc_send,['xsell_score', 'churn_score'] )"
   ]
  },
  {
   "cell_type": "code",
   "execution_count": 0,
   "metadata": {
    "application/vnd.databricks.v1+cell": {
     "cellMetadata": {
      "byteLimit": 2048000,
      "rowLimit": 10000
     },
     "inputWidgets": {},
     "nuid": "5f325fb5-49d0-4a2c-9900-aca8b338210e",
     "showTitle": false,
     "tableResultSettingsMap": {},
     "title": ""
    }
   },
   "outputs": [],
   "source": [
    "display(\n",
    "    df_sfmc_send\n",
    "    .join(df_campaign_cand_control, ['fs_acct_id', 'fs_cust_id'], 'inner')      \n",
    ")\n",
    "\n",
    "display(\n",
    "    df_sfmc_send\n",
    "    .join(df_campaign_cand_control, ['fs_acct_id'], 'inner')      \n",
    ")\n",
    "\n",
    "display(\n",
    "    df_sfmc_send\n",
    "    .join(df_campaign_cand_control, ['fs_cust_id'], 'inner')      \n",
    ")"
   ]
  },
  {
   "cell_type": "code",
   "execution_count": 0,
   "metadata": {
    "application/vnd.databricks.v1+cell": {
     "cellMetadata": {
      "byteLimit": 2048000,
      "rowLimit": 10000
     },
     "inputWidgets": {},
     "nuid": "c84e6683-3dd0-424b-97e1-9e6de129d199",
     "showTitle": true,
     "tableResultSettingsMap": {},
     "title": "export regen control"
    }
   },
   "outputs": [],
   "source": [
    "\n",
    "(\n",
    "    df_campaign_cand_control\n",
    "    .write\n",
    "    .format(\"delta\")\n",
    "    .mode(\"overwrite\")\n",
    "    .option(\"overwriteSchema\", \"true\")\n",
    "    #.option(\"partitionOverwriteMode\", \"dynamic\")\n",
    "    .save('/mnt/ml-lab/dev_users/dev_sc/ml_campaigns/bbxsell/20250311_bbxsell_regen_control') \n",
    ")"
   ]
  },
  {
   "cell_type": "code",
   "execution_count": 0,
   "metadata": {
    "application/vnd.databricks.v1+cell": {
     "cellMetadata": {
      "byteLimit": 2048000,
      "rowLimit": 10000
     },
     "inputWidgets": {},
     "nuid": "98d6a4fc-e610-4b3a-be3c-b013ec6da128",
     "showTitle": false,
     "tableResultSettingsMap": {},
     "title": ""
    }
   },
   "outputs": [],
   "source": [
    "df_campaign_cand_control = spark.read.format('delta').load('/mnt/ml-lab/dev_users/dev_sc/ml_campaigns/bbxsell/20250311_bbxsell_regen_control')"
   ]
  },
  {
   "cell_type": "code",
   "execution_count": 0,
   "metadata": {
    "application/vnd.databricks.v1+cell": {
     "cellMetadata": {
      "byteLimit": 2048000,
      "rowLimit": 10000
     },
     "inputWidgets": {},
     "nuid": "227bc23c-2cc5-4008-8207-ca40583a6888",
     "showTitle": false,
     "tableResultSettingsMap": {},
     "title": ""
    }
   },
   "outputs": [],
   "source": [
    "display(df_campaign_cand_control.count())\n",
    "display(df_bb_order.limit(10))"
   ]
  },
  {
   "cell_type": "code",
   "execution_count": 0,
   "metadata": {
    "application/vnd.databricks.v1+cell": {
     "cellMetadata": {
      "byteLimit": 2048000,
      "rowLimit": 10000
     },
     "inputWidgets": {},
     "nuid": "f0636342-77f5-4174-9677-ad37825287dd",
     "showTitle": true,
     "tableResultSettingsMap": {},
     "title": "control bb order"
    }
   },
   "outputs": [],
   "source": [
    "display(\n",
    "    df_campaign_cand_control\n",
    "    .join(\n",
    "        df_bb_order\n",
    "        .filter(f.col('CONNECT_ORDER_DATE') >= '2025-03-12')  \n",
    "        .filter(f.col('CONNECT_ORDER_DATE') <= '2025-03-31')\n",
    "        , f.col('fs_cust_id') == f.col('customer_id'), 'inner'\n",
    "    )\n",
    "    .agg(\n",
    "        f.countDistinct('fs_acct_id')\n",
    "        , f.countDistinct('fs_cust_id')\n",
    "        , f.count('*')\n",
    "    )\n",
    ")\n",
    "\n",
    "\n",
    "display(df_campaign_cand_control.count())"
   ]
  },
  {
   "cell_type": "code",
   "execution_count": 0,
   "metadata": {
    "application/vnd.databricks.v1+cell": {
     "cellMetadata": {
      "byteLimit": 2048000,
      "rowLimit": 10000
     },
     "inputWidgets": {},
     "nuid": "8e9bb5e0-168f-474d-a36b-a9d7fa136b00",
     "showTitle": false,
     "tableResultSettingsMap": {},
     "title": ""
    }
   },
   "outputs": [],
   "source": [
    "display(\n",
    "    df_campaign_cand_control\n",
    "    .join(\n",
    "        df_bb_order\n",
    "        .filter(f.col('CONNECT_ORDER_DATE') >= '2025-03-12')  \n",
    "        .filter(f.col('CONNECT_ORDER_DATE') <= '2025-03-31')\n",
    "        , f.col('fs_cust_id') == f.col('customer_id'), 'inner'\n",
    "    )\n",
    "    .filter(f.col('PLAN_NAME').isin(\n",
    "        'Unlimited - UltraFast HFC Max'\n",
    "        , 'Fibre Everyday (Unlimited Broadband)'\n",
    "        , 'Fibre Max (Unlimited Broadband)'\n",
    "        , 'Wireless Unlimited'\n",
    "        )\n",
    "    )\n",
    "    .groupBy('PLAN_NAME')\n",
    "    .agg(\n",
    "        f.countDistinct('fs_acct_id')\n",
    "        , f.countDistinct('fs_cust_id')\n",
    "        , f.count('*')\n",
    "    )\n",
    ")\n",
    "\n",
    "\n",
    "display(df_campaign_cand_control.count())"
   ]
  },
  {
   "cell_type": "code",
   "execution_count": 0,
   "metadata": {
    "application/vnd.databricks.v1+cell": {
     "cellMetadata": {
      "byteLimit": 2048000,
      "rowLimit": 10000
     },
     "inputWidgets": {},
     "nuid": "2358bba7-8e11-4e0d-b716-c97477bcb479",
     "showTitle": true,
     "tableResultSettingsMap": {},
     "title": "target bb order"
    }
   },
   "outputs": [],
   "source": [
    "display(\n",
    "    df_sfmc_send\n",
    "    .join(\n",
    "        df_bb_order\n",
    "        .filter(f.col('CONNECT_ORDER_DATE') >= '2025-03-12')\n",
    "        .filter(f.col('CONNECT_ORDER_DATE') <= '2025-03-31')  \n",
    "          , f.col('fs_cust_id') == f.col('customer_id'), 'inner')\n",
    "    .agg(\n",
    "        f.countDistinct('fs_acct_id')\n",
    "         , f.countDistinct('fs_cust_id')\n",
    "         , f.count('*')\n",
    "    )\n",
    ")\n",
    "\n",
    "display(df_sfmc_send.count())"
   ]
  },
  {
   "cell_type": "code",
   "execution_count": 0,
   "metadata": {
    "application/vnd.databricks.v1+cell": {
     "cellMetadata": {
      "byteLimit": 2048000,
      "rowLimit": 10000
     },
     "inputWidgets": {},
     "nuid": "7e49e1eb-63bf-40ed-8b4a-7605db3505ee",
     "showTitle": false,
     "tableResultSettingsMap": {},
     "title": ""
    }
   },
   "outputs": [],
   "source": [
    "display(\n",
    "    df_sfmc_send\n",
    "    .join(\n",
    "        df_bb_order\n",
    "        .filter(f.col('CONNECT_ORDER_DATE') >= '2025-03-12')\n",
    "        .filter(f.col('CONNECT_ORDER_DATE') <= '2025-04-01')  \n",
    "          , f.col('fs_cust_id') == f.col('customer_id'), 'inner')\n",
    "    .groupBy('PLAN_NAME')\n",
    "    .agg(\n",
    "        f.countDistinct('fs_acct_id')\n",
    "         , f.countDistinct('fs_cust_id')\n",
    "         , f.count('*')\n",
    "    )\n",
    ")\n"
   ]
  },
  {
   "cell_type": "code",
   "execution_count": 0,
   "metadata": {
    "application/vnd.databricks.v1+cell": {
     "cellMetadata": {
      "byteLimit": 2048000,
      "rowLimit": 10000
     },
     "inputWidgets": {},
     "nuid": "9f3a6fa1-7c6d-42d5-9211-0993ae0ff1af",
     "showTitle": false,
     "tableResultSettingsMap": {},
     "title": ""
    }
   },
   "outputs": [],
   "source": [
    "display(\n",
    "    df_sfmc_send\n",
    "    .join(\n",
    "        df_bb_order\n",
    "        .filter(f.col('CONNECT_ORDER_DATE') >= '2025-03-12')\n",
    "        .filter(f.col('CONNECT_ORDER_DATE') <= '2025-04-01')  \n",
    "          , f.col('fs_cust_id') == f.col('customer_id'), 'inner')\n",
    "    .filter(f.col('PLAN_NAME') == 'Fibre Everyday (Unlimited Broadband)')\n",
    ")\n"
   ]
  }
 ],
 "metadata": {
  "application/vnd.databricks.v1+notebook": {
   "computePreferences": null,
   "dashboards": [],
   "environmentMetadata": {
    "base_environment": "",
    "environment_version": "2"
   },
   "inputWidgetPreferences": null,
   "language": "python",
   "notebookMetadata": {
    "pythonIndentUnit": 4
   },
   "notebookName": "PIR | 20250331 | BB Xsell",
   "widgets": {}
  },
  "language_info": {
   "name": "python"
  }
 },
 "nbformat": 4,
 "nbformat_minor": 0
}
