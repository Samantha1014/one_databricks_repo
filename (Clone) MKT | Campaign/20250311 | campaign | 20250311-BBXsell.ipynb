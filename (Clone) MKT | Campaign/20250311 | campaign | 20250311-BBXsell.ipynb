{
 "cells": [
  {
   "cell_type": "markdown",
   "metadata": {
    "application/vnd.databricks.v1+cell": {
     "cellMetadata": {
      "byteLimit": 2048000,
      "rowLimit": 10000
     },
     "inputWidgets": {},
     "nuid": "da13a281-1843-4b38-a78c-bfeb3757484c",
     "showTitle": false,
     "tableResultSettingsMap": {},
     "title": ""
    }
   },
   "source": [
    "###s000 environment setup"
   ]
  },
  {
   "cell_type": "markdown",
   "metadata": {
    "application/vnd.databricks.v1+cell": {
     "cellMetadata": {
      "byteLimit": 2048000,
      "rowLimit": 10000
     },
     "inputWidgets": {},
     "nuid": "79cda208-56db-4116-acd3-7a9c9e14ee4b",
     "showTitle": false,
     "tableResultSettingsMap": {},
     "title": ""
    }
   },
   "source": [
    "### s001 libraries"
   ]
  },
  {
   "cell_type": "code",
   "execution_count": 0,
   "metadata": {
    "application/vnd.databricks.v1+cell": {
     "cellMetadata": {
      "byteLimit": 2048000,
      "rowLimit": 10000
     },
     "inputWidgets": {},
     "nuid": "3b8cf479-0efb-4ac8-9caa-497e8ed2e03a",
     "showTitle": false,
     "tableResultSettingsMap": {},
     "title": ""
    }
   },
   "outputs": [],
   "source": [
    "# libraries\n",
    "import os\n",
    "import pyspark\n",
    "from pyspark import sql\n",
    "from pyspark.sql import functions as f\n",
    "from pyspark.sql import Window"
   ]
  },
  {
   "cell_type": "markdown",
   "metadata": {
    "application/vnd.databricks.v1+cell": {
     "cellMetadata": {
      "byteLimit": 2048000,
      "rowLimit": 10000
     },
     "inputWidgets": {},
     "nuid": "e17ab2bc-6739-4690-8c65-80a67cfb05e5",
     "showTitle": false,
     "tableResultSettingsMap": {},
     "title": ""
    }
   },
   "source": [
    "### s002 sf connectivity"
   ]
  },
  {
   "cell_type": "code",
   "execution_count": 0,
   "metadata": {
    "application/vnd.databricks.v1+cell": {
     "cellMetadata": {
      "byteLimit": 2048000,
      "rowLimit": 10000
     },
     "inputWidgets": {},
     "nuid": "736c9e07-35d0-4132-b91d-118542ba3810",
     "showTitle": false,
     "tableResultSettingsMap": {},
     "title": ""
    }
   },
   "outputs": [],
   "source": [
    "%run \"./utils_spark_df\""
   ]
  },
  {
   "cell_type": "code",
   "execution_count": 0,
   "metadata": {
    "application/vnd.databricks.v1+cell": {
     "cellMetadata": {
      "byteLimit": 2048000,
      "rowLimit": 10000
     },
     "inputWidgets": {},
     "nuid": "ca3b7db6-3ccc-4cd8-b3b3-f698dc95b88f",
     "showTitle": false,
     "tableResultSettingsMap": {},
     "title": ""
    }
   },
   "outputs": [],
   "source": [
    "%run \"./utils_stratified_sampling\""
   ]
  },
  {
   "cell_type": "code",
   "execution_count": 0,
   "metadata": {
    "application/vnd.databricks.v1+cell": {
     "cellMetadata": {
      "byteLimit": 2048000,
      "rowLimit": 10000
     },
     "inputWidgets": {},
     "nuid": "42b8bd32-3222-4487-89eb-4541698acd7c",
     "showTitle": false,
     "tableResultSettingsMap": {},
     "title": ""
    }
   },
   "outputs": [],
   "source": [
    "# ------------- Use snowflake utility\n",
    "sfUtils = sc._jvm.net.snowflake.spark.snowflake.Utils\n",
    "\n",
    "# ------------ login to snowflake\n",
    "password = dbutils.secrets.get(scope = \"auea-kv-sbx-dxdtlprdct01\", key = \"sfdbrsdskey\")\n",
    "\n",
    "options = {\n",
    "  \"sfUrl\": \"vodafonenz_prod.australia-east.azure.snowflakecomputing.com/\", \n",
    "  \"sfUser\": \"SVC_LAB_DS_DATABRICKS\",\n",
    "  \"pem_private_key\": password.replace('\\\\n', '\\n'),\n",
    "  \"sfDatabase\": \"LAB_ML_STORE\",\n",
    "  \"sfSchema\": \"SANDBOX\",\n",
    "  \"sfWarehouse\": \"LAB_DS_WH\"\n",
    "}"
   ]
  },
  {
   "cell_type": "markdown",
   "metadata": {
    "application/vnd.databricks.v1+cell": {
     "cellMetadata": {
      "byteLimit": 2048000,
      "rowLimit": 10000
     },
     "inputWidgets": {},
     "nuid": "64280251-ec11-4fd7-a636-23485254c703",
     "showTitle": false,
     "tableResultSettingsMap": {},
     "title": ""
    }
   },
   "source": [
    "### s003 directories"
   ]
  },
  {
   "cell_type": "code",
   "execution_count": 0,
   "metadata": {
    "application/vnd.databricks.v1+cell": {
     "cellMetadata": {
      "byteLimit": 2048000,
      "rowLimit": 10000
     },
     "inputWidgets": {},
     "nuid": "34996bfc-e95e-4db2-9deb-4f13dab36bff",
     "showTitle": false,
     "tableResultSettingsMap": {},
     "title": ""
    }
   },
   "outputs": [],
   "source": [
    "dir_fs_data_parent = \"/mnt/feature-store-prod-lab\"\n",
    "dir_mls_data_parent = \"/mnt/ml-store-prod-lab/classification\""
   ]
  },
  {
   "cell_type": "code",
   "execution_count": 0,
   "metadata": {
    "application/vnd.databricks.v1+cell": {
     "cellMetadata": {
      "byteLimit": 2048000,
      "rowLimit": 10000
     },
     "inputWidgets": {},
     "nuid": "f820fee1-f06a-45fd-8caf-0b4c664e4b44",
     "showTitle": false,
     "tableResultSettingsMap": {},
     "title": ""
    }
   },
   "outputs": [],
   "source": [
    "dir_mls_data_score = os.path.join(dir_mls_data_parent, \"d400_model_score\")"
   ]
  },
  {
   "cell_type": "code",
   "execution_count": 0,
   "metadata": {
    "application/vnd.databricks.v1+cell": {
     "cellMetadata": {
      "byteLimit": 2048000,
      "rowLimit": 10000
     },
     "inputWidgets": {},
     "nuid": "ef394cfe-782a-407f-8b18-063bdefa5791",
     "showTitle": false,
     "tableResultSettingsMap": {},
     "title": ""
    }
   },
   "outputs": [],
   "source": [
    "dir_fs_data_meta = os.path.join(dir_fs_data_parent, 'd000_meta')\n",
    "dir_fs_data_raw =  os.path.join(dir_fs_data_parent, 'd100_raw')\n",
    "dir_fs_data_int =  os.path.join(dir_fs_data_parent, \"d200_intermediate\")\n",
    "dir_fs_data_prm =  os.path.join(dir_fs_data_parent, \"d300_primary\")\n",
    "dir_fs_data_fea =  os.path.join(dir_fs_data_parent, \"d400_feature\")\n",
    "dir_fs_data_target = os.path.join(dir_fs_data_parent, \"d500_movement\")\n",
    "dir_fs_data_serv = os.path.join(dir_fs_data_parent, \"d600_serving\")"
   ]
  },
  {
   "cell_type": "markdown",
   "metadata": {
    "application/vnd.databricks.v1+cell": {
     "cellMetadata": {
      "byteLimit": 2048000,
      "rowLimit": 10000
     },
     "inputWidgets": {},
     "nuid": "1a1e2f92-5d0c-4d0e-9bbf-a5b83519f179",
     "showTitle": false,
     "tableResultSettingsMap": {},
     "title": ""
    }
   },
   "source": [
    "## s100 data import"
   ]
  },
  {
   "cell_type": "code",
   "execution_count": 0,
   "metadata": {
    "application/vnd.databricks.v1+cell": {
     "cellMetadata": {
      "byteLimit": 2048000,
      "rowLimit": 10000
     },
     "inputWidgets": {},
     "nuid": "6ecb6622-e49e-4c11-8138-abecec7a7558",
     "showTitle": false,
     "tableResultSettingsMap": {},
     "title": ""
    }
   },
   "outputs": [],
   "source": [
    "vt_param_reporting_date = \"2025-03-09\"\n",
    "vt_param_reporting_cycle_type = \"rolling cycle\""
   ]
  },
  {
   "cell_type": "markdown",
   "metadata": {
    "application/vnd.databricks.v1+cell": {
     "cellMetadata": {
      "byteLimit": 2048000,
      "rowLimit": 10000
     },
     "inputWidgets": {},
     "nuid": "7b870182-b280-4a23-8756-9e321cbc3782",
     "showTitle": false,
     "tableResultSettingsMap": {},
     "title": ""
    }
   },
   "source": [
    "### s101 feature store"
   ]
  },
  {
   "cell_type": "code",
   "execution_count": 0,
   "metadata": {
    "application/vnd.databricks.v1+cell": {
     "cellMetadata": {
      "byteLimit": 2048000,
      "rowLimit": 10000
     },
     "inputWidgets": {},
     "nuid": "ed62ec31-5d03-45c7-bafa-208a2f8a92cf",
     "showTitle": false,
     "tableResultSettingsMap": {},
     "title": ""
    }
   },
   "outputs": [],
   "source": [
    "df_fs_master = spark.read.format(\"delta\").load(os.path.join(dir_fs_data_serv, \"serv_mobile_oa_consumer\"))"
   ]
  },
  {
   "cell_type": "code",
   "execution_count": 0,
   "metadata": {
    "application/vnd.databricks.v1+cell": {
     "cellMetadata": {
      "byteLimit": 2048000,
      "rowLimit": 10000
     },
     "inputWidgets": {},
     "nuid": "6d8ad8c5-30f9-486f-9a07-35292c49b167",
     "showTitle": false,
     "tableResultSettingsMap": {},
     "title": ""
    }
   },
   "outputs": [],
   "source": [
    "df_fs_unit_base = (\n",
    "    spark\n",
    "    .read\n",
    "    .format(\"delta\")\n",
    "    .load(os.path.join(dir_fs_data_fea, \"d401_mobile_oa_consumer/fea_unit_base\"))\n",
    "    .filter(f.col(\"reporting_cycle_type\") == 'rolling cycle')\n",
    "    .filter(f.col(\"reporting_date\") == vt_param_reporting_date)\n",
    "    .select(\"reporting_date\",\"reporting_cycle_type\",\"fs_cust_id\",\"fs_acct_id\",\"fs_srvc_id\",\"product_holding_desc\")\n",
    ")\n",
    "display(df_fs_unit_base.limit(3))"
   ]
  },
  {
   "cell_type": "markdown",
   "metadata": {
    "application/vnd.databricks.v1+cell": {
     "cellMetadata": {
      "byteLimit": 2048000,
      "rowLimit": 10000
     },
     "inputWidgets": {},
     "nuid": "ea66c437-861e-447e-96e3-ab0192c2eb2f",
     "showTitle": false,
     "tableResultSettingsMap": {},
     "title": ""
    }
   },
   "source": [
    "### s102 ml store"
   ]
  },
  {
   "cell_type": "code",
   "execution_count": 0,
   "metadata": {
    "application/vnd.databricks.v1+cell": {
     "cellMetadata": {
      "byteLimit": 2048000,
      "rowLimit": 10000
     },
     "inputWidgets": {},
     "nuid": "79b62eee-ce02-4f2b-94aa-b30c5d4139d6",
     "showTitle": false,
     "tableResultSettingsMap": {},
     "title": ""
    }
   },
   "outputs": [],
   "source": [
    "#df_mls_score_dr_apple = spark.read.format(\"delta\").load(os.path.join(dir_mls_data_score, \"mobile_oa_consumer_srvc_device_replacement_apple_pred30d\"))\n",
    "# df_mls_score_upsell_plan = spark.read.format(\"delta\").load(\"/mnt/feature-store-dev/dev_users/dev_rz/d999_testing/score_data_params_mobile_oa_consumer_srvc_upsell_plan_endless_pred30d_202405_exp2_v1_20240602\")\n",
    "df_mls_score_xsell_bb = spark.read.format(\"delta\").load(\"/mnt/feature-store-dev/dev_users/dev_rz/d999_testing/score_data_params_mobile_oa_consumer_srvc_xsell_bb_pred30d_202405_exp1_v1_20250302\")\n",
    "# df_mls_score_ifp = spark.read.format(\"delta\").load(os.path.join(dir_mls_data_score, \"mobile_oa_consumer_srvc_upsell_ifp_pred30d\"))\n",
    "df_mls_score_churn = spark.read.format(\"delta\").load(os.path.join(dir_mls_data_score, \"mobile_oa_consumer_srvc_churn_pred30d\"))"
   ]
  },
  {
   "cell_type": "code",
   "execution_count": 0,
   "metadata": {
    "application/vnd.databricks.v1+cell": {
     "cellMetadata": {
      "byteLimit": 2048000,
      "rowLimit": 10000
     },
     "inputWidgets": {},
     "nuid": "518887aa-acdb-493d-880e-119164a3c4de",
     "showTitle": true,
     "tableResultSettingsMap": {},
     "title": "target log 01"
    }
   },
   "outputs": [],
   "source": [
    "dir_data_sfmc = \"/mnt/prod_sfmc/imports/DataAnalytics/\"\n",
    "\n",
    "# previous wallet campaign \n",
    "df_campaign_hist_01 = spark.read.options(header = True).csv(f\"{dir_data_sfmc}/250305-RM-MOBPM-Wallet-Samsung-Galaxy-SEND-S24-WASHV2.csv\")\n",
    "df_campaign_hist_02 =  spark.read.options(header = True).csv(f\"{dir_data_sfmc}/250305-RM-MOBPM-Wallet-Samsung-Galaxy-SEND-S24FE-WASH.csv\")\n"
   ]
  },
  {
   "cell_type": "markdown",
   "metadata": {
    "application/vnd.databricks.v1+cell": {
     "cellMetadata": {
      "byteLimit": 2048000,
      "rowLimit": 10000
     },
     "inputWidgets": {},
     "nuid": "2f7478b7-ee69-4900-838f-bdf93a8a41dd",
     "showTitle": false,
     "tableResultSettingsMap": {},
     "title": ""
    }
   },
   "source": [
    "### s103 active bb base"
   ]
  },
  {
   "cell_type": "code",
   "execution_count": 0,
   "metadata": {
    "application/vnd.databricks.v1+cell": {
     "cellMetadata": {
      "byteLimit": 2048000,
      "rowLimit": 10000
     },
     "inputWidgets": {},
     "nuid": "534ad2ff-8a5d-44f3-b879-7039e2ad1e31",
     "showTitle": true,
     "tableResultSettingsMap": {},
     "title": "bb active base"
    }
   },
   "outputs": [],
   "source": [
    "query_bb_active = \"\"\"\n",
    "select \n",
    "f_serv.service_id, \n",
    "f_serv.billing_account_number,\n",
    "f_serv.customer_id, \n",
    "f_serv.record_start_date_time,\n",
    "f_serv.record_end_date_time, \n",
    "f_serv.current_record_flag, \n",
    "service_type_name,\n",
    "service_access_type_name, \n",
    "service_status_name, \n",
    "connection_activation_date, \n",
    "connection_deactivation_date, \n",
    "connect_order_date, \n",
    "plan_name, \n",
    "-- pt.\"L1 GROUP\" as plan_group_L1 ,\n",
    "-- pt.\"L2 GROUP\" as plan_group_L2 ,\n",
    "-- pm.\"RECURRING MARGIN\" as recurring_margin,\n",
    "proposition_name, \n",
    "customer_mkt_segment\n",
    "from prod_mar_tech.modelled.f_service_relationship_curr f_serv \n",
    "inner join prod_mar_tech.modelled.d_service_curr d_serv \n",
    "on f_serv.d_service_key = d_serv.d_service_key\n",
    "inner join prod_mar_tech.modelled.d_billing_account_curr d_billing \n",
    "on d_billing.d_billing_account_key = f_serv.d_billing_account_key\n",
    "inner join prod_mar_tech.modelled.d_customer_curr d_cust \n",
    "on d_cust.d_customer_key = f_serv.d_customer_key\n",
    "-- left join lab_ml_store.sandbox.sc_bb_plan_type_martech pt on pt.\"PLAN NAME\" = d_serv.plan_name\n",
    "-- left join lab_ml_store.sandbox.sc_bb_plan_margin pm on pm.\"BROADBAND  PLAN TYPE\" = pt.\"L1 GROUP\"\n",
    "where \n",
    "1=1 \n",
    "and customer_mkt_segment in ('Consumer')\n",
    "and ( \n",
    "    SERVICE_TYPE_NAME in ('Broadband') \n",
    "    or proposition_name in (\n",
    "    'home phone wireless'\n",
    "    , 'Home Wireless Broadband'\n",
    "    , 'Fixed Consumer'\n",
    "    , 'Home Wireless Broadband plus Calling'\n",
    "    )\n",
    ")\n",
    "and proposition_name not in ('Consumer SuperWifi', 'Business SuperWifi')\n",
    "and service_access_type_name not in ('LLR')\n",
    "and service_status_name in ( 'Active', 'Transferred', 'Suspended');\n",
    "\"\"\""
   ]
  },
  {
   "cell_type": "code",
   "execution_count": 0,
   "metadata": {
    "application/vnd.databricks.v1+cell": {
     "cellMetadata": {
      "byteLimit": 2048000,
      "rowLimit": 10000
     },
     "inputWidgets": {},
     "nuid": "48481890-b891-40fa-9e40-42a7c78ef2ae",
     "showTitle": false,
     "tableResultSettingsMap": {},
     "title": ""
    }
   },
   "outputs": [],
   "source": [
    "df_bb_base = (\n",
    "    spark\n",
    "    .read\n",
    "    .format(\"snowflake\")\n",
    "    .options(**options)\n",
    "    .option(\n",
    "        \"query\"\n",
    "        , query_bb_active\n",
    "    )\n",
    "    .load()\n",
    ")"
   ]
  },
  {
   "cell_type": "markdown",
   "metadata": {
    "application/vnd.databricks.v1+cell": {
     "cellMetadata": {
      "byteLimit": 2048000,
      "rowLimit": 10000
     },
     "inputWidgets": {},
     "nuid": "4fd67497-6ad6-46d9-b137-957cbb914843",
     "showTitle": false,
     "tableResultSettingsMap": {},
     "title": ""
    }
   },
   "source": [
    "### s104 non converged customer"
   ]
  },
  {
   "cell_type": "code",
   "execution_count": 0,
   "metadata": {
    "application/vnd.databricks.v1+cell": {
     "cellMetadata": {
      "byteLimit": 2048000,
      "rowLimit": 10000
     },
     "inputWidgets": {},
     "nuid": "270ff981-055e-4197-a3e9-c4e6beb2eafc",
     "showTitle": true,
     "tableResultSettingsMap": {},
     "title": "non_converged_cust"
    }
   },
   "outputs": [],
   "source": [
    "df_non_converged = (\n",
    "    df_fs_unit_base\n",
    "    .filter(f.col('reporting_date') == vt_param_reporting_date)\n",
    "    .join(\n",
    "        df_bb_base\n",
    "        , f.col('fs_cust_id') == f.col('customer_id') \n",
    "        , 'anti')\n",
    "    .select('reporting_date', 'reporting_cycle_type', 'fs_cust_id', 'fs_acct_id', 'fs_srvc_id')\n",
    ")"
   ]
  },
  {
   "cell_type": "code",
   "execution_count": 0,
   "metadata": {
    "application/vnd.databricks.v1+cell": {
     "cellMetadata": {
      "byteLimit": 2048000,
      "rowLimit": 10000
     },
     "inputWidgets": {},
     "nuid": "227d1ab8-422b-4147-8690-51c8c56f1ccb",
     "showTitle": true,
     "tableResultSettingsMap": {},
     "title": "check"
    }
   },
   "outputs": [],
   "source": [
    "display(df_non_converged.count())\n",
    "\n",
    "display(df_non_converged.limit(10))\n",
    "\n",
    "display(df_non_converged\n",
    "       .filter(f.lower(f.col('product_holding_desc')).contains('broadband'))\n",
    "        ) # inactive "
   ]
  },
  {
   "cell_type": "markdown",
   "metadata": {
    "application/vnd.databricks.v1+cell": {
     "cellMetadata": {
      "byteLimit": 2048000,
      "rowLimit": 10000
     },
     "inputWidgets": {},
     "nuid": "5fd41088-f764-47de-a59e-eee304499028",
     "showTitle": false,
     "tableResultSettingsMap": {},
     "title": ""
    }
   },
   "source": [
    "### s105 global control"
   ]
  },
  {
   "cell_type": "code",
   "execution_count": 0,
   "metadata": {
    "application/vnd.databricks.v1+cell": {
     "cellMetadata": {
      "byteLimit": 2048000,
      "rowLimit": 10000
     },
     "inputWidgets": {},
     "nuid": "853bba34-7293-4087-9bc9-8ec7d9c65147",
     "showTitle": false,
     "tableResultSettingsMap": {},
     "title": ""
    }
   },
   "outputs": [],
   "source": [
    "df_gc_curr = spark.read.format(\"delta\").load(\"/mnt/ml-store-dev/dev_users/dev_el/marketing_programs/global_control/mobile_oa_consumer\")\n",
    "\n",
    "df_gc_curr = (\n",
    "    df_gc_curr\n",
    "    .select(\"fs_cust_id\")\n",
    "    .distinct()\n",
    ")\n",
    "\n",
    "print(df_gc_curr.count())\n",
    "\n",
    "display(\n",
    "    df_gc_curr\n",
    "    .limit(10)\n",
    ")"
   ]
  },
  {
   "cell_type": "markdown",
   "metadata": {
    "application/vnd.databricks.v1+cell": {
     "cellMetadata": {
      "byteLimit": 2048000,
      "rowLimit": 10000
     },
     "inputWidgets": {},
     "nuid": "db5ddd14-7f59-493b-a60c-a351f4f79c8a",
     "showTitle": false,
     "tableResultSettingsMap": {},
     "title": ""
    }
   },
   "source": [
    "### s106 email address filter"
   ]
  },
  {
   "cell_type": "code",
   "execution_count": 0,
   "metadata": {
    "application/vnd.databricks.v1+cell": {
     "cellMetadata": {
      "byteLimit": 2048000,
      "rowLimit": 10000
     },
     "inputWidgets": {},
     "nuid": "e7e8ff52-cc00-463e-b0a6-999c12e76fbd",
     "showTitle": false,
     "tableResultSettingsMap": {},
     "title": ""
    }
   },
   "outputs": [],
   "source": [
    "df_martech_cust = (\n",
    "     spark.read\n",
    "    .format(\"snowflake\")\n",
    "    .options(**options)\n",
    "    .option(\n",
    "        \"query\"\n",
    "        , \"\"\"\n",
    "            select *\n",
    "            , customer_id as fs_cust_id\n",
    "            from PROD_MAR_TECH.SERVING.EXPORT_CUSTOMER\n",
    "        \"\"\"\n",
    "    )\n",
    "    .load()\n",
    ")\n",
    "\n",
    "df_martech_cust = lower_col_names(df_martech_cust)\n",
    "\n",
    "display(df_martech_cust.limit(10))\n",
    "\n",
    "display(df_martech_cust.groupBy(\"customer_id\").count().filter(f.col(\"count\")>1))"
   ]
  },
  {
   "cell_type": "code",
   "execution_count": 0,
   "metadata": {
    "application/vnd.databricks.v1+cell": {
     "cellMetadata": {
      "byteLimit": 2048000,
      "rowLimit": 10000
     },
     "inputWidgets": {},
     "nuid": "7897cc57-4d57-43fd-b4ec-aa814580966d",
     "showTitle": false,
     "tableResultSettingsMap": {},
     "title": ""
    }
   },
   "outputs": [],
   "source": [
    "df_martech_unsub = (\n",
    "    spark\n",
    "    .read\n",
    "    .format(\"snowflake\")\n",
    "    .options(**options)\n",
    "    .option(\n",
    "        \"query\"\n",
    "        , \"\"\"\n",
    "            select *\n",
    "            , contactkey as fs_cust_id\n",
    "            from PROD_MAR_TECH.SERVING.SFMC_MASTER_PREFERENCE\n",
    "        \"\"\"\n",
    "    )\n",
    "    .load()\n",
    ")\n",
    "\n",
    "df_martech_unsub = lower_col_names(df_martech_unsub)\n",
    "\n",
    "display(df_martech_unsub.limit(10))\n",
    "\n",
    "display(df_martech_unsub.groupBy(\"fs_cust_id\").count().filter(f.col(\"count\")>1))"
   ]
  },
  {
   "cell_type": "code",
   "execution_count": 0,
   "metadata": {
    "application/vnd.databricks.v1+cell": {
     "cellMetadata": {
      "byteLimit": 2048000,
      "rowLimit": 10000
     },
     "inputWidgets": {},
     "nuid": "ef3671e2-de47-4e06-8d9d-f7059e2162b7",
     "showTitle": false,
     "tableResultSettingsMap": {},
     "title": ""
    }
   },
   "outputs": [],
   "source": [
    "display(\n",
    "    df_martech_unsub\n",
    "    .filter(f.col(\"fs_cust_id\") == \"1-MO838RP\")\n",
    ")\n",
    "\n",
    "display(\n",
    "    df_martech_cust    \n",
    "    .filter(f.col(\"customer_id\") == \"1-MO838RP\")\n",
    ")"
   ]
  },
  {
   "cell_type": "code",
   "execution_count": 0,
   "metadata": {
    "application/vnd.databricks.v1+cell": {
     "cellMetadata": {
      "byteLimit": 2048000,
      "rowLimit": 10000
     },
     "inputWidgets": {},
     "nuid": "8a2fa15e-c340-434d-aadd-51e4377570a9",
     "showTitle": false,
     "tableResultSettingsMap": {},
     "title": ""
    }
   },
   "outputs": [],
   "source": [
    "df_martech_bill = (\n",
    "     spark.read\n",
    "    .format(\"snowflake\")\n",
    "    .options(**options)\n",
    "    .option(\n",
    "        \"query\"\n",
    "        , \"\"\"\n",
    "            select *\n",
    "            , customer_id as fs_cust_id\n",
    "            , billing_account_number as fs_acct_id\n",
    "            from PROD_MAR_TECH.SERVING.EXPORT_BILL_TO\n",
    "        \"\"\"\n",
    "    )\n",
    "    .load()\n",
    ")\n",
    "\n",
    "df_martech_bill = lower_col_names(df_martech_bill)\n",
    "\n",
    "display(\n",
    "    df_martech_bill\n",
    "    .filter(f.col(\"fs_acct_id\") == \"413426010\")\n",
    "    .limit(10)\n",
    ")\n",
    "\n",
    "display(\n",
    "    df_martech_bill\n",
    "    .groupBy(\"fs_acct_id\")\n",
    "    .agg(\n",
    "        f.count('*').alias(\"count\")\n",
    "        , f.collect_list(\"customer_id\").alias(\"customer_ids\")\n",
    "    )\n",
    "    .filter(f.col(\"count\")>1)\n",
    ")"
   ]
  },
  {
   "cell_type": "code",
   "execution_count": 0,
   "metadata": {
    "application/vnd.databricks.v1+cell": {
     "cellMetadata": {
      "byteLimit": 2048000,
      "rowLimit": 10000
     },
     "inputWidgets": {},
     "nuid": "01f5a534-d237-4741-a810-948d92da24bf",
     "showTitle": false,
     "tableResultSettingsMap": {},
     "title": ""
    }
   },
   "outputs": [],
   "source": [
    "df_martech = (\n",
    "    df_martech_bill\n",
    "    .groupBy(\"fs_acct_id\")\n",
    "    .agg(\n",
    "        f.max(\"fs_cust_id\").alias(\"fs_cust_id\")\n",
    "        , f.max(\"billing_profile_email\").alias(\"billing_profile_email\")\n",
    "    )\n",
    "    .distinct()\n",
    "    .join(\n",
    "        df_martech_cust\n",
    "        .groupBy(\"fs_cust_id\")\n",
    "        .agg(\n",
    "            f.max(\"customer_primary_contact_email\").alias(\"customer_primary_contact_email\")\n",
    "        )\n",
    "        , [\"fs_cust_id\"]\n",
    "        , \"left\"\n",
    "    )\n",
    "    .filter(f.col(\"fs_acct_id\").isNotNull())\n",
    "    .withColumn(\n",
    "        \"email_address\"\n",
    "        , f.when(f.col(\"customer_primary_contact_email\") == \"Unknown\", f.col(\"billing_profile_email\"))\n",
    "        .otherwise(\n",
    "            f.coalesce(f.col(\"customer_primary_contact_email\"),f.col(\"billing_profile_email\"))\n",
    "        )\n",
    "    )\n",
    ")\n",
    "\n",
    "display(df_martech.limit(100))\n",
    "\n",
    "display(df_martech.filter(f.col(\"email_address\").isNull()).count())\n",
    "\n",
    "display(df_martech.groupBy(\"fs_acct_id\").count().filter(f.col(\"count\")>1))"
   ]
  },
  {
   "cell_type": "markdown",
   "metadata": {
    "application/vnd.databricks.v1+cell": {
     "cellMetadata": {
      "byteLimit": 2048000,
      "rowLimit": 10000
     },
     "inputWidgets": {},
     "nuid": "2fb787a7-ed42-4dd5-85ea-06b9d22a6573",
     "showTitle": false,
     "tableResultSettingsMap": {},
     "title": ""
    }
   },
   "source": [
    "## s200 Data processing"
   ]
  },
  {
   "cell_type": "markdown",
   "metadata": {
    "application/vnd.databricks.v1+cell": {
     "cellMetadata": {
      "byteLimit": 2048000,
      "rowLimit": 10000
     },
     "inputWidgets": {},
     "nuid": "c852c28e-e94d-47e9-b4c6-244e335e4da8",
     "showTitle": false,
     "tableResultSettingsMap": {},
     "title": ""
    }
   },
   "source": [
    "### s201 base candidate"
   ]
  },
  {
   "cell_type": "code",
   "execution_count": 0,
   "metadata": {
    "application/vnd.databricks.v1+cell": {
     "cellMetadata": {
      "byteLimit": 2048000,
      "rowLimit": 10000
     },
     "inputWidgets": {},
     "nuid": "1337efe3-222a-4bfb-9c5f-2d9ed5e077cb",
     "showTitle": false,
     "tableResultSettingsMap": {},
     "title": ""
    }
   },
   "outputs": [],
   "source": [
    "df_base_full = (\n",
    "    df_fs_master\n",
    "    .filter(f.col(\"reporting_date\") == vt_param_reporting_date)\n",
    "    .filter(f.col(\"reporting_cycle_type\") == vt_param_reporting_cycle_type)\n",
    "    .join(\n",
    "        df_non_converged\n",
    "        , ['reporting_date','reporting_cycle_type','fs_acct_id','fs_cust_id','fs_srvc_id']\n",
    "        , 'inner'\n",
    "    )\n",
    "    .join(\n",
    "        df_fs_unit_base\n",
    "        , ['reporting_date','reporting_cycle_type','fs_acct_id','fs_cust_id','fs_srvc_id']\n",
    "        , 'inner'\n",
    "    )\n",
    "    .filter(~f.col(\"product_holding_desc\").ilike(\"%broadband%\"))\n",
    ")"
   ]
  },
  {
   "cell_type": "code",
   "execution_count": 0,
   "metadata": {
    "application/vnd.databricks.v1+cell": {
     "cellMetadata": {
      "byteLimit": 2048000,
      "rowLimit": 10000
     },
     "inputWidgets": {},
     "nuid": "14c8c9a5-6fe5-414a-8593-547bfc8e9e96",
     "showTitle": false,
     "tableResultSettingsMap": {},
     "title": ""
    }
   },
   "outputs": [],
   "source": [
    "display(df_base_full.limit(10))\n",
    "display(df_base_full.count())"
   ]
  },
  {
   "cell_type": "markdown",
   "metadata": {
    "application/vnd.databricks.v1+cell": {
     "cellMetadata": {
      "byteLimit": 2048000,
      "rowLimit": 10000
     },
     "inputWidgets": {},
     "nuid": "4626fbab-a40b-4fac-a887-2be2f59946c3",
     "showTitle": false,
     "tableResultSettingsMap": {},
     "title": ""
    }
   },
   "source": [
    "### s202 exclusion flag"
   ]
  },
  {
   "cell_type": "code",
   "execution_count": 0,
   "metadata": {
    "application/vnd.databricks.v1+cell": {
     "cellMetadata": {
      "byteLimit": 2048000,
      "rowLimit": 10000
     },
     "inputWidgets": {},
     "nuid": "4e29a99a-7fd0-4105-a17a-d6080f50a04e",
     "showTitle": false,
     "tableResultSettingsMap": {},
     "title": ""
    }
   },
   "outputs": [],
   "source": [
    "# current global control\n",
    "df_tmp_excl_01 = (\n",
    "    df_gc_curr\n",
    "    .select(\"fs_cust_id\")\n",
    "    .distinct()\n",
    "    .withColumn(\n",
    "        \"gc_curr_flag\"\n",
    "        , f.lit('Y')\n",
    "    )\n",
    ")\n",
    "\n",
    "# current active campaign \n",
    "df_tmp_excl_02_01 = (\n",
    "    df_campaign_hist_01\n",
    "    .select(f.col(\"Contact_Key\").alias('fs_cust_id'))\n",
    "    .distinct()\n",
    "    .withColumn(\n",
    "        \"ch01_flag\"\n",
    "        , f.lit('Y')\n",
    "    )\n",
    ")\n",
    "\n",
    "#current active campaign\n",
    "df_tmp_excl_02_02 = (\n",
    "    df_campaign_hist_02\n",
    "    .select(f.col(\"Contact_Key\").alias('fs_cust_id'))\n",
    "    .distinct()\n",
    "    .withColumn(\n",
    "        \"ch02_flag\"\n",
    "        , f.lit('Y')\n",
    "    )\n",
    ")\n",
    "\n",
    "# customer without emails\n",
    "df_tmp_excl_06 = (\n",
    "    df_martech\n",
    "    .filter(f.col(\"email_address\") == \"Unknown\")\n",
    "    .select(\"fs_acct_id\")\n",
    "    .distinct()\n",
    "    .withColumn(\n",
    "        \"no_email_flag\"\n",
    "        , f.lit('Y')\n",
    "    )\n",
    ")\n",
    "\n",
    "# customer unsub email\n",
    "df_tmp_excl_09 = (\n",
    "    df_martech_unsub\n",
    "    .filter(f.col(\"unsubscribedemail\") == 'true')\n",
    "    .select(\"fs_cust_id\")\n",
    "    .distinct()\n",
    "    .withColumn(\n",
    "        \"unsub_email_flag\"\n",
    "        , f.lit('Y')\n",
    "    )\n",
    ")\n"
   ]
  },
  {
   "cell_type": "markdown",
   "metadata": {
    "application/vnd.databricks.v1+cell": {
     "cellMetadata": {
      "byteLimit": 2048000,
      "rowLimit": 10000
     },
     "inputWidgets": {},
     "nuid": "c1b1acdf-96de-4750-a1bd-41c916680873",
     "showTitle": false,
     "tableResultSettingsMap": {},
     "title": ""
    }
   },
   "source": [
    "### s203 ML score"
   ]
  },
  {
   "cell_type": "code",
   "execution_count": 0,
   "metadata": {
    "application/vnd.databricks.v1+cell": {
     "cellMetadata": {
      "byteLimit": 2048000,
      "rowLimit": 10000
     },
     "inputWidgets": {},
     "nuid": "1b56668a-4f76-411f-ae60-9d3f86058ff3",
     "showTitle": false,
     "tableResultSettingsMap": {},
     "title": ""
    }
   },
   "outputs": [],
   "source": [
    "df_base_score_xsell_bb = (\n",
    "    df_mls_score_xsell_bb\n",
    "    .filter(f.col(\"reporting_date\") == '2025-03-02')\n",
    "    .filter(f.col(\"reporting_cycle_type\") == vt_param_reporting_cycle_type)\n",
    "    .withColumn(\n",
    "        'rank_acct'\n",
    "        , f.row_number().over(\n",
    "            Window\n",
    "            .partitionBy('fs_cust_id', 'fs_acct_id')\n",
    "            .orderBy(f.desc('propensity_top_ntile'))\n",
    "        )\n",
    "    )\n",
    "    .filter(f.col('rank_acct')==1)\n",
    "    .select(\n",
    "        \"fs_cust_id\"\n",
    "        , \"fs_acct_id\"\n",
    "        # , \"fs_srvc_id\"\n",
    "        , f.col(\"reporting_date\").alias(\"xsell_predict_date\")\n",
    "        , f.col(\"propensity_score\").alias(\"xsell_score\")\n",
    "        , f.col(\"propensity_segment_qt\").alias(\"xsell_segment\")\n",
    "        , f.col(\"propensity_top_ntile\").alias(\"xsell_top_ntile\")\n",
    "    )\n",
    "    .distinct()\n",
    ")\n",
    "\n",
    "df_base_score_churn = (\n",
    "    df_mls_score_churn\n",
    "    .filter(f.col(\"reporting_date\") == vt_param_reporting_date)\n",
    "    .filter(f.col(\"reporting_cycle_type\") == vt_param_reporting_cycle_type)\n",
    "    .withColumn(\n",
    "        'rank_acct'\n",
    "        , f.row_number().over(\n",
    "            Window\n",
    "            .partitionBy('fs_cust_id','fs_acct_id')\n",
    "            .orderBy(f.desc('propensity_top_ntile'))\n",
    "        )\n",
    "    )\n",
    "    .filter(f.col('rank_acct')==1)\n",
    "    .select(\n",
    "        \"fs_cust_id\"\n",
    "        , \"fs_acct_id\"\n",
    "        #, \"fs_srvc_id\"\n",
    "        , f.col(\"predict_date\").alias(\"churn_predict_date\")\n",
    "        , f.col(\"propensity_score\").alias(\"churn_score\")\n",
    "        , f.col(\"propensity_segment_qt\").alias(\"churn_segment\")\n",
    "        , f.col(\"propensity_top_ntile\").alias(\"churn_top_ntile\")\n",
    "    )\n",
    "    .distinct()\n",
    ")"
   ]
  },
  {
   "cell_type": "code",
   "execution_count": 0,
   "metadata": {
    "application/vnd.databricks.v1+cell": {
     "cellMetadata": {
      "byteLimit": 2048000,
      "rowLimit": 10000
     },
     "inputWidgets": {},
     "nuid": "a5fb444f-8d4d-4214-b1f7-f39dc41dc909",
     "showTitle": false,
     "tableResultSettingsMap": {},
     "title": ""
    }
   },
   "outputs": [],
   "source": [
    "display(\n",
    "    df_base_score_churn\n",
    "    .agg(\n",
    "        f.count('*')\n",
    "        , f.countDistinct('fs_acct_id')\n",
    "    )\n",
    ")\n",
    "\n",
    "display(\n",
    "    df_base_score_xsell_bb\n",
    "    .agg(\n",
    "        f.count('*')\n",
    "        , f.countDistinct('fs_acct_id')\n",
    "    )\n",
    ")"
   ]
  },
  {
   "cell_type": "markdown",
   "metadata": {
    "application/vnd.databricks.v1+cell": {
     "cellMetadata": {
      "byteLimit": 2048000,
      "rowLimit": 10000
     },
     "inputWidgets": {},
     "nuid": "7f7750c4-300c-45dd-91cb-d2a2bbbf6b6a",
     "showTitle": false,
     "tableResultSettingsMap": {},
     "title": ""
    }
   },
   "source": [
    "### s204 proc candidate"
   ]
  },
  {
   "cell_type": "code",
   "execution_count": 0,
   "metadata": {
    "application/vnd.databricks.v1+cell": {
     "cellMetadata": {
      "byteLimit": 2048000,
      "rowLimit": 10000
     },
     "inputWidgets": {},
     "nuid": "deb12077-a026-4ee2-9c3c-fd39a1d4de7b",
     "showTitle": false,
     "tableResultSettingsMap": {},
     "title": ""
    }
   },
   "outputs": [],
   "source": [
    "df_proc_full = (\n",
    "    df_base_full\n",
    "    .select(\n",
    "        \"reporting_date\"\n",
    "        , \"reporting_cycle_type\"\n",
    "        , \"fs_cust_id\"\n",
    "        , \"fs_acct_id\"\n",
    "        # , \"fs_srvc_id\"\n",
    "        # , 'srvc_privacy_flag'\n",
    "        # , \"num_of_active_srvc_cnt\"\n",
    "        # , \"plan_name\"\n",
    "        # , \"plan_tenure\"\n",
    "        # , \"plan_name_std\"\n",
    "        # , \"plan_legacy_flag\"\n",
    "        # , \"plan_amt\"\n",
    "        # , \"plan_discount_flag\"\n",
    "        # , \"plan_discount_cnt\"\n",
    "        # , \"plan_discount_amt\"\n",
    "        # , \"product_holding_desc\"\n",
    "    )\n",
    "    .distinct()\n",
    "    .join(\n",
    "        df_base_score_xsell_bb\n",
    "        #, [\"fs_cust_id\", \"fs_srvc_id\", \"fs_acct_id\"]\n",
    "        , ['fs_cust_id', 'fs_acct_id']\n",
    "        , \"left\"\n",
    "    )\n",
    "    .join(\n",
    "        df_base_score_churn\n",
    "        #, [\"fs_cust_id\", \"fs_srvc_id\", \"fs_acct_id\"]\n",
    "        , ['fs_cust_id', 'fs_acct_id']\n",
    "        , \"left\"\n",
    "    )\n",
    "    .join(\n",
    "        df_tmp_excl_01\n",
    "        , [\"fs_cust_id\"]\n",
    "        , \"left\"\n",
    "    )\n",
    "    .join(\n",
    "        df_tmp_excl_02_01\n",
    "        , [\"fs_cust_id\"]\n",
    "        , \"left\"\n",
    "    )\n",
    "    .join(\n",
    "        df_tmp_excl_02_02\n",
    "        , [\"fs_cust_id\"]\n",
    "        , \"left\"\n",
    "    )\n",
    "    .join(\n",
    "        df_tmp_excl_06\n",
    "        , [\"fs_acct_id\"]\n",
    "        , \"left\"\n",
    "    )\n",
    "    .join(\n",
    "        df_tmp_excl_09\n",
    "        , [\"fs_cust_id\"]\n",
    "        , \"left\"\n",
    "    )\n",
    "    .fillna(\n",
    "        value='N'\n",
    "        , subset=[\n",
    "            'gc_curr_flag'\n",
    "            ,'ch01_flag'\n",
    "            ,'ch02_flag'\n",
    "            , \"no_email_flag\"\n",
    "            , \"unsub_email_flag\"\n",
    "        ]\n",
    "    )\n",
    "    .withColumn(\n",
    "        \"target_segment\"\n",
    "        # , f.when(\n",
    "        #     f.col('srvc_privacy_flag') == 'N'\n",
    "        #     , f.lit(\"z1.opt out\")\n",
    "        # )\n",
    "        ,f.when(\n",
    "            (\n",
    "                (f.col(\"gc_curr_flag\") == 'Y')\n",
    "            )\n",
    "            , f.lit(\"z2.global control - curr\")\n",
    "        )\n",
    "        .when(\n",
    "            (\n",
    "                (f.col(\"ch01_flag\") == 'Y') \n",
    "                |(f.col(\"ch02_flag\") == 'Y')\n",
    "\n",
    "            )\n",
    "            , f.lit(\"z4.wallet campaign\")\n",
    "        )\n",
    "        .when(\n",
    "            (\n",
    "                (f.col(\"no_email_flag\") == 'Y')\n",
    "            )\n",
    "            , f.lit(\"z6.no primary email\")\n",
    "        )\n",
    "        .when(\n",
    "            (\n",
    "                (f.col(\"unsub_email_flag\") == 'Y')\n",
    "            )\n",
    "            , f.lit(\"z9.unsubscribed from email\")\n",
    "        )\n",
    "        .otherwise(f.lit(\"a.target\"))\n",
    "    )\n",
    "    .filter(f.col(\"xsell_segment\").isNotNull())\n",
    "    .withColumn(\"churn_top_ntile\", f.ntile(30).over(Window.orderBy(f.desc(\"churn_score\"))))\n",
    "    .withColumn(\"xsell_top_ntile\", f.ntile(30).over(Window.orderBy(f.desc(\"xsell_score\")))) \n",
    "    .distinct()\n",
    ")"
   ]
  },
  {
   "cell_type": "code",
   "execution_count": 0,
   "metadata": {
    "application/vnd.databricks.v1+cell": {
     "cellMetadata": {
      "byteLimit": 2048000,
      "rowLimit": 10000
     },
     "inputWidgets": {},
     "nuid": "2dd16722-eb92-45e5-9a4d-3cf047676bfd",
     "showTitle": true,
     "tableResultSettingsMap": {},
     "title": "make sure account level"
    }
   },
   "outputs": [],
   "source": [
    "display(\n",
    "    df_proc_full\n",
    "    .groupBy(\"target_segment\")\n",
    "    .agg(\n",
    "        f.count(\"*\")\n",
    "        #, f.countDistinct(\"fs_srvc_id\")\n",
    "        , f.countDistinct('fs_cust_id')\n",
    "        , f.countDistinct('fs_acct_id')\n",
    "        , f.countDistinct(f.concat('fs_acct_id', 'fs_cust_id'))\n",
    "    )\n",
    "    .orderBy(\"target_segment\")\n",
    ")\n",
    "\n",
    "display(df_proc_full.limit(100))"
   ]
  },
  {
   "cell_type": "markdown",
   "metadata": {
    "application/vnd.databricks.v1+cell": {
     "cellMetadata": {},
     "inputWidgets": {},
     "nuid": "90790252-49c2-4521-a080-e851184cfb5d",
     "showTitle": false,
     "tableResultSettingsMap": {},
     "title": ""
    }
   },
   "source": [
    "### s205 campaign base"
   ]
  },
  {
   "cell_type": "code",
   "execution_count": 0,
   "metadata": {
    "application/vnd.databricks.v1+cell": {
     "cellMetadata": {
      "byteLimit": 2048000,
      "rowLimit": 10000
     },
     "inputWidgets": {},
     "nuid": "6babb006-64c3-49ea-a01a-9d2fae96526b",
     "showTitle": false,
     "tableResultSettingsMap": {},
     "title": ""
    }
   },
   "outputs": [],
   "source": [
    "df_campaign_full = (\n",
    "    df_proc_full\n",
    "    .withColumn(\n",
    "        \"churn_rank\"\n",
    "        , f.row_number().over(\n",
    "            Window\n",
    "            .partitionBy(f.lit(1))\n",
    "            .orderBy(f.desc(\"churn_score\"))\n",
    "        )\n",
    "    )\n",
    "    .withColumn(\n",
    "        \"xsell_rank\"\n",
    "        , f.row_number().over(\n",
    "            Window\n",
    "            .partitionBy(f.lit(1))\n",
    "            .orderBy(f.desc(\"xsell_score\"))\n",
    "        )\n",
    "    )\n",
    ")"
   ]
  },
  {
   "cell_type": "code",
   "execution_count": 0,
   "metadata": {
    "application/vnd.databricks.v1+cell": {
     "cellMetadata": {
      "byteLimit": 2048000,
      "rowLimit": 10000
     },
     "inputWidgets": {},
     "nuid": "3671dbd8-1900-4999-9701-68bd31cdb48a",
     "showTitle": false,
     "tableResultSettingsMap": {},
     "title": ""
    }
   },
   "outputs": [],
   "source": [
    "display(\n",
    "    df_campaign_full\n",
    "    .filter(f.col(\"target_segment\") == 'a.target')\n",
    "    .groupBy(\"churn_segment\")\n",
    "    .agg(f.countDistinct(\"fs_acct_id\").alias(\"conn\"))\n",
    "    .withColumn(\n",
    "        \"conn_tot\"\n",
    "        , f.sum(\"conn\").over(Window.partitionBy(f.lit(1)))\n",
    "    )\n",
    "    .withColumn(\n",
    "        \"pct\"\n",
    "        , f.col(\"conn\") / f.col(\"conn_tot\")\n",
    "    )\n",
    ")\n",
    "\n",
    "display(\n",
    "    df_campaign_full\n",
    "    .filter(f.col(\"target_segment\") == 'a.target')\n",
    "    .groupBy(\"xsell_segment\")\n",
    "    .agg(f.countDistinct(\"fs_acct_id\").alias(\"conn\"))\n",
    "    .withColumn(\n",
    "        \"conn_tot\"\n",
    "        , f.sum(\"conn\").over(Window.partitionBy(f.lit(1)))\n",
    "    )\n",
    "    .withColumn(\n",
    "        \"pct\"\n",
    "        , f.col(\"conn\") / f.col(\"conn_tot\")\n",
    "    )\n",
    ")\n"
   ]
  },
  {
   "cell_type": "code",
   "execution_count": 0,
   "metadata": {
    "application/vnd.databricks.v1+cell": {
     "cellMetadata": {
      "byteLimit": 2048000,
      "rowLimit": 10000
     },
     "inputWidgets": {},
     "nuid": "a0fde143-f793-4403-bc23-1fb01374a436",
     "showTitle": true,
     "tableResultSettingsMap": {},
     "title": "interim export"
    }
   },
   "outputs": [],
   "source": [
    "(\n",
    "    df_campaign_full\n",
    "    .write\n",
    "    .format(\"delta\")\n",
    "    .mode(\"overwrite\")\n",
    "    .option(\"overwriteSchema\", \"true\")\n",
    "    #.option(\"partitionOverwriteMode\", \"dynamic\")\n",
    "    .save('/mnt/ml-lab/dev_users/dev_sc/ml_campaigns/bbxsell/20250311_bbxsell') \n",
    ")"
   ]
  },
  {
   "cell_type": "code",
   "execution_count": 0,
   "metadata": {
    "application/vnd.databricks.v1+cell": {
     "cellMetadata": {
      "byteLimit": 2048000,
      "rowLimit": 10000
     },
     "inputWidgets": {},
     "nuid": "b40bb807-75c6-4bd2-bbe7-c1e394ff91b6",
     "showTitle": false,
     "tableResultSettingsMap": {},
     "title": ""
    }
   },
   "outputs": [],
   "source": [
    "df_campaign_full = spark.read.format(\"delta\").load('/mnt/ml-lab/dev_users/dev_sc/ml_campaigns/bbxsell/20250311_bbxsell')"
   ]
  },
  {
   "cell_type": "code",
   "execution_count": 0,
   "metadata": {
    "application/vnd.databricks.v1+cell": {
     "cellMetadata": {
      "byteLimit": 2048000,
      "rowLimit": 10000
     },
     "inputWidgets": {},
     "nuid": "c6df74a4-1ee9-4d27-939a-f717e16b4759",
     "showTitle": false,
     "tableResultSettingsMap": {},
     "title": ""
    }
   },
   "outputs": [],
   "source": [
    "display(\n",
    "    df_campaign_full\n",
    "    .filter(f.col(\"fs_acct_id\") == \"408820791\")\n",
    ")"
   ]
  },
  {
   "cell_type": "code",
   "execution_count": 0,
   "metadata": {
    "application/vnd.databricks.v1+cell": {
     "cellMetadata": {
      "byteLimit": 2048000,
      "rowLimit": 10000
     },
     "inputWidgets": {},
     "nuid": "1c1a6050-40d4-4f93-b7e4-1c390d7206da",
     "showTitle": true,
     "tableResultSettingsMap": {},
     "title": "check distribution"
    }
   },
   "outputs": [],
   "source": [
    "display(\n",
    "    df_campaign_full\n",
    "    .filter(f.col(\"xsell_segment\") == \"H\")\n",
    "   #.filter(f.col('churn_segment') != \"H\")\n",
    "    .filter(f.col(\"target_segment\") == 'a.target')\n",
    "    # .filter(f.col(\"primary_rank\") == 1)\n",
    "    .agg(\n",
    "        f.countDistinct(\"fs_acct_id\")\n",
    "    )\n",
    ")\n",
    "\n",
    "display(\n",
    "    df_campaign_full\n",
    "    .filter(f.col(\"xsell_segment\") == \"M\")\n",
    "   #.filter(f.col('churn_segment') != \"H\")\n",
    "    .filter(f.col(\"target_segment\") == 'a.target')\n",
    "    # .filter(f.col(\"primary_rank\") == 1)\n",
    "    .agg(\n",
    "        f.countDistinct(\"fs_acct_id\")\n",
    "    )\n",
    ")\n",
    "\n",
    "display(\n",
    "    df_campaign_full\n",
    "    #.filter(f.col(\"xsell_segment\").isin([\"H\", \"M\"]))\n",
    "   #.filter(f.col('churn_segment') != \"H\")\n",
    "    .filter(f.col(\"target_segment\") != 'a.target')\n",
    "    .filter(f.col(\"ch02_flag\") != 'Y')\n",
    "    .filter(f.col(\"ch01_flag\") != 'Y')\n",
    "    # .filter(f.col(\"primary_rank\") == 1)\n",
    "    .agg(\n",
    "        f.countDistinct(\"fs_acct_id\")\n",
    "    )\n",
    ")\n",
    "\n"
   ]
  },
  {
   "cell_type": "markdown",
   "metadata": {
    "application/vnd.databricks.v1+cell": {
     "cellMetadata": {},
     "inputWidgets": {},
     "nuid": "2facd8c6-c388-4f05-a75a-3306a97d4b8b",
     "showTitle": false,
     "tableResultSettingsMap": {},
     "title": ""
    }
   },
   "source": [
    "### s206 local control - H"
   ]
  },
  {
   "cell_type": "code",
   "execution_count": 0,
   "metadata": {
    "application/vnd.databricks.v1+cell": {
     "cellMetadata": {
      "byteLimit": 2048000,
      "rowLimit": 10000
     },
     "inputWidgets": {},
     "nuid": "93c586e2-dc65-4015-9897-12db9835d493",
     "showTitle": false,
     "tableResultSettingsMap": {},
     "title": ""
    }
   },
   "outputs": [],
   "source": [
    "# organic conversion around 0.35% \n",
    "# last campaign conversion H ~ 0.69% \n",
    "# last campaign conversion M ~ 0.57% \n",
    "\n",
    "vt_param_target_size = 75000\n",
    "vt_param_control_size = 10000\n",
    "ls_param_strata = [ 'churn_top_ntile', 'xsell_top_ntile']\n",
    "\n",
    "\n",
    "df_sample_target = create_sample_target(\n",
    "     df_campaign_full\n",
    "    .filter(f.col(\"target_segment\") == 'a.target')\n",
    "    .filter(f.col(\"xsell_segment\").isin([\"H\", \"M\"]))\n",
    "   # .filter(f.col('churn_segment') != \"H\")\n",
    "    , ls_param_strata\n",
    "    )\n",
    "\n",
    "#display(df_sample_target.limit(10))\n",
    "\n",
    "df_campaign_cand_control = find_similar_sample(\n",
    "    df_campaign_full\n",
    "    .filter(f.col(\"target_segment\") != 'a.target')\n",
    "    .filter(f.col(\"xsell_segment\").isin([\"H\", \"M\"]))\n",
    "    #.filter(f.col(\"ch02_flag\") != 'Y')\n",
    "    #.filter(f.col(\"ch01_flag\") != 'Y')\n",
    "   #.filter(f.col('churn_segment') != \"H\")\n",
    "    , size = vt_param_control_size\n",
    "    , strata = ls_param_strata\n",
    "    , df_target = df_sample_target\n",
    ")\n",
    "\n",
    "df_campaign_cand_target = find_similar_sample(\n",
    "    df_campaign_full\n",
    "    .filter(f.col(\"target_segment\") == 'a.target')\n",
    "    .filter(f.col(\"xsell_segment\").isin(\"H\", \"M\"))\n",
    "    #.filter(f.col('churn_segment') != \"H\")\n",
    "    #.filter(f.col(\"wallet_eligibility_flag\") == 'Y')\n",
    "    , size = vt_param_target_size\n",
    "    , strata = ls_param_strata\n",
    "    , df_target = df_sample_target\n",
    ")\n",
    "\n",
    "\n",
    "print(\"control\")\n",
    "display(\n",
    "    df_campaign_cand_control\n",
    "    .agg(\n",
    "        f.countDistinct(\"fs_acct_id\")\n",
    "        , f.count('*')\n",
    "        , f.median(\"churn_score\")\n",
    "        , f.avg(\"churn_score\")\n",
    "        , f.median(\"xsell_score\")\n",
    "        , f.avg(\"xsell_score\")\n",
    "    )\n",
    ")\n",
    "\n",
    "\n",
    "print(\"target\")\n",
    "display(\n",
    "    df_campaign_cand_target\n",
    "    .agg(\n",
    "        f.countDistinct(\"fs_acct_id\")\n",
    "        , f.count('*')\n",
    "        , f.median(\"churn_score\")\n",
    "        , f.avg(\"churn_score\")\n",
    "        , f.median(\"xsell_score\")\n",
    "        , f.avg(\"xsell_score\")\n",
    "    )\n",
    ")\n",
    "\n",
    "evaluate_sample(df_campaign_cand_control, df_campaign_cand_target,['xsell_score', 'churn_score'] )"
   ]
  },
  {
   "cell_type": "code",
   "execution_count": 0,
   "metadata": {
    "application/vnd.databricks.v1+cell": {
     "cellMetadata": {
      "byteLimit": 2048000,
      "rowLimit": 10000
     },
     "inputWidgets": {},
     "nuid": "cee8f967-053f-4e78-a723-6c4acf40cf63",
     "showTitle": true,
     "tableResultSettingsMap": {},
     "title": "check duplicate"
    }
   },
   "outputs": [],
   "source": [
    "display(df_campaign_cand_target\n",
    "        .join(df_campaign_cand_control, ['fs_acct_id', 'fs_cust_id'], 'inner')      \n",
    "        )"
   ]
  },
  {
   "cell_type": "code",
   "execution_count": 0,
   "metadata": {
    "application/vnd.databricks.v1+cell": {
     "cellMetadata": {
      "byteLimit": 2048000,
      "rowLimit": 10000
     },
     "inputWidgets": {},
     "nuid": "31f033ec-caa4-45e3-912e-02abc9512fbb",
     "showTitle": false,
     "tableResultSettingsMap": {},
     "title": ""
    }
   },
   "outputs": [],
   "source": [
    "(\n",
    "    df_campaign_cand_target\n",
    "    .write\n",
    "    .format(\"delta\")\n",
    "    .mode(\"overwrite\")\n",
    "    .option(\"overwriteSchema\", \"true\")\n",
    "    #.option(\"partitionOverwriteMode\", \"dynamic\")\n",
    "    .save('/mnt/ml-lab/dev_users/dev_sc/ml_campaigns/bbxsell/20250311_bbxsell_target') \n",
    ")\n",
    "\n",
    "(\n",
    "    df_campaign_cand_control\n",
    "    .write\n",
    "    .format(\"delta\")\n",
    "    .mode(\"overwrite\")\n",
    "    .option(\"overwriteSchema\", \"true\")\n",
    "    #.option(\"partitionOverwriteMode\", \"dynamic\")\n",
    "    .save('/mnt/ml-lab/dev_users/dev_sc/ml_campaigns/bbxsell/20250311_bbxsell_control') \n",
    ")"
   ]
  },
  {
   "cell_type": "code",
   "execution_count": 0,
   "metadata": {
    "application/vnd.databricks.v1+cell": {
     "cellMetadata": {
      "byteLimit": 2048000,
      "rowLimit": 10000
     },
     "inputWidgets": {},
     "nuid": "238359d3-7661-4d98-a55e-7e011390f88e",
     "showTitle": false,
     "tableResultSettingsMap": {},
     "title": ""
    }
   },
   "outputs": [],
   "source": [
    "df_campaign_cand_target = spark.read.format('delta').load('/mnt/ml-lab/dev_users/dev_sc/ml_campaigns/bbxsell/20250311_bbxsell_target')\n",
    "df_campaign_cand_control = spark.read.format('delta').load('/mnt/ml-lab/dev_users/dev_sc/ml_campaigns/bbxsell/20250311_bbxsell_control')"
   ]
  },
  {
   "cell_type": "code",
   "execution_count": 0,
   "metadata": {
    "application/vnd.databricks.v1+cell": {
     "cellMetadata": {
      "byteLimit": 2048000,
      "rowLimit": 10000
     },
     "inputWidgets": {},
     "nuid": "192e3060-88a6-4f58-9f3e-88b81d0c8a80",
     "showTitle": false,
     "tableResultSettingsMap": {},
     "title": ""
    }
   },
   "outputs": [],
   "source": [
    "print(\"control\")\n",
    "display(\n",
    "    df_campaign_cand_control\n",
    "    .agg(\n",
    "        f.countDistinct(\"fs_acct_id\")\n",
    "        , f.countDistinct('fs_cust_id')\n",
    "        , f.count('*')\n",
    "        , f.median(\"churn_score\")\n",
    "        , f.avg(\"churn_score\")\n",
    "        , f.median(\"xsell_score\")\n",
    "        , f.avg(\"xsell_score\")\n",
    "    )\n",
    ")\n",
    "\n",
    "\n",
    "print(\"target\")\n",
    "display(\n",
    "    df_campaign_cand_target\n",
    "    .agg(\n",
    "        f.countDistinct(\"fs_acct_id\")\n",
    "        , f.countDistinct('fs_cust_id')\n",
    "        , f.count('*')\n",
    "        , f.median(\"churn_score\")\n",
    "        , f.avg(\"churn_score\")\n",
    "        , f.median(\"xsell_score\")\n",
    "        , f.avg(\"xsell_score\")\n",
    "    )\n",
    ")\n",
    "evaluate_sample(df_campaign_cand_control, df_campaign_cand_target,['xsell_score', 'churn_score'] )"
   ]
  },
  {
   "cell_type": "code",
   "execution_count": 0,
   "metadata": {
    "application/vnd.databricks.v1+cell": {
     "cellMetadata": {
      "byteLimit": 2048000,
      "rowLimit": 10000
     },
     "inputWidgets": {},
     "nuid": "ceda03c3-3826-423b-9bb5-089a67ae0c86",
     "showTitle": true,
     "tableResultSettingsMap": {},
     "title": "check duplicate"
    }
   },
   "outputs": [],
   "source": [
    "display(df_campaign_cand_target\n",
    "        .join(df_campaign_cand_control, ['fs_acct_id', 'fs_cust_id'], 'inner')\n",
    "        )\n",
    "\n",
    "display(df_campaign_cand_target\n",
    "        .join(df_campaign_cand_control, ['fs_acct_id'], 'inner')\n",
    "        )\n",
    "\n",
    "display(df_campaign_cand_target\n",
    "        .join(df_campaign_cand_control, ['fs_cust_id'], 'inner')\n",
    "        )"
   ]
  },
  {
   "cell_type": "code",
   "execution_count": 0,
   "metadata": {
    "application/vnd.databricks.v1+cell": {
     "cellMetadata": {
      "byteLimit": 2048000,
      "rowLimit": 10000
     },
     "inputWidgets": {},
     "nuid": "d7549573-3570-4809-9bfb-c2adfb7d0935",
     "showTitle": true,
     "tableResultSettingsMap": {},
     "title": "check no broaband cusotmer accounts"
    }
   },
   "outputs": [],
   "source": [
    "display(df_campaign_cand_target\n",
    "        .join(df_bb_base,f.col('fs_cust_id') == f.col('customer_id'), 'inner')\n",
    "        )\n",
    "\n",
    "display(df_campaign_cand_target\n",
    "        .join(df_bb_base,f.col('fs_acct_id') == f.col('billing_account_number'), 'inner')\n",
    "        )"
   ]
  },
  {
   "cell_type": "code",
   "execution_count": 0,
   "metadata": {
    "application/vnd.databricks.v1+cell": {
     "cellMetadata": {
      "byteLimit": 2048000,
      "rowLimit": 10000
     },
     "inputWidgets": {},
     "nuid": "b6eb7b9e-603a-4fae-87d8-47e71eb58781",
     "showTitle": true,
     "tableResultSettingsMap": {},
     "title": "check proportion"
    }
   },
   "outputs": [],
   "source": [
    "display(\n",
    "    df_campaign_cand_target\n",
    "        .groupBy('xsell_segment')\n",
    "        .agg(f.countDistinct('fs_cust_id')\n",
    "             , f.count('*')\n",
    "             )\n",
    "        )\n",
    "\n",
    "display(\n",
    "    df_campaign_cand_control\n",
    "        .groupBy('xsell_segment')\n",
    "        .agg(f.countDistinct('fs_cust_id')\n",
    "             , f.count('*')\n",
    "             )\n",
    "        )\n"
   ]
  },
  {
   "cell_type": "code",
   "execution_count": 0,
   "metadata": {
    "application/vnd.databricks.v1+cell": {
     "cellMetadata": {
      "byteLimit": 2048000,
      "rowLimit": 10000
     },
     "inputWidgets": {},
     "nuid": "879446f9-1644-43b8-b17c-5b2198fb71c6",
     "showTitle": false,
     "tableResultSettingsMap": {},
     "title": ""
    }
   },
   "outputs": [],
   "source": [
    "df_output_campaign = (\n",
    "    df_campaign_cand_control\n",
    "    .withColumn('target_cohort', f.lit('Local Control'))\n",
    "    .union(\n",
    "        df_campaign_cand_target\n",
    "        .withColumn('target_cohort', f.lit('Target')) \n",
    "    )\n",
    ")"
   ]
  },
  {
   "cell_type": "code",
   "execution_count": 0,
   "metadata": {
    "application/vnd.databricks.v1+cell": {
     "cellMetadata": {
      "byteLimit": 2048000,
      "rowLimit": 10000
     },
     "inputWidgets": {},
     "nuid": "a2c26609-9675-40a1-952a-5415a31ae664",
     "showTitle": false,
     "tableResultSettingsMap": {},
     "title": ""
    }
   },
   "outputs": [],
   "source": [
    "display(\n",
    "    df_output_campaign\n",
    "    .groupBy('target_cohort')\n",
    "    .agg(\n",
    "        f.count('*')\n",
    "        , f.countDistinct('fs_cust_id')\n",
    "        , f.countDistinct('fs_acct_id')\n",
    "        , f.median('churn_score')\n",
    "        , f.median('xsell_score')\n",
    "    )    \n",
    ")"
   ]
  },
  {
   "cell_type": "code",
   "execution_count": 0,
   "metadata": {
    "application/vnd.databricks.v1+cell": {
     "cellMetadata": {
      "byteLimit": 2048000,
      "rowLimit": 10000
     },
     "inputWidgets": {},
     "nuid": "bce9b254-0070-4206-a3d9-e0590d5bb8cc",
     "showTitle": false,
     "tableResultSettingsMap": {},
     "title": ""
    }
   },
   "outputs": [],
   "source": [
    "df_sfmc_export = (\n",
    "    df_output_campaign\n",
    "    .filter(f.col('target_cohort')!= 'Local Control')\n",
    "    .select(\n",
    "        f.col('fs_cust_id').alias('contact_key')\n",
    "        , f.current_date().alias('data_update_date')\n",
    "    )\n",
    "    .distinct()\n",
    ")\n",
    "\n",
    "\n",
    "display(df_sfmc_export.count())\n",
    "display(df_sfmc_export.limit(10))\n",
    "\n",
    "display(df_sfmc_export\n",
    "        .agg(f.count('*')\n",
    "             , f.countDistinct('contact_key')\n",
    "             )\n",
    ")\n"
   ]
  },
  {
   "cell_type": "code",
   "execution_count": 0,
   "metadata": {
    "application/vnd.databricks.v1+cell": {
     "cellMetadata": {
      "byteLimit": 2048000,
      "rowLimit": 10000
     },
     "inputWidgets": {},
     "nuid": "b4db49c3-dd19-4640-ad7f-ec830aa8cc8a",
     "showTitle": false,
     "tableResultSettingsMap": {},
     "title": ""
    }
   },
   "outputs": [],
   "source": [
    "dir_data_sfmc = \"/mnt/prod_sfmc/imports/DataAnalytics/\"\n",
    "\n",
    "(\n",
    "    df_sfmc_export\n",
    "    .toPandas()\n",
    "    .to_csv(f\"/dbfs{dir_data_sfmc}/250312-SH-FixBB-Join-Credit.csv\", index=False)\n",
    ")"
   ]
  },
  {
   "cell_type": "code",
   "execution_count": 0,
   "metadata": {
    "application/vnd.databricks.v1+cell": {
     "cellMetadata": {
      "byteLimit": 2048000,
      "rowLimit": 10000
     },
     "inputWidgets": {},
     "nuid": "9a5a4ac2-5076-4c8f-b291-f24d7d12a97c",
     "showTitle": false,
     "tableResultSettingsMap": {},
     "title": ""
    }
   },
   "outputs": [],
   "source": [
    "f\"/dbfs{dir_data_sfmc}/250312-SH-FixBB-Join-Credit.csv\""
   ]
  },
  {
   "cell_type": "code",
   "execution_count": 0,
   "metadata": {
    "application/vnd.databricks.v1+cell": {
     "cellMetadata": {
      "byteLimit": 2048000,
      "rowLimit": 10000
     },
     "inputWidgets": {},
     "nuid": "8800bb8b-ade4-4678-81af-af68f9bb1f6d",
     "showTitle": false,
     "tableResultSettingsMap": {},
     "title": ""
    }
   },
   "outputs": [],
   "source": [
    "df_check = spark.read.options(header=True).csv(f\"{dir_data_sfmc}250312-SH-FixBB-Join-Credit.csv\")"
   ]
  },
  {
   "cell_type": "code",
   "execution_count": 0,
   "metadata": {
    "application/vnd.databricks.v1+cell": {
     "cellMetadata": {
      "byteLimit": 2048000,
      "rowLimit": 10000
     },
     "inputWidgets": {},
     "nuid": "509a984a-b98d-4b99-9089-da516abcaef9",
     "showTitle": false,
     "tableResultSettingsMap": {},
     "title": ""
    }
   },
   "outputs": [],
   "source": [
    "display(df_check.limit(10))"
   ]
  },
  {
   "cell_type": "code",
   "execution_count": 0,
   "metadata": {
    "application/vnd.databricks.v1+cell": {
     "cellMetadata": {
      "byteLimit": 2048000,
      "rowLimit": 10000
     },
     "inputWidgets": {},
     "nuid": "5228f07a-a7d0-4ed8-9862-5ca47dd4a5d4",
     "showTitle": false,
     "tableResultSettingsMap": {},
     "title": ""
    }
   },
   "outputs": [],
   "source": [
    "dir_data_sfmc = \"/mnt/prod_sfmc/imports/DataAnalytics/\"\n",
    "\n",
    "df_check = spark.read.options(header=True).csv(f\"{dir_data_sfmc}3-14-2025-250313-SH-FIX-Broadband-Join-Credit-SendDE.csv\")"
   ]
  },
  {
   "cell_type": "code",
   "execution_count": 0,
   "metadata": {
    "application/vnd.databricks.v1+cell": {
     "cellMetadata": {
      "byteLimit": 2048000,
      "rowLimit": 10000
     },
     "inputWidgets": {},
     "nuid": "03f2159f-b9dd-440c-b6ac-662eb8103eba",
     "showTitle": false,
     "tableResultSettingsMap": {},
     "title": ""
    }
   },
   "outputs": [],
   "source": [
    "display(\n",
    "    df_check\n",
    "    .agg(\n",
    "        f.count('*')\n",
    "        , f.countDistinct('contact_key')    \n",
    "    )\n",
    ")\n",
    "\n",
    "display(df_check.limit(10))"
   ]
  },
  {
   "cell_type": "markdown",
   "metadata": {
    "application/vnd.databricks.v1+cell": {
     "cellMetadata": {},
     "inputWidgets": {},
     "nuid": "192852e4-c7a5-4b1c-bc2a-3360c17dd02b",
     "showTitle": false,
     "tableResultSettingsMap": {},
     "title": ""
    }
   },
   "source": [
    "## s300 Recheck Wash list"
   ]
  },
  {
   "cell_type": "code",
   "execution_count": 0,
   "metadata": {
    "application/vnd.databricks.v1+cell": {
     "cellMetadata": {
      "byteLimit": 2048000,
      "rowLimit": 10000
     },
     "inputWidgets": {},
     "nuid": "36ebaadb-234e-4c9f-a17e-eddfef2795e7",
     "showTitle": false,
     "tableResultSettingsMap": {},
     "title": ""
    }
   },
   "outputs": [],
   "source": [
    "dir_data_sfmc = \"/mnt/prod_sfmc/imports/DataAnalytics/\"\n",
    "\n",
    "df_bb_test = spark.read.options(header=True).csv(f\"{dir_data_sfmc}3-14-2025-250313-SH-FIX-Broadband-Join-Credit-SendDE.csv\")\n",
    "\n",
    "df_bb_test =  (\n",
    "    df_bb_test\n",
    "    .filter(f.col('contact_key').isNotNull())\n",
    "    .filter(~f.col('contact_key').contains('Consumer'))\n",
    ")\n"
   ]
  },
  {
   "cell_type": "code",
   "execution_count": 0,
   "metadata": {
    "application/vnd.databricks.v1+cell": {
     "cellMetadata": {
      "byteLimit": 2048000,
      "rowLimit": 10000
     },
     "inputWidgets": {},
     "nuid": "7dccc34f-6753-4860-8511-d30026c22863",
     "showTitle": false,
     "tableResultSettingsMap": {},
     "title": ""
    }
   },
   "outputs": [],
   "source": [
    "display(\n",
    "        df_output_campaign\n",
    "        .join(df_bb_test, f.col('fs_cust_id') == f.col('contact_key'), 'inner')\n",
    "        .agg(f.countDistinct('fs_cust_id'))\n",
    ")"
   ]
  },
  {
   "cell_type": "code",
   "execution_count": 0,
   "metadata": {
    "application/vnd.databricks.v1+cell": {
     "cellMetadata": {
      "byteLimit": 2048000,
      "rowLimit": 10000
     },
     "inputWidgets": {},
     "nuid": "e5c18902-b850-4c37-b94f-6465aeb98dcd",
     "showTitle": false,
     "tableResultSettingsMap": {},
     "title": ""
    }
   },
   "outputs": [],
   "source": [
    "display(df_bb_test.limit(10))\n",
    "\n",
    "display(\n",
    "    df_bb_test\n",
    "    .filter(f.col('contact_key').isNotNull())\n",
    "    .filter(~f.col('contact_key').contains('Consumer'))\n",
    "    .agg(\n",
    "        f.countDistinct('contact_key')\n",
    "        , f.count('*')\n",
    "    )\n",
    ")"
   ]
  },
  {
   "cell_type": "code",
   "execution_count": 0,
   "metadata": {
    "application/vnd.databricks.v1+cell": {
     "cellMetadata": {
      "byteLimit": 2048000,
      "rowLimit": 10000
     },
     "inputWidgets": {},
     "nuid": "59a5fb78-df7a-4ab2-a043-7c75530c0726",
     "showTitle": false,
     "tableResultSettingsMap": {},
     "title": ""
    }
   },
   "outputs": [],
   "source": [
    "display(\n",
    "    df_output_campaign\n",
    "    .join(df_bb_test, f.col('fs_cust_id') == f.col('contact_key'), 'inner')\n",
    "    .agg(f.count('*'), f.countDistinct('fs_cust_id'))\n",
    ")"
   ]
  },
  {
   "cell_type": "code",
   "execution_count": 0,
   "metadata": {
    "application/vnd.databricks.v1+cell": {
     "cellMetadata": {
      "byteLimit": 2048000,
      "rowLimit": 10000
     },
     "inputWidgets": {},
     "nuid": "b1560793-e2f0-4399-be8c-89c8a18fcc1d",
     "showTitle": false,
     "tableResultSettingsMap": {},
     "title": ""
    }
   },
   "outputs": [],
   "source": [
    "print(\"control\")\n",
    "display(\n",
    "    df_campaign_cand_control\n",
    "    .agg(\n",
    "        f.countDistinct(\"fs_acct_id\")\n",
    "        , f.countDistinct('fs_cust_id')\n",
    "        , f.count('*')\n",
    "        , f.median(\"churn_score\")\n",
    "        , f.avg(\"churn_score\")\n",
    "        , f.median(\"xsell_score\")\n",
    "        , f.avg(\"xsell_score\")\n",
    "    )\n",
    ")\n",
    "\n",
    "print(\"test\")\n",
    "\n",
    "display(\n",
    "    df_output_campaign\n",
    "    .join(df_bb_test, f.col('fs_cust_id') == f.col('contact_key'), 'inner')\n",
    "    .agg(\n",
    "        f.countDistinct(\"fs_acct_id\")\n",
    "        , f.countDistinct('fs_cust_id')\n",
    "        , f.count('*')\n",
    "        , f.median(\"churn_score\")\n",
    "        , f.avg(\"churn_score\")\n",
    "        , f.median(\"xsell_score\")\n",
    "        , f.avg(\"xsell_score\")\n",
    "    )\n",
    ")"
   ]
  }
 ],
 "metadata": {
  "application/vnd.databricks.v1+notebook": {
   "computePreferences": null,
   "dashboards": [],
   "environmentMetadata": {
    "base_environment": "",
    "environment_version": "2"
   },
   "inputWidgetPreferences": null,
   "language": "python",
   "notebookMetadata": {
    "pythonIndentUnit": 4
   },
   "notebookName": "20250311 | campaign | 20250311-BBXsell",
   "widgets": {}
  },
  "language_info": {
   "name": "python"
  }
 },
 "nbformat": 4,
 "nbformat_minor": 0
}
