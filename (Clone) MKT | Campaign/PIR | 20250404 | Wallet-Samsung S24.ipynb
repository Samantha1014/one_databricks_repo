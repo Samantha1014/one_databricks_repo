{
 "cells": [
  {
   "cell_type": "markdown",
   "metadata": {
    "application/vnd.databricks.v1+cell": {
     "cellMetadata": {},
     "inputWidgets": {},
     "nuid": "120a025c-d30c-4cb9-902a-a2dd0e4505b5",
     "showTitle": false,
     "tableResultSettingsMap": {},
     "title": ""
    }
   },
   "source": [
    "### s000 environment setup"
   ]
  },
  {
   "cell_type": "code",
   "execution_count": 0,
   "metadata": {
    "application/vnd.databricks.v1+cell": {
     "cellMetadata": {
      "byteLimit": 2048000,
      "rowLimit": 10000
     },
     "inputWidgets": {},
     "nuid": "19735c5c-bd25-4b45-9bb3-592faf8ecb57",
     "showTitle": false,
     "tableResultSettingsMap": {},
     "title": ""
    }
   },
   "outputs": [],
   "source": [
    "# libraries\n",
    "import os\n",
    "\n",
    "import pyspark\n",
    "from pyspark import sql\n",
    "from pyspark.sql import functions as f\n",
    "from pyspark.sql import Window"
   ]
  },
  {
   "cell_type": "code",
   "execution_count": 0,
   "metadata": {
    "application/vnd.databricks.v1+cell": {
     "cellMetadata": {
      "byteLimit": 2048000,
      "rowLimit": 10000
     },
     "inputWidgets": {},
     "nuid": "aa46d954-dc0e-4820-a079-7238e92b5d6c",
     "showTitle": false,
     "tableResultSettingsMap": {},
     "title": ""
    }
   },
   "outputs": [],
   "source": [
    "%run \"./utils_spark_df\""
   ]
  },
  {
   "cell_type": "code",
   "execution_count": 0,
   "metadata": {
    "application/vnd.databricks.v1+cell": {
     "cellMetadata": {
      "byteLimit": 2048000,
      "rowLimit": 10000
     },
     "inputWidgets": {},
     "nuid": "fdeb0eb7-6489-4160-9441-26fd2eed2db8",
     "showTitle": false,
     "tableResultSettingsMap": {},
     "title": ""
    }
   },
   "outputs": [],
   "source": [
    "%run \"./utils_stratified_sampling\""
   ]
  },
  {
   "cell_type": "code",
   "execution_count": 0,
   "metadata": {
    "application/vnd.databricks.v1+cell": {
     "cellMetadata": {
      "byteLimit": 2048000,
      "rowLimit": 10000
     },
     "inputWidgets": {},
     "nuid": "575674a6-bfd6-451d-aad9-940625fa606a",
     "showTitle": false,
     "tableResultSettingsMap": {},
     "title": ""
    }
   },
   "outputs": [],
   "source": [
    "dir_data_sfmc = \"/mnt/prod_sfmc/imports/DataAnalytics/\"\n",
    "#df_check_1 = spark.read.options(header=True).csv(f\"{dir_data_sfmc}/250305-RM-MOBPM-Wallet-Samsung-Galaxy-SEND-S24-WASH.csv\")\n",
    "df_check_s24 = spark.read.options(header = True).csv(f\"{dir_data_sfmc}/250305-RM-MOBPM-Wallet-Samsung-Galaxy-SEND-S24-WASHV2.csv\")\n",
    "df_check_s24fe = spark.read.options(header = True).csv(f\"{dir_data_sfmc}/250305-RM-MOBPM-Wallet-Samsung-Galaxy-SEND-S24FE-WASH.csv\")\n",
    "#250305-RM-MOBPM-Wallet-Samsung-Galaxy-SEND-S24FE-WASH\n",
    "\n",
    "\n",
    "df_s24_campaign = spark.read.format('delta').load('/mnt/ml-lab/dev_users/dev_sc/ml_campaigns/wallet/20250305_samsungs24')\n",
    "df_s24fe_campaign_control = spark.read.format('delta').load('/mnt/ml-lab/dev_users/dev_sc/ml_campaigns/wallet/20250305_samsungs24fe_control')\n",
    "df_s24fe_campaign_target = spark.read.format('delta').load('/mnt/ml-lab/dev_users/dev_sc/ml_campaigns/wallet/20250305_samsungs24fe_target')\n",
    "\n",
    "# ifp \n",
    "df_prm_ifp_bill = spark.read.format('delta').load('/mnt/feature-store-prod-lab/d300_primary/d301_mobile_oa_consumer/prm_ifp_main_on_bill')\n",
    "df_prm_ifp_srvc = spark.read.format('delta').load('dbfs:/mnt/feature-store-prod-lab/d300_primary/d301_mobile_oa_consumer/prm_ifp_main_on_service')"
   ]
  },
  {
   "cell_type": "code",
   "execution_count": 0,
   "metadata": {
    "application/vnd.databricks.v1+cell": {
     "cellMetadata": {
      "byteLimit": 2048000,
      "rowLimit": 10000
     },
     "inputWidgets": {},
     "nuid": "2b3d6e99-6c1b-4f92-ae33-3897bfd01629",
     "showTitle": false,
     "tableResultSettingsMap": {},
     "title": ""
    }
   },
   "outputs": [],
   "source": [
    "df_ifp_bill = (\n",
    "    df_prm_ifp_bill\n",
    "    .filter(f.col('ifp_type') == 'device')\n",
    "    .filter(f.col('ifp_term_start_date').isNotNull())\n",
    "    .select('fs_cust_id', 'fs_acct_id', 'fs_ifp_id', 'ifp_model', 'ifp_term_start_date', 'ifp_term_end_date', 'ifp_sales_channel', 'ifp_sales_channel_branch', 'ifp_sales_channel_group')\n",
    "    .distinct()\n",
    ")\n",
    "\n",
    "df_ifp_srvc=(\n",
    "    df_prm_ifp_srvc\n",
    "    .filter(f.col('ifp_type') == 'device')\n",
    "    .filter(f.col('ifp_term_start_date').isNotNull())\n",
    "    .select('fs_cust_id', 'fs_acct_id', 'fs_ifp_id', 'ifp_model','ifp_term_start_date', 'ifp_term_end_date', 'ifp_sales_channel', 'ifp_sales_channel_branch', 'ifp_sales_channel_group')\n",
    "    .distinct()\n",
    ")\n",
    "\n",
    "df_ifp_all=(\n",
    "    df_ifp_bill\n",
    "    .union(df_ifp_srvc)\n",
    ")"
   ]
  },
  {
   "cell_type": "code",
   "execution_count": 0,
   "metadata": {
    "application/vnd.databricks.v1+cell": {
     "cellMetadata": {
      "byteLimit": 2048000,
      "rowLimit": 10000
     },
     "inputWidgets": {},
     "nuid": "b76e720c-06fb-436e-968b-9524919a32da",
     "showTitle": false,
     "tableResultSettingsMap": {},
     "title": ""
    }
   },
   "outputs": [],
   "source": [
    "vt_send_date = '2025-03-05' # send date = ''"
   ]
  },
  {
   "cell_type": "code",
   "execution_count": 0,
   "metadata": {
    "application/vnd.databricks.v1+cell": {
     "cellMetadata": {
      "byteLimit": 2048000,
      "rowLimit": 10000
     },
     "inputWidgets": {},
     "nuid": "c02466dd-3265-4525-8a70-f4284d3d916f",
     "showTitle": false,
     "tableResultSettingsMap": {},
     "title": ""
    }
   },
   "outputs": [],
   "source": [
    "display(\n",
    "    df_s24_campaign\n",
    "    .filter(f.col('campaign_cohort') == 'Local Control')\n",
    ")\n",
    "\n",
    "\n",
    "display(\n",
    "    df_check_s24\n",
    "    .limit(10)\n",
    "        \n",
    ")\n",
    "\n",
    "display(\n",
    "    df_check_s24\n",
    "    .count()\n",
    ")"
   ]
  },
  {
   "cell_type": "code",
   "execution_count": 0,
   "metadata": {
    "application/vnd.databricks.v1+cell": {
     "cellMetadata": {
      "byteLimit": 2048000,
      "rowLimit": 10000
     },
     "inputWidgets": {},
     "nuid": "13cf9d08-01fc-4f54-9eb7-6ca47c5210f0",
     "showTitle": false,
     "tableResultSettingsMap": {},
     "title": ""
    }
   },
   "outputs": [],
   "source": [
    "display(\n",
    "    df_check_s24\n",
    "    .join(\n",
    "        df_s24_campaign\n",
    "        , (f.col('fs_cust_id') == f.col('Contact_Key'))\n",
    "            & (f.col('fs_acct_id') == f.col('Billing_Account_Number'))\n",
    "            & (f.col('fs_srvc_id') == f.col('Service_ID'))\n",
    "        , 'inner'\n",
    "    )\n",
    "    .agg(\n",
    "       f.count(\"*\"),\n",
    "        f.countDistinct(\"fs_srvc_id\"),\n",
    "        f.median(\"churn_score\"),\n",
    "        f.avg(\"churn_score\"),\n",
    "        f.median(\"dr_score\"),\n",
    "        f.avg(\"dr_score\"),\n",
    "        f.median(\"ifp_score\"),\n",
    "        f.avg(\"ifp_score\")\n",
    "    )\n",
    ")\n",
    "\n",
    "\n",
    "display(\n",
    "    df_s24_campaign\n",
    "    .filter(f.col('campaign_cohort') == 'Local Control')\n",
    "    .agg(\n",
    "       f.count(\"*\"),\n",
    "        f.countDistinct(\"fs_srvc_id\"),\n",
    "        f.median(\"churn_score\"),\n",
    "        f.avg(\"churn_score\"),\n",
    "        f.median(\"dr_score\"),\n",
    "        f.avg(\"dr_score\"),\n",
    "        f.median(\"ifp_score\"),\n",
    "        f.avg(\"ifp_score\")\n",
    "    )\n",
    ")\n"
   ]
  },
  {
   "cell_type": "code",
   "execution_count": 0,
   "metadata": {
    "application/vnd.databricks.v1+cell": {
     "cellMetadata": {
      "byteLimit": 2048000,
      "rowLimit": 10000
     },
     "inputWidgets": {},
     "nuid": "69879fd7-b0e6-43c6-95fb-dea2f5073de4",
     "showTitle": false,
     "tableResultSettingsMap": {},
     "title": ""
    }
   },
   "outputs": [],
   "source": [
    "df_s24_sent =(\n",
    "    df_check_s24\n",
    "    .join(\n",
    "        df_s24_campaign\n",
    "        .drop('offer')\n",
    "        , (f.col('fs_cust_id') == f.col('Contact_Key'))\n",
    "            & (f.col('fs_acct_id') == f.col('Billing_Account_Number'))\n",
    "            & (f.col('fs_srvc_id') == f.col('Service_ID'))\n",
    "        , 'inner'\n",
    "    )\n",
    ")\n",
    "\n",
    "display(df_check_s24.count())\n",
    "display(df_s24_sent.count())"
   ]
  },
  {
   "cell_type": "code",
   "execution_count": 0,
   "metadata": {
    "application/vnd.databricks.v1+cell": {
     "cellMetadata": {
      "byteLimit": 2048000,
      "rowLimit": 10000
     },
     "inputWidgets": {},
     "nuid": "32ab21ea-979b-4d6e-855b-c8e343eb16fa",
     "showTitle": false,
     "tableResultSettingsMap": {},
     "title": ""
    }
   },
   "outputs": [],
   "source": [
    "display(\n",
    "    df_s24_sent\n",
    "    .join(df_ifp_all, ['fs_cust_id', 'fs_acct_id'], 'inner')\n",
    "    .filter(f.col('ifp_term_start_date') >= '2025-03-05')\n",
    "    .filter(f.col('ifp_term_start_date') <= '2025-03-31')\n",
    "    .groupBy('ifp_model')\n",
    "    .agg(f.countDistinct('fs_acct_id')\n",
    "         , f.countDistinct('fs_ifp_id')\n",
    "    )\n",
    ")\n"
   ]
  },
  {
   "cell_type": "code",
   "execution_count": 0,
   "metadata": {
    "application/vnd.databricks.v1+cell": {
     "cellMetadata": {
      "byteLimit": 2048000,
      "rowLimit": 10000
     },
     "inputWidgets": {},
     "nuid": "e731c3fb-aff9-4b86-b300-bbeffabd6e0f",
     "showTitle": false,
     "tableResultSettingsMap": {},
     "title": ""
    }
   },
   "outputs": [],
   "source": [
    "display(\n",
    "    df_s24_sent\n",
    "    .join(df_ifp_all, ['fs_cust_id', 'fs_acct_id'], 'inner')\n",
    "    .filter(f.col('ifp_term_start_date') >= '2025-03-05')\n",
    "    .filter(f.col('ifp_term_start_date') <= '2025-03-31')\n",
    "    .filter(f.col('ifp_model') == 'Samsung Galaxy S24')\n",
    "    .groupBy('offer')\n",
    "    .agg(\n",
    "        f.countDistinct('fs_acct_id')\n",
    "        , f.countDistinct('fs_ifp_id')\n",
    "    )\n",
    ")\n",
    "\n",
    "display(\n",
    "    df_s24_sent\n",
    "    .select('fs_cust_id', 'fs_acct_id', 'fs_srvc_id',  'ifp_segment', 'dr_segment', 'offer')\n",
    "    .groupBy('offer')\n",
    "    .agg(f.countDistinct('fs_srvc_id'))\n",
    "    \n",
    ")\n",
    "\n"
   ]
  },
  {
   "cell_type": "markdown",
   "metadata": {
    "application/vnd.databricks.v1+cell": {
     "cellMetadata": {},
     "inputWidgets": {},
     "nuid": "d74d85da-c982-4859-be27-5081fade6893",
     "showTitle": false,
     "tableResultSettingsMap": {},
     "title": ""
    }
   },
   "source": [
    "### S24FE campaign"
   ]
  },
  {
   "cell_type": "code",
   "execution_count": 0,
   "metadata": {
    "application/vnd.databricks.v1+cell": {
     "cellMetadata": {
      "byteLimit": 2048000,
      "rowLimit": 10000
     },
     "inputWidgets": {},
     "nuid": "a04f0457-2995-44cc-98ed-ce4e12e9ef35",
     "showTitle": false,
     "tableResultSettingsMap": {},
     "title": ""
    }
   },
   "outputs": [],
   "source": [
    "df_s24fe_sent =(\n",
    "    df_check_s24fe\n",
    "    .join(\n",
    "        df_s24fe_campaign_target\n",
    "        , (f.col('fs_cust_id') == f.col('Contact_Key'))\n",
    "            & (f.col('fs_acct_id') == f.col('Billing_Account_Number'))\n",
    "            & (f.col('fs_srvc_id') == f.col('Service_ID'))\n",
    "        , 'inner'\n",
    "    )\n",
    ")\n",
    "\n",
    "display(df_check_s24fe.count())\n",
    "display(df_s24fe_sent.count())"
   ]
  },
  {
   "cell_type": "code",
   "execution_count": 0,
   "metadata": {
    "application/vnd.databricks.v1+cell": {
     "cellMetadata": {
      "byteLimit": 2048000,
      "rowLimit": 10000
     },
     "inputWidgets": {},
     "nuid": "6052cb68-79af-4457-975b-8716d872b396",
     "showTitle": false,
     "tableResultSettingsMap": {},
     "title": ""
    }
   },
   "outputs": [],
   "source": [
    "display(\n",
    "    df_s24fe_sent\n",
    "    .join(df_ifp_all, ['fs_cust_id', 'fs_acct_id'], 'inner')\n",
    "    .filter(f.col('ifp_term_start_date') >= '2025-03-10')\n",
    "    .filter(f.col('ifp_term_start_date') <= '2025-03-31')\n",
    "    .groupBy('ifp_model')\n",
    "    .agg(\n",
    "        f.countDistinct('fs_acct_id')\n",
    "        , f.countDistinct('fs_ifp_id')\n",
    "    )\n",
    ")\n"
   ]
  },
  {
   "cell_type": "code",
   "execution_count": 0,
   "metadata": {
    "application/vnd.databricks.v1+cell": {
     "cellMetadata": {
      "byteLimit": 2048000,
      "rowLimit": 10000
     },
     "inputWidgets": {},
     "nuid": "84abe528-e30e-48d5-b3c7-dccba822e65f",
     "showTitle": false,
     "tableResultSettingsMap": {},
     "title": ""
    }
   },
   "outputs": [],
   "source": [
    "display(\n",
    "    df_s24fe_sent\n",
    "    .join(df_ifp_all, ['fs_cust_id', 'fs_acct_id'], 'inner')\n",
    "    .filter(f.col('ifp_term_start_date') >= '2025-03-10')\n",
    "    .filter(f.col('ifp_term_start_date') <= '2025-03-31')\n",
    "    .filter(f.col('ifp_model') == 'Samsung Galaxy S24 FE')\n",
    "    .groupBy('offer')\n",
    "    .agg(\n",
    "        f.countDistinct('fs_acct_id')\n",
    "        , f.countDistinct('fs_ifp_id')\n",
    "    )\n",
    ")\n",
    "\n",
    "display(\n",
    "    df_s24fe_sent\n",
    "    .select('fs_cust_id', 'fs_acct_id', 'fs_srvc_id',  'ifp_segment', 'dr_segment', 'offer')\n",
    "    .groupBy('offer')\n",
    "    .agg(f.countDistinct('fs_srvc_id'))\n",
    "    \n",
    ")\n",
    "\n"
   ]
  },
  {
   "cell_type": "markdown",
   "metadata": {
    "application/vnd.databricks.v1+cell": {
     "cellMetadata": {},
     "inputWidgets": {},
     "nuid": "56c8d41c-8d4a-4284-8bee-c2351bcac91a",
     "showTitle": false,
     "tableResultSettingsMap": {},
     "title": ""
    }
   },
   "source": [
    "### regenerate control S24"
   ]
  },
  {
   "cell_type": "code",
   "execution_count": 0,
   "metadata": {
    "application/vnd.databricks.v1+cell": {
     "cellMetadata": {
      "byteLimit": 2048000,
      "rowLimit": 10000
     },
     "inputWidgets": {},
     "nuid": "d2911fd6-ad62-406c-ad43-46cab66466e9",
     "showTitle": false,
     "tableResultSettingsMap": {},
     "title": ""
    }
   },
   "outputs": [],
   "source": [
    "df_campaign_full = spark.read.format(\"delta\").load(\"/mnt/ml-lab/dev_users/dev_sc/ml_campaigns/wallet/20250305_samsung_cofound\")"
   ]
  },
  {
   "cell_type": "code",
   "execution_count": 0,
   "metadata": {
    "application/vnd.databricks.v1+cell": {
     "cellMetadata": {
      "byteLimit": 2048000,
      "rowLimit": 10000
     },
     "inputWidgets": {},
     "nuid": "9f83f918-0a18-4bf6-b2ce-3163b52d6a51",
     "showTitle": false,
     "tableResultSettingsMap": {},
     "title": ""
    }
   },
   "outputs": [],
   "source": [
    "vt_param_control_size = 35000\n",
    "\n",
    "ls_param_strata = [ \"churn_top_ntile\",\"ifp_top_ntile\", \"dr_top_ntile\"]\n",
    "\n",
    "df_sample_target = create_sample_target(\n",
    "    df_s24_sent\n",
    "    , ls_param_strata\n",
    "    )\n",
    "\n",
    "df_campaign_cand_control = find_similar_sample(\n",
    "    df_campaign_full\n",
    "    .join(df_s24_sent, ['fs_acct_id', 'fs_cust_id', 'fs_srvc_id'], 'anti')\n",
    "    .filter(f.col(\"network_dvc_brand_std\") != 'apple')\n",
    "    #.filter(f.col(\"ch01_flag\") != 'Y')\n",
    "    #.filter(f.col('wallence_bal_category')<=500)\n",
    "    .filter(\n",
    "        ~((f.col('ifp_segment') == 'L')\n",
    "          & (f.col('dr_segment') == 'L')\n",
    "        ) \n",
    "    )\n",
    "    .join(df_s24fe_sent, ['fs_acct_id', 'fs_cust_id', 'fs_srvc_id'], 'anti')\n",
    "    , size = vt_param_control_size\n",
    "    , strata = ls_param_strata\n",
    "    , df_target = df_sample_target\n",
    ")\n",
    "\n",
    "print(\"control\")\n",
    "display(\n",
    "    df_campaign_cand_control\n",
    "    .agg(\n",
    "        f.countDistinct(\"fs_srvc_id\")\n",
    "        , f.median(\"churn_score\")\n",
    "        , f.avg(\"churn_score\")\n",
    "        , f.median(\"dr_score\")\n",
    "        , f.avg(\"dr_score\")\n",
    "        , f.median(\"ifp_score\")\n",
    "        , f.avg(\"ifp_score\")\n",
    "    )\n",
    ")\n",
    "\n",
    "\n",
    "print(\"target\")\n",
    "display(\n",
    "    df_s24_sent\n",
    "    .agg(\n",
    "        f.countDistinct(\"fs_srvc_id\")\n",
    "        , f.median(\"churn_score\")\n",
    "        , f.avg(\"churn_score\")\n",
    "        , f.median(\"dr_score\")\n",
    "        , f.avg(\"dr_score\")\n",
    "        , f.median(\"ifp_score\")\n",
    "        , f.avg(\"ifp_score\")\n",
    "    )\n",
    ")\n",
    "\n",
    "evaluate_sample(df_campaign_cand_control, df_s24_sent,['dr_top_ntile', 'ifp_top_ntile', 'churn_top_ntile'] )\n",
    "\n",
    "(\n",
    "    df_campaign_cand_control\n",
    "    .write\n",
    "    .format(\"delta\")\n",
    "    .mode(\"overwrite\")\n",
    "    .option(\"overwriteSchema\", \"true\")\n",
    "    #.option(\"partitionOverwriteMode\", \"dynamic\")\n",
    "    .save('/mnt/ml-lab/dev_users/dev_sc/ml_campaigns/regen_control/20250408_SamsungS24_regen_control')  \n",
    ")\n",
    "\n",
    "df_campaign_cand_control = spark.read.format('delta').load('/mnt/ml-lab/dev_users/dev_sc/ml_campaigns/regen_control/20250408_SamsungS24_regen_control')"
   ]
  },
  {
   "cell_type": "code",
   "execution_count": 0,
   "metadata": {
    "application/vnd.databricks.v1+cell": {
     "cellMetadata": {
      "byteLimit": 2048000,
      "rowLimit": 10000
     },
     "inputWidgets": {},
     "nuid": "e73afd11-f418-4c3c-91e5-e36489f6cf7b",
     "showTitle": false,
     "tableResultSettingsMap": {},
     "title": ""
    }
   },
   "outputs": [],
   "source": [
    "display(df_s24_sent\n",
    "        .join(df_campaign_cand_control, ['fs_acct_id', 'fs_cust_id', 'fs_srvc_id'], 'inner')      \n",
    "        )\n",
    "\n"
   ]
  },
  {
   "cell_type": "markdown",
   "metadata": {
    "application/vnd.databricks.v1+cell": {
     "cellMetadata": {},
     "inputWidgets": {},
     "nuid": "028bfecf-711d-4ecc-82d2-d854d6886557",
     "showTitle": false,
     "tableResultSettingsMap": {},
     "title": ""
    }
   },
   "source": [
    "### calculate conversion on control - S24"
   ]
  },
  {
   "cell_type": "code",
   "execution_count": 0,
   "metadata": {
    "application/vnd.databricks.v1+cell": {
     "cellMetadata": {
      "byteLimit": 2048000,
      "rowLimit": 10000
     },
     "inputWidgets": {},
     "nuid": "581577c1-270f-48bb-8b2e-459528261433",
     "showTitle": false,
     "tableResultSettingsMap": {},
     "title": ""
    }
   },
   "outputs": [],
   "source": [
    "display(\n",
    "    df_campaign_cand_control\n",
    "    .join(df_ifp_all, ['fs_cust_id', 'fs_acct_id'], 'inner')\n",
    "    .filter(f.col('ifp_term_start_date') >= f.lit(vt_send_date))\n",
    "    .filter(f.col('ifp_term_start_date') <= '2025-03-31')\n",
    "    .groupBy('ifp_model')\n",
    "    .agg(\n",
    "        f.countDistinct('fs_acct_id')\n",
    "        , f.countDistinct('fs_ifp_id') \n",
    "    )\n",
    ")\n"
   ]
  },
  {
   "cell_type": "markdown",
   "metadata": {
    "application/vnd.databricks.v1+cell": {
     "cellMetadata": {},
     "inputWidgets": {},
     "nuid": "65b2b4c0-c620-4905-b9f6-76bb7749fa89",
     "showTitle": false,
     "tableResultSettingsMap": {},
     "title": ""
    }
   },
   "source": [
    "### regenerate control S24FE"
   ]
  },
  {
   "cell_type": "code",
   "execution_count": 0,
   "metadata": {
    "application/vnd.databricks.v1+cell": {
     "cellMetadata": {
      "byteLimit": 2048000,
      "rowLimit": 10000
     },
     "inputWidgets": {},
     "nuid": "ea307aed-8264-46e8-a991-565fe6ccfcce",
     "showTitle": false,
     "tableResultSettingsMap": {},
     "title": ""
    }
   },
   "outputs": [],
   "source": [
    "vt_param_control_size = 27000\n",
    "\n",
    "ls_param_strata = [ \"churn_top_ntile\",\"ifp_top_ntile\", \"dr_top_ntile\"]\n",
    "\n",
    "df_sample_target = create_sample_target(\n",
    "    df_s24fe_sent\n",
    "    , ls_param_strata\n",
    "    )\n",
    "\n",
    "df_campaign_cand_control = find_similar_sample(\n",
    "    df_campaign_full\n",
    "    .join(df_s24fe_sent, ['fs_acct_id', 'fs_cust_id', 'fs_srvc_id'], 'anti')\n",
    "    .filter(f.col(\"network_dvc_brand_std\") != 'apple')\n",
    "    #.filter(f.col(\"ch01_flag\") != 'Y')\n",
    "    .filter(f.col('wallence_bal_category')<=200)\n",
    "    .filter(f.col('propensity_combine') == 'H/M')\n",
    "    .join(df_s24_sent, ['fs_acct_id', 'fs_cust_id', 'fs_srvc_id'], 'anti')\n",
    "    , size = vt_param_control_size\n",
    "    , strata = ls_param_strata\n",
    "    , df_target = df_sample_target\n",
    ")\n",
    "\n",
    "print(\"control\")\n",
    "display(\n",
    "    df_campaign_cand_control\n",
    "    .agg(\n",
    "        f.countDistinct(\"fs_srvc_id\")\n",
    "        , f.median(\"churn_score\")\n",
    "        , f.avg(\"churn_score\")\n",
    "        , f.median(\"dr_score\")\n",
    "        , f.avg(\"dr_score\")\n",
    "        , f.median(\"ifp_score\")\n",
    "        , f.avg(\"ifp_score\")\n",
    "    )\n",
    ")\n",
    "\n",
    "\n",
    "print(\"target\")\n",
    "display(\n",
    "    df_s24fe_sent\n",
    "    .agg(\n",
    "        f.countDistinct(\"fs_srvc_id\")\n",
    "        , f.median(\"churn_score\")\n",
    "        , f.avg(\"churn_score\")\n",
    "        , f.median(\"dr_score\")\n",
    "        , f.avg(\"dr_score\")\n",
    "        , f.median(\"ifp_score\")\n",
    "        , f.avg(\"ifp_score\")\n",
    "    )\n",
    ")\n",
    "\n",
    "evaluate_sample(df_campaign_cand_control, df_s24fe_sent,['dr_top_ntile', 'ifp_top_ntile', 'churn_top_ntile'] )\n",
    "\n",
    "(\n",
    "    df_campaign_cand_control\n",
    "    .write\n",
    "    .format(\"delta\")\n",
    "    .mode(\"overwrite\")\n",
    "    .option(\"overwriteSchema\", \"true\")\n",
    "    #.option(\"partitionOverwriteMode\", \"dynamic\")\n",
    "    .save('/mnt/ml-lab/dev_users/dev_sc/ml_campaigns/regen_control/20250408_SamsungS24FE_regen_control')  \n",
    ")\n",
    "\n",
    "df_campaign_cand_control = spark.read.format('delta').load('/mnt/ml-lab/dev_users/dev_sc/ml_campaigns/regen_control/20250408_SamsungS24FE_regen_control')"
   ]
  },
  {
   "cell_type": "code",
   "execution_count": 0,
   "metadata": {
    "application/vnd.databricks.v1+cell": {
     "cellMetadata": {
      "byteLimit": 2048000,
      "rowLimit": 10000
     },
     "inputWidgets": {},
     "nuid": "d9ca81ca-601a-4245-af38-05fda1293b14",
     "showTitle": false,
     "tableResultSettingsMap": {},
     "title": ""
    }
   },
   "outputs": [],
   "source": [
    "display(\n",
    "    df_campaign_cand_control\n",
    "    .join(df_ifp_all, ['fs_cust_id', 'fs_acct_id'], 'inner')\n",
    "    .filter(f.col('ifp_term_start_date') >= '2025-03-14')\n",
    "    .filter(f.col('ifp_term_start_date') <= '2025-03-31')\n",
    "    .groupBy('ifp_model')\n",
    "    .agg(\n",
    "        f.countDistinct('fs_acct_id')\n",
    "        , f.countDistinct('fs_ifp_id') \n",
    "    )\n",
    ")\n",
    "\n",
    "display(\n",
    "    df_s24fe_sent\n",
    "    .join(df_ifp_all, ['fs_cust_id', 'fs_acct_id'], 'inner')\n",
    "    .filter(f.col('ifp_term_start_date') >= '2025-03-14')\n",
    "    .filter(f.col('ifp_term_start_date') <= '2025-03-31')\n",
    "    .groupBy('ifp_model')\n",
    "    .agg(\n",
    "        f.countDistinct('fs_acct_id')\n",
    "        , f.countDistinct('fs_ifp_id')\n",
    "    )\n",
    ")\n",
    "\n"
   ]
  }
 ],
 "metadata": {
  "application/vnd.databricks.v1+notebook": {
   "computePreferences": null,
   "dashboards": [],
   "environmentMetadata": {
    "base_environment": "",
    "environment_version": "2"
   },
   "inputWidgetPreferences": null,
   "language": "python",
   "notebookMetadata": {
    "pythonIndentUnit": 4
   },
   "notebookName": "PIR | 20250404 | Wallet-Samsung S24",
   "widgets": {}
  },
  "language_info": {
   "name": "python"
  }
 },
 "nbformat": 4,
 "nbformat_minor": 0
}
