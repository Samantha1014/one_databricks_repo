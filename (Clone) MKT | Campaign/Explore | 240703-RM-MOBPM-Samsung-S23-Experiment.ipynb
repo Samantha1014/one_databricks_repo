{
 "cells": [
  {
   "cell_type": "code",
   "execution_count": 0,
   "metadata": {
    "application/vnd.databricks.v1+cell": {
     "cellMetadata": {
      "byteLimit": 2048000,
      "rowLimit": 10000
     },
     "inputWidgets": {},
     "nuid": "1e590b2d-636c-445d-8a49-00e7dd75c709",
     "showTitle": false,
     "tableResultSettingsMap": {},
     "title": ""
    }
   },
   "outputs": [],
   "source": [
    "# libraries\n",
    "import os\n",
    "\n",
    "import pyspark\n",
    "from pyspark import sql\n",
    "from pyspark.sql import functions as f\n",
    "from pyspark.sql import Window"
   ]
  },
  {
   "cell_type": "code",
   "execution_count": 0,
   "metadata": {
    "application/vnd.databricks.v1+cell": {
     "cellMetadata": {
      "byteLimit": 2048000,
      "rowLimit": 10000
     },
     "inputWidgets": {},
     "nuid": "acb58f50-38a5-4389-aadd-6e27108ff172",
     "showTitle": false,
     "tableResultSettingsMap": {},
     "title": ""
    }
   },
   "outputs": [],
   "source": [
    "# ------------- Use snowflake utility\n",
    "sfUtils = sc._jvm.net.snowflake.spark.snowflake.Utils\n",
    "\n",
    "# ------------ login to snowflake\n",
    "password = dbutils.secrets.get(scope = \"auea-kv-sbx-dxdtlprdct01\", key = \"sfdbrsdskey\")\n",
    "\n",
    "options = {\n",
    "  \"sfUrl\": \"vodafonenz_prod.australia-east.azure.snowflakecomputing.com/\", \n",
    "  \"sfUser\": \"SVC_LAB_DS_DATABRICKS\",\n",
    "  \"pem_private_key\": password.replace('\\\\n', '\\n'),\n",
    "  \"sfDatabase\": \"LAB_ML_STORE\",\n",
    "  \"sfSchema\": \"SANDBOX\",\n",
    "  \"sfWarehouse\": \"LAB_DS_WH\"\n",
    "}"
   ]
  },
  {
   "cell_type": "code",
   "execution_count": 0,
   "metadata": {
    "application/vnd.databricks.v1+cell": {
     "cellMetadata": {
      "byteLimit": 2048000,
      "rowLimit": 10000
     },
     "inputWidgets": {},
     "nuid": "c16b786c-b1e3-4dda-b581-af1ca1351ab2",
     "showTitle": false,
     "tableResultSettingsMap": {},
     "title": ""
    }
   },
   "outputs": [],
   "source": [
    "dir_fs_data_parent = \"/mnt/feature-store-prod-lab\"\n",
    "dir_mls_data_parent = \"/mnt/ml-store-prod-lab/classification\""
   ]
  },
  {
   "cell_type": "code",
   "execution_count": 0,
   "metadata": {
    "application/vnd.databricks.v1+cell": {
     "cellMetadata": {
      "byteLimit": 2048000,
      "rowLimit": 10000
     },
     "inputWidgets": {},
     "nuid": "834b5cd9-bae2-4f5e-b76e-c5ddee4c1343",
     "showTitle": false,
     "tableResultSettingsMap": {},
     "title": ""
    }
   },
   "outputs": [],
   "source": [
    "dir_mls_data_score = os.path.join(dir_mls_data_parent, \"d400_model_score\")"
   ]
  },
  {
   "cell_type": "code",
   "execution_count": 0,
   "metadata": {
    "application/vnd.databricks.v1+cell": {
     "cellMetadata": {
      "byteLimit": 2048000,
      "rowLimit": 10000
     },
     "inputWidgets": {},
     "nuid": "2a74cd90-1378-44cc-a283-fe286820a3ec",
     "showTitle": false,
     "tableResultSettingsMap": {},
     "title": ""
    }
   },
   "outputs": [],
   "source": [
    "dir_fs_data_meta = os.path.join(dir_fs_data_parent, 'd000_meta')\n",
    "dir_fs_data_raw =  os.path.join(dir_fs_data_parent, 'd100_raw')\n",
    "dir_fs_data_int =  os.path.join(dir_fs_data_parent, \"d200_intermediate\")\n",
    "dir_fs_data_prm =  os.path.join(dir_fs_data_parent, \"d300_primary\")\n",
    "dir_fs_data_fea =  os.path.join(dir_fs_data_parent, \"d400_feature\")\n",
    "dir_fs_data_target = os.path.join(dir_fs_data_parent, \"d500_movement\")\n",
    "dir_fs_data_serv = os.path.join(dir_fs_data_parent, \"d600_serving\")"
   ]
  },
  {
   "cell_type": "code",
   "execution_count": 0,
   "metadata": {
    "application/vnd.databricks.v1+cell": {
     "cellMetadata": {
      "byteLimit": 2048000,
      "rowLimit": 10000
     },
     "inputWidgets": {},
     "nuid": "cd5a6589-6ef9-4467-a9a7-5ec031c20d19",
     "showTitle": false,
     "tableResultSettingsMap": {},
     "title": ""
    }
   },
   "outputs": [],
   "source": [
    "vt_param_reporting_date = \"2024-06-30\"\n",
    "vt_param_reporting_cycle_type = \"rolling cycle\""
   ]
  },
  {
   "cell_type": "code",
   "execution_count": 0,
   "metadata": {
    "application/vnd.databricks.v1+cell": {
     "cellMetadata": {
      "byteLimit": 2048000,
      "rowLimit": 10000
     },
     "inputWidgets": {},
     "nuid": "a380440c-8741-4f20-bd11-7b2b846e0d84",
     "showTitle": false,
     "tableResultSettingsMap": {},
     "title": ""
    }
   },
   "outputs": [],
   "source": [
    "#df_mls_score_dr_apple = spark.read.format(\"delta\").load(os.path.join(dir_mls_data_score, \"mobile_oa_consumer_srvc_device_replacement_apple_pred30d\"))\n",
    "#df_mls_score_dr_apple = spark.read.format(\"delta\").load(os.path.join(dir_mls_data_score, \"mobile_oa_consumer_srvc_device_replacement_apple_pred30d\"))\n",
    "df_mls_score_dr = spark.read.format(\"delta\").load(os.path.join(dir_mls_data_score, \"mobile_oa_consumer_srvc_device_replacement_pred30d\"))\n",
    "df_mls_score_ifp = spark.read.format(\"delta\").load(os.path.join(dir_mls_data_score, \"mobile_oa_consumer_srvc_upsell_ifp_pred30d\"))\n",
    "df_mls_score_churn = spark.read.format(\"delta\").load(os.path.join(dir_mls_data_score, \"mobile_oa_consumer_srvc_churn_pred30d\"))\n",
    "df_mls_score_ar = spark.read.format(\"delta\").load(os.path.join(dir_mls_data_score, \"mobile_oa_consumer_srvc_writeoff_pred120d\"))\n",
    "\n",
    "# ifp mvnt\n",
    "df_ifp_srvc_mvnt = spark.read.format(\"delta\").load('/mnt/feature-store-prod-lab/d500_movement/d501_mobile_oa_consumer/mvmt_ifp_upsell_on_service')\n",
    "df_ifp_bill_mvnt = spark.read.format(\"delta\").load('/mnt/feature-store-prod-lab/d500_movement/d501_mobile_oa_consumer/mvmt_ifp_upsell_on_bill')\n"
   ]
  },
  {
   "cell_type": "code",
   "execution_count": 0,
   "metadata": {
    "application/vnd.databricks.v1+cell": {
     "cellMetadata": {
      "byteLimit": 2048000,
      "rowLimit": 10000
     },
     "inputWidgets": {},
     "nuid": "fee68c04-9bb9-4c12-b46d-f70df3bf3ee1",
     "showTitle": false,
     "tableResultSettingsMap": {},
     "title": ""
    }
   },
   "outputs": [],
   "source": [
    "df_samsung_clearance = (\n",
    "    spark.read.format('csv') \n",
    "    .option('header', 'true') \n",
    "    .load('dbfs:/FileStore/mnt/ml-lab/dev_users/dev_sc/240703_RM_MOBPM_Samsung_S23_Experiment_SEND.csv')\n",
    ")\n"
   ]
  },
  {
   "cell_type": "code",
   "execution_count": 0,
   "metadata": {
    "application/vnd.databricks.v1+cell": {
     "cellMetadata": {
      "byteLimit": 2048000,
      "rowLimit": 10000
     },
     "inputWidgets": {},
     "nuid": "571bc6a4-6802-442b-b6a5-9b28fb3d193c",
     "showTitle": false,
     "tableResultSettingsMap": {},
     "title": ""
    }
   },
   "outputs": [],
   "source": [
    "display(df_samsung_clearance.limit(10))\n",
    "\n",
    "display(\n",
    "    df_samsung_clearance\n",
    "    .agg(\n",
    "        f.countDistinct('Service_ID')\n",
    "        ,  f.count('*')\n",
    "        )        \n",
    ")"
   ]
  },
  {
   "cell_type": "code",
   "execution_count": 0,
   "metadata": {
    "application/vnd.databricks.v1+cell": {
     "cellMetadata": {
      "byteLimit": 2048000,
      "rowLimit": 10000
     },
     "inputWidgets": {},
     "nuid": "28ca058d-aed5-4721-9bac-1d8eb1e91b50",
     "showTitle": false,
     "tableResultSettingsMap": {},
     "title": ""
    }
   },
   "outputs": [],
   "source": [
    "display(df_ifp_bill_mvnt\n",
    "        #.select('ifp_type', 'ifp_model')\n",
    "        .filter(f.col('ifp_type') == 'device')\n",
    "        .filter(f.col('movement_date').between('2024-07-03', '2024-07-31'))\n",
    "        .filter(f.col('ifp_model') == 'Samsung Galaxy S23 FE' )\n",
    "        .groupBy('ifp_type', 'ifp_model')\n",
    "        .agg(f.countDistinct('fs_ifp_id'))\n",
    "        ) # Samsung Galaxy S23 FE\n",
    "\n",
    "display(df_ifp_srvc_mvnt\n",
    "        #.select('ifp_type', 'ifp_model')\n",
    "        .filter(f.col('ifp_type') == 'device')\n",
    "        .filter(f.col('movement_date').between('2024-07-03', '2024-07-31'))\n",
    "        .filter(f.col(\"ifp_model\").rlike(\"(?i)samsung.*fe\"))\n",
    "        .groupBy('ifp_type', 'ifp_model')\n",
    "        .agg(f.countDistinct('fs_ifp_id'))\n",
    "        ) # Samsung Galaxy S23 FE   "
   ]
  },
  {
   "cell_type": "code",
   "execution_count": 0,
   "metadata": {
    "application/vnd.databricks.v1+cell": {
     "cellMetadata": {
      "byteLimit": 2048000,
      "rowLimit": 10000
     },
     "inputWidgets": {},
     "nuid": "34d87971-4087-439a-8651-b490fea45dc3",
     "showTitle": false,
     "tableResultSettingsMap": {},
     "title": ""
    }
   },
   "outputs": [],
   "source": [
    "# query_sfmc = \"\"\"\n",
    "#            select * from PROD_MAR_TECH.SERVING.SFMC_EMAIL_PERFORMANCE\n",
    "#             where campaignname in ('240703-RM-MOBPM-Samsung-S23-Experiment')\n",
    "#         \"\"\"\n",
    "\n",
    "# df_sfmc = (\n",
    "#     spark.read\n",
    "#     .format(\"snowflake\")\n",
    "#     .options(**options)\n",
    "#     .option(\n",
    "#         \"query\"\n",
    "#         , query_sfmc\n",
    "#     )\n",
    "#     .load()\n",
    "# )"
   ]
  },
  {
   "cell_type": "code",
   "execution_count": 0,
   "metadata": {
    "application/vnd.databricks.v1+cell": {
     "cellMetadata": {
      "byteLimit": 2048000,
      "rowLimit": 10000
     },
     "inputWidgets": {},
     "nuid": "6675c04b-cee9-4ad0-9443-01dd12d6e1d1",
     "showTitle": false,
     "tableResultSettingsMap": {},
     "title": ""
    }
   },
   "outputs": [],
   "source": [
    "df_ifp_cust=(\n",
    "        df_ifp_bill_mvnt\n",
    "            .filter(f.col('movement_date').between('2024-07-03', '2024-07-31'))\n",
    "            .filter(f.col('ifp_type') == 'device')\n",
    "            .filter(f.col('ifp_model') == 'Samsung Galaxy S23 FE' )\n",
    "            .select('fs_cust_id')\n",
    "            .distinct()\n",
    "        .union(\n",
    "        df_ifp_srvc_mvnt\n",
    "            .filter(f.col('movement_date').between('2024-07-03', '2024-07-31'))\n",
    "            .filter(f.col('ifp_type') == 'device')\n",
    "            .filter(f.col(\"ifp_model\").rlike(\"(?i)samsung.*fe\"))\n",
    "            .select('fs_cust_id', 'fs_srvc_id')\n",
    "            .distinct()\n",
    "        )\n",
    ")"
   ]
  },
  {
   "cell_type": "code",
   "execution_count": 0,
   "metadata": {
    "application/vnd.databricks.v1+cell": {
     "cellMetadata": {
      "byteLimit": 2048000,
      "rowLimit": 10000
     },
     "inputWidgets": {},
     "nuid": "8fbb1554-d707-4ef9-9809-52f3b4f5c32d",
     "showTitle": false,
     "tableResultSettingsMap": {},
     "title": ""
    }
   },
   "outputs": [],
   "source": [
    "df_base_score_ifp = (\n",
    "    df_mls_score_ifp\n",
    "    .filter(f.col(\"reporting_date\") == vt_param_reporting_date)\n",
    "    .filter(f.col(\"reporting_cycle_type\") == vt_param_reporting_cycle_type)\n",
    "    .withColumn(\n",
    "        'rank_acct'\n",
    "        , f.row_number().over(\n",
    "            Window\n",
    "            .partitionBy('fs_cust_id', 'fs_acct_id')\n",
    "            .orderBy(f.desc('propensity_top_ntile'))\n",
    "        )\n",
    "    )\n",
    "    # .filter(f.col('rank_acct')==1)\n",
    "    # .withColumn(\n",
    "    #     'rank_cust'\n",
    "    #     , f.row_number().over(\n",
    "    #         Window\n",
    "    #         .partitionBy('fs_cust_id')\n",
    "    #         .orderBy(f.desc('propensity_top_ntile'))\n",
    "    #     )\n",
    "    # )\n",
    "    # .filter(f.col('rank_cust')==1)\n",
    "    .select(\n",
    "        \"fs_cust_id\"\n",
    "        , \"fs_acct_id\"\n",
    "        , \"fs_srvc_id\"\n",
    "        , f.col(\"propensity_score\").alias(\"ifp_score\")\n",
    "        , f.col(\"propensity_segment_qt\").alias(\"ifp_segment\")\n",
    "        , f.col(\"propensity_top_ntile\").alias(\"ifp_top_ntile\")\n",
    "    )\n",
    "   \n",
    ")\n",
    "\n",
    "df_base_score_dr = (\n",
    "    df_mls_score_dr\n",
    "    .filter(f.col(\"reporting_date\") == vt_param_reporting_date)\n",
    "    .filter(f.col(\"reporting_cycle_type\") == vt_param_reporting_cycle_type)\n",
    "    .withColumn(\n",
    "        'rank_acct'\n",
    "        , f.row_number().over(\n",
    "            Window\n",
    "            .partitionBy('fs_cust_id','fs_acct_id')\n",
    "            .orderBy(f.desc('propensity_top_ntile'))\n",
    "        )\n",
    "    )\n",
    "    # .filter(f.col('rank_acct')==1)\n",
    "    # .withColumn(\n",
    "    #     'rank_cust'\n",
    "    #     , f.row_number().over(\n",
    "    #         Window\n",
    "    #         .partitionBy('fs_cust_id')\n",
    "    #         .orderBy(f.desc('propensity_top_ntile'))\n",
    "    #     )\n",
    "    # )\n",
    "    # .filter(f.col('rank_cust')==1)\n",
    "    .select(\n",
    "        \"fs_cust_id\"\n",
    "        , \"fs_acct_id\"\n",
    "        , \"fs_srvc_id\"\n",
    "        , f.col(\"propensity_score\").alias(\"dr_score\")\n",
    "        , f.col(\"propensity_segment_qt\").alias(\"dr_segment\")\n",
    "        , f.col(\"propensity_top_ntile\").alias(\"dr_top_ntile\")\n",
    "    )   \n",
    ")\n",
    "\n",
    "df_base_score_churn = (\n",
    "    df_mls_score_churn\n",
    "    .filter(f.col(\"reporting_date\") == vt_param_reporting_date)\n",
    "    .filter(f.col(\"reporting_cycle_type\") == vt_param_reporting_cycle_type)\n",
    "    .select(\n",
    "        \"fs_cust_id\"\n",
    "        , \"fs_acct_id\"\n",
    "        , \"fs_srvc_id\"\n",
    "        , f.col(\"propensity_score\").alias(\"churn_score\")\n",
    "        , f.col(\"propensity_segment_qt\").alias(\"churn_segment\")\n",
    "        , f.col(\"propensity_top_ntile\").alias(\"churn_top_ntile\")\n",
    "    )\n",
    ")\n",
    "\n",
    "df_base_score_ar = (\n",
    "    df_mls_score_ar\n",
    "    .filter(f.col(\"reporting_date\") == vt_param_reporting_date)\n",
    "    .filter(f.col(\"reporting_cycle_type\") == vt_param_reporting_cycle_type)\n",
    "    .select(\n",
    "        \"fs_cust_id\"\n",
    "        , \"fs_acct_id\"\n",
    "        , \"fs_srvc_id\"\n",
    "        , f.col(\"propensity_score\").alias(\"risk_score\")\n",
    "        , f.col(\"propensity_segment_qt\").alias(\"risk_segment\")\n",
    "        , f.col(\"propensity_top_ntile\").alias(\"risk_top_ntile\")\n",
    "    )\n",
    ")"
   ]
  },
  {
   "cell_type": "code",
   "execution_count": 0,
   "metadata": {
    "application/vnd.databricks.v1+cell": {
     "cellMetadata": {
      "byteLimit": 2048000,
      "rowLimit": 10000
     },
     "inputWidgets": {},
     "nuid": "77936b8e-6c8e-4f06-9dce-8e980f3d1194",
     "showTitle": true,
     "tableResultSettingsMap": {},
     "title": "inner join to get overall conversion"
    }
   },
   "outputs": [],
   "source": [
    "display(\n",
    "    df_samsung_send.alias('a')\n",
    "    .join(df_ifp_cust.alias('b'), f.col('a.CUSTOMER_ID') == f.col('b.fs_cust_id'), 'left')\n",
    "    .withColumn(\n",
    "        'redeem',\n",
    "        f.when(f.col('b.fs_cust_id').isNotNull(), 1)\n",
    "        .otherwise(0)\n",
    "    )\n",
    "    .groupBy('redeem')\n",
    "    .agg(f.countDistinct('CUSTOMER_ID').alias('cnt')\n",
    "         , f.count('*')\n",
    "         )\n",
    "    .withColumn(\n",
    "        'sum', f.sum('cnt').over(Window.partitionBy())\n",
    "    )\n",
    "    .withColumn(\n",
    "        'pct'\n",
    "        , f.col('cnt') / f.col('sum') *100\n",
    "    )\n",
    ")  \n",
    "\n",
    "\n",
    "#72? \n",
    "# ~ 0.51% overall "
   ]
  },
  {
   "cell_type": "code",
   "execution_count": 0,
   "metadata": {
    "application/vnd.databricks.v1+cell": {
     "cellMetadata": {},
     "inputWidgets": {},
     "nuid": "9061c655-4cb5-4e58-9a5b-074970e9668e",
     "showTitle": false,
     "tableResultSettingsMap": {},
     "title": ""
    }
   },
   "outputs": [],
   "source": []
  },
  {
   "cell_type": "code",
   "execution_count": 0,
   "metadata": {
    "application/vnd.databricks.v1+cell": {
     "cellMetadata": {
      "byteLimit": 2048000,
      "rowLimit": 10000
     },
     "inputWidgets": {},
     "nuid": "b1264129-2e5e-42df-ad96-f148cb0e4def",
     "showTitle": false,
     "tableResultSettingsMap": {},
     "title": ""
    }
   },
   "outputs": [
    {
     "output_type": "display_data",
     "data": {
      "text/plain": [
       "Databricks visualization. Run in Databricks to view."
      ]
     },
     "metadata": {
      "application/vnd.databricks.v1.subcommand+json": {
       "baseErrorDetails": null,
       "bindings": {},
       "collapsed": false,
       "command": "%python\n__backend_agg_display_orig = display\n__backend_agg_dfs = []\ndef __backend_agg_display_new(df):\n    __backend_agg_df_modules = [\"pandas.core.frame\", \"databricks.koalas.frame\", \"pyspark.sql.dataframe\", \"pyspark.pandas.frame\", \"pyspark.sql.connect.dataframe\"]\n    if (type(df).__module__ in __backend_agg_df_modules and type(df).__name__ == 'DataFrame') or isinstance(df, list):\n        __backend_agg_dfs.append(df)\n\ndisplay = __backend_agg_display_new\n\ndef __backend_agg_user_code_fn():\n    import base64\n    exec(base64.standard_b64decode(\"ZGlzcGxheSgKICAgIGRmX3NmbWMuYWxpYXMoJ2EnKQogICAgLmpvaW4oZGZfaWZwX2N1c3QuYWxpYXMoJ2InKSwgZi5jb2woJ2EuQ1VTVE9NRVJfSUQnKSA9PSBmLmNvbCgnYi5mc19jdXN0X2lkJyksICdsZWZ0JykKICAgIC53aXRoQ29sdW1uKAogICAgICAgICdyZWRlZW0nLAogICAgICAgIGYud2hlbihmLmNvbCgnYi5mc19jdXN0X2lkJykuaXNOb3ROdWxsKCksIDEpCiAgICAgICAgLm90aGVyd2lzZSgwKQogICAgKQogICAgLmpvaW4oZGZfYmFzZV9zY29yZV9pZnAuYWxpYXMoJ2MnKSwgZi5jb2woJ2EuQ1VTVE9NRVJfSUQnKSA9PSBmLmNvbCgnYy5mc19jdXN0X2lkJyksICdsZWZ0JykKICAgIC5qb2luKGRmX2Jhc2Vfc2NvcmVfZHIuYWxpYXMoJ2QnKSwgZi5jb2woJ2EuQ1VTVE9NRVJfSUQnKSA9PSBmLmNvbCgnZC5mc19jdXN0X2lkJyksICdsZWZ0JykKICAgIC5ncm91cEJ5KCdkcl9zZWdtZW50JywgJ2lmcF9zZWdtZW50JykKICAgIC5hZ2coZi5jb3VudCgnKicpCiAgICAgICAgICwgZi5jb3VudERpc3RpbmN0KCdhLkNVU1RPTUVSX0lEJykKICAgICAgICAgLCBmLnN1bSgncmVkZWVtJykKICAgICAgICAgKQopCgoKCiM3Mj8gCiMgfiAwLjUxJSBvdmVyYWxsIA==\").decode())\n\ntry:\n    # run user code\n    __backend_agg_user_code_fn()\n\n    #reset display function\n    display = __backend_agg_display_orig\n\n    if len(__backend_agg_dfs) > 0:\n        # create a temp view\n        if type(__backend_agg_dfs[0]).__module__ == \"databricks.koalas.frame\":\n            # koalas dataframe\n            __backend_agg_dfs[0].to_spark().createOrReplaceTempView(\"DatabricksView6381b32\")\n        elif type(__backend_agg_dfs[0]).__module__ == \"pandas.core.frame\" or isinstance(__backend_agg_dfs[0], list):\n            # pandas dataframe\n            spark.createDataFrame(__backend_agg_dfs[0]).createOrReplaceTempView(\"DatabricksView6381b32\")\n        else:\n            __backend_agg_dfs[0].createOrReplaceTempView(\"DatabricksView6381b32\")\n        #run backend agg\n        display(spark.sql(\"\"\"WITH q AS (select * from DatabricksView6381b32) SELECT `dr_segment`,`ifp_segment`,SUM(`sum(redeem)`) `sum(redeem)_alias` FROM q GROUP BY `dr_segment`,`ifp_segment` ORDER BY `dr_segment` ASC,`ifp_segment` ASC\"\"\"))\n    else:\n        displayHTML(\"dataframe no longer exists. If you're using dataframe.display(), use display(dataframe) instead.\")\n\n\nfinally:\n    spark.sql(\"drop view if exists DatabricksView6381b32\")\n    display = __backend_agg_display_orig\n    del __backend_agg_display_new\n    del __backend_agg_display_orig\n    del __backend_agg_dfs\n    del __backend_agg_user_code_fn\n\n",
       "commandTitle": "Visualization 1",
       "commandType": "auto",
       "commandVersion": 0,
       "commentThread": [],
       "commentsVisible": false,
       "contentSha256Hex": null,
       "customPlotOptions": {
        "redashChart": [
         {
          "key": "type",
          "value": "PIVOT_TABLE"
         },
         {
          "key": "options",
          "value": {
           "cell": {
            "field": "sum(redeem)",
            "transform": {
             "fn": "sum"
            }
           },
           "columns": [
            {
             "field": "ifp_segment",
             "sort": "ascending"
            }
           ],
           "rows": [
            {
             "field": "dr_segment",
             "sort": "ascending"
            }
           ]
          }
         }
        ]
       },
       "datasetPreviewNameToCmdIdMap": {},
       "diffDeletes": [],
       "diffInserts": [],
       "displayType": "redashChart",
       "error": null,
       "errorDetails": null,
       "errorSummary": null,
       "errorTraceType": null,
       "finishTime": 0,
       "globalVars": {},
       "guid": "",
       "height": "auto",
       "hideCommandCode": false,
       "hideCommandResult": false,
       "iPythonMetadata": null,
       "inputWidgets": {},
       "isLockedInExamMode": false,
       "latestUser": "a user",
       "latestUserId": null,
       "listResultMetadata": null,
       "metadata": {},
       "nuid": "7643a839-a424-4ac4-a428-f8d522477dea",
       "origId": 0,
       "parentHierarchy": [],
       "pivotAggregation": null,
       "pivotColumns": null,
       "position": 12.0,
       "resultDbfsErrorMessage": null,
       "resultDbfsStatus": "INLINED_IN_TREE",
       "results": null,
       "showCommandTitle": false,
       "startTime": 0,
       "state": "input",
       "streamStates": {},
       "subcommandOptions": {
        "queryPlan": {
         "groups": [
          {
           "column": "dr_segment",
           "type": "column"
          },
          {
           "column": "ifp_segment",
           "type": "column"
          }
         ],
         "order_by": [
          {
           "direction": "asc",
           "expression": {
            "identifier": "dr_segment",
            "kind": "identifier"
           }
          },
          {
           "direction": "asc",
           "expression": {
            "identifier": "ifp_segment",
            "kind": "identifier"
           }
          }
         ],
         "selects": [
          {
           "column": "dr_segment",
           "type": "column"
          },
          {
           "column": "ifp_segment",
           "type": "column"
          },
          {
           "alias": "sum(redeem)_alias",
           "args": [
            {
             "column": "sum(redeem)",
             "type": "column"
            }
           ],
           "function": "SUM",
           "type": "function"
          }
         ]
        }
       },
       "submitTime": 0,
       "subtype": "tableResultSubCmd.visualization",
       "tableResultIndex": 0,
       "tableResultSettingsMap": {},
       "useConsistentColors": false,
       "version": "CommandV1",
       "width": "auto",
       "workflows": null,
       "xColumns": null,
       "yColumns": null
      }
     },
     "output_type": "display_data"
    },
    {
     "output_type": "display_data",
     "data": {
      "text/plain": [
       "Databricks visualization. Run in Databricks to view."
      ]
     },
     "metadata": {
      "application/vnd.databricks.v1.subcommand+json": {
       "baseErrorDetails": null,
       "bindings": {},
       "collapsed": false,
       "command": "%python\n__backend_agg_display_orig = display\n__backend_agg_dfs = []\ndef __backend_agg_display_new(df):\n    __backend_agg_df_modules = [\"pandas.core.frame\", \"databricks.koalas.frame\", \"pyspark.sql.dataframe\", \"pyspark.pandas.frame\", \"pyspark.sql.connect.dataframe\"]\n    if (type(df).__module__ in __backend_agg_df_modules and type(df).__name__ == 'DataFrame') or isinstance(df, list):\n        __backend_agg_dfs.append(df)\n\ndisplay = __backend_agg_display_new\n\ndef __backend_agg_user_code_fn():\n    import base64\n    exec(base64.standard_b64decode(\"ZGlzcGxheSgKICAgIGRmX3NmbWMuYWxpYXMoJ2EnKQogICAgLmpvaW4oZGZfaWZwX2N1c3QuYWxpYXMoJ2InKSwgZi5jb2woJ2EuQ1VTVE9NRVJfSUQnKSA9PSBmLmNvbCgnYi5mc19jdXN0X2lkJyksICdsZWZ0JykKICAgIC53aXRoQ29sdW1uKAogICAgICAgICdyZWRlZW0nLAogICAgICAgIGYud2hlbihmLmNvbCgnYi5mc19jdXN0X2lkJykuaXNOb3ROdWxsKCksIDEpCiAgICAgICAgLm90aGVyd2lzZSgwKQogICAgKQogICAgLmpvaW4oZGZfYmFzZV9zY29yZV9pZnAuYWxpYXMoJ2MnKSwgZi5jb2woJ2EuQ1VTVE9NRVJfSUQnKSA9PSBmLmNvbCgnYy5mc19jdXN0X2lkJyksICdsZWZ0JykKICAgIC5qb2luKGRmX2Jhc2Vfc2NvcmVfZHIuYWxpYXMoJ2QnKSwgZi5jb2woJ2EuQ1VTVE9NRVJfSUQnKSA9PSBmLmNvbCgnZC5mc19jdXN0X2lkJyksICdsZWZ0JykKICAgIC5ncm91cEJ5KCdkcl9zZWdtZW50JywgJ2lmcF9zZWdtZW50JykKICAgIC5hZ2coZi5jb3VudCgnKicpCiAgICAgICAgICwgZi5jb3VudERpc3RpbmN0KCdhLkNVU1RPTUVSX0lEJykKICAgICAgICAgLCBmLnN1bSgncmVkZWVtJykKICAgICAgICAgKQopCgoKCiM3Mj8gCiMgfiAwLjUxJSBvdmVyYWxsIA==\").decode())\n\ntry:\n    # run user code\n    __backend_agg_user_code_fn()\n\n    #reset display function\n    display = __backend_agg_display_orig\n\n    if len(__backend_agg_dfs) > 0:\n        # create a temp view\n        if type(__backend_agg_dfs[0]).__module__ == \"databricks.koalas.frame\":\n            # koalas dataframe\n            __backend_agg_dfs[0].to_spark().createOrReplaceTempView(\"DatabricksView99788e4\")\n        elif type(__backend_agg_dfs[0]).__module__ == \"pandas.core.frame\" or isinstance(__backend_agg_dfs[0], list):\n            # pandas dataframe\n            spark.createDataFrame(__backend_agg_dfs[0]).createOrReplaceTempView(\"DatabricksView99788e4\")\n        else:\n            __backend_agg_dfs[0].createOrReplaceTempView(\"DatabricksView99788e4\")\n        #run backend agg\n        display(spark.sql(\"\"\"WITH q AS (select * from DatabricksView99788e4) SELECT `dr_segment`,`ifp_segment`,SUM(`count(DISTINCT CUSTOMER_ID)`) `count(DISTINCT CUSTOMER_ID)_alias` FROM q GROUP BY `dr_segment`,`ifp_segment` ORDER BY `dr_segment` ASC,`ifp_segment` ASC\"\"\"))\n    else:\n        displayHTML(\"dataframe no longer exists. If you're using dataframe.display(), use display(dataframe) instead.\")\n\n\nfinally:\n    spark.sql(\"drop view if exists DatabricksView99788e4\")\n    display = __backend_agg_display_orig\n    del __backend_agg_display_new\n    del __backend_agg_display_orig\n    del __backend_agg_dfs\n    del __backend_agg_user_code_fn\n\n",
       "commandTitle": "Visualization 2",
       "commandType": "auto",
       "commandVersion": 0,
       "commentThread": [],
       "commentsVisible": false,
       "contentSha256Hex": null,
       "customPlotOptions": {
        "redashChart": [
         {
          "key": "type",
          "value": "PIVOT_TABLE"
         },
         {
          "key": "options",
          "value": {
           "cell": {
            "field": "count(DISTINCT CUSTOMER_ID)",
            "transform": {
             "fn": "sum"
            }
           },
           "columns": [
            {
             "field": "ifp_segment",
             "sort": "ascending"
            }
           ],
           "rows": [
            {
             "field": "dr_segment",
             "sort": "ascending"
            }
           ]
          }
         }
        ]
       },
       "datasetPreviewNameToCmdIdMap": {},
       "diffDeletes": [],
       "diffInserts": [],
       "displayType": "redashChart",
       "error": null,
       "errorDetails": null,
       "errorSummary": null,
       "errorTraceType": null,
       "finishTime": 0,
       "globalVars": {},
       "guid": "",
       "height": "auto",
       "hideCommandCode": false,
       "hideCommandResult": false,
       "iPythonMetadata": null,
       "inputWidgets": {},
       "isLockedInExamMode": false,
       "latestUser": "a user",
       "latestUserId": null,
       "listResultMetadata": null,
       "metadata": {},
       "nuid": "ecd4c497-ba11-4123-a657-a4aaf9fa98c6",
       "origId": 0,
       "parentHierarchy": [],
       "pivotAggregation": null,
       "pivotColumns": null,
       "position": 13.0,
       "resultDbfsErrorMessage": null,
       "resultDbfsStatus": "INLINED_IN_TREE",
       "results": null,
       "showCommandTitle": false,
       "startTime": 0,
       "state": "input",
       "streamStates": {},
       "subcommandOptions": {
        "queryPlan": {
         "groups": [
          {
           "column": "dr_segment",
           "type": "column"
          },
          {
           "column": "ifp_segment",
           "type": "column"
          }
         ],
         "order_by": [
          {
           "direction": "asc",
           "expression": {
            "identifier": "dr_segment",
            "kind": "identifier"
           }
          },
          {
           "direction": "asc",
           "expression": {
            "identifier": "ifp_segment",
            "kind": "identifier"
           }
          }
         ],
         "selects": [
          {
           "column": "dr_segment",
           "type": "column"
          },
          {
           "column": "ifp_segment",
           "type": "column"
          },
          {
           "alias": "count(DISTINCT CUSTOMER_ID)_alias",
           "args": [
            {
             "column": "count(DISTINCT CUSTOMER_ID)",
             "type": "column"
            }
           ],
           "function": "SUM",
           "type": "function"
          }
         ]
        }
       },
       "submitTime": 0,
       "subtype": "tableResultSubCmd.visualization",
       "tableResultIndex": 0,
       "tableResultSettingsMap": {},
       "useConsistentColors": false,
       "version": "CommandV1",
       "width": "auto",
       "workflows": null,
       "xColumns": null,
       "yColumns": null
      }
     },
     "output_type": "display_data"
    }
   ],
   "source": [
    "df_output=(\n",
    "    df_sfmc.alias('a')\n",
    "    .join(df_ifp_cust.alias('b'), f.col('a.CUSTOMER_ID') == f.col('b.fs_cust_id'), 'left')\n",
    "    .withColumn(\n",
    "        'redeem',\n",
    "        f.when(f.col('b.fs_cust_id').isNotNull(), 1)\n",
    "        .otherwise(0)\n",
    "    )\n",
    "    .join(df_base_score_ifp.alias('c'), f.col('a.CUSTOMER_ID') == f.col('c.fs_cust_id'), 'left')\n",
    "    .join(df_base_score_dr.alias('d'), f.col('a.CUSTOMER_ID') == f.col('d.fs_cust_id'), 'left')\n",
    "    .groupBy('dr_segment', 'ifp_segment')\n",
    "    .agg(f.count('*').alias('cnt')\n",
    "         , f.countDistinct('a.CUSTOMER_ID')\n",
    "         , f.sum('redeem').alias('redeem_sum')\n",
    "         )\n",
    ")\n",
    "\n",
    "display(df_output)\n",
    "\n",
    "#72? \n",
    "# ~ 0.51% overall "
   ]
  },
  {
   "cell_type": "code",
   "execution_count": 0,
   "metadata": {
    "application/vnd.databricks.v1+cell": {
     "cellMetadata": {
      "byteLimit": 2048000,
      "rowLimit": 10000
     },
     "inputWidgets": {},
     "nuid": "a9379900-d6bc-4fe8-a048-948288b8d729",
     "showTitle": true,
     "tableResultSettingsMap": {},
     "title": "cals H M L propensity conversion"
    }
   },
   "outputs": [],
   "source": [
    "display(\n",
    "    df_output\n",
    "    .withColumn(\n",
    "        'proensity_combine'\n",
    "        , f.when(\n",
    "            ~(\n",
    "                (f.col('ifp_segment') == 'L')\n",
    "                & (f.col('dr_segment') == 'L')\n",
    "                ) , f.lit('H/M')\n",
    "        )\n",
    "        .otherwise('L')\n",
    "    )\n",
    "    .groupBy('proensity_combine')\n",
    "    .agg(\n",
    "        f.sum('cnt').alias('sum_cnt')\n",
    "        , f.sum('redeem_sum').alias('sum')\n",
    "    )\n",
    "    .withColumn(\n",
    "        'ttl_cnt'\n",
    "        , f.sum('sum_cnt').over(Window.partitionBy())\n",
    "    )\n",
    "    .withColumn(\n",
    "        'pct'\n",
    "        , f.col('sum') / f.col('sum_cnt') * 100\n",
    "    )\n",
    ")"
   ]
  }
 ],
 "metadata": {
  "application/vnd.databricks.v1+notebook": {
   "computePreferences": null,
   "dashboards": [],
   "environmentMetadata": {
    "base_environment": "",
    "environment_version": "2"
   },
   "inputWidgetPreferences": null,
   "language": "python",
   "notebookMetadata": {
    "pythonIndentUnit": 4
   },
   "notebookName": "Explore | 240703-RM-MOBPM-Samsung-S23-Experiment",
   "widgets": {}
  },
  "language_info": {
   "name": "python"
  }
 },
 "nbformat": 4,
 "nbformat_minor": 0
}
