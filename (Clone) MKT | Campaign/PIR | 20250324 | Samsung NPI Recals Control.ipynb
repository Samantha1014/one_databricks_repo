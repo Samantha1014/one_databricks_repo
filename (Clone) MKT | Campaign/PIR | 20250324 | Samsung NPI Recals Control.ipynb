{
 "cells": [
  {
   "cell_type": "markdown",
   "metadata": {
    "application/vnd.databricks.v1+cell": {
     "cellMetadata": {
      "byteLimit": 2048000,
      "rowLimit": 10000
     },
     "inputWidgets": {},
     "nuid": "7c6bd44d-78a4-432a-978d-431f8dc67262",
     "showTitle": false,
     "tableResultSettingsMap": {},
     "title": ""
    }
   },
   "source": [
    "### s000 environment setup"
   ]
  },
  {
   "cell_type": "code",
   "execution_count": 0,
   "metadata": {
    "application/vnd.databricks.v1+cell": {
     "cellMetadata": {
      "byteLimit": 2048000,
      "rowLimit": 10000
     },
     "inputWidgets": {},
     "nuid": "dc4f2d03-4147-4360-9e29-974a55ebc672",
     "showTitle": true,
     "tableResultSettingsMap": {},
     "title": "libraries"
    }
   },
   "outputs": [],
   "source": [
    "# libraries\n",
    "import os\n",
    "\n",
    "import pyspark\n",
    "from pyspark import sql\n",
    "from pyspark.sql import functions as f\n",
    "from pyspark.sql import Window"
   ]
  },
  {
   "cell_type": "code",
   "execution_count": 0,
   "metadata": {
    "application/vnd.databricks.v1+cell": {
     "cellMetadata": {
      "byteLimit": 2048000,
      "rowLimit": 10000
     },
     "inputWidgets": {},
     "nuid": "ff93f861-01a1-4125-ad7b-497ebc14b7c0",
     "showTitle": true,
     "tableResultSettingsMap": {},
     "title": "utility functions 01"
    }
   },
   "outputs": [],
   "source": [
    "%run \"./utils_spark_df\""
   ]
  },
  {
   "cell_type": "code",
   "execution_count": 0,
   "metadata": {
    "application/vnd.databricks.v1+cell": {
     "cellMetadata": {
      "byteLimit": 2048000,
      "rowLimit": 10000
     },
     "inputWidgets": {},
     "nuid": "4f38ce3e-7d45-4df0-bd3c-d842b9702de6",
     "showTitle": true,
     "tableResultSettingsMap": {},
     "title": "utility functions 02"
    }
   },
   "outputs": [],
   "source": [
    "%run \"./utils_stratified_sampling\""
   ]
  },
  {
   "cell_type": "code",
   "execution_count": 0,
   "metadata": {
    "application/vnd.databricks.v1+cell": {
     "cellMetadata": {
      "byteLimit": 2048000,
      "rowLimit": 10000
     },
     "inputWidgets": {},
     "nuid": "66e78728-dcd2-4d14-bd9a-95595cb1fc54",
     "showTitle": true,
     "tableResultSettingsMap": {},
     "title": "utility functions 03"
    }
   },
   "outputs": [],
   "source": [
    "%run \"./sc_utils_stratified_sampling\""
   ]
  },
  {
   "cell_type": "code",
   "execution_count": 0,
   "metadata": {
    "application/vnd.databricks.v1+cell": {
     "cellMetadata": {
      "byteLimit": 2048000,
      "rowLimit": 10000
     },
     "inputWidgets": {},
     "nuid": "8ad2523b-9fa6-4ae6-b6dd-3547853c1d90",
     "showTitle": true,
     "tableResultSettingsMap": {},
     "title": "reload data"
    }
   },
   "outputs": [],
   "source": [
    "df_campaign_cand_control = spark.read.format('delta').load('/mnt/ml-lab/dev_users/dev_sc/ml_campaigns/regen_control/250123_Samsung_NPI_Consumer_email_regen_control')\n",
    "df_campaign_cand_target = spark.read.format('delta').load('/mnt/ml-lab/dev_users/dev_sc/ml_campaigns/regen_control/250123_Samsung_NPI_Consumer_email_regen_target')"
   ]
  },
  {
   "cell_type": "code",
   "execution_count": 0,
   "metadata": {
    "application/vnd.databricks.v1+cell": {
     "cellMetadata": {
      "byteLimit": 2048000,
      "rowLimit": 10000
     },
     "inputWidgets": {},
     "nuid": "20e3b81f-4b6e-421a-9a8a-49646e9d549c",
     "showTitle": true,
     "tableResultSettingsMap": {},
     "title": "ifp device"
    }
   },
   "outputs": [],
   "source": [
    "df_prm_ifp_bill = spark.read.format('delta').load('/mnt/feature-store-prod-lab/d300_primary/d301_mobile_oa_consumer/prm_ifp_main_on_bill')\n",
    "df_prm_ifp_srvc = spark.read.format('delta').load('dbfs:/mnt/feature-store-prod-lab/d300_primary/d301_mobile_oa_consumer/prm_ifp_main_on_service')"
   ]
  },
  {
   "cell_type": "code",
   "execution_count": 0,
   "metadata": {
    "application/vnd.databricks.v1+cell": {
     "cellMetadata": {
      "byteLimit": 2048000,
      "rowLimit": 10000
     },
     "inputWidgets": {},
     "nuid": "42f4e946-f923-4d9f-afd4-e783c9ff5633",
     "showTitle": false,
     "tableResultSettingsMap": {},
     "title": ""
    }
   },
   "outputs": [],
   "source": [
    "df_ifp_bill = (\n",
    "    df_prm_ifp_bill\n",
    "    .filter(f.col('ifp_type') == 'device')\n",
    "    .filter(f.col('ifp_term_start_date').isNotNull())\n",
    "    .select('fs_cust_id', 'fs_acct_id', 'fs_ifp_id', 'ifp_model', 'ifp_term_start_date', 'ifp_term_end_date', 'ifp_sales_channel', 'ifp_sales_channel_branch', 'ifp_sales_channel_group')\n",
    "    .distinct()\n",
    ")\n",
    "\n",
    "df_ifp_srvc=(\n",
    "    df_prm_ifp_srvc\n",
    "    .filter(f.col('ifp_type') == 'device')\n",
    "    .filter(f.col('ifp_term_start_date').isNotNull())\n",
    "    .select('fs_cust_id', 'fs_acct_id', 'fs_ifp_id', 'ifp_model','ifp_term_start_date', 'ifp_term_end_date', 'ifp_sales_channel', 'ifp_sales_channel_branch', 'ifp_sales_channel_group')\n",
    "    .distinct()\n",
    ")\n",
    "\n",
    "df_ifp_all=(\n",
    "    df_ifp_bill\n",
    "    .union(df_ifp_srvc)\n",
    ")"
   ]
  },
  {
   "cell_type": "code",
   "execution_count": 0,
   "metadata": {
    "application/vnd.databricks.v1+cell": {
     "cellMetadata": {
      "byteLimit": 2048000,
      "rowLimit": 10000
     },
     "inputWidgets": {},
     "nuid": "b75bc056-0b4f-4ae7-8103-48a8e62f58cb",
     "showTitle": false,
     "tableResultSettingsMap": {},
     "title": ""
    }
   },
   "outputs": [],
   "source": [
    "vt_send_date = '2025-01-23'"
   ]
  },
  {
   "cell_type": "code",
   "execution_count": 0,
   "metadata": {
    "application/vnd.databricks.v1+cell": {
     "cellMetadata": {
      "byteLimit": 2048000,
      "rowLimit": 10000
     },
     "inputWidgets": {},
     "nuid": "d45c2b72-2d81-47d2-adaf-c08442fd3cf7",
     "showTitle": false,
     "tableResultSettingsMap": {},
     "title": ""
    }
   },
   "outputs": [],
   "source": [
    "display(df_campaign_cand_target.limit(10))"
   ]
  },
  {
   "cell_type": "code",
   "execution_count": 0,
   "metadata": {
    "application/vnd.databricks.v1+cell": {
     "cellMetadata": {
      "byteLimit": 2048000,
      "rowLimit": 10000
     },
     "inputWidgets": {},
     "nuid": "0e6cd9c5-c45b-4bae-98c9-3b212434bb09",
     "showTitle": false,
     "tableResultSettingsMap": {},
     "title": ""
    }
   },
   "outputs": [],
   "source": [
    "display(df_ifp_all.limit(10))"
   ]
  },
  {
   "cell_type": "code",
   "execution_count": 0,
   "metadata": {
    "application/vnd.databricks.v1+cell": {
     "cellMetadata": {
      "byteLimit": 2048000,
      "rowLimit": 10000
     },
     "inputWidgets": {},
     "nuid": "1fa8ccf0-b27a-43a0-a8ce-cdc1d9ec056d",
     "showTitle": false,
     "tableResultSettingsMap": {},
     "title": ""
    }
   },
   "outputs": [],
   "source": [
    "display(\n",
    "    df_campaign_cand_control\n",
    "    .join(df_ifp_all, ['fs_cust_id'], 'inner')\n",
    "    .filter(f.col('ifp_term_start_date') >= f.lit(vt_send_date))\n",
    "    .filter(f.col('ifp_term_start_date') <= f.add_months(f.lit(vt_send_date), 1))\n",
    "    .groupBy('ifp_model')\n",
    "    .agg(\n",
    "        f.countDistinct('fs_cust_id')\n",
    "        , f.min('ifp_term_start_date')\n",
    "        , f.max('ifp_term_start_date')\n",
    "    )\n",
    ")\n"
   ]
  },
  {
   "cell_type": "code",
   "execution_count": 0,
   "metadata": {
    "application/vnd.databricks.v1+cell": {
     "cellMetadata": {
      "byteLimit": 2048000,
      "rowLimit": 10000
     },
     "inputWidgets": {},
     "nuid": "cfe8d19a-bd80-4976-86a4-98ab43a64633",
     "showTitle": false,
     "tableResultSettingsMap": {},
     "title": ""
    }
   },
   "outputs": [],
   "source": [
    "display(\n",
    "    df_campaign_cand_target\n",
    "    .join(df_ifp_all, ['fs_cust_id'], 'inner')\n",
    "    .filter(f.col('ifp_term_start_date') >= f.lit(vt_send_date))\n",
    "    .filter(f.col('ifp_term_start_date') <= f.add_months(f.lit(vt_send_date), 1))\n",
    "    .groupBy('ifp_model')\n",
    "    .agg(\n",
    "        f.countDistinct('fs_cust_id')\n",
    "        , f.min('ifp_term_start_date')\n",
    "        , f.max('ifp_term_start_date')\n",
    "    )\n",
    ")\n"
   ]
  },
  {
   "cell_type": "code",
   "execution_count": 0,
   "metadata": {
    "application/vnd.databricks.v1+cell": {
     "cellMetadata": {
      "byteLimit": 2048000,
      "rowLimit": 10000
     },
     "inputWidgets": {},
     "nuid": "7d2a4693-61dc-4e10-b845-0a44f81a6af5",
     "showTitle": false,
     "tableResultSettingsMap": {},
     "title": ""
    }
   },
   "outputs": [],
   "source": [
    "display(\n",
    "    df_campaign_cand_control\n",
    "    .join(df_ifp_all, ['fs_cust_id'], 'inner')\n",
    "    .filter(f.col('ifp_term_start_date') >= f.lit(vt_send_date))\n",
    "    .filter(f.col('ifp_term_start_date') <= f.add_months(f.lit(vt_send_date), 1))\n",
    "    .agg(\n",
    "        f.countDistinct('fs_cust_id')\n",
    "        , f.min('ifp_term_start_date')\n",
    "        , f.max('ifp_term_start_date')\n",
    "    )\n",
    ")\n"
   ]
  },
  {
   "cell_type": "code",
   "execution_count": 0,
   "metadata": {
    "application/vnd.databricks.v1+cell": {
     "cellMetadata": {
      "byteLimit": 2048000,
      "rowLimit": 10000
     },
     "inputWidgets": {},
     "nuid": "871d46f1-bda9-4665-9b92-efe8182433d0",
     "showTitle": false,
     "tableResultSettingsMap": {},
     "title": ""
    }
   },
   "outputs": [],
   "source": [
    "display(df_campaign_cand_target\n",
    "        .agg(f.countDistinct('fs_cust_id'))\n",
    "        )"
   ]
  },
  {
   "cell_type": "code",
   "execution_count": 0,
   "metadata": {
    "application/vnd.databricks.v1+cell": {
     "cellMetadata": {
      "byteLimit": 2048000,
      "rowLimit": 10000
     },
     "inputWidgets": {},
     "nuid": "b33c1e3c-8e42-4382-8321-41a82decd295",
     "showTitle": false,
     "tableResultSettingsMap": {},
     "title": ""
    }
   },
   "outputs": [],
   "source": [
    "display(df_campaign_cand_control\n",
    "        .agg(f.countDistinct('fs_cust_id'))\n",
    "        )"
   ]
  },
  {
   "cell_type": "code",
   "execution_count": 0,
   "metadata": {
    "application/vnd.databricks.v1+cell": {
     "cellMetadata": {
      "byteLimit": 2048000,
      "rowLimit": 10000
     },
     "inputWidgets": {},
     "nuid": "c29ec0f3-7d26-4ef4-8cdf-72d2bd7a07f2",
     "showTitle": false,
     "tableResultSettingsMap": {},
     "title": ""
    }
   },
   "outputs": [],
   "source": [
    "print(\"control\")\n",
    "display(\n",
    "    df_campaign_cand_control\n",
    "    .agg(\n",
    "        f.countDistinct(\"fs_cust_id\")\n",
    "        , f.median(\"churn_score\")\n",
    "        , f.avg(\"churn_score\")\n",
    "        , f.median(\"dr_score\")\n",
    "        , f.avg(\"dr_score\")\n",
    "        , f.median(\"ifp_score\")\n",
    "        , f.avg(\"ifp_score\")\n",
    "    )\n",
    ")\n",
    "\n",
    "\n",
    "print(\"target\")\n",
    "display(\n",
    "    df_campaign_cand_target\n",
    "    .agg(\n",
    "        f.countDistinct(\"fs_cust_id\")\n",
    "        , f.median(\"churn_score\")\n",
    "        , f.avg(\"churn_score\")\n",
    "        , f.median(\"dr_score\")\n",
    "        , f.avg(\"dr_score\")\n",
    "        , f.median(\"ifp_score\")\n",
    "        , f.avg(\"ifp_score\")\n",
    "    )\n",
    ")"
   ]
  }
 ],
 "metadata": {
  "application/vnd.databricks.v1+notebook": {
   "computePreferences": null,
   "dashboards": [],
   "environmentMetadata": {
    "base_environment": "",
    "environment_version": "2"
   },
   "inputWidgetPreferences": null,
   "language": "python",
   "notebookMetadata": {
    "pythonIndentUnit": 4
   },
   "notebookName": "PIR | 20250324 | Samsung NPI Recals Control",
   "widgets": {}
  },
  "language_info": {
   "name": "python"
  }
 },
 "nbformat": 4,
 "nbformat_minor": 0
}
