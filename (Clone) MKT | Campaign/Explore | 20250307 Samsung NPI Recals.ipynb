{
 "cells": [
  {
   "cell_type": "markdown",
   "metadata": {
    "application/vnd.databricks.v1+cell": {
     "cellMetadata": {},
     "inputWidgets": {},
     "nuid": "6a1cc330-dec7-42ee-a596-7bd7a915c822",
     "showTitle": false,
     "tableResultSettingsMap": {},
     "title": ""
    }
   },
   "source": [
    "### s000 environment setup"
   ]
  },
  {
   "cell_type": "code",
   "execution_count": 0,
   "metadata": {
    "application/vnd.databricks.v1+cell": {
     "cellMetadata": {
      "byteLimit": 2048000,
      "rowLimit": 10000
     },
     "inputWidgets": {},
     "nuid": "9f7ea4e5-0396-4dfd-a520-3d98a2edd64d",
     "showTitle": true,
     "tableResultSettingsMap": {},
     "title": "libraires"
    }
   },
   "outputs": [],
   "source": [
    "# libraries\n",
    "import os\n",
    "\n",
    "import pyspark\n",
    "from pyspark import sql\n",
    "from pyspark.sql import functions as f\n",
    "from pyspark.sql import Window"
   ]
  },
  {
   "cell_type": "code",
   "execution_count": 0,
   "metadata": {
    "application/vnd.databricks.v1+cell": {
     "cellMetadata": {
      "byteLimit": 2048000,
      "rowLimit": 10000
     },
     "inputWidgets": {},
     "nuid": "8950351d-695c-4967-a984-763cd61a1ec1",
     "showTitle": true,
     "tableResultSettingsMap": {},
     "title": "utility functions 01"
    }
   },
   "outputs": [],
   "source": [
    "%run \"./utils_spark_df\""
   ]
  },
  {
   "cell_type": "code",
   "execution_count": 0,
   "metadata": {
    "application/vnd.databricks.v1+cell": {
     "cellMetadata": {
      "byteLimit": 2048000,
      "rowLimit": 10000
     },
     "inputWidgets": {},
     "nuid": "214ba3e1-b2a0-4194-94e5-14130d336154",
     "showTitle": true,
     "tableResultSettingsMap": {},
     "title": "utility functions 02"
    }
   },
   "outputs": [],
   "source": [
    "%run \"./utils_stratified_sampling\""
   ]
  },
  {
   "cell_type": "code",
   "execution_count": 0,
   "metadata": {
    "application/vnd.databricks.v1+cell": {
     "cellMetadata": {
      "byteLimit": 2048000,
      "rowLimit": 10000
     },
     "inputWidgets": {},
     "nuid": "5ea6d613-eb25-49b4-b5b8-d923741d239a",
     "showTitle": false,
     "tableResultSettingsMap": {},
     "title": ""
    }
   },
   "outputs": [],
   "source": [
    "%run \"./sc_utils_stratified_sampling\""
   ]
  },
  {
   "cell_type": "code",
   "execution_count": 0,
   "metadata": {
    "application/vnd.databricks.v1+cell": {
     "cellMetadata": {
      "byteLimit": 2048000,
      "rowLimit": 10000
     },
     "inputWidgets": {},
     "nuid": "a12e6efd-81ba-4739-9414-ef66108a2550",
     "showTitle": true,
     "tableResultSettingsMap": {},
     "title": "sf connection"
    }
   },
   "outputs": [],
   "source": [
    "# ------------- Use snowflake utility\n",
    "sfUtils = sc._jvm.net.snowflake.spark.snowflake.Utils\n",
    "\n",
    "# ------------ login to snowflake\n",
    "password = dbutils.secrets.get(scope = \"auea-kv-sbx-dxdtlprdct01\", key = \"sfdbrsdskey\")\n",
    "\n",
    "options = {\n",
    "  \"sfUrl\": \"vodafonenz_prod.australia-east.azure.snowflakecomputing.com/\", \n",
    "  \"sfUser\": \"SVC_LAB_DS_DATABRICKS\",\n",
    "  \"pem_private_key\": password.replace('\\\\n', '\\n'),\n",
    "  \"sfDatabase\": \"LAB_ML_STORE\",\n",
    "  \"sfSchema\": \"SANDBOX\",\n",
    "  \"sfWarehouse\": \"LAB_DS_WH\"\n",
    "}"
   ]
  },
  {
   "cell_type": "code",
   "execution_count": 0,
   "metadata": {
    "application/vnd.databricks.v1+cell": {
     "cellMetadata": {
      "byteLimit": 2048000,
      "rowLimit": 10000
     },
     "inputWidgets": {},
     "nuid": "a52f4276-5362-4e04-a803-9c65094a74cc",
     "showTitle": true,
     "tableResultSettingsMap": {},
     "title": "directories 01"
    }
   },
   "outputs": [],
   "source": [
    "dir_fs_data_parent = \"/mnt/feature-store-prod-lab\"\n",
    "dir_mls_data_parent = \"/mnt/ml-store-prod-lab/classification\""
   ]
  },
  {
   "cell_type": "code",
   "execution_count": 0,
   "metadata": {
    "application/vnd.databricks.v1+cell": {
     "cellMetadata": {
      "byteLimit": 2048000,
      "rowLimit": 10000
     },
     "inputWidgets": {},
     "nuid": "435c48ac-6954-442d-a1a6-4dffc3cb4b85",
     "showTitle": true,
     "tableResultSettingsMap": {},
     "title": "directories 02"
    }
   },
   "outputs": [],
   "source": [
    "dir_mls_data_score = os.path.join(dir_mls_data_parent, \"d400_model_score\")"
   ]
  },
  {
   "cell_type": "code",
   "execution_count": 0,
   "metadata": {
    "application/vnd.databricks.v1+cell": {
     "cellMetadata": {
      "byteLimit": 2048000,
      "rowLimit": 10000
     },
     "inputWidgets": {},
     "nuid": "e08e9b39-dad6-4a93-ac98-93e87ab31151",
     "showTitle": true,
     "tableResultSettingsMap": {},
     "title": "directories 03"
    }
   },
   "outputs": [],
   "source": [
    "dir_fs_data_meta = os.path.join(dir_fs_data_parent, 'd000_meta')\n",
    "dir_fs_data_raw =  os.path.join(dir_fs_data_parent, 'd100_raw')\n",
    "dir_fs_data_int =  os.path.join(dir_fs_data_parent, \"d200_intermediate\")\n",
    "dir_fs_data_prm =  os.path.join(dir_fs_data_parent, \"d300_primary\")\n",
    "dir_fs_data_fea =  os.path.join(dir_fs_data_parent, \"d400_feature\")\n",
    "dir_fs_data_target = os.path.join(dir_fs_data_parent, \"d500_movement\")\n",
    "dir_fs_data_serv = os.path.join(dir_fs_data_parent, \"d600_serving\")"
   ]
  },
  {
   "cell_type": "markdown",
   "metadata": {
    "application/vnd.databricks.v1+cell": {
     "cellMetadata": {},
     "inputWidgets": {},
     "nuid": "ea82f6a2-d7bc-4d54-a843-0268a7d24feb",
     "showTitle": false,
     "tableResultSettingsMap": {},
     "title": ""
    }
   },
   "source": [
    "### s100 data import"
   ]
  },
  {
   "cell_type": "code",
   "execution_count": 0,
   "metadata": {
    "application/vnd.databricks.v1+cell": {
     "cellMetadata": {
      "byteLimit": 2048000,
      "rowLimit": 10000
     },
     "inputWidgets": {},
     "nuid": "a84f3185-a811-4820-904a-bc1580d36409",
     "showTitle": true,
     "tableResultSettingsMap": {},
     "title": "parameters 01"
    }
   },
   "outputs": [],
   "source": [
    "# vt_param_reporting_date = \"2024-09-29\"\n",
    "vt_param_reporting_date = \"2025-01-19\"\n",
    "vt_param_reporting_cycle_type = \"rolling cycle\""
   ]
  },
  {
   "cell_type": "code",
   "execution_count": 0,
   "metadata": {
    "application/vnd.databricks.v1+cell": {
     "cellMetadata": {
      "byteLimit": 2048000,
      "rowLimit": 10000
     },
     "inputWidgets": {},
     "nuid": "fd9a717d-09e4-4958-a6a5-c57997cd4b39",
     "showTitle": true,
     "tableResultSettingsMap": {},
     "title": "feature store 01"
    }
   },
   "outputs": [],
   "source": [
    "df_fs_master = spark.read.format(\"delta\").load(os.path.join(dir_fs_data_serv, \"serv_mobile_oa_consumer\"))\n",
    "df_fs_ifp_srvc = spark.read.format(\"delta\").load(os.path.join(dir_fs_data_fea, \"d401_mobile_oa_consumer/fea_ifp_device_on_service\"))\n",
    "df_fs_ifp_bill = spark.read.format(\"delta\").load(os.path.join(dir_fs_data_fea, \"d401_mobile_oa_consumer/fea_ifp_device_on_bill\"))\n",
    "df_mvnt_ifp_srvc = spark.read.format('delta').load(os.path.join(dir_fs_data_target, \"d501_mobile_oa_consumer/mvmt_ifp_upsell_on_service\"))\n",
    "df_mvnt_ifp_bill = spark.read.format('delta').load(os.path.join(dir_fs_data_target, \"d501_mobile_oa_consumer/mvmt_ifp_upsell_on_bill\"))"
   ]
  },
  {
   "cell_type": "code",
   "execution_count": 0,
   "metadata": {
    "application/vnd.databricks.v1+cell": {
     "cellMetadata": {
      "byteLimit": 2048000,
      "rowLimit": 10000
     },
     "inputWidgets": {},
     "nuid": "6f07bfa1-0b9e-4ddf-b693-9af5bcc98ff8",
     "showTitle": true,
     "tableResultSettingsMap": {},
     "title": "ml store"
    }
   },
   "outputs": [],
   "source": [
    "#df_mls_score_dr_apple = spark.read.format(\"delta\").load(os.path.join(dir_mls_data_score, \"mobile_oa_consumer_srvc_device_replacement_apple_pred30d\"))\n",
    "#df_mls_score_dr_apple = spark.read.format(\"delta\").load(os.path.join(dir_mls_data_score, \"mobile_oa_consumer_srvc_device_replacement_apple_pred30d\"))\n",
    "df_mls_score_dr = spark.read.format(\"delta\").load(os.path.join(dir_mls_data_score, \"mobile_oa_consumer_srvc_device_replacement_pred30d\"))\n",
    "df_mls_score_ifp = spark.read.format(\"delta\").load(os.path.join(dir_mls_data_score, \"mobile_oa_consumer_srvc_upsell_ifp_pred30d\"))\n",
    "df_mls_score_churn = spark.read.format(\"delta\").load(os.path.join(dir_mls_data_score, \"mobile_oa_consumer_srvc_churn_pred30d\"))\n",
    "df_mls_score_ar = spark.read.format(\"delta\").load(os.path.join(dir_mls_data_score, \"mobile_oa_consumer_srvc_writeoff_pred120d\"))"
   ]
  },
  {
   "cell_type": "code",
   "execution_count": 0,
   "metadata": {
    "application/vnd.databricks.v1+cell": {
     "cellMetadata": {
      "byteLimit": 2048000,
      "rowLimit": 10000
     },
     "inputWidgets": {},
     "nuid": "4526ec3c-16b4-41af-863d-f68c90c22388",
     "showTitle": true,
     "tableResultSettingsMap": {},
     "title": "last output"
    }
   },
   "outputs": [],
   "source": [
    "df_output_campaign_email = spark.read.format(\"delta\").load('/mnt/ml-lab/dev_users/dev_sc/ml_campaigns/250123-JS-MOBPM-Samsung-NPI-Consumer_Email')\n",
    "df_output_campaign_sms = spark.read.format(\"delta\").load('/mnt/ml-lab/dev_users/dev_sc/ml_campaigns/250123-JS-MOBPM-Samsung-NPI-Consumer_SMS')"
   ]
  },
  {
   "cell_type": "code",
   "execution_count": 0,
   "metadata": {
    "application/vnd.databricks.v1+cell": {
     "cellMetadata": {
      "byteLimit": 2048000,
      "rowLimit": 10000
     },
     "inputWidgets": {},
     "nuid": "0b8a247e-42a6-4011-ad71-fb1e3a6884b0",
     "showTitle": true,
     "tableResultSettingsMap": {},
     "title": "one upgrade data"
    }
   },
   "outputs": [],
   "source": [
    "query_one_upgrade = \"\"\"select * from PROD_MAR_TECH.SERVING.export_bill_ifp where IFP_PHONE_UPGRADE_FLAG = 'Y';\"\"\"\n",
    "\n",
    "df_one_upgrade = (\n",
    "    spark.read\n",
    "    .format(\"snowflake\")\n",
    "    .options(**options)\n",
    "    .option(\n",
    "        \"query\"\n",
    "        , query_one_upgrade\n",
    "    )\n",
    "    .load()\n",
    ")\n",
    "\n"
   ]
  },
  {
   "cell_type": "code",
   "execution_count": 0,
   "metadata": {
    "application/vnd.databricks.v1+cell": {
     "cellMetadata": {
      "byteLimit": 2048000,
      "rowLimit": 10000
     },
     "inputWidgets": {},
     "nuid": "d55740de-e7e5-4c71-b90c-b9e792f2cc10",
     "showTitle": true,
     "tableResultSettingsMap": {},
     "title": "sfmc output"
    }
   },
   "outputs": [],
   "source": [
    "query_sfmc = \"\"\" \n",
    "select  * from PROD_MAR_TECH.SERVING.SFMC_EMAIL_PERFORMANCE\n",
    "where campaignname in ('250123-JS-MOBPM-EML-M-DEV-P4-Samsung-NPI-Consumer_Email')\n",
    "\"\"\"\n",
    "\n",
    "\n",
    "df_sfmc_email= (\n",
    "    spark.read\n",
    "    .format(\"snowflake\")\n",
    "    .options(**options)\n",
    "    .option(\n",
    "        \"query\"\n",
    "        , query_sfmc\n",
    "    )\n",
    "    .load()\n",
    ")\n",
    "\n",
    "\n",
    "query_sfmc_sms = \"\"\"\n",
    "select * from PROD_MAR_TECH.SERVING.SFMC_ON_NET_SMS_MESSAGE\n",
    "where sms_name in ('250123-JS-MOBPM-SMS-M-DEV-P4-Samsung-NPI-Consumer');\n",
    "\"\"\"\n",
    "\n",
    "\n",
    "df_sfmc_sms= (\n",
    "    spark.read\n",
    "    .format(\"snowflake\")\n",
    "    .options(**options)\n",
    "    .option(\n",
    "        \"query\"\n",
    "        , query_sfmc_sms\n",
    "    )\n",
    "    .load()\n",
    ")"
   ]
  },
  {
   "cell_type": "code",
   "execution_count": 0,
   "metadata": {
    "application/vnd.databricks.v1+cell": {
     "cellMetadata": {
      "byteLimit": 2048000,
      "rowLimit": 10000
     },
     "inputWidgets": {},
     "nuid": "116ef019-26c5-440c-ae08-2e50f02c5729",
     "showTitle": true,
     "tableResultSettingsMap": {},
     "title": "interim export sfmc"
    }
   },
   "outputs": [],
   "source": [
    "(\n",
    "    df_sfmc_email\n",
    "    .write\n",
    "    .format(\"delta\")\n",
    "    .mode(\"overwrite\")\n",
    "    .option(\"overwriteSchema\", \"true\")\n",
    "    #.option(\"partitionOverwriteMode\", \"dynamic\")\n",
    "    .save('/mnt/ml-lab/dev_users/dev_sc/ml_campaigns/output_leads/250123_Samsung_NPI_Consumer_Email') \n",
    ")\n",
    "\n",
    "(\n",
    "    df_sfmc_sms\n",
    "    .write\n",
    "    .format(\"delta\")\n",
    "    .mode(\"overwrite\")\n",
    "    .option(\"overwriteSchema\", \"true\")\n",
    "    #.option(\"partitionOverwriteMode\", \"dynamic\")\n",
    "    .save('/mnt/ml-lab/dev_users/dev_sc/ml_campaigns/output_leads/250123_Samsung_NPI_Consumer_SMS') \n",
    ")\n",
    "\n"
   ]
  },
  {
   "cell_type": "code",
   "execution_count": 0,
   "metadata": {
    "application/vnd.databricks.v1+cell": {
     "cellMetadata": {
      "byteLimit": 2048000,
      "rowLimit": 10000
     },
     "inputWidgets": {},
     "nuid": "019307a9-aea0-4019-a2c4-55ed40f903ea",
     "showTitle": true,
     "tableResultSettingsMap": {},
     "title": "re import sfmc"
    }
   },
   "outputs": [],
   "source": [
    "df_sfmc_sms = spark.read.format('delta').load('/mnt/ml-lab/dev_users/dev_sc/ml_campaigns/output_leads/250123_Samsung_NPI_Consumer_SMS')\n",
    "\n",
    "df_sfmc_email = spark.read.format('delta').load('/mnt/ml-lab/dev_users/dev_sc/ml_campaigns/output_leads/250123_Samsung_NPI_Consumer_Email')"
   ]
  },
  {
   "cell_type": "code",
   "execution_count": 0,
   "metadata": {
    "application/vnd.databricks.v1+cell": {
     "cellMetadata": {
      "byteLimit": 2048000,
      "rowLimit": 10000
     },
     "inputWidgets": {},
     "nuid": "aea7b268-cc70-42b4-8f63-a5350c6e2730",
     "showTitle": true,
     "tableResultSettingsMap": {},
     "title": "ml score in customer level"
    }
   },
   "outputs": [],
   "source": [
    "df_base_score_ifp = (\n",
    "    df_mls_score_ifp\n",
    "    .filter(f.col(\"reporting_date\") == vt_param_reporting_date)\n",
    "    .filter(f.col(\"reporting_cycle_type\") == vt_param_reporting_cycle_type)\n",
    "    .withColumn(\n",
    "        'rank_acct'\n",
    "        , f.row_number().over(\n",
    "            Window\n",
    "            .partitionBy('fs_cust_id', 'fs_acct_id')\n",
    "            .orderBy(f.desc('propensity_top_ntile'))\n",
    "        )\n",
    "    )\n",
    "    .filter(f.col('rank_acct')==1)\n",
    "    .withColumn(\n",
    "        'rank_cust'\n",
    "        , f.row_number().over(\n",
    "            Window\n",
    "            .partitionBy('fs_cust_id')\n",
    "            .orderBy(f.desc('propensity_top_ntile'))\n",
    "        )\n",
    "    )\n",
    "    .filter(f.col('rank_cust')==1)\n",
    "    .select(\n",
    "        \"fs_cust_id\"\n",
    "        # , \"fs_acct_id\"\n",
    "        # , \"fs_srvc_id\"\n",
    "        , f.col(\"propensity_score\").alias(\"ifp_score\")\n",
    "        , f.col(\"propensity_segment_qt\").alias(\"ifp_segment\")\n",
    "        , f.col(\"propensity_top_ntile\").alias(\"ifp_top_ntile\")\n",
    "    )\n",
    "   \n",
    ")\n",
    "\n",
    "df_base_score_dr = (\n",
    "    df_mls_score_dr\n",
    "    .filter(f.col(\"reporting_date\") == vt_param_reporting_date)\n",
    "    .filter(f.col(\"reporting_cycle_type\") == vt_param_reporting_cycle_type)\n",
    "    .withColumn(\n",
    "        'rank_acct'\n",
    "        , f.row_number().over(\n",
    "            Window\n",
    "            .partitionBy('fs_cust_id','fs_acct_id')\n",
    "            .orderBy(f.desc('propensity_top_ntile'))\n",
    "        )\n",
    "    )\n",
    "    .filter(f.col('rank_acct')==1)\n",
    "    .withColumn(\n",
    "        'rank_cust'\n",
    "        , f.row_number().over(\n",
    "            Window\n",
    "            .partitionBy('fs_cust_id')\n",
    "            .orderBy(f.desc('propensity_top_ntile'))\n",
    "        )\n",
    "    )\n",
    "    .filter(f.col('rank_cust')==1)\n",
    "    .select(\n",
    "        \"fs_cust_id\"\n",
    "        # , \"fs_acct_id\"\n",
    "        # , \"fs_srvc_id\"\n",
    "        , f.col(\"propensity_score\").alias(\"dr_score\")\n",
    "        , f.col(\"propensity_segment_qt\").alias(\"dr_segment\")\n",
    "        , f.col(\"propensity_top_ntile\").alias(\"dr_top_ntile\")\n",
    "    )   \n",
    ")\n",
    "\n",
    "df_base_score_churn = (\n",
    "    df_mls_score_churn\n",
    "    .filter(f.col(\"reporting_date\") == vt_param_reporting_date)\n",
    "    .filter(f.col(\"reporting_cycle_type\") == vt_param_reporting_cycle_type)\n",
    "    .withColumn(\n",
    "        'rank_acct'\n",
    "        , f.row_number().over(\n",
    "            Window\n",
    "            .partitionBy('fs_cust_id','fs_acct_id')\n",
    "            .orderBy(f.desc('propensity_top_ntile'))\n",
    "        )\n",
    "    )\n",
    "    .filter(f.col('rank_acct')==1)\n",
    "    .withColumn(\n",
    "        'rank_cust'\n",
    "        , f.row_number().over(\n",
    "            Window\n",
    "            .partitionBy('fs_cust_id')\n",
    "            .orderBy(f.desc('propensity_top_ntile'))\n",
    "        )\n",
    "    )\n",
    "    .filter(f.col('rank_cust')==1)\n",
    "    .select(\n",
    "        \"fs_cust_id\"\n",
    "        # , \"fs_acct_id\"\n",
    "        # , \"fs_srvc_id\"\n",
    "        , f.col(\"propensity_score\").alias(\"churn_score\")\n",
    "        , f.col(\"propensity_segment_qt\").alias(\"churn_segment\")\n",
    "        , f.col(\"propensity_top_ntile\").alias(\"churn_top_ntile\")\n",
    "    )\n",
    ")\n",
    "\n",
    "df_base_score_ar = (\n",
    "    df_mls_score_ar\n",
    "    .filter(f.col(\"reporting_date\") == vt_param_reporting_date)\n",
    "    .filter(f.col(\"reporting_cycle_type\") == vt_param_reporting_cycle_type)\n",
    "    .withColumn(\n",
    "        'rank_acct'\n",
    "        , f.row_number().over(\n",
    "            Window\n",
    "            .partitionBy('fs_cust_id','fs_acct_id')\n",
    "            .orderBy(f.desc('propensity_top_ntile'))\n",
    "        )\n",
    "    )\n",
    "    .filter(f.col('rank_acct')==1)\n",
    "    .withColumn(\n",
    "        'rank_cust'\n",
    "        , f.row_number().over(\n",
    "            Window\n",
    "            .partitionBy('fs_cust_id')\n",
    "            .orderBy(f.desc('propensity_top_ntile'))\n",
    "        )\n",
    "    )\n",
    "    .filter(f.col('rank_cust')==1)\n",
    "    .select(\n",
    "        \"fs_cust_id\"\n",
    "        # , \"fs_acct_id\"\n",
    "        # , \"fs_srvc_id\"\n",
    "        , f.col(\"propensity_score\").alias(\"risk_score\")\n",
    "        , f.col(\"propensity_segment_qt\").alias(\"risk_segment\")\n",
    "        , f.col(\"propensity_top_ntile\").alias(\"risk_top_ntile\")\n",
    "    )\n",
    ")"
   ]
  },
  {
   "cell_type": "code",
   "execution_count": 0,
   "metadata": {
    "application/vnd.databricks.v1+cell": {
     "cellMetadata": {
      "byteLimit": 2048000,
      "rowLimit": 10000
     },
     "inputWidgets": {},
     "nuid": "f20e7d68-4978-4aa6-94ba-fd01c26b2370",
     "showTitle": true,
     "tableResultSettingsMap": {},
     "title": "email target"
    }
   },
   "outputs": [],
   "source": [
    "df_email_output=(\n",
    "    df_sfmc_email.alias('a')\n",
    "    .join(df_base_score_ifp.alias('c'), f.col('a.CUSTOMER_ID') == f.col('c.fs_cust_id'), 'inner')\n",
    "    .join(df_base_score_dr.alias('d'), f.col('a.CUSTOMER_ID') == f.col('d.fs_cust_id'), 'inner')\n",
    "    .join(df_base_score_churn.alias('e'), f.col('a.CUSTOMER_ID') == f.col('e.fs_cust_id'), 'inner')\n",
    "    #.withColumn('index', f.count('*').over(Window.partitionBy('a.CUSTOMER_ID')))\n",
    "    #.filter(f.col('index') >2)\n",
    "    .select(\n",
    "        'CUSTOMER_ID'\n",
    "        , 'c.fs_cust_id'\n",
    "        , 'ifp_score'\n",
    "        , 'ifp_segment'\n",
    "        , 'ifp_top_ntile'\n",
    "        , 'dr_score'\n",
    "        , 'dr_segment'\n",
    "        , 'dr_top_ntile'\n",
    "        , 'churn_score'\n",
    "        , 'churn_segment'\n",
    "        , 'churn_top_ntile'\n",
    "    )\n",
    " )\n",
    "\n"
   ]
  },
  {
   "cell_type": "code",
   "execution_count": 0,
   "metadata": {
    "application/vnd.databricks.v1+cell": {
     "cellMetadata": {
      "byteLimit": 2048000,
      "rowLimit": 10000
     },
     "inputWidgets": {},
     "nuid": "292cf1dd-c0f3-43a6-a37b-323e8aa169a5",
     "showTitle": true,
     "tableResultSettingsMap": {},
     "title": "check propensity"
    }
   },
   "outputs": [],
   "source": [
    "display(\n",
    "    df_email_output\n",
    "    #.filter(f.col(\"target_segment\") == 'a.target')\n",
    "    .groupBy(\"ifp_segment\")\n",
    "    .agg(f.countDistinct(\"fs_cust_id\").alias(\"acct\"))\n",
    "    .withColumn(\n",
    "        \"acct_tot\"\n",
    "        , f.sum(\"acct\").over(Window.partitionBy(f.lit(1)))\n",
    "    )\n",
    "    .withColumn(\n",
    "        \"pct\"\n",
    "        , f.col(\"acct\") / f.col(\"acct_tot\")\n",
    "    )\n",
    ")\n",
    "\n",
    "display(\n",
    "    df_email_output\n",
    "    #.filter(f.col(\"target_segment\") == 'a.target')\n",
    "    .groupBy(\"dr_segment\")\n",
    "    .agg(f.countDistinct(\"fs_cust_id\").alias(\"acct\"))\n",
    "    .withColumn(\n",
    "        \"acct_tot\"\n",
    "        , f.sum(\"acct\").over(Window.partitionBy(f.lit(1)))\n",
    "    )\n",
    "    .withColumn(\n",
    "        \"pct\"\n",
    "        , f.col(\"acct\") / f.col(\"acct_tot\")\n",
    "    )\n",
    ")\n",
    "\n",
    "\n",
    "display(\n",
    "    df_email_output\n",
    "    #.filter(f.col(\"target_segment\") == 'a.target')\n",
    "    .groupBy(\"churn_segment\")\n",
    "    .agg(f.countDistinct(\"fs_cust_id\").alias(\"acct\"))\n",
    "    .withColumn(\n",
    "        \"acct_tot\"\n",
    "        , f.sum(\"acct\").over(Window.partitionBy(f.lit(1)))\n",
    "    )\n",
    "    .withColumn(\n",
    "        \"pct\"\n",
    "        , f.col(\"acct\") / f.col(\"acct_tot\")\n",
    "    )\n",
    ")\n",
    "\n",
    "\n",
    "\n",
    "display(\n",
    "    df_email_output\n",
    "    .agg(\n",
    "        f.countDistinct(\"fs_cust_id\")\n",
    "        , f.median(\"churn_score\")\n",
    "        , f.avg(\"churn_score\")\n",
    "        , f.median(\"dr_score\")\n",
    "        , f.avg(\"dr_score\")\n",
    "        , f.median(\"ifp_score\")\n",
    "        , f.avg(\"ifp_score\")\n",
    "    )\n",
    ")"
   ]
  },
  {
   "cell_type": "markdown",
   "metadata": {
    "application/vnd.databricks.v1+cell": {
     "cellMetadata": {},
     "inputWidgets": {},
     "nuid": "76d9294f-b9cb-43e0-ae00-0decf4037384",
     "showTitle": false,
     "tableResultSettingsMap": {},
     "title": ""
    }
   },
   "source": [
    "### s102 global control"
   ]
  },
  {
   "cell_type": "code",
   "execution_count": 0,
   "metadata": {
    "application/vnd.databricks.v1+cell": {
     "cellMetadata": {
      "byteLimit": 2048000,
      "rowLimit": 10000
     },
     "inputWidgets": {},
     "nuid": "4babe829-2a03-481f-8cfc-e0f3caf4ab6e",
     "showTitle": false,
     "tableResultSettingsMap": {},
     "title": ""
    }
   },
   "outputs": [],
   "source": [
    "df_gc_curr = spark.read.format(\"delta\").load(\"/mnt/ml-store-dev/dev_users/dev_el/marketing_programs/global_control/mobile_oa_consumer\")\n",
    "\n",
    "df_gc_curr = (\n",
    "    df_gc_curr\n",
    "    .select(\"fs_cust_id\")\n",
    "    .distinct()\n",
    ")\n",
    "\n",
    "print(df_gc_curr.count())\n",
    "\n",
    "display(\n",
    "    df_gc_curr\n",
    "    .limit(10)\n",
    ")"
   ]
  },
  {
   "cell_type": "markdown",
   "metadata": {
    "application/vnd.databricks.v1+cell": {
     "cellMetadata": {},
     "inputWidgets": {},
     "nuid": "cf2aa351-1815-4ef1-ac47-821fbec1639e",
     "showTitle": false,
     "tableResultSettingsMap": {},
     "title": ""
    }
   },
   "source": [
    "## s200 Data processing"
   ]
  },
  {
   "cell_type": "markdown",
   "metadata": {
    "application/vnd.databricks.v1+cell": {
     "cellMetadata": {},
     "inputWidgets": {},
     "nuid": "00b30247-3a40-4747-b21b-432b470c5b06",
     "showTitle": false,
     "tableResultSettingsMap": {},
     "title": ""
    }
   },
   "source": [
    "### s200 base candidate"
   ]
  },
  {
   "cell_type": "code",
   "execution_count": 0,
   "metadata": {
    "application/vnd.databricks.v1+cell": {
     "cellMetadata": {
      "byteLimit": 2048000,
      "rowLimit": 10000
     },
     "inputWidgets": {},
     "nuid": "3cc314fe-db4e-4815-8bea-e4893d532246",
     "showTitle": false,
     "tableResultSettingsMap": {},
     "title": ""
    }
   },
   "outputs": [],
   "source": [
    "df_base_full = (\n",
    "    df_fs_master\n",
    "    .filter(f.col(\"reporting_date\") == vt_param_reporting_date)\n",
    "    .filter(f.col(\"reporting_cycle_type\") == vt_param_reporting_cycle_type)\n",
    ")\n",
    "\n",
    "display(\n",
    "    df_base_full\n",
    "    .limit(100)\n",
    ")\n",
    "\n",
    "display(\n",
    "    df_base_full\n",
    "    .count()\n",
    ") "
   ]
  },
  {
   "cell_type": "markdown",
   "metadata": {
    "application/vnd.databricks.v1+cell": {
     "cellMetadata": {},
     "inputWidgets": {},
     "nuid": "66cb6f53-754a-4e87-acad-1d84d6fc7016",
     "showTitle": false,
     "tableResultSettingsMap": {},
     "title": ""
    }
   },
   "source": [
    "### s202 exclusion flag"
   ]
  },
  {
   "cell_type": "code",
   "execution_count": 0,
   "metadata": {
    "application/vnd.databricks.v1+cell": {
     "cellMetadata": {
      "byteLimit": 2048000,
      "rowLimit": 10000
     },
     "inputWidgets": {},
     "nuid": "44eb1dc7-35dc-472a-b0e0-cedba94635ab",
     "showTitle": false,
     "tableResultSettingsMap": {},
     "title": ""
    }
   },
   "outputs": [],
   "source": [
    "# current global control\n",
    "df_tmp_excl_01 = (\n",
    "    df_gc_curr\n",
    "    .select(\"fs_cust_id\")\n",
    "    .distinct()\n",
    "    .withColumn(\n",
    "        \"gc_curr_flag\"\n",
    "        , f.lit('Y')\n",
    "    )\n",
    ")\n",
    "\n",
    "# df_tmp_excl_03 = (\n",
    "#     df_wallet_program_control\n",
    "#     .select(\"fs_srvc_id_sha2\")\n",
    "#     .distinct()\n",
    "#     .withColumn(\n",
    "#         \"wpc_flag\"\n",
    "#         , f.lit('Y')\n",
    "#     )\n",
    "# )\n",
    "\n",
    "# exclude one one grade \n",
    "df_tmp_excl_04 = (\n",
    "    df_one_upgrade\n",
    "    .select('CUSTOMER_ID')\n",
    "    .distinct()\n",
    "    .withColumn(\n",
    "        'one_upgrade_flag'\n",
    "        , f.lit('Y')\n",
    "    )\n",
    "    .withColumnRenamed('CUSTOMER_ID', 'fs_cust_id')\n",
    ")\n"
   ]
  },
  {
   "cell_type": "code",
   "execution_count": 0,
   "metadata": {
    "application/vnd.databricks.v1+cell": {
     "cellMetadata": {
      "byteLimit": 2048000,
      "rowLimit": 10000
     },
     "inputWidgets": {},
     "nuid": "9fa7df86-c498-4ad8-81b5-c0f21b92159f",
     "showTitle": true,
     "tableResultSettingsMap": {},
     "title": "check device brand"
    }
   },
   "outputs": [],
   "source": [
    "display(\n",
    "    df_base_full\n",
    "    .groupBy('network_dvc_brand')\n",
    "    .agg(\n",
    "        f.countDistinct('fs_cust_id')\n",
    "        , f.countDistinct('fs_srvc_id')\n",
    "    )   \n",
    ")   "
   ]
  },
  {
   "cell_type": "code",
   "execution_count": 0,
   "metadata": {
    "application/vnd.databricks.v1+cell": {
     "cellMetadata": {
      "byteLimit": 2048000,
      "rowLimit": 10000
     },
     "inputWidgets": {},
     "nuid": "51303f31-fcb9-4752-9e6f-970544e1360e",
     "showTitle": true,
     "tableResultSettingsMap": {},
     "title": "apple custoemrs"
    }
   },
   "outputs": [],
   "source": [
    "df_apple_cust = (\n",
    "    df_base_full\n",
    "    .withColumn(\n",
    "        \"network_dvc_brand_std\"\n",
    "        , f.when(\n",
    "            f.lower(f.col(\"network_dvc_brand\")).isin([\"apple\"])\n",
    "            , f.lower(f.col(\"network_dvc_brand\"))\n",
    "        ).otherwise(\n",
    "            f.lit(\"others\")\n",
    "        )\n",
    "    )\n",
    "    .groupBy('fs_cust_id')\n",
    "    .agg(\n",
    "        f.countDistinct('fs_srvc_id').alias('distinct_services'),\n",
    "        f.max(f.when(f.col('network_dvc_brand_std') == 'apple', 1).otherwise(0)).alias('has_apple')\n",
    "    )\n",
    ")\n"
   ]
  },
  {
   "cell_type": "code",
   "execution_count": 0,
   "metadata": {
    "application/vnd.databricks.v1+cell": {
     "cellMetadata": {
      "byteLimit": 2048000,
      "rowLimit": 10000
     },
     "inputWidgets": {},
     "nuid": "92f78a44-3c9b-4bfd-9325-786181b7c9ae",
     "showTitle": false,
     "tableResultSettingsMap": {},
     "title": ""
    }
   },
   "outputs": [],
   "source": [
    "df_proc_full = (\n",
    "    df_base_full\n",
    "    .select(\n",
    "        \"reporting_date\"\n",
    "        , \"reporting_cycle_type\"\n",
    "        , \"fs_cust_id\"\n",
    "    )\n",
    "    .distinct()\n",
    "    .join(\n",
    "        df_base_score_ifp\n",
    "        , [\"fs_cust_id\"]\n",
    "        , \"left\"\n",
    "    )\n",
    "    .join(\n",
    "        df_base_score_dr\n",
    "        , [\"fs_cust_id\"]\n",
    "        , \"left\"\n",
    "    )\n",
    "    .join(\n",
    "        df_base_score_churn\n",
    "        , [\"fs_cust_id\"]\n",
    "        , \"left\"\n",
    "    )\n",
    "    .join(\n",
    "        df_base_score_ar\n",
    "        , [\"fs_cust_id\"]\n",
    "        , \"left\"\n",
    "    )\n",
    "    .join(\n",
    "        df_tmp_excl_01\n",
    "        , [\"fs_cust_id\"]\n",
    "        , \"left\"\n",
    "    )\n",
    "    .join(\n",
    "        df_tmp_excl_04\n",
    "        , [\"fs_cust_id\"]\n",
    "        , \"left\"\n",
    "    )\n",
    "    .join(\n",
    "        df_apple_cust\n",
    "        , ['fs_cust_id']\n",
    "        , 'left'\n",
    "    )\n",
    "    .join(df_email_output.alias('a')\n",
    "          .select('fs_cust_id')\n",
    "          .distinct()\n",
    "          , ['fs_cust_id']\n",
    "          , 'left'\n",
    "          )\n",
    "    .fillna(\n",
    "        value='N'\n",
    "        , subset=['gc_curr_flag', 'one_upgrade_flag']\n",
    "    )\n",
    "    .withColumn(\n",
    "        \"target_segment\"\n",
    "        , f.when(\n",
    "            f.col('a.fs_cust_id').isNotNull()\n",
    "           , 'a.target'\n",
    "        )\n",
    "        .when(\n",
    "            (\n",
    "                (f.col(\"gc_curr_flag\") == 'Y')\n",
    "            )\n",
    "            , f.lit(\"z2.global control - curr\")\n",
    "        )\n",
    "        .when(\n",
    "            (\n",
    "                (f.col(\"one_upgrade_flag\") == 'Y')\n",
    "            )\n",
    "            , f.lit(\"z4.one_upgrade\")\n",
    "        )\n",
    "        .when(\n",
    "            (\n",
    "                f.col(\"risk_top_ntile\") >= 98\n",
    "            )\n",
    "            , f.lit(\"z6.High Bad Debt Risk\")\n",
    "        )\n",
    "       .when(\n",
    "           (\n",
    "               f.col('has_apple') == 1\n",
    "           )\n",
    "           , f.lit('z7.Apple Device')\n",
    "       )\n",
    "        .otherwise(f.lit(\"a.misc\"))\n",
    "    )\n",
    "    .withColumn(\"churn_top_ntile\", f.ntile(30).over(Window.orderBy(f.desc(\"churn_score\"))))\n",
    "    .withColumn(\"dr_top_ntile\", f.ntile(30).over(Window.orderBy(f.desc(\"dr_score\"))))\n",
    "    .withColumn(\"ifp_top_ntile\", f.ntile(30).over(Window.orderBy(f.desc(\"ifp_score\"))))\n",
    ")"
   ]
  },
  {
   "cell_type": "code",
   "execution_count": 0,
   "metadata": {
    "application/vnd.databricks.v1+cell": {
     "cellMetadata": {
      "byteLimit": 2048000,
      "rowLimit": 10000
     },
     "inputWidgets": {},
     "nuid": "8ee071de-5e4e-4a18-b0a0-fc0ca3c978e0",
     "showTitle": false,
     "tableResultSettingsMap": {},
     "title": ""
    }
   },
   "outputs": [],
   "source": [
    "display(\n",
    "    df_proc_full\n",
    "    .groupBy(\"target_segment\")\n",
    "    .agg(\n",
    "        f.count(\"*\")\n",
    "        , f.countDistinct(\"fs_cust_id\")\n",
    "    )\n",
    "    .orderBy(\"target_segment\")\n",
    ")\n",
    "\n",
    "display(df_proc_full.limit(100))\n",
    "display(df_proc_full.count())"
   ]
  },
  {
   "cell_type": "code",
   "execution_count": 0,
   "metadata": {
    "application/vnd.databricks.v1+cell": {
     "cellMetadata": {
      "byteLimit": 2048000,
      "rowLimit": 10000
     },
     "inputWidgets": {},
     "nuid": "05c42b25-070d-413c-a39f-990d4153cbb6",
     "showTitle": false,
     "tableResultSettingsMap": {},
     "title": ""
    }
   },
   "outputs": [],
   "source": [
    "df_campaign_full = (\n",
    "    df_proc_full\n",
    "    .withColumn(\n",
    "        \"ifp_rank\"\n",
    "        , f.row_number().over(\n",
    "            Window\n",
    "            .partitionBy(f.lit(1))\n",
    "            .orderBy(f.desc(\"ifp_score\"))\n",
    "        )\n",
    "    )\n",
    "    .withColumn(\n",
    "        \"dr_rank\"\n",
    "        , f.row_number().over(\n",
    "            Window\n",
    "            .partitionBy(f.lit(1))\n",
    "            .orderBy(f.desc(\"dr_score\"))\n",
    "        )\n",
    "    )\n",
    "    .withColumn(\n",
    "        \"churn_rank\"\n",
    "        , f.row_number().over(\n",
    "            Window\n",
    "            .partitionBy(f.lit(1))\n",
    "            .orderBy(f.desc(\"churn_score\"))\n",
    "        )\n",
    "    )\n",
    "    # base on requirement of 1. samsumg/android phone 2. not in one upgrade \n",
    "    #.filter(f.col(\"one_upgrade_flag\") != \"Y\")\n",
    "    #.filter(f.col('network_dvc_os') == 'Android')\n",
    ")\n"
   ]
  },
  {
   "cell_type": "code",
   "execution_count": 0,
   "metadata": {
    "application/vnd.databricks.v1+cell": {
     "cellMetadata": {
      "byteLimit": 2048000,
      "rowLimit": 10000
     },
     "inputWidgets": {},
     "nuid": "dc24f23f-300e-4584-9b1d-1680c89563e5",
     "showTitle": false,
     "tableResultSettingsMap": {},
     "title": ""
    }
   },
   "outputs": [],
   "source": [
    "display(\n",
    "    df_campaign_full\n",
    "    .filter(f.col(\"target_segment\") == 'a.target')\n",
    "    .groupBy(\"churn_segment\")\n",
    "    .agg(f.countDistinct(\"fs_cust_id\").alias(\"conn\"))\n",
    "    .withColumn(\n",
    "        \"conn_tot\"\n",
    "        , f.sum(\"conn\").over(Window.partitionBy(f.lit(1)))\n",
    "    )\n",
    "    .withColumn(\n",
    "        \"pct\"\n",
    "        , f.col(\"conn\") / f.col(\"conn_tot\")\n",
    "    )\n",
    ")\n",
    "\n",
    "display(\n",
    "    df_campaign_full\n",
    "    .filter(f.col(\"target_segment\") == 'a.target')\n",
    "    .groupBy(\"dr_segment\")\n",
    "    .agg(f.countDistinct(\"fs_cust_id\").alias(\"conn\"))\n",
    "    .withColumn(\n",
    "        \"conn_tot\"\n",
    "        , f.sum(\"conn\").over(Window.partitionBy(f.lit(1)))\n",
    "    )\n",
    "    .withColumn(\n",
    "        \"pct\"\n",
    "        , f.col(\"conn\") / f.col(\"conn_tot\")\n",
    "    )\n",
    ")\n",
    "\n",
    "display(\n",
    "    df_campaign_full\n",
    "    .filter(f.col(\"target_segment\") == 'a.target')\n",
    "    .groupBy(\"ifp_segment\")\n",
    "    .agg(f.countDistinct(\"fs_cust_id\").alias(\"conn\"))\n",
    "    .withColumn(\n",
    "        \"conn_tot\"\n",
    "        , f.sum(\"conn\").over(Window.partitionBy(f.lit(1)))\n",
    "    )\n",
    "    .withColumn(\n",
    "        \"pct\"\n",
    "        , f.col(\"conn\") / f.col(\"conn_tot\")\n",
    "    )\n",
    ")"
   ]
  },
  {
   "cell_type": "code",
   "execution_count": 0,
   "metadata": {
    "application/vnd.databricks.v1+cell": {
     "cellMetadata": {
      "byteLimit": 2048000,
      "rowLimit": 10000
     },
     "inputWidgets": {},
     "nuid": "3b59a2a8-f907-44e7-bff6-76730209793d",
     "showTitle": true,
     "tableResultSettingsMap": {},
     "title": "interim import"
    }
   },
   "outputs": [],
   "source": [
    "(\n",
    "    df_campaign_full\n",
    "    .write\n",
    "    .format(\"delta\")\n",
    "    .mode(\"overwrite\")\n",
    "    .option(\"overwriteSchema\", \"true\")\n",
    "    #.option(\"partitionOverwriteMode\", \"dynamic\")\n",
    "    .save('/mnt/ml-lab/dev_users/dev_sc/ml_campaigns/regen_control/250123_Samsung_NPI_Consumer_email') \n",
    ")"
   ]
  },
  {
   "cell_type": "code",
   "execution_count": 0,
   "metadata": {
    "application/vnd.databricks.v1+cell": {
     "cellMetadata": {
      "byteLimit": 2048000,
      "rowLimit": 10000
     },
     "inputWidgets": {},
     "nuid": "42b1a818-ea79-418d-a159-582588460ba9",
     "showTitle": false,
     "tableResultSettingsMap": {},
     "title": ""
    }
   },
   "outputs": [],
   "source": [
    "df_campaign_full = spark.read.format('delta').load('/mnt/ml-lab/dev_users/dev_sc/ml_campaigns/regen_control/250123_Samsung_NPI_Consumer_email')"
   ]
  },
  {
   "cell_type": "markdown",
   "metadata": {
    "application/vnd.databricks.v1+cell": {
     "cellMetadata": {},
     "inputWidgets": {},
     "nuid": "f57ccae7-58b0-4c67-98b9-e6802e3f6c36",
     "showTitle": false,
     "tableResultSettingsMap": {},
     "title": ""
    }
   },
   "source": [
    "### s206 local control - H"
   ]
  },
  {
   "cell_type": "code",
   "execution_count": 0,
   "metadata": {
    "application/vnd.databricks.v1+cell": {
     "cellMetadata": {
      "byteLimit": 2048000,
      "rowLimit": 10000
     },
     "inputWidgets": {},
     "nuid": "ebb740e7-576c-4ab9-862b-81a344c973e7",
     "showTitle": false,
     "tableResultSettingsMap": {},
     "title": ""
    }
   },
   "outputs": [],
   "source": [
    "vt_param_control_size = 35000\n",
    "ls_param_strata = [\"dr_top_ntile\", \"ifp_top_ntile\", \"churn_top_ntile\"]\n",
    "\n",
    "df_sample_target = create_sample_target(\n",
    "     df_campaign_full\n",
    "    .filter(f.col(\"target_segment\") == 'a.target')\n",
    "    #.filter(f.col(\"wallet_eligibility_flag\") == 'Y')\n",
    "    , ls_param_strata\n",
    ")\n",
    "\n",
    "df_campaign_cand_control = find_similar_sample(\n",
    "    df_campaign_full\n",
    "    .filter(f.col(\"target_segment\") != 'a.target')\n",
    "    .filter(f.col(\"target_segment\") != 'z7.Apple Device')\n",
    "    .filter(f.col('target_segment')!= 'z4.one_upgrade')\n",
    "    # .filter(f.col(\"ch01_flag\") != 'Y')\n",
    "    # .filter(f.col(\"ch02_flag\") != 'Y')\n",
    "    # .filter(f.col(\"ch03_flag\") != 'Y')\n",
    "    , size = vt_param_control_size\n",
    "    , strata = ls_param_strata\n",
    "    , df_target = df_sample_target\n",
    ")\n",
    "\n",
    "\n",
    "print(\"control\")\n",
    "display(\n",
    "    df_campaign_cand_control\n",
    "    .agg(\n",
    "        f.countDistinct(\"fs_cust_id\")\n",
    "        , f.median(\"churn_score\")\n",
    "        , f.avg(\"churn_score\")\n",
    "        , f.median(\"dr_score\")\n",
    "        , f.avg(\"dr_score\")\n",
    "        , f.median(\"ifp_score\")\n",
    "        , f.avg(\"ifp_score\")\n",
    "    )\n",
    ")\n",
    "\n",
    "\n",
    "print(\"target\")\n",
    "display(\n",
    "    df_campaign_full\n",
    "    .filter(f.col('target_segment') == 'a.target')\n",
    "    .agg(\n",
    "        f.countDistinct(\"fs_cust_id\")\n",
    "        , f.median(\"churn_score\")\n",
    "        , f.avg(\"churn_score\")\n",
    "        , f.median(\"dr_score\")\n",
    "        , f.avg(\"dr_score\")\n",
    "        , f.median(\"ifp_score\")\n",
    "        , f.avg(\"ifp_score\")\n",
    "    )\n",
    ")\n",
    "\n",
    "df_campaign_cand_target = (\n",
    "    df_campaign_full\n",
    "    .filter(f.col('target_segment') == 'a.target')\n",
    ")"
   ]
  },
  {
   "cell_type": "code",
   "execution_count": 0,
   "metadata": {
    "application/vnd.databricks.v1+cell": {
     "cellMetadata": {
      "byteLimit": 2048000,
      "rowLimit": 10000
     },
     "inputWidgets": {},
     "nuid": "a6a093e7-9d54-4464-b7fb-2b5458a85d41",
     "showTitle": false,
     "tableResultSettingsMap": {},
     "title": ""
    }
   },
   "outputs": [],
   "source": [
    "(\n",
    "    df_campaign_cand_control\n",
    "    .write\n",
    "    .format(\"delta\")\n",
    "    .mode(\"overwrite\")\n",
    "    .option(\"overwriteSchema\", \"true\")\n",
    "    #.option(\"partitionOverwriteMode\", \"dynamic\")\n",
    "    .save('/mnt/ml-lab/dev_users/dev_sc/ml_campaigns/regen_control/250123_Samsung_NPI_Consumer_email_regen_control') \n",
    ")"
   ]
  },
  {
   "cell_type": "code",
   "execution_count": 0,
   "metadata": {
    "application/vnd.databricks.v1+cell": {
     "cellMetadata": {
      "byteLimit": 2048000,
      "rowLimit": 10000
     },
     "inputWidgets": {},
     "nuid": "36d1920f-a640-4091-860c-f93ee7765477",
     "showTitle": false,
     "tableResultSettingsMap": {},
     "title": ""
    }
   },
   "outputs": [],
   "source": [
    "(\n",
    "    df_campaign_cand_target\n",
    "    .write\n",
    "    .format(\"delta\")\n",
    "    .mode(\"overwrite\")\n",
    "    .option(\"overwriteSchema\", \"true\")\n",
    "    #.option(\"partitionOverwriteMode\", \"dynamic\")\n",
    "    .save('/mnt/ml-lab/dev_users/dev_sc/ml_campaigns/regen_control/250123_Samsung_NPI_Consumer_email_regen_target') \n",
    ")"
   ]
  },
  {
   "cell_type": "code",
   "execution_count": 0,
   "metadata": {
    "application/vnd.databricks.v1+cell": {
     "cellMetadata": {
      "byteLimit": 2048000,
      "rowLimit": 10000
     },
     "inputWidgets": {},
     "nuid": "d1907e07-3763-4757-8dd9-7ee7d245d605",
     "showTitle": true,
     "tableResultSettingsMap": {},
     "title": "reload data"
    }
   },
   "outputs": [],
   "source": [
    "df_campaign_cand_control = spark.read.format('delta').load('/mnt/ml-lab/dev_users/dev_sc/ml_campaigns/regen_control/250123_Samsung_NPI_Consumer_email_regen_control')\n",
    "df_campaign_cand_target = spark.read.format('delta').load('/mnt/ml-lab/dev_users/dev_sc/ml_campaigns/regen_control/250123_Samsung_NPI_Consumer_email_regen_target')"
   ]
  },
  {
   "cell_type": "code",
   "execution_count": 0,
   "metadata": {
    "application/vnd.databricks.v1+cell": {
     "cellMetadata": {
      "byteLimit": 2048000,
      "rowLimit": 10000
     },
     "inputWidgets": {},
     "nuid": "70b9e9b8-f1dc-4f4b-ac1c-fff54dd7fff8",
     "showTitle": true,
     "tableResultSettingsMap": {},
     "title": "check duplicate"
    }
   },
   "outputs": [],
   "source": [
    "display(\n",
    "    df_campaign_cand_control\n",
    "    .join(df_campaign_cand_target, on = [\"fs_cust_id\"], how = \"inner\")\n",
    ")"
   ]
  }
 ],
 "metadata": {
  "application/vnd.databricks.v1+notebook": {
   "computePreferences": null,
   "dashboards": [],
   "environmentMetadata": {
    "base_environment": "",
    "environment_version": "2"
   },
   "inputWidgetPreferences": null,
   "language": "python",
   "notebookMetadata": {
    "pythonIndentUnit": 4
   },
   "notebookName": "Explore | 20250307 Samsung NPI Recals",
   "widgets": {}
  },
  "language_info": {
   "name": "python"
  }
 },
 "nbformat": 4,
 "nbformat_minor": 0
}
